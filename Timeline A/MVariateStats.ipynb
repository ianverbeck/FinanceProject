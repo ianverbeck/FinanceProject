{
 "cells": [
  {
   "cell_type": "markdown",
   "id": "honey-farming",
   "metadata": {},
   "source": [
    "# Beginning R File"
   ]
  },
  {
   "cell_type": "code",
   "execution_count": 26,
   "id": "imported-despite",
   "metadata": {},
   "outputs": [
    {
     "name": "stderr",
     "output_type": "stream",
     "text": [
      "Updating HTML index of packages in '.Library'\n",
      "Making 'packages.html' ... done\n"
     ]
    }
   ],
   "source": [
    "install.packages(\"astsa\")"
   ]
  },
  {
   "cell_type": "code",
   "execution_count": 27,
   "id": "dying-workplace",
   "metadata": {},
   "outputs": [],
   "source": [
    "library(astsa)"
   ]
  },
  {
   "cell_type": "code",
   "execution_count": 28,
   "id": "marked-universal",
   "metadata": {},
   "outputs": [],
   "source": [
    ".First <- function(){library(astsa)}"
   ]
  },
  {
   "cell_type": "code",
   "execution_count": 11,
   "id": "clean-tissue",
   "metadata": {},
   "outputs": [
    {
     "name": "stdout",
     "output_type": "stream",
     "text": [
      "If the browser launched by '/usr/bin/open' is already running, it is\n",
      "    *not* restarted, and you must switch to its window.\n",
      "Otherwise, be patient ...\n"
     ]
    }
   ],
   "source": [
    "help.start()"
   ]
  },
  {
   "cell_type": "code",
   "execution_count": 25,
   "id": "french-contemporary",
   "metadata": {},
   "outputs": [
    {
     "name": "stderr",
     "output_type": "stream",
     "text": [
      "also installing the dependency ‘isoband’\n",
      "\n",
      "Updating HTML index of packages in '.Library'\n",
      "Making 'packages.html' ... done\n"
     ]
    }
   ],
   "source": [
    "install.packages(\"ggplot2\")"
   ]
  },
  {
   "cell_type": "code",
   "execution_count": null,
   "id": "facial-camcorder",
   "metadata": {},
   "outputs": [],
   "source": []
  }
 ],
 "metadata": {
  "kernelspec": {
   "display_name": "R",
   "language": "R",
   "name": "ir"
  },
  "language_info": {
   "codemirror_mode": "r",
   "file_extension": ".r",
   "mimetype": "text/x-r-source",
   "name": "R",
   "pygments_lexer": "r",
   "version": "3.6.1"
  }
 },
 "nbformat": 4,
 "nbformat_minor": 5
}
