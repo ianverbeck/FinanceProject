{
 "cells": [
  {
   "cell_type": "markdown",
   "id": "female-coordinate",
   "metadata": {},
   "source": [
    "# Quick Stats Review \n",
    "--goal here is just to brush over statistical concepts.. not focusing on data preparation"
   ]
  },
  {
   "cell_type": "code",
   "execution_count": 297,
   "id": "engaged-mailman",
   "metadata": {},
   "outputs": [],
   "source": [
    "%config Completer.use_jedi = False ###autocorrection issue with jupterlab – removing package pulls dependencies with it.. quick fix for now"
   ]
  },
  {
   "cell_type": "code",
   "execution_count": 298,
   "id": "hired-surgeon",
   "metadata": {},
   "outputs": [],
   "source": [
    "#database\n",
    "import sqlite3\n",
    "\n",
    "#structures and linalg\n",
    "import pandas as pd\n",
    "pd.set_option('display.float_format', lambda x: '%.2f' % x)\n",
    "import numpy as np\n",
    "\n",
    "#stats\n",
    "import statsmodels.api as sm\n",
    "import scipy\n",
    "\n",
    "#other\n",
    "import sys\n",
    "import seaborn as sns\n",
    "sns.set_style('darkgrid')\n",
    "import matplotlib.pyplot as plt\n",
    "\n",
    "#dont need api stuff\n",
    "sys.path.insert(1, '/Users/verbeck/Desktop/Finance/Technology/Project/Setup/Resources')\n",
    "from generalHelpers import getAllTables, getTable\n",
    "\n",
    "#eliminate unnecessary warnings\n",
    "import warnings\n",
    "#warnings.filterwarnings(\"ignore\")"
   ]
  },
  {
   "cell_type": "markdown",
   "id": "compressed-qualification",
   "metadata": {},
   "source": [
    "## Table of Contents\n",
    "\n",
    "[L1](#L1)  \n",
    "[L2](#L2)  \n",
    "[L3](#L3)"
   ]
  },
  {
   "cell_type": "code",
   "execution_count": 299,
   "id": "verified-intellectual",
   "metadata": {},
   "outputs": [],
   "source": [
    "#retrieve all tables for use\n",
    "#all_tables = getAllTables('../../FinancesSp500.db')"
   ]
  },
  {
   "cell_type": "markdown",
   "id": "everyday-swedish",
   "metadata": {},
   "source": [
    "## L 1.1 <a id='L1'></a> "
   ]
  },
  {
   "cell_type": "code",
   "execution_count": 300,
   "id": "chicken-maintenance",
   "metadata": {},
   "outputs": [],
   "source": [
    "#check out profiles table for \n",
    "#profiles_all = all_tables.get('CV_PROFILE')\n",
    "profiles_all = getTable('../../FinancesSp500.db','CV_PROFILE')"
   ]
  },
  {
   "cell_type": "code",
   "execution_count": 301,
   "id": "useful-magic",
   "metadata": {},
   "outputs": [],
   "source": [
    "#extract types without making copies\n",
    "mutual_funds = profiles_all[profiles_all.exchangeShortName=='MUTUAL_FUND']\n",
    "securities_index = set(profiles_all.index)-set(mutual_funds.index)\n",
    "stocks = profiles_all.loc[securities_index][profiles_all.loc[securities_index].isEtf==False]\n",
    "etfs = profiles_all.loc[securities_index][profiles_all.loc[securities_index].isEtf==True]\n",
    "\n",
    "#tranform to int\n",
    "stocks.fullTimeEmployees = stocks.fullTimeEmployees.apply(lambda x: int(x) if type(x) == str else np.nan)"
   ]
  },
  {
   "cell_type": "code",
   "execution_count": 302,
   "id": "adequate-confidentiality",
   "metadata": {},
   "outputs": [
    {
     "name": "stdout",
     "output_type": "stream",
     "text": [
      "---Mutual Funds---\n",
      "<class 'pandas.core.frame.DataFrame'>\n",
      "Int64Index: 63 entries, 539 to 614\n",
      "Columns: 34 entries, symbol to isActivelyTrading\n",
      "dtypes: float64(8), int64(4), object(22)\n",
      "memory usage: 17.2+ KB\n",
      "\n",
      "---Stocks---\n",
      "<class 'pandas.core.frame.DataFrame'>\n",
      "Int64Index: 504 entries, 1 to 617\n",
      "Columns: 34 entries, symbol to isActivelyTrading\n",
      "dtypes: float64(9), int64(4), object(21)\n",
      "memory usage: 137.8+ KB\n",
      "\n",
      "---ETFs---\n",
      "<class 'pandas.core.frame.DataFrame'>\n",
      "Int64Index: 53 entries, 0 to 619\n",
      "Columns: 34 entries, symbol to isActivelyTrading\n",
      "dtypes: float64(8), int64(4), object(22)\n",
      "memory usage: 14.5+ KB\n"
     ]
    }
   ],
   "source": [
    "#check out a couple categories\n",
    "print('---Mutual Funds---')\n",
    "mutual_funds.info(verbose=False)\n",
    "print('\\n---Stocks---')\n",
    "stocks.info(verbose=False)\n",
    "print('\\n---ETFs---')\n",
    "etfs.info(verbose=False)"
   ]
  },
  {
   "cell_type": "code",
   "execution_count": 303,
   "id": "progressive-steering",
   "metadata": {},
   "outputs": [
    {
     "data": {
      "text/html": [
       "<div>\n",
       "<style scoped>\n",
       "    .dataframe tbody tr th:only-of-type {\n",
       "        vertical-align: middle;\n",
       "    }\n",
       "\n",
       "    .dataframe tbody tr th {\n",
       "        vertical-align: top;\n",
       "    }\n",
       "\n",
       "    .dataframe thead th {\n",
       "        text-align: right;\n",
       "    }\n",
       "</style>\n",
       "<table border=\"1\" class=\"dataframe\">\n",
       "  <thead>\n",
       "    <tr style=\"text-align: right;\">\n",
       "      <th></th>\n",
       "      <th>price</th>\n",
       "      <th>beta</th>\n",
       "      <th>volAvg</th>\n",
       "      <th>mktCap</th>\n",
       "      <th>lastDiv</th>\n",
       "      <th>changes</th>\n",
       "      <th>cik</th>\n",
       "      <th>fullTimeEmployees</th>\n",
       "      <th>dcfDiff</th>\n",
       "      <th>dcf</th>\n",
       "      <th>defaultImage</th>\n",
       "      <th>isEtf</th>\n",
       "      <th>isActivelyTrading</th>\n",
       "    </tr>\n",
       "  </thead>\n",
       "  <tbody>\n",
       "    <tr>\n",
       "      <th>count</th>\n",
       "      <td>504.00</td>\n",
       "      <td>504.00</td>\n",
       "      <td>503.00</td>\n",
       "      <td>504.00</td>\n",
       "      <td>504.00</td>\n",
       "      <td>504.00</td>\n",
       "      <td>502.00</td>\n",
       "      <td>503.00</td>\n",
       "      <td>318.00</td>\n",
       "      <td>499.00</td>\n",
       "      <td>504.00</td>\n",
       "      <td>504.00</td>\n",
       "      <td>504.00</td>\n",
       "    </tr>\n",
       "    <tr>\n",
       "      <th>mean</th>\n",
       "      <td>171.97</td>\n",
       "      <td>1.09</td>\n",
       "      <td>4916002.83</td>\n",
       "      <td>69681292459.01</td>\n",
       "      <td>1.85</td>\n",
       "      <td>-0.19</td>\n",
       "      <td>776824.26</td>\n",
       "      <td>52197.96</td>\n",
       "      <td>229.40</td>\n",
       "      <td>4533.01</td>\n",
       "      <td>0.01</td>\n",
       "      <td>0.00</td>\n",
       "      <td>1.00</td>\n",
       "    </tr>\n",
       "    <tr>\n",
       "      <th>std</th>\n",
       "      <td>318.43</td>\n",
       "      <td>0.55</td>\n",
       "      <td>9746993.60</td>\n",
       "      <td>175460300512.84</td>\n",
       "      <td>2.42</td>\n",
       "      <td>4.74</td>\n",
       "      <td>548388.95</td>\n",
       "      <td>127644.08</td>\n",
       "      <td>1868.91</td>\n",
       "      <td>96312.25</td>\n",
       "      <td>0.12</td>\n",
       "      <td>0.00</td>\n",
       "      <td>0.00</td>\n",
       "    </tr>\n",
       "    <tr>\n",
       "      <th>min</th>\n",
       "      <td>0.00</td>\n",
       "      <td>-0.06</td>\n",
       "      <td>22275.00</td>\n",
       "      <td>0.00</td>\n",
       "      <td>0.00</td>\n",
       "      <td>-17.77</td>\n",
       "      <td>1800.00</td>\n",
       "      <td>175.00</td>\n",
       "      <td>-10214.30</td>\n",
       "      <td>-288.71</td>\n",
       "      <td>0.00</td>\n",
       "      <td>0.00</td>\n",
       "      <td>1.00</td>\n",
       "    </tr>\n",
       "    <tr>\n",
       "      <th>25%</th>\n",
       "      <td>53.57</td>\n",
       "      <td>0.72</td>\n",
       "      <td>1079136.50</td>\n",
       "      <td>15627183600.00</td>\n",
       "      <td>0.38</td>\n",
       "      <td>-1.55</td>\n",
       "      <td>97009.75</td>\n",
       "      <td>8923.00</td>\n",
       "      <td>-60.68</td>\n",
       "      <td>48.43</td>\n",
       "      <td>0.00</td>\n",
       "      <td>0.00</td>\n",
       "      <td>1.00</td>\n",
       "    </tr>\n",
       "    <tr>\n",
       "      <th>50%</th>\n",
       "      <td>100.07</td>\n",
       "      <td>1.06</td>\n",
       "      <td>2104201.00</td>\n",
       "      <td>27071216600.00</td>\n",
       "      <td>1.31</td>\n",
       "      <td>-0.60</td>\n",
       "      <td>877551.00</td>\n",
       "      <td>19000.00</td>\n",
       "      <td>-17.22</td>\n",
       "      <td>98.07</td>\n",
       "      <td>0.00</td>\n",
       "      <td>0.00</td>\n",
       "      <td>1.00</td>\n",
       "    </tr>\n",
       "    <tr>\n",
       "      <th>75%</th>\n",
       "      <td>179.61</td>\n",
       "      <td>1.39</td>\n",
       "      <td>4602538.00</td>\n",
       "      <td>56805661750.00</td>\n",
       "      <td>2.54</td>\n",
       "      <td>0.34</td>\n",
       "      <td>1133310.50</td>\n",
       "      <td>52250.00</td>\n",
       "      <td>68.02</td>\n",
       "      <td>177.04</td>\n",
       "      <td>0.00</td>\n",
       "      <td>0.00</td>\n",
       "      <td>1.00</td>\n",
       "    </tr>\n",
       "    <tr>\n",
       "      <th>max</th>\n",
       "      <td>4500.84</td>\n",
       "      <td>4.82</td>\n",
       "      <td>107597034.00</td>\n",
       "      <td>2035725110000.00</td>\n",
       "      <td>32.50</td>\n",
       "      <td>55.31</td>\n",
       "      <td>1792044.00</td>\n",
       "      <td>2200000.00</td>\n",
       "      <td>24768.70</td>\n",
       "      <td>2151560.00</td>\n",
       "      <td>1.00</td>\n",
       "      <td>0.00</td>\n",
       "      <td>1.00</td>\n",
       "    </tr>\n",
       "  </tbody>\n",
       "</table>\n",
       "</div>"
      ],
      "text/plain": [
       "        price   beta       volAvg           mktCap  lastDiv  changes  \\\n",
       "count  504.00 504.00       503.00           504.00   504.00   504.00   \n",
       "mean   171.97   1.09   4916002.83   69681292459.01     1.85    -0.19   \n",
       "std    318.43   0.55   9746993.60  175460300512.84     2.42     4.74   \n",
       "min      0.00  -0.06     22275.00             0.00     0.00   -17.77   \n",
       "25%     53.57   0.72   1079136.50   15627183600.00     0.38    -1.55   \n",
       "50%    100.07   1.06   2104201.00   27071216600.00     1.31    -0.60   \n",
       "75%    179.61   1.39   4602538.00   56805661750.00     2.54     0.34   \n",
       "max   4500.84   4.82 107597034.00 2035725110000.00    32.50    55.31   \n",
       "\n",
       "             cik  fullTimeEmployees   dcfDiff        dcf  defaultImage  isEtf  \\\n",
       "count     502.00             503.00    318.00     499.00        504.00 504.00   \n",
       "mean   776824.26           52197.96    229.40    4533.01          0.01   0.00   \n",
       "std    548388.95          127644.08   1868.91   96312.25          0.12   0.00   \n",
       "min      1800.00             175.00 -10214.30    -288.71          0.00   0.00   \n",
       "25%     97009.75            8923.00    -60.68      48.43          0.00   0.00   \n",
       "50%    877551.00           19000.00    -17.22      98.07          0.00   0.00   \n",
       "75%   1133310.50           52250.00     68.02     177.04          0.00   0.00   \n",
       "max   1792044.00         2200000.00  24768.70 2151560.00          1.00   0.00   \n",
       "\n",
       "       isActivelyTrading  \n",
       "count             504.00  \n",
       "mean                1.00  \n",
       "std                 0.00  \n",
       "min                 1.00  \n",
       "25%                 1.00  \n",
       "50%                 1.00  \n",
       "75%                 1.00  \n",
       "max                 1.00  "
      ]
     },
     "metadata": {},
     "output_type": "display_data"
    }
   ],
   "source": [
    "#checkout stocks further\n",
    "display(stocks.describe()) #check out some distributions"
   ]
  },
  {
   "cell_type": "code",
   "execution_count": 304,
   "id": "biblical-madness",
   "metadata": {},
   "outputs": [
    {
     "data": {
      "image/png": "[encoded data removed]",
      "text/plain": [
       "<Figure size 2160x720 with 3 Axes>"
      ]
     },
     "metadata": {},
     "output_type": "display_data"
    }
   ],
   "source": [
    "# little bit of eda\n",
    "fig, axes = plt.subplots(1,3,figsize=(30,10))\n",
    "ax1 = stocks.sector.value_counts().plot(kind='pie',ax= axes[0])\n",
    "ax1.set_title('Sector Breakout')\n",
    "ax1.set_ylabel('')\n",
    "ax2 = stocks.exchangeShortName.value_counts().plot(kind='bar',ax= axes[1],color='black')\n",
    "ax2.set_title('Exchange Breakout')\n",
    "ax3 = (stocks.volAvg/1000000).plot(kind='hist',ax= axes[2],color='black',bins=100)\n",
    "ax3.set_title('Average Volume')\n",
    "ax3.set_xlabel('Volume in Millions')\n",
    "ax3.ticklabel_format(useOffset=False, style='plain')\n",
    "plt.show()"
   ]
  },
  {
   "cell_type": "markdown",
   "id": "compatible-hampshire",
   "metadata": {},
   "source": [
    "quick notes- volume positively skewed"
   ]
  },
  {
   "cell_type": "code",
   "execution_count": 305,
   "id": "alternative-architect",
   "metadata": {},
   "outputs": [
    {
     "data": {
      "image/png": "[encoded data removed]",
      "text/plain": [
       "<Figure size 504x216 with 1 Axes>"
      ]
     },
     "metadata": {},
     "output_type": "display_data"
    }
   ],
   "source": [
    "#further look at marketcap\n",
    "plt.subplots(1,1,figsize=(7,3))\n",
    "(stocks.mktCap/1000000).plot(kind = 'hist',bins = 100,color='black')\n",
    "plt.title('Market Cap')\n",
    "plt.xlabel('Dollars (Million)')\n",
    "plt.show();"
   ]
  },
  {
   "cell_type": "markdown",
   "id": "focal-shelter",
   "metadata": {},
   "source": [
    "quick notes - marketcap positive skew as as well"
   ]
  },
  {
   "cell_type": "code",
   "execution_count": 306,
   "id": "flying-produce",
   "metadata": {},
   "outputs": [
    {
     "data": {
      "image/png": "[encoded data removed]",
      "text/plain": [
       "<Figure size 864x432 with 3 Axes>"
      ]
     },
     "metadata": {},
     "output_type": "display_data"
    }
   ],
   "source": [
    "fig, axes = plt.subplots(1,3,figsize=(12,6))\n",
    "ax1 = stocks.mktCap.plot(kind='box',ax=axes[0])\n",
    "ax1.set_title('Market Cap')\n",
    "\n",
    "ax1 = stocks.volAvg.plot(kind='box',ax=axes[1])\n",
    "ax1.set_title('Volume')\n",
    "\n",
    "ax1 = stocks.dcf.plot(kind='box',ax=axes[2])\n",
    "ax1.set_title('DCF')\n",
    "plt.show();"
   ]
  },
  {
   "cell_type": "markdown",
   "id": "weird-light",
   "metadata": {},
   "source": [
    "quick notes - huge outlier for stock DCF. would be interesting to see who that is..."
   ]
  },
  {
   "cell_type": "code",
   "execution_count": 307,
   "id": "invisible-mitchell",
   "metadata": {},
   "outputs": [
    {
     "data": {
      "text/plain": [
       "count       499.00\n",
       "mean       4533.01\n",
       "std       96312.25\n",
       "min        -288.71\n",
       "25%          48.43\n",
       "50%          98.07\n",
       "75%         177.04\n",
       "max     2151560.00\n",
       "Name: dcf, dtype: float64"
      ]
     },
     "metadata": {},
     "output_type": "display_data"
    },
    {
     "name": "stdout",
     "output_type": "stream",
     "text": [
      "\n"
     ]
    },
    {
     "data": {
      "text/html": [
       "<div>\n",
       "<style scoped>\n",
       "    .dataframe tbody tr th:only-of-type {\n",
       "        vertical-align: middle;\n",
       "    }\n",
       "\n",
       "    .dataframe tbody tr th {\n",
       "        vertical-align: top;\n",
       "    }\n",
       "\n",
       "    .dataframe thead th {\n",
       "        text-align: right;\n",
       "    }\n",
       "</style>\n",
       "<table border=\"1\" class=\"dataframe\">\n",
       "  <thead>\n",
       "    <tr style=\"text-align: right;\">\n",
       "      <th></th>\n",
       "      <th>symbol</th>\n",
       "      <th>price</th>\n",
       "      <th>beta</th>\n",
       "      <th>volAvg</th>\n",
       "      <th>mktCap</th>\n",
       "      <th>lastDiv</th>\n",
       "      <th>range</th>\n",
       "      <th>changes</th>\n",
       "      <th>companyName</th>\n",
       "      <th>currency</th>\n",
       "      <th>...</th>\n",
       "      <th>city</th>\n",
       "      <th>state</th>\n",
       "      <th>zip</th>\n",
       "      <th>dcfDiff</th>\n",
       "      <th>dcf</th>\n",
       "      <th>image</th>\n",
       "      <th>ipoDate</th>\n",
       "      <th>defaultImage</th>\n",
       "      <th>isEtf</th>\n",
       "      <th>isActivelyTrading</th>\n",
       "    </tr>\n",
       "  </thead>\n",
       "  <tbody>\n",
       "    <tr>\n",
       "      <th>299</th>\n",
       "      <td>HST</td>\n",
       "      <td>16.59</td>\n",
       "      <td>1.22</td>\n",
       "      <td>8173086.00</td>\n",
       "      <td>11702586400</td>\n",
       "      <td>0.20</td>\n",
       "      <td>7.86-17.43</td>\n",
       "      <td>0.23</td>\n",
       "      <td>Host Hotels &amp; Resorts Inc</td>\n",
       "      <td>USD</td>\n",
       "      <td>...</td>\n",
       "      <td>Bethesda</td>\n",
       "      <td>MARYLAND</td>\n",
       "      <td>20817</td>\n",
       "      <td>7.69</td>\n",
       "      <td>2151560.00</td>\n",
       "      <td>https://financialmodelingprep.com/image-stock/...</td>\n",
       "      <td>1998-12-29</td>\n",
       "      <td>0</td>\n",
       "      <td>0</td>\n",
       "      <td>1</td>\n",
       "    </tr>\n",
       "  </tbody>\n",
       "</table>\n",
       "<p>1 rows × 34 columns</p>\n",
       "</div>"
      ],
      "text/plain": [
       "    symbol  price  beta     volAvg       mktCap  lastDiv       range  changes  \\\n",
       "299    HST  16.59  1.22 8173086.00  11702586400     0.20  7.86-17.43     0.23   \n",
       "\n",
       "                   companyName currency  ...      city     state    zip  \\\n",
       "299  Host Hotels & Resorts Inc      USD  ...  Bethesda  MARYLAND  20817   \n",
       "\n",
       "    dcfDiff        dcf                                              image  \\\n",
       "299    7.69 2151560.00  https://financialmodelingprep.com/image-stock/...   \n",
       "\n",
       "        ipoDate defaultImage isEtf isActivelyTrading  \n",
       "299  1998-12-29            0     0                 1  \n",
       "\n",
       "[1 rows x 34 columns]"
      ]
     },
     "metadata": {},
     "output_type": "display_data"
    }
   ],
   "source": [
    "display(stocks.dcf.describe())\n",
    "print()\n",
    "display(stocks[stocks.dcf == stocks.dcf.max()])\n",
    "##Host hotels apparently!"
   ]
  },
  {
   "cell_type": "markdown",
   "id": "metropolitan-amber",
   "metadata": {},
   "source": [
    "quick notes - column median indicates there is something wrong with this value."
   ]
  },
  {
   "cell_type": "markdown",
   "id": "chemical-ceiling",
   "metadata": {},
   "source": [
    "## L 1.2"
   ]
  },
  {
   "cell_type": "code",
   "execution_count": 308,
   "id": "social-banking",
   "metadata": {},
   "outputs": [],
   "source": [
    "#create usable range columns, look @ range\n",
    "lower = stocks.range.apply(lambda x: np.nan if x == 'null-null' else float(x.split('-')[0]))\n",
    "upper = stocks.range.apply(lambda x: np.nan if x == 'null-null' else float(x.split('-')[1]))"
   ]
  },
  {
   "cell_type": "code",
   "execution_count": 309,
   "id": "associate-killer",
   "metadata": {},
   "outputs": [
    {
     "data": {
      "image/png": "[encoded data removed]",
      "text/plain": [
       "<Figure size 1440x576 with 1 Axes>"
      ]
     },
     "metadata": {},
     "output_type": "display_data"
    }
   ],
   "source": [
    "fig, axes = plt.subplots(1,1,figsize=(20,8))\n",
    "a1 = sns.histplot(upper-lower,ax=axes,palette='Paired',alpha=.5)\n",
    "plt.title('')\n",
    "plt.show()"
   ]
  },
  {
   "cell_type": "code",
   "execution_count": 310,
   "id": "outer-morris",
   "metadata": {},
   "outputs": [
    {
     "data": {
      "image/png": "[encoded data removed]",
      "text/plain": [
       "<Figure size 1440x576 with 1 Axes>"
      ]
     },
     "metadata": {},
     "output_type": "display_data"
    }
   ],
   "source": [
    "#not in review, but interesting to think about\n",
    "#rescale to normalize column\n",
    "fig, axes = plt.subplots(1,1,figsize=(20,8))\n",
    "scaled = (upper-lower) / stocks.price ##scale by current stock price – shows scaled range for comparison\n",
    "a1 = sns.histplot(scaled,ax=axes,palette='Paired',alpha=.5)\n",
    "plt.title('Rescaled Range')\n",
    "plt.show()"
   ]
  },
  {
   "cell_type": "markdown",
   "id": "universal-racing",
   "metadata": {},
   "source": [
    "quick notes - notice most companies' range is smalleer than their total stock price, but some are multiples! Good outliers to check\n"
   ]
  },
  {
   "cell_type": "markdown",
   "id": "northern-democracy",
   "metadata": {},
   "source": [
    "## L 1.3"
   ]
  },
  {
   "cell_type": "code",
   "execution_count": 311,
   "id": "executed-nickname",
   "metadata": {},
   "outputs": [
    {
     "data": {
      "text/plain": [
       "Ttest_1sampResult(statistic=12.73151732156874, pvalue=2.2511057497041488e-32)"
      ]
     },
     "execution_count": 311,
     "metadata": {},
     "output_type": "execute_result"
    }
   ],
   "source": [
    "#quick one sample 2 tail t test against mean of 0\n",
    "result = scipy.stats.ttest_1samp(lower,0,nan_policy='omit')\n",
    "result"
   ]
  },
  {
   "cell_type": "code",
   "execution_count": 312,
   "id": "successful-remains",
   "metadata": {},
   "outputs": [
    {
     "name": "stdout",
     "output_type": "stream",
     "text": [
      "Ttest_indResult(statistic=-7.457456896404115, pvalue=3.4238893530203724e-13)\n",
      "Ttest_indResult(statistic=-7.457456896404115, pvalue=1.7119446765104616e-13)\n"
     ]
    }
   ],
   "source": [
    "#two sample t test\n",
    "#equals\n",
    "result = scipy.stats.ttest_ind(stocks.volAvg,etfs.volAvg,nan_policy='omit')\n",
    "print(result)\n",
    "\n",
    "#less than.. \n",
    "#result = scipy.stats.ttest_ind(stocks.volAvg,etfs.volAvg,nan_policy='omit',alternative = 'less')\n",
    "##above throws error due to nans, therefore...\n",
    "result = scipy.stats.ttest_ind(stocks[stocks.volAvg.notnull()].volAvg,etfs[etfs.volAvg.notnull()].volAvg,alternative='less')\n",
    "print(result)"
   ]
  },
  {
   "cell_type": "markdown",
   "id": "primary-diary",
   "metadata": {},
   "source": [
    "quick notes – above shows test of sample means, stocks vs etfs.. Shows etfs have higher average vol on av for second test, u1 != u2 for first test"
   ]
  },
  {
   "cell_type": "markdown",
   "id": "caroline-number",
   "metadata": {},
   "source": [
    "## L 2.1 <a id='L2'></a> "
   ]
  },
  {
   "cell_type": "code",
   "execution_count": 313,
   "id": "composite-palace",
   "metadata": {},
   "outputs": [],
   "source": [
    "stocks2 = stocks.drop(index=stocks[stocks.dcf >= 500].index)\n",
    "stocks2 = stocks2[stocks2.state.isin(['CALIFORNIA','TEXAS'])]"
   ]
  },
  {
   "cell_type": "code",
   "execution_count": 314,
   "id": "endangered-niagara",
   "metadata": {},
   "outputs": [
    {
     "name": "stderr",
     "output_type": "stream",
     "text": [
      "/Users/verbeck/opt/anaconda3/lib/python3.7/site-packages/seaborn/_decorators.py:43: FutureWarning: Pass the following variables as keyword args: x, y. From version 0.12, the only valid positional argument will be `data`, and passing other arguments without an explicit keyword will result in an error or misinterpretation.\n",
      "  FutureWarning\n"
     ]
    },
    {
     "data": {
      "image/png": "[encoded data removed]",
      "text/plain": [
       "<Figure size 720x432 with 1 Axes>"
      ]
     },
     "metadata": {},
     "output_type": "display_data"
    }
   ],
   "source": [
    "#quick scatter plot, just playing around with looking @ variables against one another\n",
    "fig, axes = plt.subplots(1,1,figsize=(10,6))\n",
    "sns.scatterplot(stocks2.price,stocks2.dcf,ax=axes,hue=stocks2.state)\n",
    "plt.title('Price v. DCF')\n",
    "plt.ticklabel_format(style='plain', axis='y')\n",
    "plt.ylim([0,500])\n",
    "plt.show();"
   ]
  },
  {
   "cell_type": "code",
   "execution_count": 315,
   "id": "norman-citizen",
   "metadata": {},
   "outputs": [
    {
     "data": {
      "text/plain": [
       "Ttest_indResult(statistic=3.8549532561913313, pvalue=9.939989114994294e-05)"
      ]
     },
     "execution_count": 315,
     "metadata": {},
     "output_type": "execute_result"
    }
   ],
   "source": [
    "scipy.stats.ttest_ind(stocks2[stocks2.state=='CALIFORNIA'].dcf,stocks2[stocks2.state=='TEXAS'].dcf,alternative='greater')"
   ]
  },
  {
   "cell_type": "markdown",
   "id": "official-depth",
   "metadata": {},
   "source": [
    "quick notes - the above shows that companies from california have higher on average dcfs than texas. chart pattern interesting "
   ]
  },
  {
   "cell_type": "markdown",
   "id": "incorrect-fraud",
   "metadata": {},
   "source": [
    "\n",
    "## L 2.2"
   ]
  },
  {
   "cell_type": "code",
   "execution_count": 316,
   "id": "exceptional-agent",
   "metadata": {},
   "outputs": [
    {
     "data": {
      "text/html": [
       "<div>\n",
       "<style scoped>\n",
       "    .dataframe tbody tr th:only-of-type {\n",
       "        vertical-align: middle;\n",
       "    }\n",
       "\n",
       "    .dataframe tbody tr th {\n",
       "        vertical-align: top;\n",
       "    }\n",
       "\n",
       "    .dataframe thead th {\n",
       "        text-align: right;\n",
       "    }\n",
       "</style>\n",
       "<table border=\"1\" class=\"dataframe\">\n",
       "  <thead>\n",
       "    <tr style=\"text-align: right;\">\n",
       "      <th></th>\n",
       "      <th>symbol</th>\n",
       "      <th>price</th>\n",
       "      <th>beta</th>\n",
       "      <th>volAvg</th>\n",
       "      <th>mktCap</th>\n",
       "      <th>lastDiv</th>\n",
       "      <th>range</th>\n",
       "      <th>changes</th>\n",
       "      <th>companyName</th>\n",
       "      <th>currency</th>\n",
       "      <th>...</th>\n",
       "      <th>city</th>\n",
       "      <th>state</th>\n",
       "      <th>zip</th>\n",
       "      <th>dcfDiff</th>\n",
       "      <th>dcf</th>\n",
       "      <th>image</th>\n",
       "      <th>ipoDate</th>\n",
       "      <th>defaultImage</th>\n",
       "      <th>isEtf</th>\n",
       "      <th>isActivelyTrading</th>\n",
       "    </tr>\n",
       "  </thead>\n",
       "  <tbody>\n",
       "    <tr>\n",
       "      <th>1</th>\n",
       "      <td>CMCSA</td>\n",
       "      <td>52.72</td>\n",
       "      <td>0.91</td>\n",
       "      <td>17309455.00</td>\n",
       "      <td>241492410000</td>\n",
       "      <td>0.92</td>\n",
       "      <td>31.71-53.6</td>\n",
       "      <td>0.48</td>\n",
       "      <td>Comcast Corp</td>\n",
       "      <td>USD</td>\n",
       "      <td>...</td>\n",
       "      <td>Philadelphia</td>\n",
       "      <td>PENNSYLVANIA</td>\n",
       "      <td>19103</td>\n",
       "      <td>89.99</td>\n",
       "      <td>45.71</td>\n",
       "      <td>https://financialmodelingprep.com/image-stock/...</td>\n",
       "      <td>2001-12-07</td>\n",
       "      <td>0</td>\n",
       "      <td>0</td>\n",
       "      <td>1</td>\n",
       "    </tr>\n",
       "    <tr>\n",
       "      <th>2</th>\n",
       "      <td>KMI</td>\n",
       "      <td>14.71</td>\n",
       "      <td>0.99</td>\n",
       "      <td>18544206.00</td>\n",
       "      <td>33310060500</td>\n",
       "      <td>1.05</td>\n",
       "      <td>9.42-20.69</td>\n",
       "      <td>-0.58</td>\n",
       "      <td>Kinder Morgan Inc</td>\n",
       "      <td>USD</td>\n",
       "      <td>...</td>\n",
       "      <td>Houston</td>\n",
       "      <td>TEXAS</td>\n",
       "      <td>77002</td>\n",
       "      <td>-3.50</td>\n",
       "      <td>12.61</td>\n",
       "      <td>https://financialmodelingprep.com/image-stock/...</td>\n",
       "      <td>2011-02-11</td>\n",
       "      <td>0</td>\n",
       "      <td>0</td>\n",
       "      <td>1</td>\n",
       "    </tr>\n",
       "    <tr>\n",
       "      <th>3</th>\n",
       "      <td>INTC</td>\n",
       "      <td>60.78</td>\n",
       "      <td>0.68</td>\n",
       "      <td>39416670.00</td>\n",
       "      <td>246949134000</td>\n",
       "      <td>1.34</td>\n",
       "      <td>43.61-65.11</td>\n",
       "      <td>0.38</td>\n",
       "      <td>Intel Corp</td>\n",
       "      <td>USD</td>\n",
       "      <td>...</td>\n",
       "      <td>Santa Clara</td>\n",
       "      <td>CALIFORNIA</td>\n",
       "      <td>95054-1549</td>\n",
       "      <td>78.39</td>\n",
       "      <td>54.44</td>\n",
       "      <td>https://financialmodelingprep.com/image-stock/...</td>\n",
       "      <td>1971-10-13</td>\n",
       "      <td>0</td>\n",
       "      <td>0</td>\n",
       "      <td>1</td>\n",
       "    </tr>\n",
       "    <tr>\n",
       "      <th>4</th>\n",
       "      <td>MU</td>\n",
       "      <td>91.53</td>\n",
       "      <td>1.31</td>\n",
       "      <td>18021777.00</td>\n",
       "      <td>102391857000</td>\n",
       "      <td>0.00</td>\n",
       "      <td>31.13-93.1</td>\n",
       "      <td>3.41</td>\n",
       "      <td>Micron Technology Inc</td>\n",
       "      <td>USD</td>\n",
       "      <td>...</td>\n",
       "      <td>Boise</td>\n",
       "      <td>IDAHO</td>\n",
       "      <td>None</td>\n",
       "      <td>129.05</td>\n",
       "      <td>59.57</td>\n",
       "      <td>https://financialmodelingprep.com/image-stock/...</td>\n",
       "      <td>1984-06-01</td>\n",
       "      <td>0</td>\n",
       "      <td>0</td>\n",
       "      <td>1</td>\n",
       "    </tr>\n",
       "    <tr>\n",
       "      <th>6</th>\n",
       "      <td>GE</td>\n",
       "      <td>12.56</td>\n",
       "      <td>0.91</td>\n",
       "      <td>79007719.00</td>\n",
       "      <td>110125326000</td>\n",
       "      <td>0.05</td>\n",
       "      <td>5.48-13.35</td>\n",
       "      <td>-0.20</td>\n",
       "      <td>General Electric Co</td>\n",
       "      <td>USD</td>\n",
       "      <td>...</td>\n",
       "      <td>Boston</td>\n",
       "      <td>MASSACHUSETTS</td>\n",
       "      <td>02210</td>\n",
       "      <td>21.63</td>\n",
       "      <td>11.49</td>\n",
       "      <td>https://financialmodelingprep.com/image-stock/...</td>\n",
       "      <td>1892-06-23</td>\n",
       "      <td>0</td>\n",
       "      <td>0</td>\n",
       "      <td>1</td>\n",
       "    </tr>\n",
       "  </tbody>\n",
       "</table>\n",
       "<p>5 rows × 34 columns</p>\n",
       "</div>"
      ],
      "text/plain": [
       "  symbol  price  beta      volAvg        mktCap  lastDiv        range  \\\n",
       "1  CMCSA  52.72  0.91 17309455.00  241492410000     0.92   31.71-53.6   \n",
       "2    KMI  14.71  0.99 18544206.00   33310060500     1.05   9.42-20.69   \n",
       "3   INTC  60.78  0.68 39416670.00  246949134000     1.34  43.61-65.11   \n",
       "4     MU  91.53  1.31 18021777.00  102391857000     0.00   31.13-93.1   \n",
       "6     GE  12.56  0.91 79007719.00  110125326000     0.05   5.48-13.35   \n",
       "\n",
       "   changes            companyName currency  ...          city          state  \\\n",
       "1     0.48           Comcast Corp      USD  ...  Philadelphia   PENNSYLVANIA   \n",
       "2    -0.58      Kinder Morgan Inc      USD  ...       Houston          TEXAS   \n",
       "3     0.38             Intel Corp      USD  ...   Santa Clara     CALIFORNIA   \n",
       "4     3.41  Micron Technology Inc      USD  ...         Boise          IDAHO   \n",
       "6    -0.20    General Electric Co      USD  ...        Boston  MASSACHUSETTS   \n",
       "\n",
       "          zip dcfDiff   dcf  \\\n",
       "1       19103   89.99 45.71   \n",
       "2       77002   -3.50 12.61   \n",
       "3  95054-1549   78.39 54.44   \n",
       "4        None  129.05 59.57   \n",
       "6       02210   21.63 11.49   \n",
       "\n",
       "                                               image     ipoDate defaultImage  \\\n",
       "1  https://financialmodelingprep.com/image-stock/...  2001-12-07            0   \n",
       "2  https://financialmodelingprep.com/image-stock/...  2011-02-11            0   \n",
       "3  https://financialmodelingprep.com/image-stock/...  1971-10-13            0   \n",
       "4  https://financialmodelingprep.com/image-stock/...  1984-06-01            0   \n",
       "6  https://financialmodelingprep.com/image-stock/...  1892-06-23            0   \n",
       "\n",
       "  isEtf isActivelyTrading  \n",
       "1     0                 1  \n",
       "2     0                 1  \n",
       "3     0                 1  \n",
       "4     0                 1  \n",
       "6     0                 1  \n",
       "\n",
       "[5 rows x 34 columns]"
      ]
     },
     "execution_count": 316,
     "metadata": {},
     "output_type": "execute_result"
    }
   ],
   "source": [
    "stocks.head()"
   ]
  },
  {
   "cell_type": "code",
   "execution_count": 317,
   "id": "fabulous-radio",
   "metadata": {},
   "outputs": [
    {
     "name": "stderr",
     "output_type": "stream",
     "text": [
      "/Users/verbeck/opt/anaconda3/lib/python3.7/site-packages/seaborn/_decorators.py:43: FutureWarning: Pass the following variables as keyword args: x, y. From version 0.12, the only valid positional argument will be `data`, and passing other arguments without an explicit keyword will result in an error or misinterpretation.\n",
      "  FutureWarning\n"
     ]
    },
    {
     "data": {
      "image/png": "[encoded data removed]",
      "text/plain": [
       "<Figure size 1440x504 with 1 Axes>"
      ]
     },
     "metadata": {},
     "output_type": "display_data"
    }
   ],
   "source": [
    "#just take a quick look at example of simple regresion line\n",
    "fig, axes = plt.subplots(1,1,figsize=(20,7))\n",
    "ax1 = sns.regplot(stocks['mktCap'],stocks['price'],ax=axes) #x_bins=20) binning regplot creates interesting type of chart for eda\n",
    "plt.show();"
   ]
  },
  {
   "cell_type": "markdown",
   "id": "developing-stadium",
   "metadata": {},
   "source": [
    "quick notes – obviously these variables may not really be correlated, and both could likely use a logarithmic transformation"
   ]
  },
  {
   "cell_type": "markdown",
   "id": "peaceful-sound",
   "metadata": {},
   "source": [
    "## L2.3"
   ]
  },
  {
   "cell_type": "code",
   "execution_count": 318,
   "id": "practical-expression",
   "metadata": {},
   "outputs": [
    {
     "name": "stdout",
     "output_type": "stream",
     "text": [
      "                 Results: Ordinary least squares\n",
      "==================================================================\n",
      "Model:              OLS              Adj. R-squared:     0.245    \n",
      "Dependent Variable: changes          AIC:                2858.0545\n",
      "Date:               2021-03-09 13:38 BIC:                2866.4996\n",
      "No. Observations:   504              Log-Likelihood:     -1427.0  \n",
      "Df Model:           1                F-statistic:        164.6    \n",
      "Df Residuals:       502              Prob (F-statistic): 8.69e-33 \n",
      "R-squared:          0.247            Scale:              16.927   \n",
      "--------------------------------------------------------------------\n",
      "            Coef.    Std.Err.      t      P>|t|     [0.025    0.975]\n",
      "--------------------------------------------------------------------\n",
      "const      -1.4614     0.2083   -7.0149   0.0000   -1.8707   -1.0521\n",
      "price       0.0074     0.0006   12.8297   0.0000    0.0063    0.0085\n",
      "------------------------------------------------------------------\n",
      "Omnibus:             291.034      Durbin-Watson:         1.984    \n",
      "Prob(Omnibus):       0.000        Jarque-Bera (JB):      11717.045\n",
      "Skew:                1.844        Prob(JB):              0.000    \n",
      "Kurtosis:            26.331       Condition No.:         411      \n",
      "==================================================================\n",
      "\n"
     ]
    }
   ],
   "source": [
    "#run quick simple reg model w/ other variables to look at output metrics\n",
    "ols = sm.OLS(stocks.changes,sm.add_constant(stocks.price)) ##add constant.. not sure how I feel about constant inclusion by default as in R or this here\n",
    "result = ols.fit()\n",
    "print(result.summary2())"
   ]
  },
  {
   "cell_type": "markdown",
   "id": "interim-religion",
   "metadata": {},
   "source": [
    "quick note on standard errror- 68% of resid within 0.0005 of prediction, 95 % of resid will be w/in 0.001 of prediction, 99.7% w/in 0.0015 of prediction"
   ]
  },
  {
   "cell_type": "code",
   "execution_count": 319,
   "id": "raising-might",
   "metadata": {},
   "outputs": [
    {
     "name": "stderr",
     "output_type": "stream",
     "text": [
      "/Users/verbeck/opt/anaconda3/lib/python3.7/site-packages/seaborn/_decorators.py:43: FutureWarning: Pass the following variables as keyword args: x, y. From version 0.12, the only valid positional argument will be `data`, and passing other arguments without an explicit keyword will result in an error or misinterpretation.\n",
      "  FutureWarning\n",
      "/Users/verbeck/opt/anaconda3/lib/python3.7/site-packages/seaborn/_decorators.py:43: FutureWarning: Pass the following variables as keyword args: x, y. From version 0.12, the only valid positional argument will be `data`, and passing other arguments without an explicit keyword will result in an error or misinterpretation.\n",
      "  FutureWarning\n"
     ]
    },
    {
     "data": {
      "image/png": "[encoded data removed]",
      "text/plain": [
       "<Figure size 1440x504 with 2 Axes>"
      ]
     },
     "metadata": {},
     "output_type": "display_data"
    }
   ],
   "source": [
    "#lets check out a residual plot to test assumptions\n",
    "fig, axes = plt.subplots(1,2,figsize=(20,7))\n",
    "ax1 = sns.regplot(stocks.changes,stocks.price,ax=axes[0],ci=95)#x_bins=20) binning regplot creates interesting type of chart for edas\n",
    "ax1.set_title('Change v Price')\n",
    "ax2 = sns.residplot(stocks.changes,stocks.price,ax=axes[1])\n",
    "ax2.set_title('Residual Plot')\n",
    "plt.show();"
   ]
  },
  {
   "cell_type": "markdown",
   "id": "worst-strike",
   "metadata": {},
   "source": [
    "quick notes – confidence interval smallest (most confident) when dealing with middle values in data, larger interval on edges  \n",
    "        --errors larger the further from the mean"
   ]
  },
  {
   "cell_type": "code",
   "execution_count": 320,
   "id": "satisfactory-train",
   "metadata": {},
   "outputs": [
    {
     "data": {
      "text/plain": [
       "Text(0.5, 1.0, 'Error distribution')"
      ]
     },
     "execution_count": 320,
     "metadata": {},
     "output_type": "execute_result"
    },
    {
     "data": {
      "image/png": "[encoded data removed]",
      "text/plain": [
       "<Figure size 432x288 with 1 Axes>"
      ]
     },
     "metadata": {},
     "output_type": "display_data"
    }
   ],
   "source": [
    "result.resid.plot(kind='hist',bins=20);\n",
    "plt.title('Error distribution')"
   ]
  },
  {
   "cell_type": "code",
   "execution_count": 321,
   "id": "beautiful-invite",
   "metadata": {},
   "outputs": [
    {
     "data": {
      "text/plain": [
       "count   504.00\n",
       "mean      0.00\n",
       "std       4.11\n",
       "min     -22.38\n",
       "25%      -1.13\n",
       "50%       0.24\n",
       "75%       1.19\n",
       "max      39.56\n",
       "dtype: float64"
      ]
     },
     "execution_count": 321,
     "metadata": {},
     "output_type": "execute_result"
    }
   ],
   "source": [
    "#look at residual descriptions\n",
    "result.resid.describe()"
   ]
  },
  {
   "cell_type": "markdown",
   "id": "molecular-government",
   "metadata": {},
   "source": [
    "quick notes – are error assumptions satisfied?   \n",
    "    --mean errors 0: YES, ols produces mean of 0  \n",
    "    --errors homoscedastic: NO, residplot shows hetero  \n",
    "    --errors normal: YES, looks like it  \n",
    "    --errors independent: YES, no reason to think otherwise. Each is individual security"
   ]
  },
  {
   "cell_type": "code",
   "execution_count": 322,
   "id": "pharmaceutical-attitude",
   "metadata": {},
   "outputs": [
    {
     "name": "stdout",
     "output_type": "stream",
     "text": [
      "MSE: 2786.1794139843896\n"
     ]
    }
   ],
   "source": [
    "print('MSE:',result.mse_model)"
   ]
  },
  {
   "cell_type": "code",
   "execution_count": 323,
   "id": "scenic-advantage",
   "metadata": {},
   "outputs": [],
   "source": [
    "## nice article on simple model evaluation https://www.theanalysisfactor.com/assessing-the-fit-of-regression-models/"
   ]
  },
  {
   "cell_type": "code",
   "execution_count": 324,
   "id": "global-macedonia",
   "metadata": {},
   "outputs": [
    {
     "name": "stdout",
     "output_type": "stream",
     "text": [
      "RSquared of 0.25 indicates 25 % of variance explained by price for changes\n"
     ]
    }
   ],
   "source": [
    "print('RSquared of {} indicates {} % of variance explained by price for changes'.format(round(result.rsquared,2),round(result.rsquared*100)))"
   ]
  },
  {
   "cell_type": "code",
   "execution_count": 325,
   "id": "operational-gazette",
   "metadata": {},
   "outputs": [
    {
     "data": {
      "text/plain": [
       "(0.49691567230623973, 8.68697712013755e-33)"
      ]
     },
     "execution_count": 325,
     "metadata": {},
     "output_type": "execute_result"
    }
   ],
   "source": [
    "scipy.stats.pearsonr(stocks.changes,stocks.price)"
   ]
  },
  {
   "cell_type": "markdown",
   "id": "intellectual-excess",
   "metadata": {},
   "source": [
    "## L3.1 <a id='L3'></a> "
   ]
  },
  {
   "cell_type": "code",
   "execution_count": 326,
   "id": "placed-chancellor",
   "metadata": {},
   "outputs": [],
   "source": [
    "#check out bankruptcy data for mr\n",
    "brupt = getTable('../../FInancesSp500.db','BANKRUPTCY')"
   ]
  },
  {
   "cell_type": "code",
   "execution_count": 327,
   "id": "lovely-beach",
   "metadata": {},
   "outputs": [
    {
     "data": {
      "text/plain": [
       "Company emerged           799\n",
       "company did not emerge    370\n",
       "case pending               22\n",
       "not classified             11\n",
       "no data                     6\n",
       "Name: Business Survival, dtype: int64"
      ]
     },
     "execution_count": 327,
     "metadata": {},
     "output_type": "execute_result"
    }
   ],
   "source": [
    "##could be interesting for logistic regression and time series later on\n",
    "brupt['Business Survival'].value_counts()"
   ]
  },
  {
   "cell_type": "markdown",
   "id": "fuzzy-pride",
   "metadata": {},
   "source": [
    "quick note – I still need to clean this data. will use something with more continuous variables for initial multiple regression review.."
   ]
  },
  {
   "cell_type": "code",
   "execution_count": 333,
   "id": "experimental-rubber",
   "metadata": {},
   "outputs": [
    {
     "data": {
      "text/html": [
       "<table class=\"simpletable\">\n",
       "<tr>\n",
       "        <td>Model:</td>               <td>OLS</td>         <td>Adj. R-squared:</td>     <td>0.040</td>  \n",
       "</tr>\n",
       "<tr>\n",
       "  <td>Dependent Variable:</td>       <td>price</td>             <td>AIC:</td>         <td>7208.5805</td>\n",
       "</tr>\n",
       "<tr>\n",
       "         <td>Date:</td>        <td>2021-03-09 13:40</td>        <td>BIC:</td>         <td>7221.2423</td>\n",
       "</tr>\n",
       "<tr>\n",
       "   <td>No. Observations:</td>         <td>503</td>         <td>Log-Likelihood:</td>    <td>-3601.3</td> \n",
       "</tr>\n",
       "<tr>\n",
       "       <td>Df Model:</td>              <td>2</td>           <td>F-statistic:</td>       <td>11.48</td>  \n",
       "</tr>\n",
       "<tr>\n",
       "     <td>Df Residuals:</td>           <td>500</td>       <td>Prob (F-statistic):</td> <td>1.34e-05</td> \n",
       "</tr>\n",
       "<tr>\n",
       "      <td>R-squared:</td>            <td>0.044</td>            <td>Scale:</td>         <td>97475.</td>  \n",
       "</tr>\n",
       "</table>\n",
       "<table class=\"simpletable\">\n",
       "<tr>\n",
       "          <td></td>            <th>Coef.</th>  <th>Std.Err.</th>    <th>t</th>     <th>P>|t|</th>  <th>[0.025</th>   <th>0.975]</th> \n",
       "</tr>\n",
       "<tr>\n",
       "  <th>const</th>             <td>172.7948</td>  <td>16.2469</td> <td>10.6355</td> <td>0.0000</td> <td>140.8741</td> <td>204.7154</td>\n",
       "</tr>\n",
       "<tr>\n",
       "  <th>volAvg</th>             <td>-0.0000</td>  <td>0.0000</td>  <td>-3.3012</td> <td>0.0010</td>  <td>-0.0000</td>  <td>-0.0000</td>\n",
       "</tr>\n",
       "<tr>\n",
       "  <th>fullTimeEmployees</th>  <td>0.0004</td>   <td>0.0001</td>  <td>3.9876</td>  <td>0.0001</td>  <td>0.0002</td>   <td>0.0007</td> \n",
       "</tr>\n",
       "</table>\n",
       "<table class=\"simpletable\">\n",
       "<tr>\n",
       "     <td>Omnibus:</td>    <td>745.256</td>  <td>Durbin-Watson:</td>      <td>1.878</td>  \n",
       "</tr>\n",
       "<tr>\n",
       "  <td>Prob(Omnibus):</td>  <td>0.000</td>  <td>Jarque-Bera (JB):</td> <td>170905.256</td>\n",
       "</tr>\n",
       "<tr>\n",
       "       <td>Skew:</td>      <td>7.994</td>      <td>Prob(JB):</td>        <td>0.000</td>  \n",
       "</tr>\n",
       "<tr>\n",
       "     <td>Kurtosis:</td>   <td>91.876</td>   <td>Condition No.:</td>    <td>12730709</td> \n",
       "</tr>\n",
       "</table>"
      ],
      "text/plain": [
       "<class 'statsmodels.iolib.summary2.Summary'>\n",
       "\"\"\"\n",
       "                  Results: Ordinary least squares\n",
       "====================================================================\n",
       "Model:                OLS              Adj. R-squared:     0.040    \n",
       "Dependent Variable:   price            AIC:                7208.5805\n",
       "Date:                 2021-03-09 13:40 BIC:                7221.2423\n",
       "No. Observations:     503              Log-Likelihood:     -3601.3  \n",
       "Df Model:             2                F-statistic:        11.48    \n",
       "Df Residuals:         500              Prob (F-statistic): 1.34e-05 \n",
       "R-squared:            0.044            Scale:              97475.   \n",
       "--------------------------------------------------------------------\n",
       "                   Coef.   Std.Err.    t    P>|t|   [0.025   0.975] \n",
       "--------------------------------------------------------------------\n",
       "const             172.7948  16.2469 10.6355 0.0000 140.8741 204.7154\n",
       "volAvg             -0.0000   0.0000 -3.3012 0.0010  -0.0000  -0.0000\n",
       "fullTimeEmployees   0.0004   0.0001  3.9876 0.0001   0.0002   0.0007\n",
       "--------------------------------------------------------------------\n",
       "Omnibus:              745.256      Durbin-Watson:         1.878     \n",
       "Prob(Omnibus):        0.000        Jarque-Bera (JB):      170905.256\n",
       "Skew:                 7.994        Prob(JB):              0.000     \n",
       "Kurtosis:             91.876       Condition No.:         12730709  \n",
       "====================================================================\n",
       "* The condition number is large (1e+07). This might indicate\n",
       "strong multicollinearity or other numerical problems.\n",
       "\"\"\""
      ]
     },
     "execution_count": 333,
     "metadata": {},
     "output_type": "execute_result"
    }
   ],
   "source": [
    "#Example multiple reg model\n",
    "#def model\n",
    "targ = 'price'\n",
    "model = ['volAvg','fullTimeEmployees'] + [targ]\n",
    "\n",
    "#def data\n",
    "DATA = stocks[model].dropna(axis=0).drop(columns=[targ],axis=1)\n",
    "TARGET = stocks.loc[DATA.index,targ]\n",
    "\n",
    "#run and display\n",
    "ols = sm.OLS(TARGET,sm.add_constant(DATA))\n",
    "result = ols.fit()\n",
    "result.summary2()"
   ]
  },
  {
   "cell_type": "markdown",
   "id": "blond-amsterdam",
   "metadata": {},
   "source": [
    "quick notes – very low adj r squared (adj accounts for # vars in model) shows vol, employees don't explain alot of variance in price. both statistically sig"
   ]
  },
  {
   "cell_type": "code",
   "execution_count": 374,
   "id": "alone-cornwall",
   "metadata": {},
   "outputs": [
    {
     "name": "stdout",
     "output_type": "stream",
     "text": [
      "RMSE: 312.20975674409146\n",
      "F TEST p-value: 1.3392936066829341e-05n\n",
      "\n"
     ]
    }
   ],
   "source": [
    "#check out rmse\n",
    "RMSE = np.sqrt(result.mse_resid) # or np.sqrt(result.ssr/result.df_resid)\n",
    "print('RMSE: {}'.format(RMSE))\n",
    "print('F TEST p-value: {}n\\n'.format(result.f_pvalue))"
   ]
  },
  {
   "cell_type": "markdown",
   "id": "electrical-indian",
   "metadata": {},
   "source": [
    "    \n",
    "  \n",
    "    \n",
    "quick notes – 68% of predictions will be w/in 312 of true value, 95% w/in 624, and 99.7% w/in 936  \n",
    "\n",
    "    --- f test shows < 0.01% chance that all betas == 0\n",
    "    \n",
    "    !!!RMSE is really just the standard deviation of the residuals. Great way to think about it  \n",
    "    \n",
    "    --- note difference between confidence interval and prediction interval (mean of all vs. single)"
   ]
  },
  {
   "cell_type": "markdown",
   "id": "noted-illustration",
   "metadata": {},
   "source": [
    "## L3.2"
   ]
  },
  {
   "cell_type": "code",
   "execution_count": 378,
   "id": "hydraulic-arctic",
   "metadata": {},
   "outputs": [
    {
     "data": {
      "text/html": [
       "<table class=\"simpletable\">\n",
       "<tr>\n",
       "        <td>Model:</td>               <td>OLS</td>         <td>Adj. R-squared:</td>     <td>0.040</td>  \n",
       "</tr>\n",
       "<tr>\n",
       "  <td>Dependent Variable:</td>       <td>price</td>             <td>AIC:</td>         <td>7209.3485</td>\n",
       "</tr>\n",
       "<tr>\n",
       "         <td>Date:</td>        <td>2021-03-09 14:13</td>        <td>BIC:</td>         <td>7226.2308</td>\n",
       "</tr>\n",
       "<tr>\n",
       "   <td>No. Observations:</td>         <td>503</td>         <td>Log-Likelihood:</td>    <td>-3600.7</td> \n",
       "</tr>\n",
       "<tr>\n",
       "       <td>Df Model:</td>              <td>3</td>           <td>F-statistic:</td>       <td>8.062</td>  \n",
       "</tr>\n",
       "<tr>\n",
       "     <td>Df Residuals:</td>           <td>499</td>       <td>Prob (F-statistic):</td> <td>2.97e-05</td> \n",
       "</tr>\n",
       "<tr>\n",
       "      <td>R-squared:</td>            <td>0.046</td>            <td>Scale:</td>         <td>97431.</td>  \n",
       "</tr>\n",
       "</table>\n",
       "<table class=\"simpletable\">\n",
       "<tr>\n",
       "          <td></td>            <th>Coef.</th>  <th>Std.Err.</th>    <th>t</th>     <th>P>|t|</th>  <th>[0.025</th>   <th>0.975]</th> \n",
       "</tr>\n",
       "<tr>\n",
       "  <th>const</th>             <td>160.9398</td>  <td>19.4600</td> <td>8.2703</td>  <td>0.0000</td> <td>122.7062</td> <td>199.1734</td>\n",
       "</tr>\n",
       "<tr>\n",
       "  <th>volAvg</th>             <td>-0.0000</td>  <td>0.0000</td>  <td>-0.6262</td> <td>0.5315</td>  <td>-0.0000</td>  <td>0.0000</td> \n",
       "</tr>\n",
       "<tr>\n",
       "  <th>fullTimeEmployees</th>  <td>0.0006</td>   <td>0.0002</td>  <td>3.3270</td>  <td>0.0009</td>  <td>0.0002</td>   <td>0.0010</td> \n",
       "</tr>\n",
       "<tr>\n",
       "  <th>AVG * Employees</th>    <td>-0.0000</td>  <td>0.0000</td>  <td>-1.1062</td> <td>0.2692</td>  <td>-0.0000</td>  <td>0.0000</td> \n",
       "</tr>\n",
       "</table>\n",
       "<table class=\"simpletable\">\n",
       "<tr>\n",
       "     <td>Omnibus:</td>    <td>744.646</td>  <td>Durbin-Watson:</td>       <td>1.868</td>    \n",
       "</tr>\n",
       "<tr>\n",
       "  <td>Prob(Omnibus):</td>  <td>0.000</td>  <td>Jarque-Bera (JB):</td>  <td>171536.560</td>  \n",
       "</tr>\n",
       "<tr>\n",
       "       <td>Skew:</td>      <td>7.978</td>      <td>Prob(JB):</td>         <td>0.000</td>    \n",
       "</tr>\n",
       "<tr>\n",
       "     <td>Kurtosis:</td>   <td>92.051</td>   <td>Condition No.:</td>   <td>2582157029484</td>\n",
       "</tr>\n",
       "</table>"
      ],
      "text/plain": [
       "<class 'statsmodels.iolib.summary2.Summary'>\n",
       "\"\"\"\n",
       "                  Results: Ordinary least squares\n",
       "====================================================================\n",
       "Model:                OLS              Adj. R-squared:     0.040    \n",
       "Dependent Variable:   price            AIC:                7209.3485\n",
       "Date:                 2021-03-09 14:13 BIC:                7226.2308\n",
       "No. Observations:     503              Log-Likelihood:     -3600.7  \n",
       "Df Model:             3                F-statistic:        8.062    \n",
       "Df Residuals:         499              Prob (F-statistic): 2.97e-05 \n",
       "R-squared:            0.046            Scale:              97431.   \n",
       "--------------------------------------------------------------------\n",
       "                   Coef.   Std.Err.    t    P>|t|   [0.025   0.975] \n",
       "--------------------------------------------------------------------\n",
       "const             160.9398  19.4600  8.2703 0.0000 122.7062 199.1734\n",
       "volAvg             -0.0000   0.0000 -0.6262 0.5315  -0.0000   0.0000\n",
       "fullTimeEmployees   0.0006   0.0002  3.3270 0.0009   0.0002   0.0010\n",
       "AVG * Employees    -0.0000   0.0000 -1.1062 0.2692  -0.0000   0.0000\n",
       "--------------------------------------------------------------------\n",
       "Omnibus:             744.646     Durbin-Watson:        1.868        \n",
       "Prob(Omnibus):       0.000       Jarque-Bera (JB):     171536.560   \n",
       "Skew:                7.978       Prob(JB):             0.000        \n",
       "Kurtosis:            92.051      Condition No.:        2582157029484\n",
       "====================================================================\n",
       "* The condition number is large (3e+12). This might indicate\n",
       "strong multicollinearity or other numerical problems.\n",
       "\"\"\""
      ]
     },
     "execution_count": 378,
     "metadata": {},
     "output_type": "execute_result"
    }
   ],
   "source": [
    "#basic interaction models\n",
    "\n",
    "#def model\n",
    "targ = 'price'\n",
    "model = ['volAvg','fullTimeEmployees'] + [targ]\n",
    "\n",
    "#def data\n",
    "DATA = stocks[model].dropna(axis=0).drop(columns=[targ],axis=1)\n",
    "TARGET = stocks.loc[DATA.index,targ]\n",
    "\n",
    "#define interaction term\n",
    "DATA['AVG * Employees'] = DATA['volAvg']*DATA['fullTimeEmployees']\n",
    "\n",
    "#run and display\n",
    "ols = sm.OLS(TARGET,sm.add_constant(DATA))\n",
    "result = ols.fit()\n",
    "result.summary2()"
   ]
  },
  {
   "cell_type": "code",
   "execution_count": 380,
   "id": "sapphire-gothic",
   "metadata": {},
   "outputs": [
    {
     "data": {
      "text/plain": [
       "312.1399337810879"
      ]
     },
     "execution_count": 380,
     "metadata": {},
     "output_type": "execute_result"
    }
   ],
   "source": [
    "np.sqrt(result.mse_resid)"
   ]
  },
  {
   "cell_type": "markdown",
   "id": "senior-plastic",
   "metadata": {},
   "source": [
    "quick notes – interaction term not sig, didn't increase r2 significantly, RMSE same...   \n",
    "    ---Exclude interaction for this example to avoid obfuscating base terms"
   ]
  },
  {
   "cell_type": "markdown",
   "id": "herbal-consideration",
   "metadata": {},
   "source": [
    "## L3.3"
   ]
  },
  {
   "cell_type": "code",
   "execution_count": 402,
   "id": "chief-sperm",
   "metadata": {},
   "outputs": [
    {
     "name": "stderr",
     "output_type": "stream",
     "text": [
      "/Users/verbeck/opt/anaconda3/lib/python3.7/site-packages/seaborn/_decorators.py:43: FutureWarning: Pass the following variables as keyword args: x, y. From version 0.12, the only valid positional argument will be `data`, and passing other arguments without an explicit keyword will result in an error or misinterpretation.\n",
      "  FutureWarning\n"
     ]
    },
    {
     "data": {
      "image/png": "[encoded data removed]",
      "text/plain": [
       "<Figure size 432x288 with 1 Axes>"
      ]
     },
     "metadata": {},
     "output_type": "display_data"
    },
    {
     "data": {
      "text/html": [
       "<table class=\"simpletable\">\n",
       "<tr>\n",
       "        <td>Model:</td>               <td>OLS</td>         <td>Adj. R-squared:</td>     <td>0.016</td>  \n",
       "</tr>\n",
       "<tr>\n",
       "  <td>Dependent Variable:</td>       <td>price</td>             <td>AIC:</td>         <td>7220.7932</td>\n",
       "</tr>\n",
       "<tr>\n",
       "         <td>Date:</td>        <td>2021-03-09 14:27</td>        <td>BIC:</td>         <td>7233.4550</td>\n",
       "</tr>\n",
       "<tr>\n",
       "   <td>No. Observations:</td>         <td>503</td>         <td>Log-Likelihood:</td>    <td>-3607.4</td> \n",
       "</tr>\n",
       "<tr>\n",
       "       <td>Df Model:</td>              <td>2</td>           <td>F-statistic:</td>       <td>5.204</td>  \n",
       "</tr>\n",
       "<tr>\n",
       "     <td>Df Residuals:</td>           <td>500</td>       <td>Prob (F-statistic):</td>  <td>0.00579</td> \n",
       "</tr>\n",
       "<tr>\n",
       "      <td>R-squared:</td>            <td>0.020</td>            <td>Scale:</td>         <td>99871.</td>  \n",
       "</tr>\n",
       "</table>\n",
       "<table class=\"simpletable\">\n",
       "<tr>\n",
       "          <td></td>           <th>Coef.</th>  <th>Std.Err.</th>    <th>t</th>     <th>P>|t|</th> <th>[0.025</th>  <th>0.975]</th>\n",
       "</tr>\n",
       "<tr>\n",
       "  <th>const</th>             <td>0.0000</td>   <td>0.0000</td>  <td>2.7132</td>  <td>0.0069</td> <td>0.0000</td>  <td>0.0000</td>\n",
       "</tr>\n",
       "<tr>\n",
       "  <th>mktCap</th>            <td>0.0000</td>   <td>0.0000</td>  <td>9.9338</td>  <td>0.0000</td> <td>0.0000</td>  <td>0.0000</td>\n",
       "</tr>\n",
       "<tr>\n",
       "  <th>fullTimeEmployees</th> <td>0.0003</td>   <td>0.0001</td>  <td>2.7132</td>  <td>0.0069</td> <td>0.0001</td>  <td>0.0005</td>\n",
       "</tr>\n",
       "<tr>\n",
       "  <th>mktCap2</th>           <td>-0.0000</td>  <td>0.0000</td>  <td>-0.6656</td> <td>0.5060</td> <td>-0.0000</td> <td>0.0000</td>\n",
       "</tr>\n",
       "</table>\n",
       "<table class=\"simpletable\">\n",
       "<tr>\n",
       "     <td>Omnibus:</td>    <td>705.378</td>  <td>Durbin-Watson:</td>          <td>1.479</td>       \n",
       "</tr>\n",
       "<tr>\n",
       "  <td>Prob(Omnibus):</td>  <td>0.000</td>  <td>Jarque-Bera (JB):</td>     <td>211448.604</td>     \n",
       "</tr>\n",
       "<tr>\n",
       "       <td>Skew:</td>      <td>7.014</td>      <td>Prob(JB):</td>            <td>0.000</td>       \n",
       "</tr>\n",
       "<tr>\n",
       "     <td>Kurtosis:</td>   <td>102.460</td>  <td>Condition No.:</td>   <td>5963662502878911488</td>\n",
       "</tr>\n",
       "</table>"
      ],
      "text/plain": [
       "<class 'statsmodels.iolib.summary2.Summary'>\n",
       "\"\"\"\n",
       "                 Results: Ordinary least squares\n",
       "==================================================================\n",
       "Model:              OLS              Adj. R-squared:     0.016    \n",
       "Dependent Variable: price            AIC:                7220.7932\n",
       "Date:               2021-03-09 14:27 BIC:                7233.4550\n",
       "No. Observations:   503              Log-Likelihood:     -3607.4  \n",
       "Df Model:           2                F-statistic:        5.204    \n",
       "Df Residuals:       500              Prob (F-statistic): 0.00579  \n",
       "R-squared:          0.020            Scale:              99871.   \n",
       "------------------------------------------------------------------\n",
       "                     Coef.  Std.Err.    t    P>|t|   [0.025 0.975]\n",
       "------------------------------------------------------------------\n",
       "const                0.0000   0.0000  2.7132 0.0069  0.0000 0.0000\n",
       "mktCap               0.0000   0.0000  9.9338 0.0000  0.0000 0.0000\n",
       "fullTimeEmployees    0.0003   0.0001  2.7132 0.0069  0.0001 0.0005\n",
       "mktCap2             -0.0000   0.0000 -0.6656 0.5060 -0.0000 0.0000\n",
       "------------------------------------------------------------------\n",
       "Omnibus:         705.378   Durbin-Watson:      1.479              \n",
       "Prob(Omnibus):   0.000     Jarque-Bera (JB):   211448.604         \n",
       "Skew:            7.014     Prob(JB):           0.000              \n",
       "Kurtosis:        102.460   Condition No.:      5963662502878911488\n",
       "==================================================================\n",
       "* The condition number is large (6e+18). This might indicate\n",
       "strong multicollinearity or other numerical problems.\n",
       "\"\"\""
      ]
     },
     "execution_count": 402,
     "metadata": {},
     "output_type": "execute_result"
    }
   ],
   "source": [
    "#second order models\n",
    "sns.scatterplot('mktCap','price',data=stocks)\n",
    "plt.title('mktCap v. Price')\n",
    "plt.show()\n",
    "## pretend as if this would be a strong candidate for second order..\n",
    "#basic interaction models\n",
    "\n",
    "#def model\n",
    "targ = 'price'\n",
    "model = ['mktCap','fullTimeEmployees'] + [targ]\n",
    "\n",
    "#def data\n",
    "DATA = stocks[model].dropna(axis=0).drop(columns=[targ],axis=1)\n",
    "TARGET = stocks.loc[DATA.index,targ]\n",
    "\n",
    "#define second order term\n",
    "DATA['mktCap2'] = DATA['mktCap']**2\n",
    "\n",
    "#run and display\n",
    "ols = sm.OLS(TARGET,sm.add_constant(DATA))\n",
    "result = ols.fit()\n",
    "result.summary2()"
   ]
  },
  {
   "cell_type": "markdown",
   "id": "center-upset",
   "metadata": {},
   "source": [
    "quick notes – second order term not adding anything to model here. This is just a random example, so nothing expected "
   ]
  },
  {
   "cell_type": "code",
   "execution_count": 411,
   "id": "bottom-terror",
   "metadata": {},
   "outputs": [
    {
     "data": {
      "text/html": [
       "<table class=\"simpletable\">\n",
       "<tr>\n",
       "        <td>Model:</td>               <td>OLS</td>         <td>Adj. R-squared:</td>     <td>0.062</td>  \n",
       "</tr>\n",
       "<tr>\n",
       "  <td>Dependent Variable:</td>       <td>price</td>             <td>AIC:</td>         <td>7198.8070</td>\n",
       "</tr>\n",
       "<tr>\n",
       "         <td>Date:</td>        <td>2021-03-09 14:33</td>        <td>BIC:</td>         <td>7219.9099</td>\n",
       "</tr>\n",
       "<tr>\n",
       "   <td>No. Observations:</td>         <td>503</td>         <td>Log-Likelihood:</td>    <td>-3594.4</td> \n",
       "</tr>\n",
       "<tr>\n",
       "       <td>Df Model:</td>              <td>4</td>           <td>F-statistic:</td>       <td>9.330</td>  \n",
       "</tr>\n",
       "<tr>\n",
       "     <td>Df Residuals:</td>           <td>498</td>       <td>Prob (F-statistic):</td> <td>2.81e-07</td> \n",
       "</tr>\n",
       "<tr>\n",
       "      <td>R-squared:</td>            <td>0.070</td>            <td>Scale:</td>         <td>95223.</td>  \n",
       "</tr>\n",
       "</table>\n",
       "<table class=\"simpletable\">\n",
       "<tr>\n",
       "          <td></td>           <th>Coef.</th>  <th>Std.Err.</th>    <th>t</th>     <th>P>|t|</th> <th>[0.025</th>  <th>0.975]</th> \n",
       "</tr>\n",
       "<tr>\n",
       "  <th>const</th>             <td>0.0000</td>   <td>0.0000</td>  <td>3.3607</td>  <td>0.0008</td> <td>0.0000</td>  <td>0.0000</td> \n",
       "</tr>\n",
       "<tr>\n",
       "  <th>mktCap</th>            <td>0.0000</td>   <td>0.0000</td>  <td>5.2629</td>  <td>0.0000</td> <td>0.0000</td>  <td>0.0000</td> \n",
       "</tr>\n",
       "<tr>\n",
       "  <th>fullTimeEmployees</th> <td>0.0007</td>   <td>0.0002</td>  <td>3.3607</td>  <td>0.0008</td> <td>0.0003</td>  <td>0.0011</td> \n",
       "</tr>\n",
       "<tr>\n",
       "  <th>mCap * Employees</th>  <td>0.0000</td>   <td>0.0000</td>  <td>4.1352</td>  <td>0.0000</td> <td>0.0000</td>  <td>0.0000</td> \n",
       "</tr>\n",
       "<tr>\n",
       "  <th>mktCap2</th>           <td>-0.0000</td>  <td>0.0000</td>  <td>-0.6763</td> <td>0.4991</td> <td>-0.0000</td> <td>0.0000</td> \n",
       "</tr>\n",
       "<tr>\n",
       "  <th>Employees2</th>        <td>-0.0000</td>  <td>0.0000</td>  <td>-4.1270</td> <td>0.0000</td> <td>-0.0000</td> <td>-0.0000</td>\n",
       "</tr>\n",
       "</table>\n",
       "<table class=\"simpletable\">\n",
       "<tr>\n",
       "     <td>Omnibus:</td>    <td>744.848</td>  <td>Durbin-Watson:</td>          <td>1.503</td>       \n",
       "</tr>\n",
       "<tr>\n",
       "  <td>Prob(Omnibus):</td>  <td>0.000</td>  <td>Jarque-Bera (JB):</td>     <td>254190.538</td>     \n",
       "</tr>\n",
       "<tr>\n",
       "       <td>Skew:</td>      <td>7.772</td>      <td>Prob(JB):</td>            <td>0.000</td>       \n",
       "</tr>\n",
       "<tr>\n",
       "     <td>Kurtosis:</td>   <td>112.027</td>  <td>Condition No.:</td>   <td>6807685453146434560</td>\n",
       "</tr>\n",
       "</table>"
      ],
      "text/plain": [
       "<class 'statsmodels.iolib.summary2.Summary'>\n",
       "\"\"\"\n",
       "                 Results: Ordinary least squares\n",
       "==================================================================\n",
       "Model:              OLS              Adj. R-squared:     0.062    \n",
       "Dependent Variable: price            AIC:                7198.8070\n",
       "Date:               2021-03-09 14:33 BIC:                7219.9099\n",
       "No. Observations:   503              Log-Likelihood:     -3594.4  \n",
       "Df Model:           4                F-statistic:        9.330    \n",
       "Df Residuals:       498              Prob (F-statistic): 2.81e-07 \n",
       "R-squared:          0.070            Scale:              95223.   \n",
       "------------------------------------------------------------------\n",
       "                    Coef.  Std.Err.    t    P>|t|   [0.025  0.975]\n",
       "------------------------------------------------------------------\n",
       "const               0.0000   0.0000  3.3607 0.0008  0.0000  0.0000\n",
       "mktCap              0.0000   0.0000  5.2629 0.0000  0.0000  0.0000\n",
       "fullTimeEmployees   0.0007   0.0002  3.3607 0.0008  0.0003  0.0011\n",
       "mCap * Employees    0.0000   0.0000  4.1352 0.0000  0.0000  0.0000\n",
       "mktCap2            -0.0000   0.0000 -0.6763 0.4991 -0.0000  0.0000\n",
       "Employees2         -0.0000   0.0000 -4.1270 0.0000 -0.0000 -0.0000\n",
       "------------------------------------------------------------------\n",
       "Omnibus:         744.848   Durbin-Watson:      1.503              \n",
       "Prob(Omnibus):   0.000     Jarque-Bera (JB):   254190.538         \n",
       "Skew:            7.772     Prob(JB):           0.000              \n",
       "Kurtosis:        112.027   Condition No.:      6807685453146434560\n",
       "==================================================================\n",
       "* The condition number is large (7e+18). This might indicate\n",
       "strong multicollinearity or other numerical problems.\n",
       "\"\"\""
      ]
     },
     "execution_count": 411,
     "metadata": {},
     "output_type": "execute_result"
    }
   ],
   "source": [
    "#what would complete 2nd order model look like for this guy? let's make it\n",
    "\n",
    "#def model\n",
    "targ = 'price'\n",
    "model = ['mktCap','fullTimeEmployees'] + [targ]\n",
    "\n",
    "#def data\n",
    "DATA = stocks[model].dropna(axis=0).drop(columns=[targ],axis=1)\n",
    "TARGET = stocks.loc[DATA.index,targ]\n",
    "\n",
    "#create complete model#######\n",
    "\n",
    "#interaction\n",
    "DATA['mCap * Employees'] = DATA['mktCap'] * DATA['fullTimeEmployees']\n",
    "\n",
    "#second orders...\n",
    "DATA['mktCap2'] = DATA['mktCap']**2\n",
    "DATA['Employees2'] = DATA['fullTimeEmployees']**2\n",
    "#####\n",
    "\n",
    "#run and display\n",
    "ols = sm.OLS(TARGET,sm.add_constant(DATA))\n",
    "result = ols.fit()\n",
    "result.summary2()"
   ]
  },
  {
   "cell_type": "markdown",
   "id": "binary-testimony",
   "metadata": {},
   "source": [
    "quick notes – while still very low variance explanation in model, notable that the randomly added interaction term and one second order term turned out to be significant."
   ]
  },
  {
   "cell_type": "code",
   "execution_count": 420,
   "id": "thrown-brick",
   "metadata": {},
   "outputs": [
    {
     "data": {
      "text/html": [
       "<table class=\"simpletable\">\n",
       "<tr>\n",
       "        <td>Model:</td>               <td>OLS</td>         <td>Adj. R-squared:</td>     <td>0.032</td>  \n",
       "</tr>\n",
       "<tr>\n",
       "  <td>Dependent Variable:</td>       <td>price</td>             <td>AIC:</td>         <td>7234.4132</td>\n",
       "</tr>\n",
       "<tr>\n",
       "         <td>Date:</td>        <td>2021-03-09 14:41</td>        <td>BIC:</td>         <td>7280.8616</td>\n",
       "</tr>\n",
       "<tr>\n",
       "   <td>No. Observations:</td>         <td>504</td>         <td>Log-Likelihood:</td>    <td>-3606.2</td> \n",
       "</tr>\n",
       "<tr>\n",
       "       <td>Df Model:</td>             <td>10</td>           <td>F-statistic:</td>       <td>2.651</td>  \n",
       "</tr>\n",
       "<tr>\n",
       "     <td>Df Residuals:</td>           <td>493</td>       <td>Prob (F-statistic):</td>  <td>0.00370</td> \n",
       "</tr>\n",
       "<tr>\n",
       "      <td>R-squared:</td>            <td>0.051</td>            <td>Scale:</td>         <td>98178.</td>  \n",
       "</tr>\n",
       "</table>\n",
       "<table class=\"simpletable\">\n",
       "<tr>\n",
       "                <td></td>                  <th>Coef.</th>   <th>Std.Err.</th>    <th>t</th>     <th>P>|t|</th>  <th>[0.025</th>    <th>0.975]</th> \n",
       "</tr>\n",
       "<tr>\n",
       "  <th>const</th>                         <td>183.0318</td>   <td>36.9267</td> <td>4.9566</td>  <td>0.0000</td> <td>110.4788</td>  <td>255.5848</td>\n",
       "</tr>\n",
       "<tr>\n",
       "  <th>sector_Basic Materials</th>        <td>-37.9518</td>   <td>76.3295</td> <td>-0.4972</td> <td>0.6193</td> <td>-187.9231</td> <td>112.0195</td>\n",
       "</tr>\n",
       "<tr>\n",
       "  <th>sector_Communication Services</th>  <td>85.6486</td>   <td>72.7371</td> <td>1.1775</td>  <td>0.2396</td> <td>-57.2643</td>  <td>228.5615</td>\n",
       "</tr>\n",
       "<tr>\n",
       "  <th>sector_Consumer Cyclical</th>      <td>121.9947</td>   <td>53.6097</td> <td>2.2756</td>  <td>0.0233</td>  <td>16.6629</td>  <td>227.3264</td>\n",
       "</tr>\n",
       "<tr>\n",
       "  <th>sector_Consumer Defensive</th>     <td>-81.1136</td>   <td>65.2009</td> <td>-1.2441</td> <td>0.2141</td> <td>-209.2195</td>  <td>46.9923</td>\n",
       "</tr>\n",
       "<tr>\n",
       "  <th>sector_Energy</th>                 <td>-135.0686</td>  <td>76.3295</td> <td>-1.7695</td> <td>0.0774</td> <td>-285.0399</td>  <td>14.9027</td>\n",
       "</tr>\n",
       "<tr>\n",
       "  <th>sector_Financial Services</th>     <td>-50.5005</td>   <td>53.1876</td> <td>-0.9495</td> <td>0.3428</td> <td>-155.0027</td>  <td>54.0018</td>\n",
       "</tr>\n",
       "<tr>\n",
       "  <th>sector_Healthcare</th>              <td>34.3654</td>   <td>53.8294</td> <td>0.6384</td>  <td>0.5235</td> <td>-71.3979</td>  <td>140.1287</td>\n",
       "</tr>\n",
       "<tr>\n",
       "  <th>sector_Industrials</th>            <td>-35.8148</td>   <td>51.6973</td> <td>-0.6928</td> <td>0.4888</td> <td>-137.3891</td>  <td>65.7595</td>\n",
       "</tr>\n",
       "<tr>\n",
       "  <th>sector_Real Estate</th>            <td>-62.7135</td>   <td>68.0894</td> <td>-0.9210</td> <td>0.3575</td> <td>-196.4947</td>  <td>71.0677</td>\n",
       "</tr>\n",
       "<tr>\n",
       "  <th>sector_Utilities</th>              <td>-118.9829</td>  <td>69.7848</td> <td>-1.7050</td> <td>0.0888</td> <td>-256.0952</td>  <td>18.1295</td>\n",
       "</tr>\n",
       "</table>\n",
       "<table class=\"simpletable\">\n",
       "<tr>\n",
       "     <td>Omnibus:</td>    <td>739.229</td>  <td>Durbin-Watson:</td>      <td>1.905</td>  \n",
       "</tr>\n",
       "<tr>\n",
       "  <td>Prob(Omnibus):</td>  <td>0.000</td>  <td>Jarque-Bera (JB):</td> <td>157713.562</td>\n",
       "</tr>\n",
       "<tr>\n",
       "       <td>Skew:</td>      <td>7.873</td>      <td>Prob(JB):</td>        <td>0.000</td>  \n",
       "</tr>\n",
       "<tr>\n",
       "     <td>Kurtosis:</td>   <td>88.219</td>   <td>Condition No.:</td>       <td>10</td>    \n",
       "</tr>\n",
       "</table>"
      ],
      "text/plain": [
       "<class 'statsmodels.iolib.summary2.Summary'>\n",
       "\"\"\"\n",
       "                         Results: Ordinary least squares\n",
       "==================================================================================\n",
       "Model:                    OLS                   Adj. R-squared:          0.032    \n",
       "Dependent Variable:       price                 AIC:                     7234.4132\n",
       "Date:                     2021-03-09 14:41      BIC:                     7280.8616\n",
       "No. Observations:         504                   Log-Likelihood:          -3606.2  \n",
       "Df Model:                 10                    F-statistic:             2.651    \n",
       "Df Residuals:             493                   Prob (F-statistic):      0.00370  \n",
       "R-squared:                0.051                 Scale:                   98178.   \n",
       "----------------------------------------------------------------------------------\n",
       "                                Coef.   Std.Err.    t    P>|t|    [0.025   0.975] \n",
       "----------------------------------------------------------------------------------\n",
       "const                          183.0318  36.9267  4.9566 0.0000  110.4788 255.5848\n",
       "sector_Basic Materials         -37.9518  76.3295 -0.4972 0.6193 -187.9231 112.0195\n",
       "sector_Communication Services   85.6486  72.7371  1.1775 0.2396  -57.2643 228.5615\n",
       "sector_Consumer Cyclical       121.9947  53.6097  2.2756 0.0233   16.6629 227.3264\n",
       "sector_Consumer Defensive      -81.1136  65.2009 -1.2441 0.2141 -209.2195  46.9923\n",
       "sector_Energy                 -135.0686  76.3295 -1.7695 0.0774 -285.0399  14.9027\n",
       "sector_Financial Services      -50.5005  53.1876 -0.9495 0.3428 -155.0027  54.0018\n",
       "sector_Healthcare               34.3654  53.8294  0.6384 0.5235  -71.3979 140.1287\n",
       "sector_Industrials             -35.8148  51.6973 -0.6928 0.4888 -137.3891  65.7595\n",
       "sector_Real Estate             -62.7135  68.0894 -0.9210 0.3575 -196.4947  71.0677\n",
       "sector_Utilities              -118.9829  69.7848 -1.7050 0.0888 -256.0952  18.1295\n",
       "----------------------------------------------------------------------------------\n",
       "Omnibus:                  739.229           Durbin-Watson:              1.905     \n",
       "Prob(Omnibus):            0.000             Jarque-Bera (JB):           157713.562\n",
       "Skew:                     7.873             Prob(JB):                   0.000     \n",
       "Kurtosis:                 88.219            Condition No.:              10        \n",
       "==================================================================================\n",
       "\n",
       "\"\"\""
      ]
     },
     "execution_count": 420,
     "metadata": {},
     "output_type": "execute_result"
    }
   ],
   "source": [
    "#qualitative variable addition.. let's do sector and use energy as reference variable\n",
    "\n",
    "#def model\n",
    "targ = 'price'\n",
    "model = ['sector'] + [targ]\n",
    "\n",
    "#def data\n",
    "DATA = stocks[model].dropna(axis=0).drop(columns=[targ],axis=1)\n",
    "\n",
    "###Create dummies and drop###\n",
    "reference_col = 'Technology'\n",
    "DATA = pd.get_dummies(DATA).drop(columns=['sector_'+reference_col])\n",
    "\n",
    "TARGET = stocks.loc[DATA.index,targ]\n",
    "\n",
    "#run and display\n",
    "ols = sm.OLS(TARGET,sm.add_constant(DATA))\n",
    "result = ols.fit()\n",
    "result.summary2()"
   ]
  },
  {
   "cell_type": "markdown",
   "id": "stupid-request",
   "metadata": {},
   "source": [
    "quick notes – low r2, significant ftest (@ least 1 beta != 0)  \n",
    "    ---can say that avg. price for consumer cyclical > that of technology.....can't say whether others are significantly different based on t-tests!"
   ]
  },
  {
   "cell_type": "code",
   "execution_count": 424,
   "id": "alleged-malta",
   "metadata": {},
   "outputs": [
    {
     "data": {
      "text/html": [
       "<div>\n",
       "<style scoped>\n",
       "    .dataframe tbody tr th:only-of-type {\n",
       "        vertical-align: middle;\n",
       "    }\n",
       "\n",
       "    .dataframe tbody tr th {\n",
       "        vertical-align: top;\n",
       "    }\n",
       "\n",
       "    .dataframe thead th {\n",
       "        text-align: right;\n",
       "    }\n",
       "</style>\n",
       "<table border=\"1\" class=\"dataframe\">\n",
       "  <thead>\n",
       "    <tr style=\"text-align: right;\">\n",
       "      <th></th>\n",
       "      <th>count</th>\n",
       "      <th>mean</th>\n",
       "      <th>std</th>\n",
       "      <th>min</th>\n",
       "      <th>25%</th>\n",
       "      <th>50%</th>\n",
       "      <th>75%</th>\n",
       "      <th>max</th>\n",
       "    </tr>\n",
       "    <tr>\n",
       "      <th>sector</th>\n",
       "      <th></th>\n",
       "      <th></th>\n",
       "      <th></th>\n",
       "      <th></th>\n",
       "      <th></th>\n",
       "      <th></th>\n",
       "      <th></th>\n",
       "      <th></th>\n",
       "    </tr>\n",
       "  </thead>\n",
       "  <tbody>\n",
       "    <tr>\n",
       "      <th>Basic Materials</th>\n",
       "      <td>22.00</td>\n",
       "      <td>145.08</td>\n",
       "      <td>145.66</td>\n",
       "      <td>19.73</td>\n",
       "      <td>55.53</td>\n",
       "      <td>106.18</td>\n",
       "      <td>164.86</td>\n",
       "      <td>680.68</td>\n",
       "    </tr>\n",
       "    <tr>\n",
       "      <th>Communication Services</th>\n",
       "      <td>25.00</td>\n",
       "      <td>268.68</td>\n",
       "      <td>550.75</td>\n",
       "      <td>12.29</td>\n",
       "      <td>31.93</td>\n",
       "      <td>64.49</td>\n",
       "      <td>133.97</td>\n",
       "      <td>2036.86</td>\n",
       "    </tr>\n",
       "    <tr>\n",
       "      <th>Consumer Cyclical</th>\n",
       "      <td>65.00</td>\n",
       "      <td>305.03</td>\n",
       "      <td>732.08</td>\n",
       "      <td>10.92</td>\n",
       "      <td>45.11</td>\n",
       "      <td>103.53</td>\n",
       "      <td>161.00</td>\n",
       "      <td>4500.84</td>\n",
       "    </tr>\n",
       "    <tr>\n",
       "      <th>Consumer Defensive</th>\n",
       "      <td>34.00</td>\n",
       "      <td>101.92</td>\n",
       "      <td>72.37</td>\n",
       "      <td>23.17</td>\n",
       "      <td>50.02</td>\n",
       "      <td>79.64</td>\n",
       "      <td>128.97</td>\n",
       "      <td>331.00</td>\n",
       "    </tr>\n",
       "    <tr>\n",
       "      <th>Energy</th>\n",
       "      <td>22.00</td>\n",
       "      <td>47.96</td>\n",
       "      <td>33.81</td>\n",
       "      <td>11.12</td>\n",
       "      <td>22.05</td>\n",
       "      <td>41.02</td>\n",
       "      <td>65.31</td>\n",
       "      <td>148.57</td>\n",
       "    </tr>\n",
       "    <tr>\n",
       "      <th>Financial Services</th>\n",
       "      <td>67.00</td>\n",
       "      <td>132.53</td>\n",
       "      <td>131.51</td>\n",
       "      <td>15.34</td>\n",
       "      <td>48.92</td>\n",
       "      <td>93.95</td>\n",
       "      <td>162.32</td>\n",
       "      <td>695.12</td>\n",
       "    </tr>\n",
       "    <tr>\n",
       "      <th>Healthcare</th>\n",
       "      <td>64.00</td>\n",
       "      <td>217.40</td>\n",
       "      <td>192.95</td>\n",
       "      <td>14.85</td>\n",
       "      <td>78.39</td>\n",
       "      <td>166.29</td>\n",
       "      <td>275.57</td>\n",
       "      <td>1118.88</td>\n",
       "    </tr>\n",
       "    <tr>\n",
       "      <th>Industrials</th>\n",
       "      <td>75.00</td>\n",
       "      <td>147.22</td>\n",
       "      <td>105.91</td>\n",
       "      <td>0.00</td>\n",
       "      <td>64.34</td>\n",
       "      <td>117.80</td>\n",
       "      <td>202.59</td>\n",
       "      <td>577.73</td>\n",
       "    </tr>\n",
       "    <tr>\n",
       "      <th>Real Estate</th>\n",
       "      <td>30.00</td>\n",
       "      <td>120.32</td>\n",
       "      <td>121.89</td>\n",
       "      <td>16.59</td>\n",
       "      <td>45.39</td>\n",
       "      <td>87.42</td>\n",
       "      <td>150.58</td>\n",
       "      <td>648.34</td>\n",
       "    </tr>\n",
       "    <tr>\n",
       "      <th>Technology</th>\n",
       "      <td>72.00</td>\n",
       "      <td>183.03</td>\n",
       "      <td>140.80</td>\n",
       "      <td>14.56</td>\n",
       "      <td>81.92</td>\n",
       "      <td>141.31</td>\n",
       "      <td>235.59</td>\n",
       "      <td>567.19</td>\n",
       "    </tr>\n",
       "    <tr>\n",
       "      <th>Utilities</th>\n",
       "      <td>28.00</td>\n",
       "      <td>64.05</td>\n",
       "      <td>29.58</td>\n",
       "      <td>19.39</td>\n",
       "      <td>44.27</td>\n",
       "      <td>62.12</td>\n",
       "      <td>79.65</td>\n",
       "      <td>141.63</td>\n",
       "    </tr>\n",
       "  </tbody>\n",
       "</table>\n",
       "</div>"
      ],
      "text/plain": [
       "                        count   mean    std   min   25%    50%    75%     max\n",
       "sector                                                                       \n",
       "Basic Materials         22.00 145.08 145.66 19.73 55.53 106.18 164.86  680.68\n",
       "Communication Services  25.00 268.68 550.75 12.29 31.93  64.49 133.97 2036.86\n",
       "Consumer Cyclical       65.00 305.03 732.08 10.92 45.11 103.53 161.00 4500.84\n",
       "Consumer Defensive      34.00 101.92  72.37 23.17 50.02  79.64 128.97  331.00\n",
       "Energy                  22.00  47.96  33.81 11.12 22.05  41.02  65.31  148.57\n",
       "Financial Services      67.00 132.53 131.51 15.34 48.92  93.95 162.32  695.12\n",
       "Healthcare              64.00 217.40 192.95 14.85 78.39 166.29 275.57 1118.88\n",
       "Industrials             75.00 147.22 105.91  0.00 64.34 117.80 202.59  577.73\n",
       "Real Estate             30.00 120.32 121.89 16.59 45.39  87.42 150.58  648.34\n",
       "Technology              72.00 183.03 140.80 14.56 81.92 141.31 235.59  567.19\n",
       "Utilities               28.00  64.05  29.58 19.39 44.27  62.12  79.65  141.63"
      ]
     },
     "execution_count": 424,
     "metadata": {},
     "output_type": "execute_result"
    }
   ],
   "source": [
    "#demonstrate difference in price b/t sectors for example\n",
    "stocks.groupby('sector')['price'].describe()"
   ]
  },
  {
   "cell_type": "markdown",
   "id": "current-buddy",
   "metadata": {},
   "source": [
    "quick notes – sure enough, this backs up the model.  \n",
    "--we can see diff(avgs) b/t sectors here are consistent b/t model and data.  \n",
    "very long and impractical equation below further confirms!"
   ]
  },
  {
   "cell_type": "code",
   "execution_count": 435,
   "id": "worse-success",
   "metadata": {},
   "outputs": [
    {
     "data": {
      "text/plain": [
       "True"
      ]
     },
     "execution_count": 435,
     "metadata": {},
     "output_type": "execute_result"
    }
   ],
   "source": [
    "round(stocks.groupby('sector')['price'].describe().loc['Consumer Cyclical','mean'] - stocks.groupby('sector')['price'].describe().loc['Technology','mean'],2) == round(result.params['sector_Consumer Cyclical'],2)"
   ]
  },
  {
   "cell_type": "markdown",
   "id": "requested-configuration",
   "metadata": {},
   "source": [
    "## L4.1  <a id='L4'></a> "
   ]
  },
  {
   "cell_type": "code",
   "execution_count": null,
   "id": "proud-killing",
   "metadata": {},
   "outputs": [],
   "source": []
  }
 ],
 "metadata": {
  "kernelspec": {
   "display_name": "Python 3",
   "language": "python",
   "name": "python3"
  },
  "language_info": {
   "codemirror_mode": {
    "name": "ipython",
    "version": 3
   },
   "file_extension": ".py",
   "mimetype": "text/x-python",
   "name": "python",
   "nbconvert_exporter": "python",
   "pygments_lexer": "ipython3",
   "version": "3.7.6"
  }
 },
 "nbformat": 4,
 "nbformat_minor": 5
}
