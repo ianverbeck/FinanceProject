{
 "cells": [
  {
   "cell_type": "markdown",
   "id": "regulation-sydney",
   "metadata": {},
   "source": [
    "# Quick Data Science Concept Review\n",
    "coding up a couple quick concepts while I do review to make it more interresting"
   ]
  },
  {
   "cell_type": "code",
   "execution_count": 1,
   "id": "fourth-candidate",
   "metadata": {},
   "outputs": [],
   "source": [
    "#database\n",
    "import sqlite3\n",
    "import rpy2\n",
    "\n",
    "#structures and linalg\n",
    "import pandas as pd\n",
    "pd.set_option('display.float_format', lambda x: '%.2f' % x)\n",
    "pd.set_option('max_columns',None)\n",
    "import numpy as np\n",
    "\n",
    "#stats\n",
    "import statsmodels.api as sm\n",
    "import scipy\n",
    "\n",
    "#other\n",
    "import sys\n",
    "import seaborn as sns\n",
    "sns.set_style('darkgrid')\n",
    "import matplotlib.pyplot as plt\n",
    "\n",
    "#dont need api stuff\n",
    "sys.path.insert(1, '/Users/verbeck/Desktop/Finance/Technology/Project/Setup/Resources')\n",
    "from generalHelpers import getAllTables, getTableNames, getTable, displayM\n",
    "\n",
    "%config Completer.use_jedi = False ###autocorrection issue with jupterlab – removing package pulls dependencies with it.. quick fix for now"
   ]
  },
  {
   "cell_type": "code",
   "execution_count": 2,
   "id": "loose-aspect",
   "metadata": {},
   "outputs": [],
   "source": [
    "import math"
   ]
  },
  {
   "cell_type": "code",
   "execution_count": null,
   "id": "abstract-mercy",
   "metadata": {},
   "outputs": [],
   "source": []
  },
  {
   "cell_type": "markdown",
   "id": "desirable-photography",
   "metadata": {},
   "source": [
    "## Table of Contents\n",
    "[L2](#L2), [L3](#l3), [L4](#L4)"
   ]
  },
  {
   "cell_type": "code",
   "execution_count": 3,
   "id": "finnish-forty",
   "metadata": {},
   "outputs": [],
   "source": [
    "#retrieve tablenames to decide on data to use\n",
    "table_names = getTableNames('../../FinancesSp500.db')\n",
    "table_names.T\n",
    "profiles = getTable('../../FinancesSp500.db','CV_PROFILE')"
   ]
  },
  {
   "cell_type": "code",
   "execution_count": 4,
   "id": "brown-median",
   "metadata": {},
   "outputs": [
    {
     "data": {
      "text/html": [
       "<div>\n",
       "<style scoped>\n",
       "    .dataframe tbody tr th:only-of-type {\n",
       "        vertical-align: middle;\n",
       "    }\n",
       "\n",
       "    .dataframe tbody tr th {\n",
       "        vertical-align: top;\n",
       "    }\n",
       "\n",
       "    .dataframe thead th {\n",
       "        text-align: right;\n",
       "    }\n",
       "</style>\n",
       "<table border=\"1\" class=\"dataframe\">\n",
       "  <thead>\n",
       "    <tr style=\"text-align: right;\">\n",
       "      <th></th>\n",
       "      <th>symbol</th>\n",
       "      <th>price</th>\n",
       "      <th>beta</th>\n",
       "      <th>volAvg</th>\n",
       "      <th>mktCap</th>\n",
       "      <th>lastDiv</th>\n",
       "      <th>range</th>\n",
       "      <th>changes</th>\n",
       "      <th>companyName</th>\n",
       "      <th>currency</th>\n",
       "      <th>cik</th>\n",
       "      <th>isin</th>\n",
       "      <th>cusip</th>\n",
       "      <th>exchange</th>\n",
       "      <th>exchangeShortName</th>\n",
       "      <th>industry</th>\n",
       "      <th>website</th>\n",
       "      <th>description</th>\n",
       "      <th>ceo</th>\n",
       "      <th>sector</th>\n",
       "      <th>country</th>\n",
       "      <th>fullTimeEmployees</th>\n",
       "      <th>phone</th>\n",
       "      <th>address</th>\n",
       "      <th>city</th>\n",
       "      <th>state</th>\n",
       "      <th>zip</th>\n",
       "      <th>dcfDiff</th>\n",
       "      <th>dcf</th>\n",
       "      <th>image</th>\n",
       "      <th>ipoDate</th>\n",
       "      <th>defaultImage</th>\n",
       "      <th>isEtf</th>\n",
       "      <th>isActivelyTrading</th>\n",
       "    </tr>\n",
       "  </thead>\n",
       "  <tbody>\n",
       "    <tr>\n",
       "      <th>0</th>\n",
       "      <td>SPY</td>\n",
       "      <td>380.01</td>\n",
       "      <td>0.00</td>\n",
       "      <td>67815601.00</td>\n",
       "      <td>348766339000</td>\n",
       "      <td>5.69</td>\n",
       "      <td>218.26-394.17</td>\n",
       "      <td>-2.32</td>\n",
       "      <td>SPDR S&amp;P 500</td>\n",
       "      <td>USD</td>\n",
       "      <td>884394.00</td>\n",
       "      <td>US78462F1030</td>\n",
       "      <td>78462F103</td>\n",
       "      <td>NYSE Arca</td>\n",
       "      <td>NYSE</td>\n",
       "      <td></td>\n",
       "      <td></td>\n",
       "      <td>The investment seeks to provide investment res...</td>\n",
       "      <td>None</td>\n",
       "      <td></td>\n",
       "      <td>US</td>\n",
       "      <td></td>\n",
       "      <td>866-732-8673</td>\n",
       "      <td>None</td>\n",
       "      <td>None</td>\n",
       "      <td>None</td>\n",
       "      <td>None</td>\n",
       "      <td>NaN</td>\n",
       "      <td>0.00</td>\n",
       "      <td>https://financialmodelingprep.com/image-stock/...</td>\n",
       "      <td>1993-01-22</td>\n",
       "      <td>0</td>\n",
       "      <td>1</td>\n",
       "      <td>1</td>\n",
       "    </tr>\n",
       "    <tr>\n",
       "      <th>1</th>\n",
       "      <td>CMCSA</td>\n",
       "      <td>52.72</td>\n",
       "      <td>0.91</td>\n",
       "      <td>17309455.00</td>\n",
       "      <td>241492410000</td>\n",
       "      <td>0.92</td>\n",
       "      <td>31.71-53.6</td>\n",
       "      <td>0.48</td>\n",
       "      <td>Comcast Corp</td>\n",
       "      <td>USD</td>\n",
       "      <td>1166691.00</td>\n",
       "      <td>US20030N1019</td>\n",
       "      <td>20030N101</td>\n",
       "      <td>Nasdaq Global Select</td>\n",
       "      <td>NASDAQ</td>\n",
       "      <td>Entertainment</td>\n",
       "      <td>https://corporate.comcast.com/</td>\n",
       "      <td>Comcast Corporation operates as a media and te...</td>\n",
       "      <td>Mr. Brian Roberts</td>\n",
       "      <td>Communication Services</td>\n",
       "      <td>US</td>\n",
       "      <td>190000</td>\n",
       "      <td>12152861700</td>\n",
       "      <td>1 Comcast Ctr</td>\n",
       "      <td>Philadelphia</td>\n",
       "      <td>PENNSYLVANIA</td>\n",
       "      <td>19103</td>\n",
       "      <td>89.99</td>\n",
       "      <td>45.71</td>\n",
       "      <td>https://financialmodelingprep.com/image-stock/...</td>\n",
       "      <td>2001-12-07</td>\n",
       "      <td>0</td>\n",
       "      <td>0</td>\n",
       "      <td>1</td>\n",
       "    </tr>\n",
       "  </tbody>\n",
       "</table>\n",
       "</div>"
      ],
      "text/plain": [
       "  symbol  price  beta      volAvg        mktCap  lastDiv          range  \\\n",
       "0    SPY 380.01  0.00 67815601.00  348766339000     5.69  218.26-394.17   \n",
       "1  CMCSA  52.72  0.91 17309455.00  241492410000     0.92     31.71-53.6   \n",
       "\n",
       "   changes   companyName currency        cik          isin      cusip  \\\n",
       "0    -2.32  SPDR S&P 500      USD  884394.00  US78462F1030  78462F103   \n",
       "1     0.48  Comcast Corp      USD 1166691.00  US20030N1019  20030N101   \n",
       "\n",
       "               exchange exchangeShortName       industry  \\\n",
       "0             NYSE Arca              NYSE                  \n",
       "1  Nasdaq Global Select            NASDAQ  Entertainment   \n",
       "\n",
       "                          website  \\\n",
       "0                                   \n",
       "1  https://corporate.comcast.com/   \n",
       "\n",
       "                                         description                ceo  \\\n",
       "0  The investment seeks to provide investment res...               None   \n",
       "1  Comcast Corporation operates as a media and te...  Mr. Brian Roberts   \n",
       "\n",
       "                   sector country fullTimeEmployees         phone  \\\n",
       "0                              US                    866-732-8673   \n",
       "1  Communication Services      US            190000   12152861700   \n",
       "\n",
       "         address          city         state    zip  dcfDiff   dcf  \\\n",
       "0           None          None          None   None      NaN  0.00   \n",
       "1  1 Comcast Ctr  Philadelphia  PENNSYLVANIA  19103    89.99 45.71   \n",
       "\n",
       "                                               image     ipoDate  \\\n",
       "0  https://financialmodelingprep.com/image-stock/...  1993-01-22   \n",
       "1  https://financialmodelingprep.com/image-stock/...  2001-12-07   \n",
       "\n",
       "   defaultImage  isEtf  isActivelyTrading  \n",
       "0             0      1                  1  \n",
       "1             0      0                  1  "
      ]
     },
     "metadata": {},
     "output_type": "display_data"
    },
    {
     "name": "stdout",
     "output_type": "stream",
     "text": [
      "<class 'pandas.core.frame.DataFrame'>\n",
      "RangeIndex: 620 entries, 0 to 619\n",
      "Data columns (total 34 columns):\n",
      " #   Column             Non-Null Count  Dtype  \n",
      "---  ------             --------------  -----  \n",
      " 0   symbol             620 non-null    object \n",
      " 1   price              620 non-null    float64\n",
      " 2   beta               620 non-null    float64\n",
      " 3   volAvg             619 non-null    float64\n",
      " 4   mktCap             620 non-null    int64  \n",
      " 5   lastDiv            620 non-null    float64\n",
      " 6   range              620 non-null    object \n",
      " 7   changes            620 non-null    float64\n",
      " 8   companyName        620 non-null    object \n",
      " 9   currency           620 non-null    object \n",
      " 10  cik                509 non-null    float64\n",
      " 11  isin               508 non-null    object \n",
      " 12  cusip              506 non-null    object \n",
      " 13  exchange           619 non-null    object \n",
      " 14  exchangeShortName  620 non-null    object \n",
      " 15  industry           615 non-null    object \n",
      " 16  website            615 non-null    object \n",
      " 17  description        609 non-null    object \n",
      " 18  ceo                617 non-null    object \n",
      " 19  sector             618 non-null    object \n",
      " 20  country            620 non-null    object \n",
      " 21  fullTimeEmployees  531 non-null    object \n",
      " 22  phone              618 non-null    object \n",
      " 23  address            615 non-null    object \n",
      " 24  city               553 non-null    object \n",
      " 25  state              553 non-null    object \n",
      " 26  zip                491 non-null    object \n",
      " 27  dcfDiff            318 non-null    float64\n",
      " 28  dcf                552 non-null    float64\n",
      " 29  image              620 non-null    object \n",
      " 30  ipoDate            556 non-null    object \n",
      " 31  defaultImage       620 non-null    int64  \n",
      " 32  isEtf              620 non-null    int64  \n",
      " 33  isActivelyTrading  620 non-null    int64  \n",
      "dtypes: float64(8), int64(4), object(22)\n",
      "memory usage: 164.8+ KB\n"
     ]
    }
   ],
   "source": [
    "#check out dtypes, structure of data\n",
    "display(profiles.head(2))\n",
    "profiles.info()"
   ]
  },
  {
   "cell_type": "code",
   "execution_count": 5,
   "id": "derived-money",
   "metadata": {},
   "outputs": [],
   "source": [
    "#another way of distinguishing w/out copying or pointing\n",
    "etf = (profiles.isEtf == True)\n",
    "mf = (profiles.exchangeShortName =='MUTUAL_FUND')\n",
    "stocks = (~( etf | mf ))"
   ]
  },
  {
   "cell_type": "markdown",
   "id": "living-study",
   "metadata": {},
   "source": [
    "<a id='L2'></a> \n",
    "## L2"
   ]
  },
  {
   "cell_type": "code",
   "execution_count": 6,
   "id": "robust-thompson",
   "metadata": {},
   "outputs": [
    {
     "data": {
      "text/plain": [
       "symbol                object\n",
       "price                float64\n",
       "beta                 float64\n",
       "volAvg               float64\n",
       "mktCap                 int64\n",
       "lastDiv              float64\n",
       "range                 object\n",
       "changes              float64\n",
       "companyName           object\n",
       "currency              object\n",
       "cik                  float64\n",
       "isin                  object\n",
       "cusip                 object\n",
       "exchange              object\n",
       "exchangeShortName     object\n",
       "industry              object\n",
       "website               object\n",
       "description           object\n",
       "ceo                   object\n",
       "sector                object\n",
       "country               object\n",
       "fullTimeEmployees     object\n",
       "phone                 object\n",
       "address               object\n",
       "city                  object\n",
       "state                 object\n",
       "zip                   object\n",
       "dcfDiff              float64\n",
       "dcf                  float64\n",
       "image                 object\n",
       "ipoDate               object\n",
       "defaultImage           int64\n",
       "isEtf                  int64\n",
       "isActivelyTrading      int64\n",
       "dtype: object"
      ]
     },
     "execution_count": 6,
     "metadata": {},
     "output_type": "execute_result"
    }
   ],
   "source": [
    "#Data cleaning......check out dtypes for automation insights\n",
    "profiles.dtypes"
   ]
  },
  {
   "cell_type": "code",
   "execution_count": 7,
   "id": "toxic-british",
   "metadata": {},
   "outputs": [
    {
     "name": "stdout",
     "output_type": "stream",
     "text": [
      "Total Null For Stocks Profiles: 217\n"
     ]
    },
    {
     "data": {
      "image/png": "[encoded data removed]",
      "text/plain": [
       "<Figure size 1440x360 with 2 Axes>"
      ]
     },
     "metadata": {},
     "output_type": "display_data"
    }
   ],
   "source": [
    "#check Missing Data for profiles\n",
    "fig,axes = plt.subplots(1,2,figsize=(20,5))\n",
    "print('Total Null For Stocks Profiles:',profiles[stocks].isnull().sum().sum())\n",
    "ax1 = profiles[stocks].isnull().sum(axis=1).plot(kind='hist',bins = 20,ax=axes[0])\n",
    "ax1.set_title('Null Distribution by Column')\n",
    "ax1.set_xlabel('# NA Attributes')\n",
    "ax2 = profiles[stocks].isnull().sum().plot(kind='bar',ax=axes[1])\n",
    "for p in ax2.patches: #https://stackoverflow.com/questions/25447700/annotate-bars-with-values-on-pandas-bar-plots\n",
    "    ax2.annotate(str(p.get_height()), (p.get_x() * 1.005, p.get_height() * 1.005))\n",
    "ax2.set_title('Sum NA by Columns')\n",
    "plt.show()"
   ]
  },
  {
   "cell_type": "code",
   "execution_count": 8,
   "id": "attached-cedar",
   "metadata": {},
   "outputs": [],
   "source": [
    "import warnings ##Not useful for this file's purposes, except to get in the way\n",
    "warnings.filterwarnings(\"ignore\")"
   ]
  },
  {
   "cell_type": "code",
   "execution_count": 9,
   "id": "german-riding",
   "metadata": {},
   "outputs": [],
   "source": [
    "#global constant example\n",
    "ZIP_FILL = '000000'\n",
    "zip_fill_index = profiles[stocks][profiles[stocks].zip.isnull()].index\n",
    "profiles[stocks].loc[zip_fill_index,'zip'] = ZIP_FILL\n",
    "##ignore pandas warning, only for example"
   ]
  },
  {
   "cell_type": "code",
   "execution_count": 10,
   "id": "covered-button",
   "metadata": {},
   "outputs": [],
   "source": [
    "#check missing data for prices \n",
    "prices = getTable('../../FinancesSp500.db','TS_PRICE_DAY')"
   ]
  },
  {
   "cell_type": "code",
   "execution_count": 11,
   "id": "attempted-destruction",
   "metadata": {},
   "outputs": [
    {
     "data": {
      "text/plain": [
       "date                 0\n",
       "open                 0\n",
       "high                 0\n",
       "low                  0\n",
       "close                0\n",
       "adjClose             0\n",
       "volume              11\n",
       "unadjustedVolume    11\n",
       "change               0\n",
       "changePercent        0\n",
       "vwap                11\n",
       "label                0\n",
       "changeOverTime       0\n",
       "symbol               0\n",
       "dtype: int64"
      ]
     },
     "execution_count": 11,
     "metadata": {},
     "output_type": "execute_result"
    }
   ],
   "source": [
    "prices.isnull().sum()"
   ]
  },
  {
   "cell_type": "code",
   "execution_count": 12,
   "id": "derived-inquiry",
   "metadata": {},
   "outputs": [
    {
     "data": {
      "text/html": [
       "<div>\n",
       "<style scoped>\n",
       "    .dataframe tbody tr th:only-of-type {\n",
       "        vertical-align: middle;\n",
       "    }\n",
       "\n",
       "    .dataframe tbody tr th {\n",
       "        vertical-align: top;\n",
       "    }\n",
       "\n",
       "    .dataframe thead th {\n",
       "        text-align: right;\n",
       "    }\n",
       "</style>\n",
       "<table border=\"1\" class=\"dataframe\">\n",
       "  <thead>\n",
       "    <tr style=\"text-align: right;\">\n",
       "      <th></th>\n",
       "      <th>date</th>\n",
       "      <th>open</th>\n",
       "      <th>high</th>\n",
       "      <th>low</th>\n",
       "      <th>close</th>\n",
       "      <th>adjClose</th>\n",
       "      <th>volume</th>\n",
       "      <th>unadjustedVolume</th>\n",
       "      <th>change</th>\n",
       "      <th>changePercent</th>\n",
       "      <th>vwap</th>\n",
       "      <th>label</th>\n",
       "      <th>changeOverTime</th>\n",
       "      <th>symbol</th>\n",
       "    </tr>\n",
       "  </thead>\n",
       "  <tbody>\n",
       "    <tr>\n",
       "      <th>4056124</th>\n",
       "      <td>2012-11-13</td>\n",
       "      <td>46.88</td>\n",
       "      <td>46.88</td>\n",
       "      <td>46.88</td>\n",
       "      <td>46.88</td>\n",
       "      <td>38.32</td>\n",
       "      <td>NaN</td>\n",
       "      <td>NaN</td>\n",
       "      <td>0.00</td>\n",
       "      <td>0.00</td>\n",
       "      <td>NaN</td>\n",
       "      <td>November 13, 12</td>\n",
       "      <td>0.00</td>\n",
       "      <td>IEFA</td>\n",
       "    </tr>\n",
       "    <tr>\n",
       "      <th>4056135</th>\n",
       "      <td>2012-10-25</td>\n",
       "      <td>47.54</td>\n",
       "      <td>47.54</td>\n",
       "      <td>47.54</td>\n",
       "      <td>47.54</td>\n",
       "      <td>38.85</td>\n",
       "      <td>NaN</td>\n",
       "      <td>NaN</td>\n",
       "      <td>0.00</td>\n",
       "      <td>0.00</td>\n",
       "      <td>NaN</td>\n",
       "      <td>October 25, 12</td>\n",
       "      <td>0.00</td>\n",
       "      <td>IEFA</td>\n",
       "    </tr>\n",
       "    <tr>\n",
       "      <th>4087050</th>\n",
       "      <td>2012-03-13</td>\n",
       "      <td>24.89</td>\n",
       "      <td>24.89</td>\n",
       "      <td>24.89</td>\n",
       "      <td>24.89</td>\n",
       "      <td>22.35</td>\n",
       "      <td>NaN</td>\n",
       "      <td>NaN</td>\n",
       "      <td>0.00</td>\n",
       "      <td>0.00</td>\n",
       "      <td>NaN</td>\n",
       "      <td>March 13, 12</td>\n",
       "      <td>0.00</td>\n",
       "      <td>GOVT</td>\n",
       "    </tr>\n",
       "    <tr>\n",
       "      <th>4087051</th>\n",
       "      <td>2012-03-12</td>\n",
       "      <td>24.89</td>\n",
       "      <td>24.89</td>\n",
       "      <td>24.89</td>\n",
       "      <td>24.89</td>\n",
       "      <td>22.35</td>\n",
       "      <td>NaN</td>\n",
       "      <td>NaN</td>\n",
       "      <td>0.00</td>\n",
       "      <td>0.00</td>\n",
       "      <td>NaN</td>\n",
       "      <td>March 12, 12</td>\n",
       "      <td>0.00</td>\n",
       "      <td>GOVT</td>\n",
       "    </tr>\n",
       "    <tr>\n",
       "      <th>4087055</th>\n",
       "      <td>2012-03-06</td>\n",
       "      <td>24.82</td>\n",
       "      <td>24.82</td>\n",
       "      <td>24.82</td>\n",
       "      <td>24.82</td>\n",
       "      <td>22.29</td>\n",
       "      <td>NaN</td>\n",
       "      <td>NaN</td>\n",
       "      <td>0.00</td>\n",
       "      <td>0.00</td>\n",
       "      <td>NaN</td>\n",
       "      <td>March 06, 12</td>\n",
       "      <td>0.00</td>\n",
       "      <td>GOVT</td>\n",
       "    </tr>\n",
       "    <tr>\n",
       "      <th>4087056</th>\n",
       "      <td>2012-03-05</td>\n",
       "      <td>24.82</td>\n",
       "      <td>24.82</td>\n",
       "      <td>24.82</td>\n",
       "      <td>24.82</td>\n",
       "      <td>22.29</td>\n",
       "      <td>NaN</td>\n",
       "      <td>NaN</td>\n",
       "      <td>0.00</td>\n",
       "      <td>0.00</td>\n",
       "      <td>NaN</td>\n",
       "      <td>March 05, 12</td>\n",
       "      <td>0.00</td>\n",
       "      <td>GOVT</td>\n",
       "    </tr>\n",
       "    <tr>\n",
       "      <th>4087057</th>\n",
       "      <td>2012-03-02</td>\n",
       "      <td>24.82</td>\n",
       "      <td>24.82</td>\n",
       "      <td>24.82</td>\n",
       "      <td>24.82</td>\n",
       "      <td>22.29</td>\n",
       "      <td>NaN</td>\n",
       "      <td>NaN</td>\n",
       "      <td>0.00</td>\n",
       "      <td>0.00</td>\n",
       "      <td>NaN</td>\n",
       "      <td>March 02, 12</td>\n",
       "      <td>0.00</td>\n",
       "      <td>GOVT</td>\n",
       "    </tr>\n",
       "    <tr>\n",
       "      <th>4087058</th>\n",
       "      <td>2012-03-01</td>\n",
       "      <td>24.82</td>\n",
       "      <td>24.82</td>\n",
       "      <td>24.82</td>\n",
       "      <td>24.82</td>\n",
       "      <td>22.29</td>\n",
       "      <td>NaN</td>\n",
       "      <td>NaN</td>\n",
       "      <td>0.00</td>\n",
       "      <td>0.00</td>\n",
       "      <td>NaN</td>\n",
       "      <td>March 01, 12</td>\n",
       "      <td>0.00</td>\n",
       "      <td>GOVT</td>\n",
       "    </tr>\n",
       "    <tr>\n",
       "      <th>4087059</th>\n",
       "      <td>2012-02-29</td>\n",
       "      <td>24.82</td>\n",
       "      <td>24.82</td>\n",
       "      <td>24.82</td>\n",
       "      <td>24.82</td>\n",
       "      <td>22.29</td>\n",
       "      <td>NaN</td>\n",
       "      <td>NaN</td>\n",
       "      <td>0.00</td>\n",
       "      <td>0.00</td>\n",
       "      <td>NaN</td>\n",
       "      <td>February 29, 12</td>\n",
       "      <td>0.00</td>\n",
       "      <td>GOVT</td>\n",
       "    </tr>\n",
       "    <tr>\n",
       "      <th>4087060</th>\n",
       "      <td>2012-02-28</td>\n",
       "      <td>24.82</td>\n",
       "      <td>24.82</td>\n",
       "      <td>24.82</td>\n",
       "      <td>24.82</td>\n",
       "      <td>22.29</td>\n",
       "      <td>NaN</td>\n",
       "      <td>NaN</td>\n",
       "      <td>0.00</td>\n",
       "      <td>0.00</td>\n",
       "      <td>NaN</td>\n",
       "      <td>February 28, 12</td>\n",
       "      <td>0.00</td>\n",
       "      <td>GOVT</td>\n",
       "    </tr>\n",
       "    <tr>\n",
       "      <th>4087061</th>\n",
       "      <td>2012-02-27</td>\n",
       "      <td>24.82</td>\n",
       "      <td>24.82</td>\n",
       "      <td>24.82</td>\n",
       "      <td>24.82</td>\n",
       "      <td>22.29</td>\n",
       "      <td>NaN</td>\n",
       "      <td>NaN</td>\n",
       "      <td>0.00</td>\n",
       "      <td>0.00</td>\n",
       "      <td>NaN</td>\n",
       "      <td>February 27, 12</td>\n",
       "      <td>0.00</td>\n",
       "      <td>GOVT</td>\n",
       "    </tr>\n",
       "  </tbody>\n",
       "</table>\n",
       "</div>"
      ],
      "text/plain": [
       "               date  open  high   low  close  adjClose  volume  \\\n",
       "4056124  2012-11-13 46.88 46.88 46.88  46.88     38.32     NaN   \n",
       "4056135  2012-10-25 47.54 47.54 47.54  47.54     38.85     NaN   \n",
       "4087050  2012-03-13 24.89 24.89 24.89  24.89     22.35     NaN   \n",
       "4087051  2012-03-12 24.89 24.89 24.89  24.89     22.35     NaN   \n",
       "4087055  2012-03-06 24.82 24.82 24.82  24.82     22.29     NaN   \n",
       "4087056  2012-03-05 24.82 24.82 24.82  24.82     22.29     NaN   \n",
       "4087057  2012-03-02 24.82 24.82 24.82  24.82     22.29     NaN   \n",
       "4087058  2012-03-01 24.82 24.82 24.82  24.82     22.29     NaN   \n",
       "4087059  2012-02-29 24.82 24.82 24.82  24.82     22.29     NaN   \n",
       "4087060  2012-02-28 24.82 24.82 24.82  24.82     22.29     NaN   \n",
       "4087061  2012-02-27 24.82 24.82 24.82  24.82     22.29     NaN   \n",
       "\n",
       "         unadjustedVolume  change  changePercent  vwap            label  \\\n",
       "4056124               NaN    0.00           0.00   NaN  November 13, 12   \n",
       "4056135               NaN    0.00           0.00   NaN   October 25, 12   \n",
       "4087050               NaN    0.00           0.00   NaN     March 13, 12   \n",
       "4087051               NaN    0.00           0.00   NaN     March 12, 12   \n",
       "4087055               NaN    0.00           0.00   NaN     March 06, 12   \n",
       "4087056               NaN    0.00           0.00   NaN     March 05, 12   \n",
       "4087057               NaN    0.00           0.00   NaN     March 02, 12   \n",
       "4087058               NaN    0.00           0.00   NaN     March 01, 12   \n",
       "4087059               NaN    0.00           0.00   NaN  February 29, 12   \n",
       "4087060               NaN    0.00           0.00   NaN  February 28, 12   \n",
       "4087061               NaN    0.00           0.00   NaN  February 27, 12   \n",
       "\n",
       "         changeOverTime symbol  \n",
       "4056124            0.00   IEFA  \n",
       "4056135            0.00   IEFA  \n",
       "4087050            0.00   GOVT  \n",
       "4087051            0.00   GOVT  \n",
       "4087055            0.00   GOVT  \n",
       "4087056            0.00   GOVT  \n",
       "4087057            0.00   GOVT  \n",
       "4087058            0.00   GOVT  \n",
       "4087059            0.00   GOVT  \n",
       "4087060            0.00   GOVT  \n",
       "4087061            0.00   GOVT  "
      ]
     },
     "execution_count": 12,
     "metadata": {},
     "output_type": "execute_result"
    }
   ],
   "source": [
    "#take a look @ price columns with null values\n",
    "prices[prices.isnull().any(1)]"
   ]
  },
  {
   "cell_type": "code",
   "execution_count": 13,
   "id": "smooth-superintendent",
   "metadata": {},
   "outputs": [],
   "source": [
    "#very crude imputation function from scratch\n",
    "def fillTS(df,col):\n",
    "    '''Impute time series data'''\n",
    "    index = df[df[col].isnull()].index\n",
    "    \n",
    "    for i in index:\n",
    "        \n",
    "        ticker = df.loc[i,'symbol']\n",
    "        date = df.loc[i,'date']\n",
    "        \n",
    "        prevDate = df[(df.date<date) & (df.symbol == ticker)].date.max()\n",
    "        nextDate = df[(df.date>date) & (df.symbol == ticker)].date.min()\n",
    "        while (True):\n",
    "            if prevDate: #if prevdate for same symbol, set to that values\n",
    "                newval = df[(df.date==prevDate)&(df.symbol==ticker)].loc[:,col].values[0]\n",
    "                if ~np.isnan(newval):\n",
    "                    df.loc[i,col] = newval\n",
    "                    #print('Set on PREV')\n",
    "                    break\n",
    "            if nextDate: #else set to nextdates value for same symol\n",
    "                newval = df[(df.date==nextDate)&(df.symbol==ticker)].loc[:,col].values[0]\n",
    "                if ~np.isnan(newval):\n",
    "                    df.loc[i,col] = newval\n",
    "                    #print('Set on NEXT')\n",
    "                    break\n",
    "        \n",
    "            print('SET TO 0')\n",
    "            df.loc[i,col] = 0.0\n",
    "            \n",
    "    return df[col]    "
   ]
  },
  {
   "cell_type": "code",
   "execution_count": 14,
   "id": "parental-daughter",
   "metadata": {},
   "outputs": [
    {
     "data": {
      "text/plain": [
       "0"
      ]
     },
     "execution_count": 14,
     "metadata": {},
     "output_type": "execute_result"
    }
   ],
   "source": [
    "prices2 = prices.copy()\n",
    "prices2['volume'] = fillTS(prices2,'volume')\n",
    "prices2.volume.isnull().sum()"
   ]
  },
  {
   "cell_type": "markdown",
   "id": "unable-traffic",
   "metadata": {},
   "source": [
    "quick notes – any iterative program like this would be a gigantic bottleneck, but this gets the idea accross"
   ]
  },
  {
   "cell_type": "code",
   "execution_count": 15,
   "id": "colonial-frequency",
   "metadata": {},
   "outputs": [
    {
     "data": {
      "image/png": "[encoded data removed]",
      "text/plain": [
       "<Figure size 1440x1440 with 8 Axes>"
      ]
     },
     "metadata": {},
     "output_type": "display_data"
    }
   ],
   "source": [
    "#Noisy data? quick check for outliers in continuous variables\n",
    "stockdf = profiles[stocks] #..finally. \n",
    "\n",
    "#get continuous variable list\n",
    "cont_columns = [col for col in stockdf.describe().columns if 'is' not in col.lower()]\n",
    "cont_columns.remove('cik')\n",
    "cont_columns.remove('defaultImage')\n",
    "\n",
    "N_COLS = len(cont_columns)\n",
    "COL_PROW = 2 #decide on number of columns per row– helps to find best view \n",
    "fig, axes = plt.subplots(int(np.ceil(N_COLS/COL_PROW)),COL_PROW,figsize = (20,20))\n",
    "\n",
    "for i, contcol in enumerate(cont_columns):\n",
    "    row = i // COL_PROW\n",
    "    col = i % COL_PROW \n",
    "    #ax = sns.violinplot(stockdf[contcol],ax=axes[row,col],orient='h')\n",
    "    ax = sns.boxplot(stockdf[contcol],ax=axes[row,col],orient='h')\n",
    "    ax.set_title(contcol)\n",
    "plt.show();"
   ]
  },
  {
   "cell_type": "markdown",
   "id": "parallel-islam",
   "metadata": {},
   "source": [
    "quick notes – dcf is really the only one where there seems to be a mistake/real outlier. The others can be handled with logging and other techniques"
   ]
  },
  {
   "cell_type": "code",
   "execution_count": 16,
   "id": "local-mercury",
   "metadata": {},
   "outputs": [
    {
     "name": "stdout",
     "output_type": "stream",
     "text": [
      "5 NULL vals in dcf\n"
     ]
    }
   ],
   "source": [
    "##Lets do a quick cleaning of this column (which would not make sense in real life)\n",
    "\n",
    "#for missing data, lets assign class mean! this solut\n",
    "dcf_null = stockdf[stockdf.dcf.isnull()].index\n",
    "print(len(dcf_null),'NULL vals in dcf')\n",
    "means = stockdf.groupby('sector')['dcf'].mean().to_dict()"
   ]
  },
  {
   "cell_type": "code",
   "execution_count": 17,
   "id": "ignored-detector",
   "metadata": {},
   "outputs": [
    {
     "name": "stdout",
     "output_type": "stream",
     "text": [
      "0 NULLS after apply\n"
     ]
    }
   ],
   "source": [
    "stockdf.loc[dcf_null,'dcf'] = stockdf.loc[dcf_null].T.apply(lambda x: means.get(x.sector))\n",
    "\n",
    "print(stockdf.dcf.isnull().sum(),'NULLS after apply')"
   ]
  },
  {
   "cell_type": "markdown",
   "id": "olympic-exclusion",
   "metadata": {},
   "source": [
    "quick notes– scratch solution a bit wonky due to the transposition of df in order to use apply correctly.. actually gave me some insight into writing lambdas"
   ]
  },
  {
   "cell_type": "code",
   "execution_count": 18,
   "id": "unlimited-lending",
   "metadata": {},
   "outputs": [
    {
     "name": "stdout",
     "output_type": "stream",
     "text": [
      "Before binning outlier\n"
     ]
    },
    {
     "data": {
      "image/png": "[encoded data removed]",
      "text/plain": [
       "<Figure size 432x288 with 1 Axes>"
      ]
     },
     "metadata": {},
     "output_type": "display_data"
    },
    {
     "name": "stdout",
     "output_type": "stream",
     "text": [
      "After binning outlier\n"
     ]
    },
    {
     "data": {
      "image/png": "[encoded data removed]",
      "text/plain": [
       "<Figure size 432x288 with 1 Axes>"
      ]
     },
     "metadata": {},
     "output_type": "display_data"
    }
   ],
   "source": [
    "#okay, onto outlier\n",
    "print('Before binning outlier')\n",
    "stockdf['dcf'].plot(kind='box')\n",
    "plt.show();\n",
    "#assign noisy variable to class mean\n",
    "outlier_index = stockdf[stockdf.dcf == stockdf.dcf.max()].index\n",
    "stockdf.loc[outlier_index,'dcf'] = means.get(stockdf.loc[outlier_index,'sector'].values[0])\n",
    "print('After binning outlier')\n",
    "stockdf['dcf'].plot(kind='box')\n",
    "plt.show();"
   ]
  },
  {
   "cell_type": "markdown",
   "id": "weighted-shannon",
   "metadata": {},
   "source": [
    "quick notes– looks like there are still some outliers that may be enough dev to cause some issues, but the obvious mistake has been corrected. \n",
    "    This may benefit from further smoothing, discretization, etc."
   ]
  },
  {
   "cell_type": "code",
   "execution_count": 19,
   "id": "alternate-pharmaceutical",
   "metadata": {},
   "outputs": [],
   "source": [
    "#hit the dcf with some equi-depth partitioning\n",
    "new_dcf = pd.qcut(stockdf.dcf,q=3)\n",
    "stocks.dcf = new_dcf"
   ]
  },
  {
   "cell_type": "code",
   "execution_count": 20,
   "id": "cosmetic-stress",
   "metadata": {},
   "outputs": [
    {
     "data": {
      "text/plain": [
       "1      (-288.71099999999996, 61.015]\n",
       "2      (-288.71099999999996, 61.015]\n",
       "3      (-288.71099999999996, 61.015]\n",
       "4      (-288.71099999999996, 61.015]\n",
       "6      (-288.71099999999996, 61.015]\n",
       "                   ...              \n",
       "611                (61.015, 143.538]\n",
       "612             (143.538, 71836.941]\n",
       "615    (-288.71099999999996, 61.015]\n",
       "616    (-288.71099999999996, 61.015]\n",
       "617    (-288.71099999999996, 61.015]\n",
       "Name: dcf, Length: 504, dtype: category\n",
       "Categories (3, interval[float64]): [(-288.71099999999996, 61.015] < (61.015, 143.538] < (143.538, 71836.941]]"
      ]
     },
     "execution_count": 20,
     "metadata": {},
     "output_type": "execute_result"
    }
   ],
   "source": [
    "stocks.dcf"
   ]
  },
  {
   "cell_type": "markdown",
   "id": "aquatic-baker",
   "metadata": {},
   "source": [
    "<a id='L3'></a> \n",
    "## L3"
   ]
  },
  {
   "cell_type": "code",
   "execution_count": 21,
   "id": "cardiac-humor",
   "metadata": {},
   "outputs": [],
   "source": [
    "#lets use brankruptcy data as example for cleaning, etc. \n",
    "brupt = getTable('../../FinancesSp500.db','BANKRUPTCY')"
   ]
  },
  {
   "cell_type": "code",
   "execution_count": 22,
   "id": "planned-footwear",
   "metadata": {},
   "outputs": [
    {
     "data": {
      "text/plain": [
       "(1209, 26)"
      ]
     },
     "metadata": {},
     "output_type": "display_data"
    },
    {
     "data": {
      "text/html": [
       "<table style=\"display:inline\"><tr><td style=\"text-align:center\">Null Values</td><td style=\"text-align:center\">Data Types</td></tr><tr><td style=\"vertical-align:top\"> <table style=\"display:inline\" border=\"1\" class=\"dataframe\">\n",
       "  <thead>\n",
       "    <tr style=\"text-align: right;\">\n",
       "      <th></th>\n",
       "      <th>0</th>\n",
       "    </tr>\n",
       "  </thead>\n",
       "  <tbody>\n",
       "    <tr>\n",
       "      <th>index</th>\n",
       "      <td>0</td>\n",
       "    </tr>\n",
       "    <tr>\n",
       "      <th>Debtor Name</th>\n",
       "      <td>0</td>\n",
       "    </tr>\n",
       "    <tr>\n",
       "      <th>Industry Division</th>\n",
       "      <td>0</td>\n",
       "    </tr>\n",
       "    <tr>\n",
       "      <th>Industry Group</th>\n",
       "      <td>0</td>\n",
       "    </tr>\n",
       "    <tr>\n",
       "      <th>Cause</th>\n",
       "      <td>0</td>\n",
       "    </tr>\n",
       "    <tr>\n",
       "      <th>Date Filed</th>\n",
       "      <td>0</td>\n",
       "    </tr>\n",
       "    <tr>\n",
       "      <th>Disposition</th>\n",
       "      <td>0</td>\n",
       "    </tr>\n",
       "    <tr>\n",
       "      <th>�363 Sale</th>\n",
       "      <td>0</td>\n",
       "    </tr>\n",
       "    <tr>\n",
       "      <th>Duration</th>\n",
       "      <td>44</td>\n",
       "    </tr>\n",
       "    <tr>\n",
       "      <th>Inc. State</th>\n",
       "      <td>0</td>\n",
       "    </tr>\n",
       "    <tr>\n",
       "      <th>District Filed</th>\n",
       "      <td>0</td>\n",
       "    </tr>\n",
       "    <tr>\n",
       "      <th>City Filed</th>\n",
       "      <td>1</td>\n",
       "    </tr>\n",
       "    <tr>\n",
       "      <th>Forum Shopping</th>\n",
       "      <td>1</td>\n",
       "    </tr>\n",
       "    <tr>\n",
       "      <th>Filing Party</th>\n",
       "      <td>1</td>\n",
       "    </tr>\n",
       "    <tr>\n",
       "      <th>Plan Type</th>\n",
       "      <td>1</td>\n",
       "    </tr>\n",
       "    <tr>\n",
       "      <th>Employees</th>\n",
       "      <td>4</td>\n",
       "    </tr>\n",
       "    <tr>\n",
       "      <th>Business Survival</th>\n",
       "      <td>1</td>\n",
       "    </tr>\n",
       "    <tr>\n",
       "      <th>Refiled</th>\n",
       "      <td>1</td>\n",
       "    </tr>\n",
       "    <tr>\n",
       "      <th>Headquarters City</th>\n",
       "      <td>1</td>\n",
       "    </tr>\n",
       "    <tr>\n",
       "      <th>Date Disposed</th>\n",
       "      <td>45</td>\n",
       "    </tr>\n",
       "    <tr>\n",
       "      <th>Asset Size</th>\n",
       "      <td>1</td>\n",
       "    </tr>\n",
       "    <tr>\n",
       "      <th>Employee Size</th>\n",
       "      <td>1</td>\n",
       "    </tr>\n",
       "    <tr>\n",
       "      <th>Annual Sales</th>\n",
       "      <td>2</td>\n",
       "    </tr>\n",
       "    <tr>\n",
       "      <th>Assets (millions)</th>\n",
       "      <td>1</td>\n",
       "    </tr>\n",
       "    <tr>\n",
       "      <th>Chapter at Filing</th>\n",
       "      <td>1</td>\n",
       "    </tr>\n",
       "    <tr>\n",
       "      <th>Debtor's Attorney</th>\n",
       "      <td>2</td>\n",
       "    </tr>\n",
       "  </tbody>\n",
       "</table style=\"display:inline\"></td><td style=\"vertical-align:top\"> <table style=\"display:inline\" border=\"1\" class=\"dataframe\">\n",
       "  <thead>\n",
       "    <tr style=\"text-align: right;\">\n",
       "      <th></th>\n",
       "      <th>0</th>\n",
       "    </tr>\n",
       "  </thead>\n",
       "  <tbody>\n",
       "    <tr>\n",
       "      <th>index</th>\n",
       "      <td>int64</td>\n",
       "    </tr>\n",
       "    <tr>\n",
       "      <th>Debtor Name</th>\n",
       "      <td>object</td>\n",
       "    </tr>\n",
       "    <tr>\n",
       "      <th>Industry Division</th>\n",
       "      <td>object</td>\n",
       "    </tr>\n",
       "    <tr>\n",
       "      <th>Industry Group</th>\n",
       "      <td>object</td>\n",
       "    </tr>\n",
       "    <tr>\n",
       "      <th>Cause</th>\n",
       "      <td>object</td>\n",
       "    </tr>\n",
       "    <tr>\n",
       "      <th>Date Filed</th>\n",
       "      <td>object</td>\n",
       "    </tr>\n",
       "    <tr>\n",
       "      <th>Disposition</th>\n",
       "      <td>object</td>\n",
       "    </tr>\n",
       "    <tr>\n",
       "      <th>�363 Sale</th>\n",
       "      <td>object</td>\n",
       "    </tr>\n",
       "    <tr>\n",
       "      <th>Duration</th>\n",
       "      <td>object</td>\n",
       "    </tr>\n",
       "    <tr>\n",
       "      <th>Inc. State</th>\n",
       "      <td>object</td>\n",
       "    </tr>\n",
       "    <tr>\n",
       "      <th>District Filed</th>\n",
       "      <td>object</td>\n",
       "    </tr>\n",
       "    <tr>\n",
       "      <th>City Filed</th>\n",
       "      <td>object</td>\n",
       "    </tr>\n",
       "    <tr>\n",
       "      <th>Forum Shopping</th>\n",
       "      <td>object</td>\n",
       "    </tr>\n",
       "    <tr>\n",
       "      <th>Filing Party</th>\n",
       "      <td>object</td>\n",
       "    </tr>\n",
       "    <tr>\n",
       "      <th>Plan Type</th>\n",
       "      <td>object</td>\n",
       "    </tr>\n",
       "    <tr>\n",
       "      <th>Employees</th>\n",
       "      <td>object</td>\n",
       "    </tr>\n",
       "    <tr>\n",
       "      <th>Business Survival</th>\n",
       "      <td>object</td>\n",
       "    </tr>\n",
       "    <tr>\n",
       "      <th>Refiled</th>\n",
       "      <td>object</td>\n",
       "    </tr>\n",
       "    <tr>\n",
       "      <th>Headquarters City</th>\n",
       "      <td>object</td>\n",
       "    </tr>\n",
       "    <tr>\n",
       "      <th>Date Disposed</th>\n",
       "      <td>object</td>\n",
       "    </tr>\n",
       "    <tr>\n",
       "      <th>Asset Size</th>\n",
       "      <td>object</td>\n",
       "    </tr>\n",
       "    <tr>\n",
       "      <th>Employee Size</th>\n",
       "      <td>object</td>\n",
       "    </tr>\n",
       "    <tr>\n",
       "      <th>Annual Sales</th>\n",
       "      <td>object</td>\n",
       "    </tr>\n",
       "    <tr>\n",
       "      <th>Assets (millions)</th>\n",
       "      <td>object</td>\n",
       "    </tr>\n",
       "    <tr>\n",
       "      <th>Chapter at Filing</th>\n",
       "      <td>object</td>\n",
       "    </tr>\n",
       "    <tr>\n",
       "      <th>Debtor's Attorney</th>\n",
       "      <td>object</td>\n",
       "    </tr>\n",
       "  </tbody>\n",
       "</table style=\"display:inline\"></td></tr></table style=\"display:inline\">"
      ]
     },
     "metadata": {},
     "output_type": "display_data"
    }
   ],
   "source": [
    "display(brupt.shape)\n",
    "displayM([pd.DataFrame(brupt.isnull().sum()),pd.DataFrame(brupt.dtypes)],['Null Values','Data Types'])"
   ]
  },
  {
   "cell_type": "markdown",
   "id": "australian-fellow",
   "metadata": {},
   "source": [
    "quick notes -– for project, maybe write column-level df description tool like this w/ more attributes for quick look at df by column"
   ]
  },
  {
   "cell_type": "code",
   "execution_count": 23,
   "id": "secondary-mechanics",
   "metadata": {},
   "outputs": [],
   "source": [
    "#get data MINIMUM ready for review (which is on cleaning, etc. but cant do until base cleaning finished)\n",
    "\n",
    "import datetime\n",
    "\n",
    "brupt.fillna(value=np.nan,inplace=True)\n",
    "\n",
    "brupt['Date Filed'] = pd.to_datetime(brupt['Date Filed']) #get usable datetime\n",
    "\n",
    "brupt.rename(columns={'�363 Sale':'363sale'},inplace=True) #take out strange chars\n",
    "\n",
    "brupt.Duration = brupt.Duration.apply(lambda x: x.replace(',','') if type(x) == str else x)\n",
    "brupt.Duration = brupt.Duration.astype(float) #float to get around np.nan... note the potential use of nullable integer types in pandas. \n",
    "\n",
    "brupt.Employees = brupt.Employees.apply(lambda x: x.replace(',','') if type(x) == str else x)\n",
    "brupt.Employees = brupt.Employees.astype(float) #float to get around np.nan\n",
    "\n",
    "brupt['Date Disposed'] = pd.to_datetime(brupt['Date Disposed']) #get usable datetime.. note casting NAN works for date time w/out ternary apply fn\n",
    "\n",
    "#leave asset and employee sizes for now, wont cause issues\n",
    "\n",
    "brupt['Annual Sales'] = brupt['Annual Sales'].apply(lambda x: int(x[1:].replace(',','').strip()) if type(x) == str else x)\n",
    "brupt['Assets (millions)'] = brupt['Assets (millions)'].apply(lambda x: int(x[1:].replace(',','').strip()) if type(x) == str else x)\n",
    "\n",
    "#drop rows w/ ~50% + NA for ease of use\n",
    "NA_THRESH = int(np.ceil(len(brupt.columns)/2))\n",
    "brupt = brupt.dropna(axis=0,thresh=NA_THRESH)\n",
    "\n",
    "#write semi-cleaned data to df for use in other files. (don't want to upload revised to db yet)\n",
    "brupt.to_csv('bankruptcy.csv',index=False)"
   ]
  },
  {
   "cell_type": "code",
   "execution_count": 24,
   "id": "metallic-break",
   "metadata": {},
   "outputs": [],
   "source": [
    "#regression imputation example for employees  \n",
    "\n",
    "#get index\n"
   ]
  },
  {
   "cell_type": "markdown",
   "id": "boxed-accounting",
   "metadata": {},
   "source": [
    "quick notes– binning (not regression) by Employee size would be the obvious solution here. these files are just for review!"
   ]
  },
  {
   "cell_type": "code",
   "execution_count": 25,
   "id": "obvious-craft",
   "metadata": {},
   "outputs": [
    {
     "data": {
      "text/html": [
       "<table class=\"simpletable\">\n",
       "<tr>\n",
       "        <td>Model:</td>               <td>OLS</td>         <td>Adj. R-squared:</td>      <td>0.746</td>  \n",
       "</tr>\n",
       "<tr>\n",
       "  <td>Dependent Variable:</td>     <td>Employees</td>           <td>AIC:</td>         <td>25149.7755</td>\n",
       "</tr>\n",
       "<tr>\n",
       "         <td>Date:</td>        <td>2021-03-16 08:18</td>        <td>BIC:</td>         <td>25185.4351</td>\n",
       "</tr>\n",
       "<tr>\n",
       "   <td>No. Observations:</td>        <td>1205</td>         <td>Log-Likelihood:</td>     <td>-12568.</td> \n",
       "</tr>\n",
       "<tr>\n",
       "       <td>Df Model:</td>              <td>6</td>           <td>F-statistic:</td>        <td>591.9</td>  \n",
       "</tr>\n",
       "<tr>\n",
       "     <td>Df Residuals:</td>          <td>1198</td>       <td>Prob (F-statistic):</td>    <td>0.00</td>   \n",
       "</tr>\n",
       "<tr>\n",
       "      <td>R-squared:</td>            <td>0.748</td>            <td>Scale:</td>        <td>6.7492e+07</td>\n",
       "</tr>\n",
       "</table>\n",
       "<table class=\"simpletable\">\n",
       "<tr>\n",
       "                       <td></td>                          <th>Coef.</th>    <th>Std.Err.</th>      <th>t</th>     <th>P>|t|</th>   <th>[0.025</th>      <th>0.975]</th>   \n",
       "</tr>\n",
       "<tr>\n",
       "  <th>const</th>                                       <td>49602.5016</td>  <td>1162.9675</td>  <td>42.6517</td> <td>0.0000</td> <td>47320.8220</td>  <td>51884.1811</td> \n",
       "</tr>\n",
       "<tr>\n",
       "  <th>Assets (millions)</th>                             <td>-0.0516</td>    <td>0.0094</td>    <td>-5.4650</td> <td>0.0000</td>   <td>-0.0701</td>     <td>-0.0331</td>  \n",
       "</tr>\n",
       "<tr>\n",
       "  <th>Annual Sales</th>                                  <td>0.0000</td>     <td>0.0000</td>    <td>23.2949</td> <td>0.0000</td>   <td>0.0000</td>      <td>0.0000</td>   \n",
       "</tr>\n",
       "<tr>\n",
       "  <th>Employee Size_b 10,000 but less than 30,000</th> <td>-36492.5574</td> <td>1295.6899</td> <td>-28.1646</td> <td>0.0000</td> <td>-39034.6313</td> <td>-33950.4836</td>\n",
       "</tr>\n",
       "<tr>\n",
       "  <th>Employee Size_c 1,000 but less than 10,000</th>  <td>-46726.4431</td> <td>1191.3925</td> <td>-39.2200</td> <td>0.0000</td> <td>-49063.8909</td> <td>-44388.9952</td>\n",
       "</tr>\n",
       "<tr>\n",
       "  <th>Employee Size_d 200 but less than 1,000</th>     <td>-49294.4409</td> <td>1275.1529</td> <td>-38.6577</td> <td>0.0000</td> <td>-51796.2222</td> <td>-46792.6595</td>\n",
       "</tr>\n",
       "<tr>\n",
       "  <th>Employee Size_e Less than 200</th>               <td>-49584.6178</td> <td>1415.3108</td> <td>-35.0344</td> <td>0.0000</td> <td>-52361.3813</td> <td>-46807.8544</td>\n",
       "</tr>\n",
       "</table>\n",
       "<table class=\"simpletable\">\n",
       "<tr>\n",
       "     <td>Omnibus:</td>    <td>1620.801</td>  <td>Durbin-Watson:</td>      <td>1.978</td>   \n",
       "</tr>\n",
       "<tr>\n",
       "  <td>Prob(Omnibus):</td>   <td>0.000</td>  <td>Jarque-Bera (JB):</td> <td>1450421.587</td>\n",
       "</tr>\n",
       "<tr>\n",
       "       <td>Skew:</td>       <td>6.651</td>      <td>Prob(JB):</td>        <td>0.000</td>   \n",
       "</tr>\n",
       "<tr>\n",
       "     <td>Kurtosis:</td>    <td>172.444</td>  <td>Condition No.:</td>   <td>94655040048</td>\n",
       "</tr>\n",
       "</table>"
      ],
      "text/plain": [
       "<class 'statsmodels.iolib.summary2.Summary'>\n",
       "\"\"\"\n",
       "                                     Results: Ordinary least squares\n",
       "=========================================================================================================\n",
       "Model:                            OLS                          Adj. R-squared:                 0.746     \n",
       "Dependent Variable:               Employees                    AIC:                            25149.7755\n",
       "Date:                             2021-03-16 08:18             BIC:                            25185.4351\n",
       "No. Observations:                 1205                         Log-Likelihood:                 -12568.   \n",
       "Df Model:                         6                            F-statistic:                    591.9     \n",
       "Df Residuals:                     1198                         Prob (F-statistic):             0.00      \n",
       "R-squared:                        0.748                        Scale:                          6.7492e+07\n",
       "---------------------------------------------------------------------------------------------------------\n",
       "                                               Coef.     Std.Err.    t     P>|t|     [0.025      0.975]  \n",
       "---------------------------------------------------------------------------------------------------------\n",
       "const                                        49602.5016 1162.9675  42.6517 0.0000  47320.8220  51884.1811\n",
       "Assets (millions)                               -0.0516    0.0094  -5.4650 0.0000     -0.0701     -0.0331\n",
       "Annual Sales                                     0.0000    0.0000  23.2949 0.0000      0.0000      0.0000\n",
       "Employee Size_b 10,000 but less than 30,000 -36492.5574 1295.6899 -28.1646 0.0000 -39034.6313 -33950.4836\n",
       "Employee Size_c 1,000 but less than 10,000  -46726.4431 1191.3925 -39.2200 0.0000 -49063.8909 -44388.9952\n",
       "Employee Size_d 200 but less than 1,000     -49294.4409 1275.1529 -38.6577 0.0000 -51796.2222 -46792.6595\n",
       "Employee Size_e Less than 200               -49584.6178 1415.3108 -35.0344 0.0000 -52361.3813 -46807.8544\n",
       "---------------------------------------------------------------------------------------------------------\n",
       "Omnibus:                         1620.801                  Durbin-Watson:                     1.978      \n",
       "Prob(Omnibus):                   0.000                     Jarque-Bera (JB):                  1450421.587\n",
       "Skew:                            6.651                     Prob(JB):                          0.000      \n",
       "Kurtosis:                        172.444                   Condition No.:                     94655040048\n",
       "=========================================================================================================\n",
       "* The condition number is large (9e+10). This might indicate             strong multicollinearity or\n",
       "other numerical problems.\n",
       "\"\"\""
      ]
     },
     "execution_count": 25,
     "metadata": {},
     "output_type": "execute_result"
    }
   ],
   "source": [
    "'''\n",
    "#first, drop rows w/ ~50% + NA for ease of use\n",
    "NA_THRESH = int(np.ceil(len(brupt.columns)/2))\n",
    "DATA = brupt.dropna(axis=0,thresh=NA_THRESH)\n",
    "'''\n",
    "\n",
    "DATA = brupt.copy()\n",
    "\n",
    "#impute data needed for explanatory vars (annual sales) group by asset size\n",
    "sales_null = DATA[DATA['Annual Sales'].isnull()].index\n",
    "means = DATA.groupby(['Asset Size'])['Annual Sales'].mean().to_dict()\n",
    "DATA.loc[sales_null,'Annual Sales'] = DATA.loc[sales_null].T.apply(lambda x: means.get(x['Asset Size']))\n",
    "\n",
    "#def model\n",
    "target = 'Employees'\n",
    "model = ['Assets (millions)','Employee Size','Annual Sales']\n",
    "\n",
    "#def data with/out missings for modeling v pred\n",
    "t_index = DATA[DATA.Employees.notnull()].index\n",
    "fill_index = DATA[DATA.Employees.isnull()].index\n",
    "\n",
    "TARGET = DATA.loc[t_index,target] #target col\n",
    "XFULL = DATA[model] #full x for later prediction\n",
    "DATA = XFULL.loc[t_index] #data w/out nan for model\n",
    "\n",
    "###Create dummies and drop for regression\n",
    "DATA = pd.get_dummies(DATA,drop_first=True)\n",
    "\n",
    "#run and display\n",
    "ols = sm.OLS(TARGET,sm.add_constant(DATA))\n",
    "result = ols.fit()\n",
    "result.summary2()"
   ]
  },
  {
   "cell_type": "code",
   "execution_count": 26,
   "id": "simplified-samuel",
   "metadata": {},
   "outputs": [
    {
     "data": {
      "text/plain": [
       "0"
      ]
     },
     "execution_count": 26,
     "metadata": {},
     "output_type": "execute_result"
    }
   ],
   "source": [
    "#get predictions\n",
    "pred = result.predict(pd.get_dummies(XFULL,drop_first=True))\n",
    "imputed_vals = pred.loc[fill_index]\n",
    "\n",
    "#######assign to column########\n",
    "brupt.loc[fill_index,'Employees'] = imputed_vals\n",
    "\n",
    "#verify\n",
    "brupt.Employees.isnull().sum()"
   ]
  },
  {
   "cell_type": "code",
   "execution_count": 27,
   "id": "speaking-weekly",
   "metadata": {},
   "outputs": [],
   "source": [
    "#very small-scale data integraton example\n",
    "#in this case, lets do some crude schema/table integration w/ bankruptcy data and symbols (which I want to later do for actual project)"
   ]
  },
  {
   "cell_type": "code",
   "execution_count": 28,
   "id": "after-stuart",
   "metadata": {},
   "outputs": [],
   "source": [
    "symbols = getTable('../../FinancesSp500.db','G1_CV_SYMBOLS')"
   ]
  },
  {
   "cell_type": "code",
   "execution_count": 29,
   "id": "heavy-laugh",
   "metadata": {},
   "outputs": [],
   "source": [
    "#write new bankruptcy table to db\n",
    "conn = sqlite3.connect('../../FinancesSp500.db')\n",
    "c = conn.cursor()\n",
    "c.execute('drop table if exists BANKRUPTCY_UPDATED')\n",
    "brupt.to_sql(name='BANKRUPTCY_UPDATED',con=conn)"
   ]
  },
  {
   "cell_type": "code",
   "execution_count": 30,
   "id": "seven-update",
   "metadata": {},
   "outputs": [
    {
     "name": "stdout",
     "output_type": "stream",
     "text": [
      "(46, 30)\n"
     ]
    },
    {
     "data": {
      "text/html": [
       "<div>\n",
       "<style scoped>\n",
       "    .dataframe tbody tr th:only-of-type {\n",
       "        vertical-align: middle;\n",
       "    }\n",
       "\n",
       "    .dataframe tbody tr th {\n",
       "        vertical-align: top;\n",
       "    }\n",
       "\n",
       "    .dataframe thead th {\n",
       "        text-align: right;\n",
       "    }\n",
       "</style>\n",
       "<table border=\"1\" class=\"dataframe\">\n",
       "  <thead>\n",
       "    <tr style=\"text-align: right;\">\n",
       "      <th></th>\n",
       "      <th>index</th>\n",
       "      <th>Debtor Name</th>\n",
       "      <th>Industry Division</th>\n",
       "      <th>Industry Group</th>\n",
       "      <th>Cause</th>\n",
       "      <th>Date Filed</th>\n",
       "      <th>Disposition</th>\n",
       "      <th>363sale</th>\n",
       "      <th>Duration</th>\n",
       "      <th>Inc. State</th>\n",
       "      <th>District Filed</th>\n",
       "      <th>City Filed</th>\n",
       "      <th>Forum Shopping</th>\n",
       "      <th>Filing Party</th>\n",
       "      <th>Plan Type</th>\n",
       "      <th>Employees</th>\n",
       "      <th>Business Survival</th>\n",
       "      <th>Refiled</th>\n",
       "      <th>Headquarters City</th>\n",
       "      <th>Date Disposed</th>\n",
       "      <th>Asset Size</th>\n",
       "      <th>Employee Size</th>\n",
       "      <th>Annual Sales</th>\n",
       "      <th>Assets (millions)</th>\n",
       "      <th>Chapter at Filing</th>\n",
       "      <th>Debtor's Attorney</th>\n",
       "      <th>symbol</th>\n",
       "      <th>name</th>\n",
       "      <th>price</th>\n",
       "      <th>exchange</th>\n",
       "    </tr>\n",
       "  </thead>\n",
       "  <tbody>\n",
       "    <tr>\n",
       "      <th>0</th>\n",
       "      <td>11</td>\n",
       "      <td>Aceto Corporation</td>\n",
       "      <td>F: Wholesale Trade</td>\n",
       "      <td>51 Wholesale Trade-non-durable Goods</td>\n",
       "      <td>Not tort</td>\n",
       "      <td>2019-02-19</td>\n",
       "      <td>confirmed</td>\n",
       "      <td>363 sale</td>\n",
       "      <td>211.00</td>\n",
       "      <td>NY</td>\n",
       "      <td>NJ</td>\n",
       "      <td>Newark</td>\n",
       "      <td>Forum Shop</td>\n",
       "      <td>debtors</td>\n",
       "      <td>free fall</td>\n",
       "      <td>315.00</td>\n",
       "      <td>company did not emerge</td>\n",
       "      <td>not emerged 5 years</td>\n",
       "      <td>NY Central Islip</td>\n",
       "      <td>2019-09-18</td>\n",
       "      <td>c $500 million but less than $1billion</td>\n",
       "      <td>d 200 but less than 1,000</td>\n",
       "      <td>733022614.00</td>\n",
       "      <td>518.00</td>\n",
       "      <td>Chapter 11</td>\n",
       "      <td>Lowenstein Sandler</td>\n",
       "      <td>ACET</td>\n",
       "      <td>Aceto Corporation</td>\n",
       "      <td>15.31</td>\n",
       "      <td>Nasdaq Global Select</td>\n",
       "    </tr>\n",
       "  </tbody>\n",
       "</table>\n",
       "</div>"
      ],
      "text/plain": [
       "   index        Debtor Name   Industry Division  \\\n",
       "0     11  Aceto Corporation  F: Wholesale Trade   \n",
       "\n",
       "                         Industry Group     Cause Date Filed Disposition  \\\n",
       "0  51 Wholesale Trade-non-durable Goods  Not tort 2019-02-19   confirmed   \n",
       "\n",
       "    363sale  Duration Inc. State District Filed City Filed Forum Shopping  \\\n",
       "0  363 sale    211.00         NY             NJ     Newark     Forum Shop   \n",
       "\n",
       "  Filing Party  Plan Type  Employees       Business Survival  \\\n",
       "0      debtors  free fall     315.00  company did not emerge   \n",
       "\n",
       "               Refiled Headquarters City Date Disposed  \\\n",
       "0  not emerged 5 years  NY Central Islip    2019-09-18   \n",
       "\n",
       "                               Asset Size              Employee Size  \\\n",
       "0  c $500 million but less than $1billion  d 200 but less than 1,000   \n",
       "\n",
       "   Annual Sales  Assets (millions) Chapter at Filing   Debtor's Attorney  \\\n",
       "0  733022614.00             518.00        Chapter 11  Lowenstein Sandler   \n",
       "\n",
       "  symbol               name  price              exchange  \n",
       "0   ACET  Aceto Corporation  15.31  Nasdaq Global Select  "
      ]
     },
     "execution_count": 30,
     "metadata": {},
     "output_type": "execute_result"
    }
   ],
   "source": [
    "#integrate the tables with pandas \n",
    "brupt_x_symbols = pd.merge(brupt,symbols,left_on='Debtor Name',right_on='name',how='inner')\n",
    "print(brupt_x_symbols.shape)\n",
    "brupt_x_symbols.head(1)"
   ]
  },
  {
   "cell_type": "markdown",
   "id": "collaborative-collar",
   "metadata": {},
   "source": [
    "quick notes– don't need index, this is very elementary (but worked), there is no real string comparison here other than ==... now for sql example"
   ]
  },
  {
   "cell_type": "code",
   "execution_count": 31,
   "id": "olympic-drinking",
   "metadata": {},
   "outputs": [
    {
     "name": "stdout",
     "output_type": "stream",
     "text": [
      "(74, 30)\n"
     ]
    },
    {
     "data": {
      "text/html": [
       "<div>\n",
       "<style scoped>\n",
       "    .dataframe tbody tr th:only-of-type {\n",
       "        vertical-align: middle;\n",
       "    }\n",
       "\n",
       "    .dataframe tbody tr th {\n",
       "        vertical-align: top;\n",
       "    }\n",
       "\n",
       "    .dataframe thead th {\n",
       "        text-align: right;\n",
       "    }\n",
       "</style>\n",
       "<table border=\"1\" class=\"dataframe\">\n",
       "  <thead>\n",
       "    <tr style=\"text-align: right;\">\n",
       "      <th></th>\n",
       "      <th>symbol</th>\n",
       "      <th>name</th>\n",
       "      <th>price</th>\n",
       "      <th>exchange</th>\n",
       "      <th>index</th>\n",
       "      <th>Debtor Name</th>\n",
       "      <th>Industry Division</th>\n",
       "      <th>Industry Group</th>\n",
       "      <th>Cause</th>\n",
       "      <th>Date Filed</th>\n",
       "      <th>Disposition</th>\n",
       "      <th>�363 Sale</th>\n",
       "      <th>Duration</th>\n",
       "      <th>Inc. State</th>\n",
       "      <th>District Filed</th>\n",
       "      <th>City Filed</th>\n",
       "      <th>Forum Shopping</th>\n",
       "      <th>Filing Party</th>\n",
       "      <th>Plan Type</th>\n",
       "      <th>Employees</th>\n",
       "      <th>Business Survival</th>\n",
       "      <th>Refiled</th>\n",
       "      <th>Headquarters City</th>\n",
       "      <th>Date Disposed</th>\n",
       "      <th>Asset Size</th>\n",
       "      <th>Employee Size</th>\n",
       "      <th>Annual Sales</th>\n",
       "      <th>Assets (millions)</th>\n",
       "      <th>Chapter at Filing</th>\n",
       "      <th>Debtor's Attorney</th>\n",
       "    </tr>\n",
       "  </thead>\n",
       "  <tbody>\n",
       "    <tr>\n",
       "      <th>0</th>\n",
       "      <td>HK</td>\n",
       "      <td>Halcon Resources Corporation</td>\n",
       "      <td>0.19</td>\n",
       "      <td>New York Stock Exchange</td>\n",
       "      <td>505</td>\n",
       "      <td>Halcon Resources Corporation</td>\n",
       "      <td>B: Mining</td>\n",
       "      <td>13 Oil And Gas Extraction</td>\n",
       "      <td>Not tort</td>\n",
       "      <td>7/27/16</td>\n",
       "      <td>confirmed</td>\n",
       "      <td>no 363 sale</td>\n",
       "      <td>43</td>\n",
       "      <td>DE</td>\n",
       "      <td>DE</td>\n",
       "      <td>Wilmington</td>\n",
       "      <td>Forum Shop</td>\n",
       "      <td>debtors</td>\n",
       "      <td>prepackaged</td>\n",
       "      <td>323</td>\n",
       "      <td>Company emerged</td>\n",
       "      <td>not emerged 5 years</td>\n",
       "      <td>TX Houston</td>\n",
       "      <td>9/8/16</td>\n",
       "      <td>b $1 billion but less than $10 billion</td>\n",
       "      <td>d 200 but less than 1,000</td>\n",
       "      <td>$595,662,648</td>\n",
       "      <td>$3,744</td>\n",
       "      <td>Chapter 11</td>\n",
       "      <td>Weil Gotshal</td>\n",
       "    </tr>\n",
       "  </tbody>\n",
       "</table>\n",
       "</div>"
      ],
      "text/plain": [
       "  symbol                          name  price                 exchange  index  \\\n",
       "0     HK  Halcon Resources Corporation   0.19  New York Stock Exchange    505   \n",
       "\n",
       "                    Debtor Name Industry Division             Industry Group  \\\n",
       "0  Halcon Resources Corporation         B: Mining  13 Oil And Gas Extraction   \n",
       "\n",
       "      Cause Date Filed Disposition    �363 Sale Duration Inc. State  \\\n",
       "0  Not tort    7/27/16   confirmed  no 363 sale       43         DE   \n",
       "\n",
       "  District Filed  City Filed Forum Shopping Filing Party    Plan Type  \\\n",
       "0             DE  Wilmington     Forum Shop      debtors  prepackaged   \n",
       "\n",
       "  Employees Business Survival              Refiled Headquarters City  \\\n",
       "0       323   Company emerged  not emerged 5 years        TX Houston   \n",
       "\n",
       "  Date Disposed                              Asset Size  \\\n",
       "0        9/8/16  b $1 billion but less than $10 billion   \n",
       "\n",
       "               Employee Size   Annual Sales Assets (millions)  \\\n",
       "0  d 200 but less than 1,000  $595,662,648            $3,744    \n",
       "\n",
       "  Chapter at Filing Debtor's Attorney  \n",
       "0        Chapter 11      Weil Gotshal  "
      ]
     },
     "execution_count": 31,
     "metadata": {},
     "output_type": "execute_result"
    }
   ],
   "source": [
    "#sql integration example\n",
    "brupt_x_sym_sql = pd.read_sql(\n",
    "'''\n",
    "select S.*, B.*\n",
    "from G1_CV_SYMBOLS S\n",
    "JOIN BANKRUPTCY B\n",
    "    ON S.name like '%' || B.\"Debtor Name\" || '%';\n",
    "''',con=conn)\n",
    "print(brupt_x_sym_sql.shape)\n",
    "\n",
    "#drop redundant attribute\n",
    "brupt_x_sym_sql.drop(columns=['name'])\n",
    "\n",
    "#drop any duplicates\n",
    "brupt_x_sym_sql.drop_duplicates(inplace=True)\n",
    "brupt_x_sym_sql.head(1)"
   ]
  },
  {
   "cell_type": "markdown",
   "id": "original-adult",
   "metadata": {},
   "source": [
    "quick notes – we see here that joining with a regex string comparison adds 60% additional data objects.. I know from manual inspection that this number should still be much higher (will write legit program for project), but this will do for the example. "
   ]
  },
  {
   "cell_type": "code",
   "execution_count": 32,
   "id": "ranging-reunion",
   "metadata": {},
   "outputs": [
    {
     "data": {
      "text/html": [
       "<table style=\"display:inline\"><tr><td style=\"vertical-align:top\"> <table style=\"display:inline\" border=\"1\" class=\"dataframe\">\n",
       "  <thead>\n",
       "    <tr style=\"text-align: right;\">\n",
       "      <th></th>\n",
       "      <th>Assets (millions)</th>\n",
       "      <th>Assets_minmax</th>\n",
       "    </tr>\n",
       "  </thead>\n",
       "  <tbody>\n",
       "    <tr>\n",
       "      <th>0</th>\n",
       "      <td>845.00</td>\n",
       "      <td>0.00</td>\n",
       "    </tr>\n",
       "    <tr>\n",
       "      <th>1</th>\n",
       "      <td>1201.00</td>\n",
       "      <td>0.00</td>\n",
       "    </tr>\n",
       "    <tr>\n",
       "      <th>2</th>\n",
       "      <td>1563.00</td>\n",
       "      <td>0.00</td>\n",
       "    </tr>\n",
       "    <tr>\n",
       "      <th>3</th>\n",
       "      <td>350.00</td>\n",
       "      <td>0.00</td>\n",
       "    </tr>\n",
       "    <tr>\n",
       "      <th>4</th>\n",
       "      <td>705.00</td>\n",
       "      <td>0.00</td>\n",
       "    </tr>\n",
       "    <tr>\n",
       "      <th>5</th>\n",
       "      <td>457.00</td>\n",
       "      <td>0.00</td>\n",
       "    </tr>\n",
       "  </tbody>\n",
       "</table style=\"display:inline\"></td><td style=\"vertical-align:top\"> <table style=\"display:inline\" border=\"1\" class=\"dataframe\">\n",
       "  <thead>\n",
       "    <tr style=\"text-align: right;\">\n",
       "      <th></th>\n",
       "      <th>Assets (millions)</th>\n",
       "      <th>Assets_zScaled</th>\n",
       "    </tr>\n",
       "  </thead>\n",
       "  <tbody>\n",
       "    <tr>\n",
       "      <th>0</th>\n",
       "      <td>845.00</td>\n",
       "      <td>-0.13</td>\n",
       "    </tr>\n",
       "    <tr>\n",
       "      <th>1</th>\n",
       "      <td>1201.00</td>\n",
       "      <td>-0.11</td>\n",
       "    </tr>\n",
       "    <tr>\n",
       "      <th>2</th>\n",
       "      <td>1563.00</td>\n",
       "      <td>-0.10</td>\n",
       "    </tr>\n",
       "    <tr>\n",
       "      <th>3</th>\n",
       "      <td>350.00</td>\n",
       "      <td>-0.14</td>\n",
       "    </tr>\n",
       "    <tr>\n",
       "      <th>4</th>\n",
       "      <td>705.00</td>\n",
       "      <td>-0.13</td>\n",
       "    </tr>\n",
       "    <tr>\n",
       "      <th>5</th>\n",
       "      <td>457.00</td>\n",
       "      <td>-0.14</td>\n",
       "    </tr>\n",
       "  </tbody>\n",
       "</table style=\"display:inline\"></td></tr></table style=\"display:inline\">"
      ]
     },
     "metadata": {},
     "output_type": "display_data"
    }
   ],
   "source": [
    "#normalization - lets do assets for bruptcy data\n",
    "import sklearn.preprocessing as pp\n",
    "\n",
    "#min-max\n",
    "minmax = pp.MinMaxScaler()\n",
    "brupt['Assets_minmax'] = minmax.fit_transform(X=brupt['Assets (millions)'].values.reshape(-1,1))\n",
    "minmax = brupt[['Assets (millions)','Assets_minmax']]\n",
    "\n",
    "#z-score\n",
    "sscaler = pp.StandardScaler()\n",
    "brupt['Assets_zScaled'] = sscaler.fit_transform(X=brupt['Assets (millions)'].values.reshape(-1,1))\n",
    "z_scaled = brupt[['Assets (millions)','Assets_zScaled']]\n",
    "\n",
    "displayM([minmax.head(6),z_scaled.head(6)])"
   ]
  },
  {
   "cell_type": "markdown",
   "id": "canadian-wilderness",
   "metadata": {},
   "source": [
    "quick notes –– minmax obviously bad for the very skewed data here, z-score better"
   ]
  },
  {
   "cell_type": "code",
   "execution_count": 33,
   "id": "extreme-theater",
   "metadata": {},
   "outputs": [
    {
     "data": {
      "text/html": [
       "<div>\n",
       "<style scoped>\n",
       "    .dataframe tbody tr th:only-of-type {\n",
       "        vertical-align: middle;\n",
       "    }\n",
       "\n",
       "    .dataframe tbody tr th {\n",
       "        vertical-align: top;\n",
       "    }\n",
       "\n",
       "    .dataframe thead th {\n",
       "        text-align: right;\n",
       "    }\n",
       "</style>\n",
       "<table border=\"1\" class=\"dataframe\">\n",
       "  <thead>\n",
       "    <tr style=\"text-align: right;\">\n",
       "      <th></th>\n",
       "      <th>price</th>\n",
       "      <th>price_3qcut</th>\n",
       "    </tr>\n",
       "  </thead>\n",
       "  <tbody>\n",
       "    <tr>\n",
       "      <th>0</th>\n",
       "      <td>380.01</td>\n",
       "      <td>(190.0, 4500.84]</td>\n",
       "    </tr>\n",
       "    <tr>\n",
       "      <th>1</th>\n",
       "      <td>52.72</td>\n",
       "      <td>(36.638, 65.752]</td>\n",
       "    </tr>\n",
       "    <tr>\n",
       "      <th>2</th>\n",
       "      <td>14.71</td>\n",
       "      <td>(-0.001, 36.638]</td>\n",
       "    </tr>\n",
       "    <tr>\n",
       "      <th>3</th>\n",
       "      <td>60.78</td>\n",
       "      <td>(36.638, 65.752]</td>\n",
       "    </tr>\n",
       "    <tr>\n",
       "      <th>4</th>\n",
       "      <td>91.53</td>\n",
       "      <td>(65.752, 113.29]</td>\n",
       "    </tr>\n",
       "  </tbody>\n",
       "</table>\n",
       "</div>"
      ],
      "text/plain": [
       "   price       price_3qcut\n",
       "0 380.01  (190.0, 4500.84]\n",
       "1  52.72  (36.638, 65.752]\n",
       "2  14.71  (-0.001, 36.638]\n",
       "3  60.78  (36.638, 65.752]\n",
       "4  91.53  (65.752, 113.29]"
      ]
     },
     "execution_count": 33,
     "metadata": {},
     "output_type": "execute_result"
    }
   ],
   "source": [
    "#discretization examples\n",
    "profiles['price_3qcut'] = pd.qcut(profiles.price,q=5)\n",
    "profiles[['price','price_3qcut']].head()"
   ]
  },
  {
   "cell_type": "code",
   "execution_count": 34,
   "id": "particular-reviewer",
   "metadata": {},
   "outputs": [
    {
     "data": {
      "text/html": [
       "<div>\n",
       "<style scoped>\n",
       "    .dataframe tbody tr th:only-of-type {\n",
       "        vertical-align: middle;\n",
       "    }\n",
       "\n",
       "    .dataframe tbody tr th {\n",
       "        vertical-align: top;\n",
       "    }\n",
       "\n",
       "    .dataframe thead th {\n",
       "        text-align: right;\n",
       "    }\n",
       "</style>\n",
       "<table border=\"1\" class=\"dataframe\">\n",
       "  <thead>\n",
       "    <tr style=\"text-align: right;\">\n",
       "      <th></th>\n",
       "      <th>exchange</th>\n",
       "      <th>exchange_binary</th>\n",
       "    </tr>\n",
       "  </thead>\n",
       "  <tbody>\n",
       "    <tr>\n",
       "      <th>0</th>\n",
       "      <td>NYSE Arca</td>\n",
       "      <td>Other</td>\n",
       "    </tr>\n",
       "    <tr>\n",
       "      <th>1</th>\n",
       "      <td>Nasdaq Global Select</td>\n",
       "      <td>Other</td>\n",
       "    </tr>\n",
       "    <tr>\n",
       "      <th>2</th>\n",
       "      <td>New York Stock Exchange</td>\n",
       "      <td>New York Stock Exchange</td>\n",
       "    </tr>\n",
       "    <tr>\n",
       "      <th>3</th>\n",
       "      <td>Nasdaq Global Select</td>\n",
       "      <td>Other</td>\n",
       "    </tr>\n",
       "    <tr>\n",
       "      <th>4</th>\n",
       "      <td>Nasdaq Global Select</td>\n",
       "      <td>Other</td>\n",
       "    </tr>\n",
       "    <tr>\n",
       "      <th>5</th>\n",
       "      <td>NYSE Arca</td>\n",
       "      <td>Other</td>\n",
       "    </tr>\n",
       "    <tr>\n",
       "      <th>6</th>\n",
       "      <td>New York Stock Exchange</td>\n",
       "      <td>New York Stock Exchange</td>\n",
       "    </tr>\n",
       "    <tr>\n",
       "      <th>7</th>\n",
       "      <td>New York Stock Exchange</td>\n",
       "      <td>New York Stock Exchange</td>\n",
       "    </tr>\n",
       "    <tr>\n",
       "      <th>8</th>\n",
       "      <td>NYSE Arca</td>\n",
       "      <td>Other</td>\n",
       "    </tr>\n",
       "    <tr>\n",
       "      <th>9</th>\n",
       "      <td>Nasdaq Global Select</td>\n",
       "      <td>Other</td>\n",
       "    </tr>\n",
       "  </tbody>\n",
       "</table>\n",
       "</div>"
      ],
      "text/plain": [
       "                  exchange          exchange_binary\n",
       "0                NYSE Arca                    Other\n",
       "1     Nasdaq Global Select                    Other\n",
       "2  New York Stock Exchange  New York Stock Exchange\n",
       "3     Nasdaq Global Select                    Other\n",
       "4     Nasdaq Global Select                    Other\n",
       "5                NYSE Arca                    Other\n",
       "6  New York Stock Exchange  New York Stock Exchange\n",
       "7  New York Stock Exchange  New York Stock Exchange\n",
       "8                NYSE Arca                    Other\n",
       "9     Nasdaq Global Select                    Other"
      ]
     },
     "execution_count": 34,
     "metadata": {},
     "output_type": "execute_result"
    }
   ],
   "source": [
    "#further grouping nominal attributes\n",
    "cats = list(profiles.exchange.value_counts().index)\n",
    "cats.remove('New York Stock Exchange')\n",
    "profiles['exchange_binary'] = profiles['exchange'].replace(to_replace=cats,value='Other')\n",
    "profiles[['exchange','exchange_binary']].head(10)"
   ]
  },
  {
   "cell_type": "code",
   "execution_count": 35,
   "id": "executive-preference",
   "metadata": {},
   "outputs": [
    {
     "data": {
      "text/html": [
       "<table style=\"display:inline\"><tr><td style=\"text-align:center\">Concept Hierarchy</td><td style=\"text-align:center\">Price Agg. By State</td></tr><tr><td style=\"vertical-align:top\"> <table style=\"display:inline\" border=\"1\" class=\"dataframe\">\n",
       "  <thead>\n",
       "    <tr style=\"text-align: right;\">\n",
       "      <th></th>\n",
       "      <th>city</th>\n",
       "      <th>state</th>\n",
       "      <th>country</th>\n",
       "    </tr>\n",
       "  </thead>\n",
       "  <tbody>\n",
       "    <tr>\n",
       "      <th>0</th>\n",
       "      <td>None</td>\n",
       "      <td>None</td>\n",
       "      <td>US</td>\n",
       "    </tr>\n",
       "    <tr>\n",
       "      <th>1</th>\n",
       "      <td>Philadelphia</td>\n",
       "      <td>PENNSYLVANIA</td>\n",
       "      <td>US</td>\n",
       "    </tr>\n",
       "    <tr>\n",
       "      <th>2</th>\n",
       "      <td>Houston</td>\n",
       "      <td>TEXAS</td>\n",
       "      <td>US</td>\n",
       "    </tr>\n",
       "    <tr>\n",
       "      <th>3</th>\n",
       "      <td>Santa Clara</td>\n",
       "      <td>CALIFORNIA</td>\n",
       "      <td>US</td>\n",
       "    </tr>\n",
       "    <tr>\n",
       "      <th>4</th>\n",
       "      <td>Boise</td>\n",
       "      <td>IDAHO</td>\n",
       "      <td>US</td>\n",
       "    </tr>\n",
       "  </tbody>\n",
       "</table style=\"display:inline\"></td><td style=\"vertical-align:top\"> <table style=\"display:inline\" border=\"1\" class=\"dataframe\">\n",
       "  <thead>\n",
       "    <tr style=\"text-align: right;\">\n",
       "      <th></th>\n",
       "      <th>count</th>\n",
       "      <th>mean</th>\n",
       "      <th>std</th>\n",
       "      <th>min</th>\n",
       "      <th>25%</th>\n",
       "      <th>50%</th>\n",
       "      <th>75%</th>\n",
       "      <th>max</th>\n",
       "    </tr>\n",
       "    <tr>\n",
       "      <th>state</th>\n",
       "      <th></th>\n",
       "      <th></th>\n",
       "      <th></th>\n",
       "      <th></th>\n",
       "      <th></th>\n",
       "      <th></th>\n",
       "      <th></th>\n",
       "      <th></th>\n",
       "    </tr>\n",
       "  </thead>\n",
       "  <tbody>\n",
       "    <tr>\n",
       "      <th></th>\n",
       "      <td>56.00</td>\n",
       "      <td>75.21</td>\n",
       "      <td>67.74</td>\n",
       "      <td>4.74</td>\n",
       "      <td>25.55</td>\n",
       "      <td>54.83</td>\n",
       "      <td>90.89</td>\n",
       "      <td>314.14</td>\n",
       "    </tr>\n",
       "    <tr>\n",
       "      <th>ALABAMA</th>\n",
       "      <td>2.00</td>\n",
       "      <td>94.00</td>\n",
       "      <td>103.77</td>\n",
       "      <td>20.62</td>\n",
       "      <td>57.31</td>\n",
       "      <td>94.00</td>\n",
       "      <td>130.68</td>\n",
       "      <td>167.37</td>\n",
       "    </tr>\n",
       "    <tr>\n",
       "      <th>ARIZONA</th>\n",
       "      <td>5.00</td>\n",
       "      <td>72.99</td>\n",
       "      <td>52.43</td>\n",
       "      <td>19.51</td>\n",
       "      <td>33.91</td>\n",
       "      <td>69.93</td>\n",
       "      <td>88.96</td>\n",
       "      <td>152.63</td>\n",
       "    </tr>\n",
       "    <tr>\n",
       "      <th>ARKANSAS</th>\n",
       "      <td>3.00</td>\n",
       "      <td>114.76</td>\n",
       "      <td>41.76</td>\n",
       "      <td>67.55</td>\n",
       "      <td>98.71</td>\n",
       "      <td>129.86</td>\n",
       "      <td>138.37</td>\n",
       "      <td>146.87</td>\n",
       "    </tr>\n",
       "    <tr>\n",
       "      <th>BRISTOL</th>\n",
       "      <td>1.00</td>\n",
       "      <td>10.92</td>\n",
       "      <td>NaN</td>\n",
       "      <td>10.92</td>\n",
       "      <td>10.92</td>\n",
       "      <td>10.92</td>\n",
       "      <td>10.92</td>\n",
       "      <td>10.92</td>\n",
       "    </tr>\n",
       "  </tbody>\n",
       "</table style=\"display:inline\"></td></tr></table style=\"display:inline\">"
      ]
     },
     "metadata": {},
     "output_type": "display_data"
    }
   ],
   "source": [
    "#concept hierarchy and aggregation opportunity example\n",
    "displayM([profiles[['city','state','country']].head(),profiles.groupby('state').describe()['price'].head()],['Concept Hierarchy','Price Agg. By State'])"
   ]
  },
  {
   "cell_type": "code",
   "execution_count": 36,
   "id": "proud-integer",
   "metadata": {},
   "outputs": [
    {
     "name": "stdout",
     "output_type": "stream",
     "text": [
      "(620, 36) (310, 36)\n"
     ]
    }
   ],
   "source": [
    "##### DATA REDUCTION#####\n",
    "\n",
    "###Numerosity reduction\n",
    "\n",
    "#sampling\n",
    "#randomly sample 50% of data\n",
    "sample = np.random.choice(profiles.index,size=int(np.ceil(len(profiles)/2)))\n",
    "profiles_50psample = profiles.loc[sample]\n",
    "print(profiles.shape,profiles_50psample.shape)"
   ]
  },
  {
   "cell_type": "markdown",
   "id": "interracial-individual",
   "metadata": {},
   "source": [
    "quick notes – obviously sophisticated libraries, methods(bootstrapping, stratified sampling, cv, etc) to use for real appl."
   ]
  },
  {
   "cell_type": "code",
   "execution_count": 37,
   "id": "superior-reynolds",
   "metadata": {},
   "outputs": [
    {
     "data": {
      "text/html": [
       "<table style=\"display:inline\"><tr><td style=\"text-align:center\">Original</td><td style=\"text-align:center\">Price Agg. by Sector</td></tr><tr><td style=\"vertical-align:top\"> <table style=\"display:inline\" border=\"1\" class=\"dataframe\">\n",
       "  <thead>\n",
       "    <tr style=\"text-align: right;\">\n",
       "      <th></th>\n",
       "      <th>symbol</th>\n",
       "      <th>sector</th>\n",
       "      <th>price</th>\n",
       "    </tr>\n",
       "  </thead>\n",
       "  <tbody>\n",
       "    <tr>\n",
       "      <th>1</th>\n",
       "      <td>CMCSA</td>\n",
       "      <td>Communication Services</td>\n",
       "      <td>52.72</td>\n",
       "    </tr>\n",
       "    <tr>\n",
       "      <th>2</th>\n",
       "      <td>KMI</td>\n",
       "      <td>Energy</td>\n",
       "      <td>14.71</td>\n",
       "    </tr>\n",
       "    <tr>\n",
       "      <th>3</th>\n",
       "      <td>INTC</td>\n",
       "      <td>Technology</td>\n",
       "      <td>60.78</td>\n",
       "    </tr>\n",
       "    <tr>\n",
       "      <th>4</th>\n",
       "      <td>MU</td>\n",
       "      <td>Technology</td>\n",
       "      <td>91.53</td>\n",
       "    </tr>\n",
       "    <tr>\n",
       "      <th>6</th>\n",
       "      <td>GE</td>\n",
       "      <td>Industrials</td>\n",
       "      <td>12.56</td>\n",
       "    </tr>\n",
       "    <tr>\n",
       "      <th>7</th>\n",
       "      <td>BAC</td>\n",
       "      <td>Financial Services</td>\n",
       "      <td>34.75</td>\n",
       "    </tr>\n",
       "    <tr>\n",
       "      <th>9</th>\n",
       "      <td>AAPL</td>\n",
       "      <td>Technology</td>\n",
       "      <td>121.26</td>\n",
       "    </tr>\n",
       "    <tr>\n",
       "      <th>10</th>\n",
       "      <td>MSFT</td>\n",
       "      <td>Technology</td>\n",
       "      <td>232.38</td>\n",
       "    </tr>\n",
       "    <tr>\n",
       "      <th>11</th>\n",
       "      <td>HPQ</td>\n",
       "      <td>Technology</td>\n",
       "      <td>28.97</td>\n",
       "    </tr>\n",
       "    <tr>\n",
       "      <th>14</th>\n",
       "      <td>F</td>\n",
       "      <td>Consumer Cyclical</td>\n",
       "      <td>11.70</td>\n",
       "    </tr>\n",
       "    <tr>\n",
       "      <th>15</th>\n",
       "      <td>AMD</td>\n",
       "      <td>Technology</td>\n",
       "      <td>84.51</td>\n",
       "    </tr>\n",
       "    <tr>\n",
       "      <th>16</th>\n",
       "      <td>FB</td>\n",
       "      <td>Communication Services</td>\n",
       "      <td>257.62</td>\n",
       "    </tr>\n",
       "  </tbody>\n",
       "</table style=\"display:inline\"></td><td style=\"vertical-align:top\"> <table style=\"display:inline\" border=\"1\" class=\"dataframe\">\n",
       "  <thead>\n",
       "    <tr style=\"text-align: right;\">\n",
       "      <th></th>\n",
       "      <th>count</th>\n",
       "      <th>mean</th>\n",
       "      <th>std</th>\n",
       "      <th>min</th>\n",
       "      <th>25%</th>\n",
       "      <th>50%</th>\n",
       "      <th>75%</th>\n",
       "      <th>max</th>\n",
       "    </tr>\n",
       "    <tr>\n",
       "      <th>sector</th>\n",
       "      <th></th>\n",
       "      <th></th>\n",
       "      <th></th>\n",
       "      <th></th>\n",
       "      <th></th>\n",
       "      <th></th>\n",
       "      <th></th>\n",
       "      <th></th>\n",
       "    </tr>\n",
       "  </thead>\n",
       "  <tbody>\n",
       "    <tr>\n",
       "      <th>Basic Materials</th>\n",
       "      <td>22.00</td>\n",
       "      <td>145.08</td>\n",
       "      <td>145.66</td>\n",
       "      <td>19.73</td>\n",
       "      <td>55.53</td>\n",
       "      <td>106.18</td>\n",
       "      <td>164.86</td>\n",
       "      <td>680.68</td>\n",
       "    </tr>\n",
       "    <tr>\n",
       "      <th>Communication Services</th>\n",
       "      <td>25.00</td>\n",
       "      <td>268.68</td>\n",
       "      <td>550.75</td>\n",
       "      <td>12.29</td>\n",
       "      <td>31.93</td>\n",
       "      <td>64.49</td>\n",
       "      <td>133.97</td>\n",
       "      <td>2036.86</td>\n",
       "    </tr>\n",
       "    <tr>\n",
       "      <th>Consumer Cyclical</th>\n",
       "      <td>65.00</td>\n",
       "      <td>305.03</td>\n",
       "      <td>732.08</td>\n",
       "      <td>10.92</td>\n",
       "      <td>45.11</td>\n",
       "      <td>103.53</td>\n",
       "      <td>161.00</td>\n",
       "      <td>4500.84</td>\n",
       "    </tr>\n",
       "    <tr>\n",
       "      <th>Consumer Defensive</th>\n",
       "      <td>34.00</td>\n",
       "      <td>101.92</td>\n",
       "      <td>72.37</td>\n",
       "      <td>23.17</td>\n",
       "      <td>50.02</td>\n",
       "      <td>79.64</td>\n",
       "      <td>128.97</td>\n",
       "      <td>331.00</td>\n",
       "    </tr>\n",
       "    <tr>\n",
       "      <th>Energy</th>\n",
       "      <td>22.00</td>\n",
       "      <td>47.96</td>\n",
       "      <td>33.81</td>\n",
       "      <td>11.12</td>\n",
       "      <td>22.05</td>\n",
       "      <td>41.02</td>\n",
       "      <td>65.31</td>\n",
       "      <td>148.57</td>\n",
       "    </tr>\n",
       "    <tr>\n",
       "      <th>Financial Services</th>\n",
       "      <td>67.00</td>\n",
       "      <td>132.53</td>\n",
       "      <td>131.51</td>\n",
       "      <td>15.34</td>\n",
       "      <td>48.92</td>\n",
       "      <td>93.95</td>\n",
       "      <td>162.32</td>\n",
       "      <td>695.12</td>\n",
       "    </tr>\n",
       "    <tr>\n",
       "      <th>Healthcare</th>\n",
       "      <td>64.00</td>\n",
       "      <td>217.40</td>\n",
       "      <td>192.95</td>\n",
       "      <td>14.85</td>\n",
       "      <td>78.39</td>\n",
       "      <td>166.29</td>\n",
       "      <td>275.57</td>\n",
       "      <td>1118.88</td>\n",
       "    </tr>\n",
       "    <tr>\n",
       "      <th>Industrials</th>\n",
       "      <td>75.00</td>\n",
       "      <td>147.22</td>\n",
       "      <td>105.91</td>\n",
       "      <td>0.00</td>\n",
       "      <td>64.34</td>\n",
       "      <td>117.80</td>\n",
       "      <td>202.59</td>\n",
       "      <td>577.73</td>\n",
       "    </tr>\n",
       "    <tr>\n",
       "      <th>Real Estate</th>\n",
       "      <td>30.00</td>\n",
       "      <td>120.32</td>\n",
       "      <td>121.89</td>\n",
       "      <td>16.59</td>\n",
       "      <td>45.39</td>\n",
       "      <td>87.42</td>\n",
       "      <td>150.58</td>\n",
       "      <td>648.34</td>\n",
       "    </tr>\n",
       "    <tr>\n",
       "      <th>Technology</th>\n",
       "      <td>72.00</td>\n",
       "      <td>183.03</td>\n",
       "      <td>140.80</td>\n",
       "      <td>14.56</td>\n",
       "      <td>81.92</td>\n",
       "      <td>141.31</td>\n",
       "      <td>235.59</td>\n",
       "      <td>567.19</td>\n",
       "    </tr>\n",
       "    <tr>\n",
       "      <th>Utilities</th>\n",
       "      <td>28.00</td>\n",
       "      <td>64.05</td>\n",
       "      <td>29.58</td>\n",
       "      <td>19.39</td>\n",
       "      <td>44.27</td>\n",
       "      <td>62.12</td>\n",
       "      <td>79.65</td>\n",
       "      <td>141.63</td>\n",
       "    </tr>\n",
       "  </tbody>\n",
       "</table style=\"display:inline\"></td></tr></table style=\"display:inline\">"
      ]
     },
     "metadata": {},
     "output_type": "display_data"
    }
   ],
   "source": [
    "#data aggregation \n",
    "stock_prof = profiles[(profiles.exchangeShortName != 'MUTUAL_FUND') & (profiles.isEtf == False)]\n",
    "displayM([stock_prof[['symbol','sector','price']].head(12),stock_prof.groupby('sector').describe()['price']],['Original','Price Agg. by Sector'])"
   ]
  },
  {
   "cell_type": "markdown",
   "id": "overhead-trainer",
   "metadata": {},
   "source": [
    "## L4 <a id='L4' ></a>"
   ]
  },
  {
   "cell_type": "markdown",
   "id": "sudden-telephone",
   "metadata": {},
   "source": [
    "#### Dimensionality Reduction"
   ]
  },
  {
   "cell_type": "code",
   "execution_count": 38,
   "id": "thousand-theater",
   "metadata": {},
   "outputs": [
    {
     "data": {
      "text/plain": [
       "(74, 30)"
      ]
     },
     "execution_count": 38,
     "metadata": {},
     "output_type": "execute_result"
    }
   ],
   "source": [
    "brupt_x_sym_sql.shape  #see what we can do w/ high d/n ratio"
   ]
  },
  {
   "cell_type": "code",
   "execution_count": 39,
   "id": "prompt-bullet",
   "metadata": {},
   "outputs": [],
   "source": [
    "##wavelet tranformation \n",
    "from scipy.signal import cwt\n",
    "import pywt"
   ]
  },
  {
   "cell_type": "code",
   "execution_count": 40,
   "id": "metric-poker",
   "metadata": {},
   "outputs": [],
   "source": [
    "#get simple timeseries to model \n",
    "coke = prices[(prices.symbol=='KO') & (prices.date >= '1990-01-01')]\n",
    "coke.drop(columns='label',inplace=True)"
   ]
  },
  {
   "cell_type": "code",
   "execution_count": 41,
   "id": "desirable-responsibility",
   "metadata": {},
   "outputs": [],
   "source": [
    "n_samples = coke.shape[0] \n",
    "n_signals = coke.shape[1] \n",
    "\n",
    "####COME BACK TO THIS–––– GOOD SUBJECT FOR WEEKEND HACKATHONS!#####"
   ]
  },
  {
   "cell_type": "code",
   "execution_count": 42,
   "id": "color-county",
   "metadata": {},
   "outputs": [],
   "source": [
    "###Principal Component Analysis (PCA)\n",
    "\n",
    "###create highly dimensional dataset and log a couple attributes\n",
    "brupt_pca_data = brupt.drop(columns=['index',\n",
    "                                     'Debtor Name',\n",
    "                                     'Date Filed',\n",
    "                                     'District Filed',\n",
    "                                     'City Filed',\n",
    "                                     'Filing Party',\n",
    "                                     'Refiled',\n",
    "                                     'Headquarters City',\n",
    "                                     'Date Disposed',\n",
    "                                     'Employee Size',\n",
    "                                     'Assets (millions)',\n",
    "                                     \"Debtor's Attorney\",\n",
    "                                     'Assets_minmax',\n",
    "                                    'Assets_zScaled'])\n",
    "brupt_pca_data = pd.get_dummies(brupt_pca_data,drop_first=True)\n",
    "brupt_pca_data['Employees'] = np.log2(brupt_pca_data['Employees'])\n",
    "brupt_pca_data['Annual Sales'] = np.log2(brupt_pca_data['Annual Sales'])"
   ]
  },
  {
   "cell_type": "code",
   "execution_count": 43,
   "id": "joined-garbage",
   "metadata": {},
   "outputs": [
    {
     "data": {
      "text/plain": [
       "array([[        nan, -1.57400245, -1.70289672, ..., -0.54546268,\n",
       "         6.87895341, -0.04989616],\n",
       "       [-0.50427099,  0.31835437,  0.30267038, ..., -0.54546268,\n",
       "        -0.14537095, -0.04989616],\n",
       "       [ 1.15446105,  0.56252929,  0.50052495, ..., -0.54546268,\n",
       "        -0.14537095, -0.04989616],\n",
       "       ...,\n",
       "       [ 0.03808293,  0.97678164,  0.85202289, ..., -0.54546268,\n",
       "        -0.14537095, -0.04989616],\n",
       "       [-0.81503582,  0.63475867,  0.5056054 , ..., -0.54546268,\n",
       "        -0.14537095, -0.04989616],\n",
       "       [-0.755654  , -0.90717253, -0.85112081, ...,  1.83330598,\n",
       "        -0.14537095, -0.04989616]])"
      ]
     },
     "execution_count": 43,
     "metadata": {},
     "output_type": "execute_result"
    }
   ],
   "source": [
    "#standardize/normalize data\n",
    "np.set_printoptions(suppress=True)\n",
    "from sklearn.preprocessing import StandardScaler as SS\n",
    "scaler = SS()\n",
    "scaler.fit(brupt_pca_data)\n",
    "scaler.transform(brupt_pca_data)"
   ]
  },
  {
   "cell_type": "code",
   "execution_count": 44,
   "id": "occasional-perception",
   "metadata": {},
   "outputs": [],
   "source": [
    "#compute covariance matrix\n",
    "covar = brupt_pca_data.cov()\n",
    "eigval, eigvect = np.linalg.eig(covar)"
   ]
  },
  {
   "cell_type": "code",
   "execution_count": 45,
   "id": "split-dublin",
   "metadata": {},
   "outputs": [
    {
     "data": {
      "image/png": "[encoded data removed]",
      "text/plain": [
       "<Figure size 432x288 with 1 Axes>"
      ]
     },
     "metadata": {},
     "output_type": "display_data"
    }
   ],
   "source": [
    "pd.DataFrame(eigval).plot(xlim=[0,4]);"
   ]
  },
  {
   "cell_type": "code",
   "execution_count": 46,
   "id": "respected-sucking",
   "metadata": {},
   "outputs": [
    {
     "data": {
      "text/plain": [
       "array([255451.93665114+0.j,      9.09403108+0.j,      1.37875799+0.j,\n",
       "            0.35249664+0.j,      0.3340003 +0.j,      0.26856692+0.j,\n",
       "            0.2534998 +0.j,      0.24634757+0.j,      0.1972162 +0.j,\n",
       "            0.18869885+0.j])"
      ]
     },
     "execution_count": 46,
     "metadata": {},
     "output_type": "execute_result"
    }
   ],
   "source": [
    "eigval[:10]"
   ]
  },
  {
   "cell_type": "markdown",
   "id": "thick-timer",
   "metadata": {},
   "source": [
    "quick notes – if I had to choose to do PCA on this data, I would probably only choose the first/first three eigenvectors for my model\n",
    "\n",
    "    --- The drastic nature of this obviously suggests something is wrong, but this works as an example!!        \n",
    "    \n",
    "    ---who knows, maybe I discovered some kind of world-changing latent finance trend using PCA on 1000 rows of categorical bankruptcy data"
   ]
  },
  {
   "cell_type": "code",
   "execution_count": 47,
   "id": "interstate-speaker",
   "metadata": {},
   "outputs": [],
   "source": [
    "#for sequential feature selction techniues, see stats review "
   ]
  },
  {
   "cell_type": "code",
   "execution_count": 48,
   "id": "south-involvement",
   "metadata": {},
   "outputs": [
    {
     "data": {
      "text/plain": [
       "Index(['price', 'beta', 'volAvg', 'mktCap', 'lastDiv', 'changes', 'cik',\n",
       "       'dcfDiff', 'dcf', 'defaultImage', 'isEtf', 'isActivelyTrading'],\n",
       "      dtype='object')"
      ]
     },
     "execution_count": 48,
     "metadata": {},
     "output_type": "execute_result"
    }
   ],
   "source": [
    "### subset selction using decision tree induction\n",
    "stockdf.describe().columns"
   ]
  },
  {
   "cell_type": "markdown",
   "id": "false-intersection",
   "metadata": {},
   "source": [
    "#### Attempt rpy2"
   ]
  },
  {
   "cell_type": "code",
   "execution_count": 49,
   "id": "martial-latvia",
   "metadata": {},
   "outputs": [],
   "source": [
    "%load_ext rpy2.ipython"
   ]
  },
  {
   "cell_type": "code",
   "execution_count": 50,
   "id": "governmental-modem",
   "metadata": {},
   "outputs": [
    {
     "name": "stderr",
     "output_type": "stream",
     "text": [
      "R[write to console]: Loading required package: ggplot2\n",
      "\n"
     ]
    },
    {
     "data": {
      "text/html": [
       "\n",
       "        <span>BoolVector with 1 elements.</span>\n",
       "        <table>\n",
       "        <tbody>\n",
       "          <tr>\n",
       "          \n",
       "            <td>\n",
       "                   1\n",
       "            </td>\n",
       "          \n",
       "          </tr>\n",
       "        </tbody>\n",
       "        </table>\n",
       "        "
      ],
      "text/plain": [
       "<rpy2.robjects.vectors.BoolVector object at 0x7fa083b111e0> [RTYPES.LGLSXP]\n",
       "R classes: ('logical',)\n",
       "[       1]"
      ]
     },
     "execution_count": 50,
     "metadata": {},
     "output_type": "execute_result"
    }
   ],
   "source": [
    "%R require(ggplot2)"
   ]
  },
  {
   "cell_type": "code",
   "execution_count": 51,
   "id": "intermediate-imperial",
   "metadata": {},
   "outputs": [
    {
     "name": "stdout",
     "output_type": "stream",
     "text": [
      "Index(['symbol', 'price', 'beta', 'volAvg', 'mktCap', 'lastDiv', 'range',\n",
      "       'changes', 'companyName', 'currency', 'cik', 'isin', 'cusip',\n",
      "       'exchange', 'exchangeShortName', 'industry', 'website', 'description',\n",
      "       'ceo', 'sector', 'country', 'fullTimeEmployees', 'phone', 'address',\n",
      "       'city', 'state', 'zip', 'dcfDiff', 'dcf', 'image', 'ipoDate',\n",
      "       'defaultImage', 'isEtf', 'isActivelyTrading', 'price_log2',\n",
      "       'changes_log2'],\n",
      "      dtype='object')\n"
     ]
    }
   ],
   "source": [
    "#define structures\n",
    "#stockdf_notnull = stockdf[stockdf.notnull()].loc[:,['price','beta','isEtf','volAvg','exchangeShortName','lastDiv','changes','sector']]\n",
    "prof_notnull = profiles[profiles.notnull()].loc[:,['price','beta','isEtf','volAvg','exchangeShortName','lastDiv','changes','sector']]\n",
    "\n",
    "#transform, etc. for R input\n",
    "\n",
    "#stock\n",
    "stockdf['price_log2'] = np.log2(stockdf['price'])\n",
    "stockdf['changes_log2'] = np.log2(stockdf['changes'])\n",
    "print(stockdf.columns)\n",
    "\n",
    "#all\n",
    "prof_notnull = prof_notnull[prof_notnull.exchangeShortName != 'MUTUAL_FUND']\n",
    "prof_notnull.isEtf = prof_notnull.isEtf.astype(bool)\n",
    "prof_notnull['price_log2'] = np.log2(prof_notnull['price'])\n",
    "prof_notnull['changes_log2'] = np.log2(prof_notnull['changes'])"
   ]
  },
  {
   "cell_type": "code",
   "execution_count": 52,
   "id": "charitable-blackberry",
   "metadata": {},
   "outputs": [
    {
     "name": "stderr",
     "output_type": "stream",
     "text": [
      "R[write to console]: `geom_smooth()` using method = 'loess' and formula 'y ~ x'\n",
      "\n"
     ]
    },
    {
     "data": {
      "image/png": "[encoded data removed]"
     },
     "metadata": {},
     "output_type": "display_data"
    }
   ],
   "source": [
    "%%R -i prof_notnull\n",
    "\n",
    "#ggplot(data = stockdf_notnull) + geom_point(aes(x = beta, y = price, color = sector,size=volAvg)) \n",
    "\n",
    "ggplot(data = prof_notnull) + geom_point(aes(x = changes_log2, y = price_log2, color = sector, size=volAvg)) + geom_smooth(aes(x = changes_log2, y=price_log2))"
   ]
  },
  {
   "cell_type": "markdown",
   "id": "prompt-violence",
   "metadata": {},
   "source": [
    "quick notes – this is pretty cool, and much more intuitive to use than I expected... will have to use some R-packages for special models (and more ggplot, which is noticably better than mpl)"
   ]
  },
  {
   "cell_type": "markdown",
   "id": "environmental-treaty",
   "metadata": {},
   "source": [
    "## L 5/6"
   ]
  },
  {
   "cell_type": "markdown",
   "id": "alpha-illustration",
   "metadata": {},
   "source": [
    "quick notes – didn't code anything from section on data warehouse. Can potentially implement on AWS"
   ]
  },
  {
   "cell_type": "code",
   "execution_count": 341,
   "id": "tough-parts",
   "metadata": {},
   "outputs": [],
   "source": [
    "from sklearn import tree, preprocessing"
   ]
  },
  {
   "cell_type": "code",
   "execution_count": 342,
   "id": "incomplete-motor",
   "metadata": {},
   "outputs": [],
   "source": [
    "#drop unneeded cols\n",
    "brupt_tree_data = brupt.drop(labels = ['index','Debtor Name','Date Filed','Inc. State','District Filed','City Filed','Headquarters City','Date Disposed',\"Debtor's Attorney\", 'Assets_minmax','Assets_zScaled','Industry Group','Refiled',\n",
    "                                      'Disposition'],axis=1)\n",
    "#drop duplicate columns\n",
    "brupt_tree_data.drop(labels=['Employee Size','Asset Size'],axis=1,inplace=True)\n",
    "\n",
    "#clean up target var, make binary\n",
    "brupt_tree_data['Business Survival'].replace(['case pending','not classified', 'no data'],'other',inplace=True)\n",
    "brupt_tree_data.drop(index=brupt_tree_data[brupt_tree_data['Business Survival']=='other'].index,inplace=True)\n",
    "\n",
    "#clean up other vars before encoding, drop random cols (unrealistic but I am trying to work quickly to show concept of dt only )\n",
    "brupt_tree_data['Cause'].replace(['Fraud','Asbestos','Pension','Fraud','Other tort','Other products','Environmental','Patent'],'Tort',inplace=True)\n",
    "bript_tree_data = brupt_tree_data[brupt_tree_data['Filing Party']!= 'debtors and creditors']\n",
    "bript_tree_data = brupt_tree_data[brupt_tree_data['Plan Type']!= 'not applicable']\n",
    "\n",
    "#Encode\n",
    "\n",
    "cat_columns = [\n",
    "    'Industry Division', 'Cause', '363sale', 'Forum Shopping','Filing Party','Plan Type','Chapter at Filing'\n",
    "]\n",
    "\n",
    "for col in cat_columns:\n",
    "    \n",
    "    brupt_tree_data[col] = brupt_tree_data[col].astype(dtype='category')\n",
    "    #label encoder\n",
    "    #brupt_tree_data[col] = brupt_tree_data[col].cat.codes\n",
    "\n",
    "\n",
    "\n",
    "targ = 'Business Survival'\n",
    "DATA = brupt_tree_data.dropna()\n",
    "TARGET = DATA[targ]\n",
    "DATA.drop(columns=[targ],inplace=True)\n",
    "\n",
    "#onehot encoder – not ideal for decision trees, but quickly works \n",
    "DATA = pd.get_dummies(DATA) ##Keep first col, unlike reg!"
   ]
  },
  {
   "cell_type": "code",
   "execution_count": 343,
   "id": "liquid-piano",
   "metadata": {},
   "outputs": [
    {
     "data": {
      "text/plain": [
       "Chapter 11    1145\n",
       "Chapter 7       24\n",
       "Name: Chapter at Filing, dtype: int64"
      ]
     },
     "execution_count": 343,
     "metadata": {},
     "output_type": "execute_result"
    }
   ],
   "source": [
    "brupt_tree_data['Chapter at Filing'].value_counts()"
   ]
  },
  {
   "cell_type": "code",
   "execution_count": 344,
   "id": "noble-immune",
   "metadata": {},
   "outputs": [
    {
     "data": {
      "text/plain": [
       "DecisionTreeClassifier(max_depth=2, min_impurity_split=0.1)"
      ]
     },
     "execution_count": 344,
     "metadata": {},
     "output_type": "execute_result"
    }
   ],
   "source": [
    "dct1 = tree.DecisionTreeClassifier(max_depth=2,criterion='gini',min_impurity_split=.1) #specify split criterion, stopping criterion, max_depth\n",
    "dct1.fit(DATA,TARGET)"
   ]
  },
  {
   "cell_type": "code",
   "execution_count": 345,
   "id": "treated-flood",
   "metadata": {},
   "outputs": [
    {
     "data": {
      "image/png": "[encoded data removed]",
      "text/plain": [
       "<Figure size 1440x360 with 1 Axes>"
      ]
     },
     "metadata": {},
     "output_type": "display_data"
    }
   ],
   "source": [
    "fig = plt.figure(figsize=(20,5))\n",
    "tree.plot_tree(dct1,filled=True,feature_names=DATA.columns);"
   ]
  },
  {
   "cell_type": "markdown",
   "id": "loving-storage",
   "metadata": {},
   "source": [
    "#### quick notes  \n",
    "\n",
    "    ---it seems strangely difficult to get sklearn's regular decision tree classifier to use categorical data correctly, even with multiple types of encoding tried?  \n",
    "    --- sklearn just refuses to acknowledge these vars as categorical the way a typical decision tree would. Looking online it seems this is a common issue!\n",
    "    \n",
    "    ---I would not use a decision tree for this type of problem to begin with, but again, here is just a bit of an example\n",
    "    ---Obviously would use CV, eval measures to check tree\n",
    "    \n",
    "    ---Now lets check out a decision tree with realsistic parameters, and check some visualizaions"
   ]
  },
  {
   "cell_type": "code",
   "execution_count": 358,
   "id": "demanding-mozambique",
   "metadata": {},
   "outputs": [],
   "source": [
    "from sklearn.model_selection import train_test_split as tts\n",
    "from sklearn.metrics import accuracy_score\n",
    "X_train, X_test, y_train, y_test = tts(DATA, TARGET)\n",
    "\n",
    "max_depth = 50\n",
    "    \n",
    "metrics = pd.DataFrame(columns=['n','accuracy_depth','accuracy_nodes'])\n",
    "for i in range(2,max_depth+1):\n",
    "    #lets make one more tree w/ more realistic parameters & test \n",
    "    depthtree = tree.DecisionTreeClassifier(max_depth=i)\n",
    "    nodetree = tree.DecisionTreeClassifier(max_leaf_nodes=i)\n",
    "    \n",
    "    depthtree.fit(X_train,y_train)\n",
    "    nodetree.fit(X_train,y_train)\n",
    "    \n",
    "    depth_pred = depthtree.predict(X_test)\n",
    "    node_pred = nodetree.predict(X_test)\n",
    "    \n",
    "    acc_depth = accuracy_score(y_test,depth_pred)\n",
    "    acc_node = accuracy_score(y_test,node_pred)\n",
    "    \n",
    "    metrics = metrics.append({'n':i,'accuracy_depth':acc_depth,'accuracy_nodes':acc_node},ignore_index=True)"
   ]
  },
  {
   "cell_type": "code",
   "execution_count": 359,
   "id": "alike-version",
   "metadata": {},
   "outputs": [
    {
     "data": {
      "image/png": "[encoded data removed]",
      "text/plain": [
       "<Figure size 432x288 with 1 Axes>"
      ]
     },
     "metadata": {},
     "output_type": "display_data"
    },
    {
     "data": {
      "image/png": "[encoded data removed]",
      "text/plain": [
       "<Figure size 432x288 with 1 Axes>"
      ]
     },
     "metadata": {},
     "output_type": "display_data"
    }
   ],
   "source": [
    "plt.plot('n','accuracy_depth',data=metrics)\n",
    "plt.title('Accuracy vs. Max Depth')\n",
    "plt.ylabel('Accuracy')\n",
    "plt.xlabel('Max Depth')\n",
    "plt.show()\n",
    "\n",
    "plt.plot('n','accuracy_nodes',data=metrics)\n",
    "plt.title('Max Nodes vs. Accuracy')\n",
    "plt.ylabel('Accuracy')\n",
    "plt.xlabel('Max Leaf Nodes')\n",
    "plt.show()"
   ]
  },
  {
   "cell_type": "markdown",
   "id": "prompt-oriental",
   "metadata": {},
   "source": [
    "#### quick notes   \n",
    "\n",
    "    ---It is obvious that overfitting sets in quickly in regards to these two featured parameters\n",
    "    ---Considering simplicity of model selection, accuracy of ~.8 for the two best parameters is actually not bad!\n",
    "    ---Obviously performing a gridsearch on this tree would be better than iterating through single parameter at a time, but works well to demonstrate overfitting\n",
    "    ---below is one final model w/ best params from above"
   ]
  },
  {
   "cell_type": "code",
   "execution_count": 419,
   "id": "entire-encoding",
   "metadata": {},
   "outputs": [
    {
     "name": "stdout",
     "output_type": "stream",
     "text": [
      "Final Accuracy (No CV, primitive multiple univariate gridsearch): 0.8210526315789474\n",
      "\n",
      "\n"
     ]
    },
    {
     "data": {
      "image/png": "[encoded data removed]",
      "text/plain": [
       "<Figure size 720x720 with 1 Axes>"
      ]
     },
     "metadata": {},
     "output_type": "display_data"
    },
    {
     "name": "stdout",
     "output_type": "stream",
     "text": [
      "FEATURE IMPORTANCE RANKED\n",
      "\n",
      "1 – 363sale_363 sale: [0.59379916]\n",
      "2 – Industry Division_H: Finance, Insurance, And Real Estate: [0.15089585]\n",
      "3 – Plan Type_free fall: [0.06537803]\n",
      "4 – Employees: [0.0598194]\n",
      "5 – Industry Division_D: Manufacturing: [0.04718262]\n",
      "6 – Duration: [0.04666947]\n",
      "7 – Annual Sales: [0.03625546]\n"
     ]
    }
   ],
   "source": [
    "#Create final model w/ best of both parameters\n",
    "\n",
    "#lets make one more tree w/ more realistic parameters & test \n",
    "\n",
    "#optimal depth\n",
    "o_depth = int(metrics[metrics['accuracy_depth']==metrics['accuracy_depth'].max()].loc[:,'n'].min())#note using min to keep the model as simple as possible if similar accuracy for more and less complex models!!!\n",
    "#optimal leaf nodes\n",
    "o_nodes = int(metrics[metrics['accuracy_nodes']==metrics['accuracy_nodes'].max()].loc[:,'n'].min())\n",
    "\n",
    "finaltree = tree.DecisionTreeClassifier(max_depth=o_depth,max_leaf_nodes=o_nodes)\n",
    "\n",
    "finaltree.fit(X_train,y_train)\n",
    "\n",
    "final_pred = finaltree.predict(X_test)\n",
    "\n",
    "acc_final = accuracy_score(y_test,final_pred)\n",
    "\n",
    "print('Final Accuracy (No CV, primitive multiple univariate gridsearch): {}\\n\\n'.format(acc_final))\n",
    "\n",
    "#terrible plot of 'optimal' tree... \n",
    "fig = plt.figure(figsize=(10,10))\n",
    "tree.plot_tree(finaltree,filled=True,feature_names=DATA.columns);\n",
    "plt.title('Not So Readable Plot of Final Tree')\n",
    "plt.show();\n",
    "\n",
    "#rank features by importance and show\n",
    "\n",
    "ranked_features = pd.DataFrame(finaltree.feature_importances_).sort_values(by=0,ascending=False)\n",
    "ranked_features_index = ranked_features[ranked_features[0]!=0].index\n",
    "print('FEATURE IMPORTANCE RANKED\\n')\n",
    "for n, i in enumerate(ranked_features_index,start=1):\n",
    "    feature = DATA.columns.values[i]\n",
    "    score = ranked_features.loc[i].values\n",
    "    print('{} – {}: {}'.format(n,feature,score))"
   ]
  },
  {
   "cell_type": "markdown",
   "id": "hindu-score",
   "metadata": {},
   "source": [
    "#### quick notes   \n",
    "\n",
    "    ---again, not bad for primitive model selection, preprocessing, feature selection, etc... Would obviously like to CV and be more thorough w/ whole process. BUT, this is good example"
   ]
  },
  {
   "cell_type": "markdown",
   "id": "funded-impression",
   "metadata": {},
   "source": [
    "## L7"
   ]
  },
  {
   "cell_type": "code",
   "execution_count": null,
   "id": "exempt-restaurant",
   "metadata": {},
   "outputs": [],
   "source": []
  },
  {
   "cell_type": "code",
   "execution_count": null,
   "id": "driving-initial",
   "metadata": {},
   "outputs": [],
   "source": []
  },
  {
   "cell_type": "code",
   "execution_count": null,
   "id": "accomplished-failing",
   "metadata": {},
   "outputs": [],
   "source": []
  }
 ],
 "metadata": {
  "kernelspec": {
   "display_name": "Python 3",
   "language": "python",
   "name": "python3"
  },
  "language_info": {
   "codemirror_mode": {
    "name": "ipython",
    "version": 3
   },
   "file_extension": ".py",
   "mimetype": "text/x-python",
   "name": "python",
   "nbconvert_exporter": "python",
   "pygments_lexer": "ipython3",
   "version": "3.7.6"
  }
 },
 "nbformat": 4,
 "nbformat_minor": 5
}
