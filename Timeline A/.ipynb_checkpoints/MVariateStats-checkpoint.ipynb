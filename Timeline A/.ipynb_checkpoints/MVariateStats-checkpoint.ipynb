{
 "cells": [
  {
   "cell_type": "markdown",
   "id": "stuffed-reception",
   "metadata": {},
   "source": [
    "# Beginning R File"
   ]
  },
  {
   "cell_type": "code",
   "execution_count": 8,
   "id": "original-consensus",
   "metadata": {},
   "outputs": [
    {
     "name": "stderr",
     "output_type": "stream",
     "text": [
      "Warning message:\n",
      "“unable to access index for repository https://cran.r-project.org/src/contrib:\n",
      "  cannot open URL 'https://cran.r-project.org/src/contrib/PACKAGES'”Warning message:\n",
      "“package ‘astsa’ is not available (for R version 3.6.1)”"
     ]
    }
   ],
   "source": [
    "install.packages(\"astsa\")"
   ]
  },
  {
   "cell_type": "code",
   "execution_count": 9,
   "id": "constant-broadcasting",
   "metadata": {},
   "outputs": [],
   "source": [
    "library(astsa)"
   ]
  },
  {
   "cell_type": "code",
   "execution_count": 10,
   "id": "informational-atlanta",
   "metadata": {},
   "outputs": [],
   "source": [
    ".First <- function(){library(astsa)}"
   ]
  },
  {
   "cell_type": "code",
   "execution_count": 11,
   "id": "lesser-distribution",
   "metadata": {},
   "outputs": [
    {
     "name": "stdout",
     "output_type": "stream",
     "text": [
      "If the browser launched by '/usr/bin/open' is already running, it is\n",
      "    *not* restarted, and you must switch to its window.\n",
      "Otherwise, be patient ...\n"
     ]
    }
   ],
   "source": [
    "help.start()"
   ]
  },
  {
   "cell_type": "code",
   "execution_count": 25,
   "id": "curious-swift",
   "metadata": {},
   "outputs": [
    {
     "name": "stderr",
     "output_type": "stream",
     "text": [
      "also installing the dependency ‘isoband’\n",
      "\n",
      "Updating HTML index of packages in '.Library'\n",
      "Making 'packages.html' ... done\n"
     ]
    }
   ],
   "source": [
    "install.packages(\"ggplot2\")"
   ]
  },
  {
   "cell_type": "code",
   "execution_count": null,
   "id": "controlled-drinking",
   "metadata": {},
   "outputs": [],
   "source": [
    "library(ggplot2)"
   ]
  }
 ],
 "metadata": {
  "kernelspec": {
   "display_name": "R",
   "language": "R",
   "name": "ir"
  },
  "language_info": {
   "codemirror_mode": "r",
   "file_extension": ".r",
   "mimetype": "text/x-r-source",
   "name": "R",
   "pygments_lexer": "r",
   "version": "3.6.1"
  }
 },
 "nbformat": 4,
 "nbformat_minor": 5
}
