{
 "cells": [
  {
   "cell_type": "markdown",
   "id": "romantic-upgrade",
   "metadata": {},
   "source": [
    "# Quick Data Science Concept Review\n",
    "coding up a couple quick concepts while I do review to make it more interresting"
   ]
  },
  {
   "cell_type": "code",
   "execution_count": 305,
   "id": "molecular-palestinian",
   "metadata": {},
   "outputs": [],
   "source": [
    "#database\n",
    "import sqlite3\n",
    "\n",
    "#structures and linalg\n",
    "import pandas as pd\n",
    "pd.set_option('display.float_format', lambda x: '%.2f' % x)\n",
    "pd.set_option('max_columns',None)\n",
    "import numpy as np\n",
    "\n",
    "#stats\n",
    "import statsmodels.api as sm\n",
    "import scipy\n",
    "\n",
    "#other\n",
    "import sys\n",
    "import seaborn as sns\n",
    "sns.set_style('darkgrid')\n",
    "import matplotlib.pyplot as plt\n",
    "\n",
    "#dont need api stuff\n",
    "sys.path.insert(1, '/Users/verbeck/Desktop/Finance/Technology/Project/Setup/Resources')\n",
    "from generalHelpers import getAllTables, getTableNames, getTable, displayM"
   ]
  },
  {
   "cell_type": "code",
   "execution_count": 419,
   "id": "departmental-missouri",
   "metadata": {},
   "outputs": [],
   "source": [
    "import math"
   ]
  },
  {
   "cell_type": "markdown",
   "id": "incomplete-spice",
   "metadata": {},
   "source": [
    "## Table of Contents\n",
    "[L2](#L2), [L3](#l3)"
   ]
  },
  {
   "cell_type": "code",
   "execution_count": 2,
   "id": "synthetic-ceiling",
   "metadata": {},
   "outputs": [],
   "source": [
    "#retrieve tablenames to decide on data to use\n",
    "table_names = getTableNames('../../FinancesSp500.db')\n",
    "table_names.T\n",
    "profiles = getTable('../../FinancesSp500.db','CV_PROFILE')"
   ]
  },
  {
   "cell_type": "code",
   "execution_count": 3,
   "id": "weighted-south",
   "metadata": {},
   "outputs": [
    {
     "data": {
      "text/html": [
       "<div>\n",
       "<style scoped>\n",
       "    .dataframe tbody tr th:only-of-type {\n",
       "        vertical-align: middle;\n",
       "    }\n",
       "\n",
       "    .dataframe tbody tr th {\n",
       "        vertical-align: top;\n",
       "    }\n",
       "\n",
       "    .dataframe thead th {\n",
       "        text-align: right;\n",
       "    }\n",
       "</style>\n",
       "<table border=\"1\" class=\"dataframe\">\n",
       "  <thead>\n",
       "    <tr style=\"text-align: right;\">\n",
       "      <th></th>\n",
       "      <th>symbol</th>\n",
       "      <th>price</th>\n",
       "      <th>beta</th>\n",
       "      <th>volAvg</th>\n",
       "      <th>mktCap</th>\n",
       "      <th>lastDiv</th>\n",
       "      <th>range</th>\n",
       "      <th>changes</th>\n",
       "      <th>companyName</th>\n",
       "      <th>currency</th>\n",
       "      <th>cik</th>\n",
       "      <th>isin</th>\n",
       "      <th>cusip</th>\n",
       "      <th>exchange</th>\n",
       "      <th>exchangeShortName</th>\n",
       "      <th>industry</th>\n",
       "      <th>website</th>\n",
       "      <th>description</th>\n",
       "      <th>ceo</th>\n",
       "      <th>sector</th>\n",
       "      <th>country</th>\n",
       "      <th>fullTimeEmployees</th>\n",
       "      <th>phone</th>\n",
       "      <th>address</th>\n",
       "      <th>city</th>\n",
       "      <th>state</th>\n",
       "      <th>zip</th>\n",
       "      <th>dcfDiff</th>\n",
       "      <th>dcf</th>\n",
       "      <th>image</th>\n",
       "      <th>ipoDate</th>\n",
       "      <th>defaultImage</th>\n",
       "      <th>isEtf</th>\n",
       "      <th>isActivelyTrading</th>\n",
       "    </tr>\n",
       "  </thead>\n",
       "  <tbody>\n",
       "    <tr>\n",
       "      <th>0</th>\n",
       "      <td>SPY</td>\n",
       "      <td>380.01</td>\n",
       "      <td>0.00</td>\n",
       "      <td>67815601.00</td>\n",
       "      <td>348766339000</td>\n",
       "      <td>5.69</td>\n",
       "      <td>218.26-394.17</td>\n",
       "      <td>-2.32</td>\n",
       "      <td>SPDR S&amp;P 500</td>\n",
       "      <td>USD</td>\n",
       "      <td>884394.00</td>\n",
       "      <td>US78462F1030</td>\n",
       "      <td>78462F103</td>\n",
       "      <td>NYSE Arca</td>\n",
       "      <td>NYSE</td>\n",
       "      <td></td>\n",
       "      <td></td>\n",
       "      <td>The investment seeks to provide investment res...</td>\n",
       "      <td>None</td>\n",
       "      <td></td>\n",
       "      <td>US</td>\n",
       "      <td></td>\n",
       "      <td>866-732-8673</td>\n",
       "      <td>None</td>\n",
       "      <td>None</td>\n",
       "      <td>None</td>\n",
       "      <td>None</td>\n",
       "      <td>NaN</td>\n",
       "      <td>0.00</td>\n",
       "      <td>https://financialmodelingprep.com/image-stock/...</td>\n",
       "      <td>1993-01-22</td>\n",
       "      <td>0</td>\n",
       "      <td>1</td>\n",
       "      <td>1</td>\n",
       "    </tr>\n",
       "    <tr>\n",
       "      <th>1</th>\n",
       "      <td>CMCSA</td>\n",
       "      <td>52.72</td>\n",
       "      <td>0.91</td>\n",
       "      <td>17309455.00</td>\n",
       "      <td>241492410000</td>\n",
       "      <td>0.92</td>\n",
       "      <td>31.71-53.6</td>\n",
       "      <td>0.48</td>\n",
       "      <td>Comcast Corp</td>\n",
       "      <td>USD</td>\n",
       "      <td>1166691.00</td>\n",
       "      <td>US20030N1019</td>\n",
       "      <td>20030N101</td>\n",
       "      <td>Nasdaq Global Select</td>\n",
       "      <td>NASDAQ</td>\n",
       "      <td>Entertainment</td>\n",
       "      <td>https://corporate.comcast.com/</td>\n",
       "      <td>Comcast Corporation operates as a media and te...</td>\n",
       "      <td>Mr. Brian Roberts</td>\n",
       "      <td>Communication Services</td>\n",
       "      <td>US</td>\n",
       "      <td>190000</td>\n",
       "      <td>12152861700</td>\n",
       "      <td>1 Comcast Ctr</td>\n",
       "      <td>Philadelphia</td>\n",
       "      <td>PENNSYLVANIA</td>\n",
       "      <td>19103</td>\n",
       "      <td>89.99</td>\n",
       "      <td>45.71</td>\n",
       "      <td>https://financialmodelingprep.com/image-stock/...</td>\n",
       "      <td>2001-12-07</td>\n",
       "      <td>0</td>\n",
       "      <td>0</td>\n",
       "      <td>1</td>\n",
       "    </tr>\n",
       "  </tbody>\n",
       "</table>\n",
       "</div>"
      ],
      "text/plain": [
       "  symbol  price  beta      volAvg        mktCap  lastDiv          range  \\\n",
       "0    SPY 380.01  0.00 67815601.00  348766339000     5.69  218.26-394.17   \n",
       "1  CMCSA  52.72  0.91 17309455.00  241492410000     0.92     31.71-53.6   \n",
       "\n",
       "   changes   companyName currency        cik          isin      cusip  \\\n",
       "0    -2.32  SPDR S&P 500      USD  884394.00  US78462F1030  78462F103   \n",
       "1     0.48  Comcast Corp      USD 1166691.00  US20030N1019  20030N101   \n",
       "\n",
       "               exchange exchangeShortName       industry  \\\n",
       "0             NYSE Arca              NYSE                  \n",
       "1  Nasdaq Global Select            NASDAQ  Entertainment   \n",
       "\n",
       "                          website  \\\n",
       "0                                   \n",
       "1  https://corporate.comcast.com/   \n",
       "\n",
       "                                         description                ceo  \\\n",
       "0  The investment seeks to provide investment res...               None   \n",
       "1  Comcast Corporation operates as a media and te...  Mr. Brian Roberts   \n",
       "\n",
       "                   sector country fullTimeEmployees         phone  \\\n",
       "0                              US                    866-732-8673   \n",
       "1  Communication Services      US            190000   12152861700   \n",
       "\n",
       "         address          city         state    zip  dcfDiff   dcf  \\\n",
       "0           None          None          None   None      NaN  0.00   \n",
       "1  1 Comcast Ctr  Philadelphia  PENNSYLVANIA  19103    89.99 45.71   \n",
       "\n",
       "                                               image     ipoDate  \\\n",
       "0  https://financialmodelingprep.com/image-stock/...  1993-01-22   \n",
       "1  https://financialmodelingprep.com/image-stock/...  2001-12-07   \n",
       "\n",
       "   defaultImage  isEtf  isActivelyTrading  \n",
       "0             0      1                  1  \n",
       "1             0      0                  1  "
      ]
     },
     "metadata": {},
     "output_type": "display_data"
    },
    {
     "name": "stdout",
     "output_type": "stream",
     "text": [
      "<class 'pandas.core.frame.DataFrame'>\n",
      "RangeIndex: 620 entries, 0 to 619\n",
      "Data columns (total 34 columns):\n",
      " #   Column             Non-Null Count  Dtype  \n",
      "---  ------             --------------  -----  \n",
      " 0   symbol             620 non-null    object \n",
      " 1   price              620 non-null    float64\n",
      " 2   beta               620 non-null    float64\n",
      " 3   volAvg             619 non-null    float64\n",
      " 4   mktCap             620 non-null    int64  \n",
      " 5   lastDiv            620 non-null    float64\n",
      " 6   range              620 non-null    object \n",
      " 7   changes            620 non-null    float64\n",
      " 8   companyName        620 non-null    object \n",
      " 9   currency           620 non-null    object \n",
      " 10  cik                509 non-null    float64\n",
      " 11  isin               508 non-null    object \n",
      " 12  cusip              506 non-null    object \n",
      " 13  exchange           619 non-null    object \n",
      " 14  exchangeShortName  620 non-null    object \n",
      " 15  industry           615 non-null    object \n",
      " 16  website            615 non-null    object \n",
      " 17  description        609 non-null    object \n",
      " 18  ceo                617 non-null    object \n",
      " 19  sector             618 non-null    object \n",
      " 20  country            620 non-null    object \n",
      " 21  fullTimeEmployees  531 non-null    object \n",
      " 22  phone              618 non-null    object \n",
      " 23  address            615 non-null    object \n",
      " 24  city               553 non-null    object \n",
      " 25  state              553 non-null    object \n",
      " 26  zip                491 non-null    object \n",
      " 27  dcfDiff            318 non-null    float64\n",
      " 28  dcf                552 non-null    float64\n",
      " 29  image              620 non-null    object \n",
      " 30  ipoDate            556 non-null    object \n",
      " 31  defaultImage       620 non-null    int64  \n",
      " 32  isEtf              620 non-null    int64  \n",
      " 33  isActivelyTrading  620 non-null    int64  \n",
      "dtypes: float64(8), int64(4), object(22)\n",
      "memory usage: 164.8+ KB\n"
     ]
    }
   ],
   "source": [
    "#check out dtypes, structure of data\n",
    "display(profiles.head(2))\n",
    "profiles.info()"
   ]
  },
  {
   "cell_type": "code",
   "execution_count": 99,
   "id": "painted-holiday",
   "metadata": {},
   "outputs": [],
   "source": [
    "#another way of distinguishing w/out copying or pointing\n",
    "etf = (profiles.isEtf == True)\n",
    "mf = (profiles.exchangeShortName =='MUTUAL_FUND')\n",
    "stocks = (~( etf | mf ))"
   ]
  },
  {
   "cell_type": "markdown",
   "id": "generous-checklist",
   "metadata": {},
   "source": [
    "<a id='L2'></a> \n",
    "## L2"
   ]
  },
  {
   "cell_type": "code",
   "execution_count": 74,
   "id": "educated-cycling",
   "metadata": {},
   "outputs": [
    {
     "data": {
      "text/plain": [
       "symbol                object\n",
       "price                float64\n",
       "beta                 float64\n",
       "volAvg               float64\n",
       "mktCap                 int64\n",
       "lastDiv              float64\n",
       "range                 object\n",
       "changes              float64\n",
       "companyName           object\n",
       "currency              object\n",
       "cik                  float64\n",
       "isin                  object\n",
       "cusip                 object\n",
       "exchange              object\n",
       "exchangeShortName     object\n",
       "industry              object\n",
       "website               object\n",
       "description           object\n",
       "ceo                   object\n",
       "sector                object\n",
       "country               object\n",
       "fullTimeEmployees     object\n",
       "phone                 object\n",
       "address               object\n",
       "city                  object\n",
       "state                 object\n",
       "zip                   object\n",
       "dcfDiff              float64\n",
       "dcf                  float64\n",
       "image                 object\n",
       "ipoDate               object\n",
       "defaultImage           int64\n",
       "isEtf                  int64\n",
       "isActivelyTrading      int64\n",
       "dtype: object"
      ]
     },
     "execution_count": 74,
     "metadata": {},
     "output_type": "execute_result"
    }
   ],
   "source": [
    "#Data cleaning......check out dtypes for automation insights\n",
    "profiles.dtypes"
   ]
  },
  {
   "cell_type": "code",
   "execution_count": 64,
   "id": "raised-biology",
   "metadata": {},
   "outputs": [
    {
     "name": "stdout",
     "output_type": "stream",
     "text": [
      "Total Null For Stocks Profiles: 217\n"
     ]
    },
    {
     "data": {
      "image/png": "[encoded data removed]",
      "text/plain": [
       "<Figure size 1440x360 with 2 Axes>"
      ]
     },
     "metadata": {},
     "output_type": "display_data"
    }
   ],
   "source": [
    "#check Missing Data for profiles\n",
    "fig,axes = plt.subplots(1,2,figsize=(20,5))\n",
    "print('Total Null For Stocks Profiles:',profiles[stocks].isnull().sum().sum())\n",
    "ax1 = profiles[stocks].isnull().sum(axis=1).plot(kind='hist',bins = 20,ax=axes[0])\n",
    "ax1.set_title('Null Distribution by Column')\n",
    "ax1.set_xlabel('# NA Attributes')\n",
    "ax2 = profiles[stocks].isnull().sum().plot(kind='bar',ax=axes[1])\n",
    "for p in ax2.patches: #https://stackoverflow.com/questions/25447700/annotate-bars-with-values-on-pandas-bar-plots\n",
    "    ax2.annotate(str(p.get_height()), (p.get_x() * 1.005, p.get_height() * 1.005))\n",
    "ax2.set_title('Sum NA by Columns')\n",
    "plt.show()"
   ]
  },
  {
   "cell_type": "code",
   "execution_count": 345,
   "id": "czech-norman",
   "metadata": {},
   "outputs": [],
   "source": [
    "import warnings ##Not useful for this file's purposes, except to get in the way\n",
    "warnings.filterwarnings(\"ignore\")"
   ]
  },
  {
   "cell_type": "code",
   "execution_count": 346,
   "id": "acting-developer",
   "metadata": {},
   "outputs": [],
   "source": [
    "#global constant example\n",
    "ZIP_FILL = '000000'\n",
    "zip_fill_index = profiles[stocks][profiles[stocks].zip.isnull()].index\n",
    "profiles[stocks].loc[zip_fill_index,'zip'] = ZIP_FILL\n",
    "##ignore pandas warning, only for example"
   ]
  },
  {
   "cell_type": "code",
   "execution_count": 359,
   "id": "prospective-customer",
   "metadata": {},
   "outputs": [],
   "source": [
    "#check missing data for prices \n",
    "prices = getTable('../../FinancesSp500.db','TS_PRICE_DAY')"
   ]
  },
  {
   "cell_type": "code",
   "execution_count": 360,
   "id": "turned-freedom",
   "metadata": {},
   "outputs": [
    {
     "data": {
      "text/plain": [
       "date                 0\n",
       "open                 0\n",
       "high                 0\n",
       "low                  0\n",
       "close                0\n",
       "adjClose             0\n",
       "volume              11\n",
       "unadjustedVolume    11\n",
       "change               0\n",
       "changePercent        0\n",
       "vwap                11\n",
       "label                0\n",
       "changeOverTime       0\n",
       "symbol               0\n",
       "dtype: int64"
      ]
     },
     "execution_count": 360,
     "metadata": {},
     "output_type": "execute_result"
    }
   ],
   "source": [
    "prices.isnull().sum()"
   ]
  },
  {
   "cell_type": "code",
   "execution_count": 361,
   "id": "challenging-dictionary",
   "metadata": {},
   "outputs": [
    {
     "data": {
      "text/html": [
       "<div>\n",
       "<style scoped>\n",
       "    .dataframe tbody tr th:only-of-type {\n",
       "        vertical-align: middle;\n",
       "    }\n",
       "\n",
       "    .dataframe tbody tr th {\n",
       "        vertical-align: top;\n",
       "    }\n",
       "\n",
       "    .dataframe thead th {\n",
       "        text-align: right;\n",
       "    }\n",
       "</style>\n",
       "<table border=\"1\" class=\"dataframe\">\n",
       "  <thead>\n",
       "    <tr style=\"text-align: right;\">\n",
       "      <th></th>\n",
       "      <th>date</th>\n",
       "      <th>open</th>\n",
       "      <th>high</th>\n",
       "      <th>low</th>\n",
       "      <th>close</th>\n",
       "      <th>adjClose</th>\n",
       "      <th>volume</th>\n",
       "      <th>unadjustedVolume</th>\n",
       "      <th>change</th>\n",
       "      <th>changePercent</th>\n",
       "      <th>vwap</th>\n",
       "      <th>label</th>\n",
       "      <th>changeOverTime</th>\n",
       "      <th>symbol</th>\n",
       "    </tr>\n",
       "  </thead>\n",
       "  <tbody>\n",
       "    <tr>\n",
       "      <th>4056124</th>\n",
       "      <td>2012-11-13</td>\n",
       "      <td>46.88</td>\n",
       "      <td>46.88</td>\n",
       "      <td>46.88</td>\n",
       "      <td>46.88</td>\n",
       "      <td>38.32</td>\n",
       "      <td>NaN</td>\n",
       "      <td>NaN</td>\n",
       "      <td>0.00</td>\n",
       "      <td>0.00</td>\n",
       "      <td>NaN</td>\n",
       "      <td>November 13, 12</td>\n",
       "      <td>0.00</td>\n",
       "      <td>IEFA</td>\n",
       "    </tr>\n",
       "    <tr>\n",
       "      <th>4056135</th>\n",
       "      <td>2012-10-25</td>\n",
       "      <td>47.54</td>\n",
       "      <td>47.54</td>\n",
       "      <td>47.54</td>\n",
       "      <td>47.54</td>\n",
       "      <td>38.85</td>\n",
       "      <td>NaN</td>\n",
       "      <td>NaN</td>\n",
       "      <td>0.00</td>\n",
       "      <td>0.00</td>\n",
       "      <td>NaN</td>\n",
       "      <td>October 25, 12</td>\n",
       "      <td>0.00</td>\n",
       "      <td>IEFA</td>\n",
       "    </tr>\n",
       "    <tr>\n",
       "      <th>4087050</th>\n",
       "      <td>2012-03-13</td>\n",
       "      <td>24.89</td>\n",
       "      <td>24.89</td>\n",
       "      <td>24.89</td>\n",
       "      <td>24.89</td>\n",
       "      <td>22.35</td>\n",
       "      <td>NaN</td>\n",
       "      <td>NaN</td>\n",
       "      <td>0.00</td>\n",
       "      <td>0.00</td>\n",
       "      <td>NaN</td>\n",
       "      <td>March 13, 12</td>\n",
       "      <td>0.00</td>\n",
       "      <td>GOVT</td>\n",
       "    </tr>\n",
       "    <tr>\n",
       "      <th>4087051</th>\n",
       "      <td>2012-03-12</td>\n",
       "      <td>24.89</td>\n",
       "      <td>24.89</td>\n",
       "      <td>24.89</td>\n",
       "      <td>24.89</td>\n",
       "      <td>22.35</td>\n",
       "      <td>NaN</td>\n",
       "      <td>NaN</td>\n",
       "      <td>0.00</td>\n",
       "      <td>0.00</td>\n",
       "      <td>NaN</td>\n",
       "      <td>March 12, 12</td>\n",
       "      <td>0.00</td>\n",
       "      <td>GOVT</td>\n",
       "    </tr>\n",
       "    <tr>\n",
       "      <th>4087055</th>\n",
       "      <td>2012-03-06</td>\n",
       "      <td>24.82</td>\n",
       "      <td>24.82</td>\n",
       "      <td>24.82</td>\n",
       "      <td>24.82</td>\n",
       "      <td>22.29</td>\n",
       "      <td>NaN</td>\n",
       "      <td>NaN</td>\n",
       "      <td>0.00</td>\n",
       "      <td>0.00</td>\n",
       "      <td>NaN</td>\n",
       "      <td>March 06, 12</td>\n",
       "      <td>0.00</td>\n",
       "      <td>GOVT</td>\n",
       "    </tr>\n",
       "    <tr>\n",
       "      <th>4087056</th>\n",
       "      <td>2012-03-05</td>\n",
       "      <td>24.82</td>\n",
       "      <td>24.82</td>\n",
       "      <td>24.82</td>\n",
       "      <td>24.82</td>\n",
       "      <td>22.29</td>\n",
       "      <td>NaN</td>\n",
       "      <td>NaN</td>\n",
       "      <td>0.00</td>\n",
       "      <td>0.00</td>\n",
       "      <td>NaN</td>\n",
       "      <td>March 05, 12</td>\n",
       "      <td>0.00</td>\n",
       "      <td>GOVT</td>\n",
       "    </tr>\n",
       "    <tr>\n",
       "      <th>4087057</th>\n",
       "      <td>2012-03-02</td>\n",
       "      <td>24.82</td>\n",
       "      <td>24.82</td>\n",
       "      <td>24.82</td>\n",
       "      <td>24.82</td>\n",
       "      <td>22.29</td>\n",
       "      <td>NaN</td>\n",
       "      <td>NaN</td>\n",
       "      <td>0.00</td>\n",
       "      <td>0.00</td>\n",
       "      <td>NaN</td>\n",
       "      <td>March 02, 12</td>\n",
       "      <td>0.00</td>\n",
       "      <td>GOVT</td>\n",
       "    </tr>\n",
       "    <tr>\n",
       "      <th>4087058</th>\n",
       "      <td>2012-03-01</td>\n",
       "      <td>24.82</td>\n",
       "      <td>24.82</td>\n",
       "      <td>24.82</td>\n",
       "      <td>24.82</td>\n",
       "      <td>22.29</td>\n",
       "      <td>NaN</td>\n",
       "      <td>NaN</td>\n",
       "      <td>0.00</td>\n",
       "      <td>0.00</td>\n",
       "      <td>NaN</td>\n",
       "      <td>March 01, 12</td>\n",
       "      <td>0.00</td>\n",
       "      <td>GOVT</td>\n",
       "    </tr>\n",
       "    <tr>\n",
       "      <th>4087059</th>\n",
       "      <td>2012-02-29</td>\n",
       "      <td>24.82</td>\n",
       "      <td>24.82</td>\n",
       "      <td>24.82</td>\n",
       "      <td>24.82</td>\n",
       "      <td>22.29</td>\n",
       "      <td>NaN</td>\n",
       "      <td>NaN</td>\n",
       "      <td>0.00</td>\n",
       "      <td>0.00</td>\n",
       "      <td>NaN</td>\n",
       "      <td>February 29, 12</td>\n",
       "      <td>0.00</td>\n",
       "      <td>GOVT</td>\n",
       "    </tr>\n",
       "    <tr>\n",
       "      <th>4087060</th>\n",
       "      <td>2012-02-28</td>\n",
       "      <td>24.82</td>\n",
       "      <td>24.82</td>\n",
       "      <td>24.82</td>\n",
       "      <td>24.82</td>\n",
       "      <td>22.29</td>\n",
       "      <td>NaN</td>\n",
       "      <td>NaN</td>\n",
       "      <td>0.00</td>\n",
       "      <td>0.00</td>\n",
       "      <td>NaN</td>\n",
       "      <td>February 28, 12</td>\n",
       "      <td>0.00</td>\n",
       "      <td>GOVT</td>\n",
       "    </tr>\n",
       "    <tr>\n",
       "      <th>4087061</th>\n",
       "      <td>2012-02-27</td>\n",
       "      <td>24.82</td>\n",
       "      <td>24.82</td>\n",
       "      <td>24.82</td>\n",
       "      <td>24.82</td>\n",
       "      <td>22.29</td>\n",
       "      <td>NaN</td>\n",
       "      <td>NaN</td>\n",
       "      <td>0.00</td>\n",
       "      <td>0.00</td>\n",
       "      <td>NaN</td>\n",
       "      <td>February 27, 12</td>\n",
       "      <td>0.00</td>\n",
       "      <td>GOVT</td>\n",
       "    </tr>\n",
       "  </tbody>\n",
       "</table>\n",
       "</div>"
      ],
      "text/plain": [
       "               date  open  high   low  close  adjClose  volume  \\\n",
       "4056124  2012-11-13 46.88 46.88 46.88  46.88     38.32     NaN   \n",
       "4056135  2012-10-25 47.54 47.54 47.54  47.54     38.85     NaN   \n",
       "4087050  2012-03-13 24.89 24.89 24.89  24.89     22.35     NaN   \n",
       "4087051  2012-03-12 24.89 24.89 24.89  24.89     22.35     NaN   \n",
       "4087055  2012-03-06 24.82 24.82 24.82  24.82     22.29     NaN   \n",
       "4087056  2012-03-05 24.82 24.82 24.82  24.82     22.29     NaN   \n",
       "4087057  2012-03-02 24.82 24.82 24.82  24.82     22.29     NaN   \n",
       "4087058  2012-03-01 24.82 24.82 24.82  24.82     22.29     NaN   \n",
       "4087059  2012-02-29 24.82 24.82 24.82  24.82     22.29     NaN   \n",
       "4087060  2012-02-28 24.82 24.82 24.82  24.82     22.29     NaN   \n",
       "4087061  2012-02-27 24.82 24.82 24.82  24.82     22.29     NaN   \n",
       "\n",
       "         unadjustedVolume  change  changePercent  vwap            label  \\\n",
       "4056124               NaN    0.00           0.00   NaN  November 13, 12   \n",
       "4056135               NaN    0.00           0.00   NaN   October 25, 12   \n",
       "4087050               NaN    0.00           0.00   NaN     March 13, 12   \n",
       "4087051               NaN    0.00           0.00   NaN     March 12, 12   \n",
       "4087055               NaN    0.00           0.00   NaN     March 06, 12   \n",
       "4087056               NaN    0.00           0.00   NaN     March 05, 12   \n",
       "4087057               NaN    0.00           0.00   NaN     March 02, 12   \n",
       "4087058               NaN    0.00           0.00   NaN     March 01, 12   \n",
       "4087059               NaN    0.00           0.00   NaN  February 29, 12   \n",
       "4087060               NaN    0.00           0.00   NaN  February 28, 12   \n",
       "4087061               NaN    0.00           0.00   NaN  February 27, 12   \n",
       "\n",
       "         changeOverTime symbol  \n",
       "4056124            0.00   IEFA  \n",
       "4056135            0.00   IEFA  \n",
       "4087050            0.00   GOVT  \n",
       "4087051            0.00   GOVT  \n",
       "4087055            0.00   GOVT  \n",
       "4087056            0.00   GOVT  \n",
       "4087057            0.00   GOVT  \n",
       "4087058            0.00   GOVT  \n",
       "4087059            0.00   GOVT  \n",
       "4087060            0.00   GOVT  \n",
       "4087061            0.00   GOVT  "
      ]
     },
     "execution_count": 361,
     "metadata": {},
     "output_type": "execute_result"
    }
   ],
   "source": [
    "#take a look @ price columns with null values\n",
    "prices[prices.isnull().any(1)]"
   ]
  },
  {
   "cell_type": "code",
   "execution_count": 442,
   "id": "detected-fundamental",
   "metadata": {},
   "outputs": [],
   "source": [
    "#very crude imputation function from scratch\n",
    "def fillTS(df,col):\n",
    "    '''Impute time series data'''\n",
    "    index = df[df[col].isnull()].index\n",
    "    \n",
    "    for i in index:\n",
    "        \n",
    "        ticker = df.loc[i,'symbol']\n",
    "        date = df.loc[i,'date']\n",
    "        \n",
    "        prevDate = df[(df.date<date) & (df.symbol == ticker)].date.max()\n",
    "        nextDate = df[(df.date>date) & (df.symbol == ticker)].date.min()\n",
    "        while (True):\n",
    "            if prevDate: #if prevdate for same symbol, set to that values\n",
    "                newval = df[(df.date==prevDate)&(df.symbol==ticker)].loc[:,col].values[0]\n",
    "                if ~np.isnan(newval):\n",
    "                    df.loc[i,col] = newval\n",
    "                    #print('Set on PREV')\n",
    "                    break\n",
    "            if nextDate: #else set to nextdates value for same symol\n",
    "                newval = df[(df.date==nextDate)&(df.symbol==ticker)].loc[:,col].values[0]\n",
    "                if ~np.isnan(newval):\n",
    "                    df.loc[i,col] = newval\n",
    "                    #print('Set on NEXT')\n",
    "                    break\n",
    "        \n",
    "            print('SET TO 0')\n",
    "            df.loc[i,col] = 0.0\n",
    "            \n",
    "    return df[col]    "
   ]
  },
  {
   "cell_type": "code",
   "execution_count": 443,
   "id": "starting-brown",
   "metadata": {},
   "outputs": [
    {
     "name": "stdout",
     "output_type": "stream",
     "text": [
      "Set on PREV\n",
      "Set on PREV\n",
      "Set on NEXT\n",
      "Set on PREV\n",
      "Set on NEXT\n",
      "Set on NEXT\n",
      "Set on NEXT\n",
      "Set on NEXT\n",
      "Set on NEXT\n",
      "Set on NEXT\n",
      "Set on PREV\n"
     ]
    },
    {
     "data": {
      "text/plain": [
       "0"
      ]
     },
     "execution_count": 443,
     "metadata": {},
     "output_type": "execute_result"
    }
   ],
   "source": [
    "prices2 = prices.copy()\n",
    "prices2['volume'] = fillTS(prices2,'volume')\n",
    "prices2.volume.isnull().sum()"
   ]
  },
  {
   "cell_type": "markdown",
   "id": "freelance-hindu",
   "metadata": {},
   "source": [
    "quick notes – any iterative program like this would be a gigantic bottleneck, but this gets the idea accross"
   ]
  },
  {
   "cell_type": "code",
   "execution_count": 519,
   "id": "constitutional-dominant",
   "metadata": {},
   "outputs": [
    {
     "data": {
      "image/png": "[encoded data removed]",
      "text/plain": [
       "<Figure size 1440x1440 with 8 Axes>"
      ]
     },
     "metadata": {},
     "output_type": "display_data"
    }
   ],
   "source": [
    "#Noisy data? quick check for outliers in continuous variables\n",
    "stockdf = profiles[stocks] #..finally. \n",
    "\n",
    "#get continuous variable list\n",
    "cont_columns = [col for col in stockdf.describe().columns if 'is' not in col.lower()]\n",
    "cont_columns.remove('cik')\n",
    "cont_columns.remove('defaultImage')\n",
    "\n",
    "N_COLS = len(cont_columns)\n",
    "COL_PROW = 2 #decide on number of columns per row– helps to find best view \n",
    "fig, axes = plt.subplots(int(np.ceil(N_COLS/COL_PROW)),COL_PROW,figsize = (20,20))\n",
    "\n",
    "for i, contcol in enumerate(cont_columns):\n",
    "    row = i // COL_PROW\n",
    "    col = i % COL_PROW \n",
    "    #ax = sns.violinplot(stockdf[contcol],ax=axes[row,col],orient='h')\n",
    "    ax = sns.boxplot(stockdf[contcol],ax=axes[row,col],orient='h')\n",
    "    ax.set_title(contcol)\n",
    "plt.show();"
   ]
  },
  {
   "cell_type": "markdown",
   "id": "related-chicken",
   "metadata": {},
   "source": [
    "quick notes – dcf is really the only one where there seems to be a mistake/real outlier. The others can be handled with logging and other techniques"
   ]
  },
  {
   "cell_type": "code",
   "execution_count": 521,
   "id": "sealed-vanilla",
   "metadata": {},
   "outputs": [
    {
     "name": "stdout",
     "output_type": "stream",
     "text": [
      "5 NULL vals in dcf\n"
     ]
    }
   ],
   "source": [
    "##Lets do a quick cleaning of this column (which would not make sense in real life)\n",
    "\n",
    "#for missing data, lets assign class mean! this solut\n",
    "dcf_null = stockdf[stockdf.dcf.isnull()].index\n",
    "print(len(dcf_null),'NULL vals in dcf')\n",
    "means = stockdf.groupby('sector')['dcf'].mean().to_dict()"
   ]
  },
  {
   "cell_type": "code",
   "execution_count": 524,
   "id": "chubby-worker",
   "metadata": {},
   "outputs": [
    {
     "name": "stdout",
     "output_type": "stream",
     "text": [
      "0 NULLS after apply\n"
     ]
    }
   ],
   "source": [
    "stockdf.loc[dcf_null,'dcf'] = stockdf.loc[dcf_null].T.apply(lambda x: means.get(x.sector))\n",
    "\n",
    "print(stockdf.dcf.isnull().sum(),'NULLS after apply')"
   ]
  },
  {
   "cell_type": "markdown",
   "id": "decimal-court",
   "metadata": {},
   "source": [
    "quick notes– scratch solution a bit wonky due to the transposition of df in order to use apply correctly.. actually gave me some insight into writing lambdas"
   ]
  },
  {
   "cell_type": "code",
   "execution_count": 534,
   "id": "level-error",
   "metadata": {},
   "outputs": [
    {
     "name": "stdout",
     "output_type": "stream",
     "text": [
      "Before binning outlier\n"
     ]
    },
    {
     "data": {
      "image/png": "[encoded data removed]",
      "text/plain": [
       "<Figure size 432x288 with 1 Axes>"
      ]
     },
     "metadata": {},
     "output_type": "display_data"
    },
    {
     "name": "stdout",
     "output_type": "stream",
     "text": [
      "After binning outlier\n"
     ]
    },
    {
     "data": {
      "image/png": "[encoded data removed]",
      "text/plain": [
       "<Figure size 432x288 with 1 Axes>"
      ]
     },
     "metadata": {},
     "output_type": "display_data"
    }
   ],
   "source": [
    "#okay, onto outlier\n",
    "print('Before binning outlier')\n",
    "stockdf['dcf'].plot(kind='box')\n",
    "plt.show();\n",
    "#assign noisy variable to class mean\n",
    "outlier_index = stockdf[stockdf.dcf == stockdf.dcf.max()].index\n",
    "stockdf.loc[outlier_index,'dcf'] = means.get(stockdf.loc[outlier_index,'sector'].values[0])\n",
    "print('After binning outlier')\n",
    "stockdf['dcf'].plot(kind='box')\n",
    "plt.show();"
   ]
  },
  {
   "cell_type": "markdown",
   "id": "relevant-reading",
   "metadata": {},
   "source": [
    "quick notes– looks like there are still some outliers that may be enough dev to cause some issues, but the obvious mistake has been corrected. \n",
    "    This may benefit from further smoothing, etc."
   ]
  },
  {
   "cell_type": "code",
   "execution_count": 548,
   "id": "aggressive-retro",
   "metadata": {},
   "outputs": [],
   "source": [
    "#hit the dcf with some equi-depth partitioning\n",
    "new_dcf = pd.qcut(stockdf.dcf,q=3)\n",
    "stocks.dcf = new_dcf"
   ]
  },
  {
   "cell_type": "code",
   "execution_count": 550,
   "id": "hundred-diamond",
   "metadata": {},
   "outputs": [
    {
     "data": {
      "text/plain": [
       "1      (-288.71099999999996, 61.015]\n",
       "2      (-288.71099999999996, 61.015]\n",
       "3      (-288.71099999999996, 61.015]\n",
       "4      (-288.71099999999996, 61.015]\n",
       "6      (-288.71099999999996, 61.015]\n",
       "                   ...              \n",
       "611                (61.015, 143.538]\n",
       "612             (143.538, 71836.941]\n",
       "615    (-288.71099999999996, 61.015]\n",
       "616    (-288.71099999999996, 61.015]\n",
       "617    (-288.71099999999996, 61.015]\n",
       "Name: dcf, Length: 504, dtype: category\n",
       "Categories (3, interval[float64]): [(-288.71099999999996, 61.015] < (61.015, 143.538] < (143.538, 71836.941]]"
      ]
     },
     "execution_count": 550,
     "metadata": {},
     "output_type": "execute_result"
    }
   ],
   "source": [
    "stocks.dcf"
   ]
  },
  {
   "cell_type": "markdown",
   "id": "registered-copper",
   "metadata": {},
   "source": [
    "<a id='L3'></a> \n",
    "## L3"
   ]
  },
  {
   "cell_type": "code",
   "execution_count": null,
   "id": "complicated-vampire",
   "metadata": {},
   "outputs": [],
   "source": []
  }
 ],
 "metadata": {
  "kernelspec": {
   "display_name": "Python 3",
   "language": "python",
   "name": "python3"
  },
  "language_info": {
   "codemirror_mode": {
    "name": "ipython",
    "version": 3
   },
   "file_extension": ".py",
   "mimetype": "text/x-python",
   "name": "python",
   "nbconvert_exporter": "python",
   "pygments_lexer": "ipython3",
   "version": "3.7.6"
  }
 },
 "nbformat": 4,
 "nbformat_minor": 5
}
