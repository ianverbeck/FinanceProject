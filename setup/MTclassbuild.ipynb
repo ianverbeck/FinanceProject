{
 "cells": [
  {
   "cell_type": "code",
   "execution_count": 1,
   "id": "subjective-february",
   "metadata": {},
   "outputs": [],
   "source": [
    "from threading import Thread\n",
    "import concurrent.futures\n",
    "import time\n",
    "\n",
    "import sqlite3\n",
    "\n",
    "import pandas as pd\n",
    "import numpy as np\n",
    "from urllib.request import urlopen  \n",
    "import json\n",
    "import requests\n",
    "\n",
    "getkey = ! cat ../../apikey.txt\n",
    "apikey = getkey[0]\n",
    "\n",
    "from fhelp import get_appended,processDatesIT\n",
    "from FMPGet import FMPGet\n",
    "from getFunctions import ReqInfo"
   ]
  },
  {
   "cell_type": "code",
   "execution_count": null,
   "id": "negative-cinema",
   "metadata": {},
   "outputs": [],
   "source": []
  },
  {
   "cell_type": "code",
   "execution_count": 2,
   "id": "nonprofit-accident",
   "metadata": {},
   "outputs": [],
   "source": [
    "a = FMPGet(apikey,tickerset='sp500')"
   ]
  },
  {
   "cell_type": "code",
   "execution_count": 3,
   "id": "natural-adams",
   "metadata": {},
   "outputs": [
    {
     "name": "stdout",
     "output_type": "stream",
     "text": [
      "Collecting General Data................\n",
      "G1_CAL_EARNINGSCALENDAR_UPC SUCCESS\n",
      "G1_MI_MAJORINDEXES SUCCESS\n",
      "G1_MI_SP500HIST SUCCESS\n",
      "G1_MI_SP500LIST SUCCESS\n",
      "G1_CV_DELISTED SUCCESS\n",
      "G1_INST_CIKLIST SUCCESS\n",
      "G1_CV_ETFS SUCCESS\n",
      "G1_MI_DOWJLIST SUCCESS\n",
      "G1_MI_NASDAQLIST SUCCESS\n",
      "G1_MI_DOWJHISTLIST SUCCESS\n",
      "G1_MI_NASDAQHISTLIST SUCCESS\n",
      "G1_COM_SYMBOLS SUCCESS\n",
      "G1_COM_PRICES SUCCESS\n",
      "G1_ETF_SYMBOLS SUCCESS\n",
      "G1_ETF_PRICES SUCCESS\n",
      "G1_MF_SYMBOLS SUCCESS\n",
      "G1_MF_PRICES SUCCESS\n",
      "G1_CV_SYMBOLS SUCCESS\n",
      "G1_CV_TRADABLE SUCCESS\n",
      "Retrieving sp500-specific tickerset(funds,ciks,indexes,etc)\n",
      "Retrieving stocks and indices\n",
      "Retrieving etfs and commods\n",
      "CV_PROFILE SUCCESS\n",
      "Retrieving funds, inst, and ciks\n",
      "INST_MUTFUNDHOLDERS SUCCESS\n",
      "INST_HOLDERS SUCCESS\n",
      "Retrieving ticker-dependent data\n",
      "CV_PROFILE SUCCESS\n",
      "CV_QUOTE SUCCESS\n",
      "CV_EXECUTIVES SUCCESS\n",
      "CV_FS_INCOME_YR SUCCESS\n",
      "CV_FS_INCOME_QTR SUCCESS\n",
      "CV_FS_BALANCESHEET_YR SUCCESS\n",
      "CV_FS_BALANCESHEET_QTR SUCCESS\n",
      "CV_FS_CASHFLOW_YR SUCCESS\n",
      "CV_FS_CASHFLOW_QTR SUCCESS\n",
      "CV_FS_INCOMEGROWTH_YR SUCCESS\n",
      "CV_FS_BALANCEGROWTH_YR SUCCESS\n",
      "CV_FS_CASHGROWTH_YR SUCCESS\n",
      "Ticker RF FAILED: HTTP Error 500: \n",
      "CV_RATIOS_TTM SUCCESS\n",
      "CV_RATIOS_YR SUCCESS\n",
      "CV_RATIOS_QTR SUCCESS\n",
      "CV_ENTERPRISEVALUE_YR SUCCESS\n",
      "CV_ENTERPRISEVALUE_QTR SUCCESS\n",
      "CV_METRICS_TTM SUCCESS\n",
      "CV_METRICS_YR SUCCESS\n",
      "CV_METRICS_QTR SUCCESS\n",
      "CV_GROWTH_YR SUCCESS\n",
      "CV_GROWTH_QTR SUCCESS\n",
      "CV_RATING SUCCESS\n",
      "Ticker AME FAILED: <urlopen error [Errno 54] Connection reset by peer>\n"
     ]
    },
    {
     "name": "stderr",
     "output_type": "stream",
     "text": [
      "Exception ignored in: <generator object as_completed at 0x7fb8020ef350>\n",
      "Traceback (most recent call last):\n",
      "  File \"/Users/verbeck/opt/anaconda3/lib/python3.7/concurrent/futures/_base.py\", line 250, in as_completed\n",
      "    ref_collect=(fs, pending))\n",
      "KeyboardInterrupt: \n",
      "ERROR:root:Internal Python error in the inspect module.\n",
      "Below is the traceback from this internal error.\n",
      "\n"
     ]
    },
    {
     "name": "stdout",
     "output_type": "stream",
     "text": [
      "Traceback (most recent call last):\n",
      "  File \"/Users/verbeck/Desktop/Finance/Technology/Project/Setup/getFunctions.py\", line 213, in getTableMT\n",
      "    tempdf = tempdf.append(tab)\n",
      "  File \"/Users/verbeck/opt/anaconda3/lib/python3.7/site-packages/pandas/core/frame.py\", line 7983, in append\n",
      "    sort=sort,\n",
      "  File \"/Users/verbeck/opt/anaconda3/lib/python3.7/site-packages/pandas/core/reshape/concat.py\", line 295, in concat\n",
      "    sort=sort,\n",
      "  File \"/Users/verbeck/opt/anaconda3/lib/python3.7/site-packages/pandas/core/reshape/concat.py\", line 373, in __init__\n",
      "    obj._consolidate_inplace()\n",
      "  File \"/Users/verbeck/opt/anaconda3/lib/python3.7/site-packages/pandas/core/generic.py\", line 5538, in _consolidate_inplace\n",
      "    self._protect_consolidate(f)\n",
      "  File \"/Users/verbeck/opt/anaconda3/lib/python3.7/site-packages/pandas/core/generic.py\", line 5526, in _protect_consolidate\n",
      "    result = f()\n",
      "  File \"/Users/verbeck/opt/anaconda3/lib/python3.7/site-packages/pandas/core/generic.py\", line 5536, in f\n",
      "    self._mgr = self._mgr.consolidate()\n",
      "  File \"/Users/verbeck/opt/anaconda3/lib/python3.7/site-packages/pandas/core/internals/managers.py\", line 988, in consolidate\n",
      "    bm._consolidate_inplace()\n",
      "  File \"/Users/verbeck/opt/anaconda3/lib/python3.7/site-packages/pandas/core/internals/managers.py\", line 993, in _consolidate_inplace\n",
      "    self.blocks = tuple(_consolidate(self.blocks))\n",
      "  File \"/Users/verbeck/opt/anaconda3/lib/python3.7/site-packages/pandas/core/internals/managers.py\", line 1917, in _consolidate\n",
      "    list(group_blocks), dtype=dtype, can_consolidate=_can_consolidate\n",
      "  File \"/Users/verbeck/opt/anaconda3/lib/python3.7/site-packages/pandas/core/internals/managers.py\", line 1942, in _merge_blocks\n",
      "    new_values = new_values[argsort]\n",
      "KeyboardInterrupt\n",
      "\n",
      "During handling of the above exception, another exception occurred:\n",
      "\n",
      "Traceback (most recent call last):\n",
      "  File \"/Users/verbeck/opt/anaconda3/lib/python3.7/site-packages/IPython/core/magics/execution.py\", line 1313, in time\n",
      "    out = eval(code, glob, local_ns)\n",
      "  File \"<timed eval>\", line 1, in <module>\n",
      "  File \"/Users/verbeck/Desktop/Finance/Technology/Project/Setup/FMPGet.py\", line 69, in run\n",
      "    self.__getSpecific()\n",
      "  File \"/Users/verbeck/Desktop/Finance/Technology/Project/Setup/FMPGet.py\", line 207, in __getSpecific\n",
      "    table = getTable(self.__apikey,name,url,self.__d.get(name[0]),self.__reqinfo,verbose = self.verbose)\n",
      "  File \"/Users/verbeck/Desktop/Finance/Technology/Project/Setup/getFunctions.py\", line 70, in getTable\n",
      "    table = getJSON1Tables(apikey,name,url,tickers,batch,reqinfo,verbose=verbose)\n",
      "  File \"/Users/verbeck/Desktop/Finance/Technology/Project/Setup/getFunctions.py\", line 92, in getJSON1Tables\n",
      "    tempdf = getTableMT(apikey,name,url,tickers,reqinfo,addsymbol,verbose=verbose)\n",
      "  File \"/Users/verbeck/Desktop/Finance/Technology/Project/Setup/getFunctions.py\", line 213, in getTableMT\n",
      "    tempdf = tempdf.append(tab)\n",
      "  File \"/Users/verbeck/opt/anaconda3/lib/python3.7/concurrent/futures/_base.py\", line 623, in __exit__\n",
      "    self.shutdown(wait=True)\n",
      "  File \"/Users/verbeck/opt/anaconda3/lib/python3.7/concurrent/futures/thread.py\", line 216, in shutdown\n",
      "    t.join()\n",
      "  File \"/Users/verbeck/opt/anaconda3/lib/python3.7/threading.py\", line 1044, in join\n",
      "    self._wait_for_tstate_lock()\n",
      "  File \"/Users/verbeck/opt/anaconda3/lib/python3.7/threading.py\", line 1060, in _wait_for_tstate_lock\n",
      "    elif lock.acquire(block, timeout):\n",
      "KeyboardInterrupt\n",
      "\n",
      "During handling of the above exception, another exception occurred:\n",
      "\n",
      "Traceback (most recent call last):\n",
      "  File \"/Users/verbeck/opt/anaconda3/lib/python3.7/site-packages/IPython/core/interactiveshell.py\", line 2054, in showtraceback\n",
      "    stb = value._render_traceback_()\n",
      "AttributeError: 'KeyboardInterrupt' object has no attribute '_render_traceback_'\n",
      "\n",
      "During handling of the above exception, another exception occurred:\n",
      "\n",
      "Traceback (most recent call last):\n",
      "  File \"/Users/verbeck/opt/anaconda3/lib/python3.7/site-packages/IPython/core/ultratb.py\", line 1101, in get_records\n",
      "    return _fixed_getinnerframes(etb, number_of_lines_of_context, tb_offset)\n",
      "  File \"/Users/verbeck/opt/anaconda3/lib/python3.7/site-packages/IPython/core/ultratb.py\", line 248, in wrapped\n",
      "    return f(*args, **kwargs)\n",
      "  File \"/Users/verbeck/opt/anaconda3/lib/python3.7/site-packages/IPython/core/ultratb.py\", line 281, in _fixed_getinnerframes\n",
      "    records = fix_frame_records_filenames(inspect.getinnerframes(etb, context))\n",
      "  File \"/Users/verbeck/opt/anaconda3/lib/python3.7/inspect.py\", line 1502, in getinnerframes\n",
      "    frameinfo = (tb.tb_frame,) + getframeinfo(tb, context)\n",
      "  File \"/Users/verbeck/opt/anaconda3/lib/python3.7/inspect.py\", line 1460, in getframeinfo\n",
      "    filename = getsourcefile(frame) or getfile(frame)\n",
      "  File \"/Users/verbeck/opt/anaconda3/lib/python3.7/inspect.py\", line 696, in getsourcefile\n",
      "    if getattr(getmodule(object, filename), '__loader__', None) is not None:\n",
      "  File \"/Users/verbeck/opt/anaconda3/lib/python3.7/inspect.py\", line 742, in getmodule\n",
      "    os.path.realpath(f)] = module.__name__\n",
      "  File \"/Users/verbeck/opt/anaconda3/lib/python3.7/posixpath.py\", line 395, in realpath\n",
      "    path, ok = _joinrealpath(filename[:0], filename, {})\n",
      "  File \"/Users/verbeck/opt/anaconda3/lib/python3.7/posixpath.py\", line 429, in _joinrealpath\n",
      "    if not islink(newpath):\n",
      "  File \"/Users/verbeck/opt/anaconda3/lib/python3.7/posixpath.py\", line 174, in islink\n",
      "    return stat.S_ISLNK(st.st_mode)\n",
      "KeyboardInterrupt\n"
     ]
    },
    {
     "ename": "TypeError",
     "evalue": "object of type 'NoneType' has no len()",
     "output_type": "error",
     "traceback": [
      "\u001b[0;31m---------------------------------------------------------------------------\u001b[0m",
      "\u001b[0;31mKeyboardInterrupt\u001b[0m                         Traceback (most recent call last)",
      "\u001b[0;32m~/Desktop/Finance/Technology/Project/Setup/getFunctions.py\u001b[0m in \u001b[0;36mgetTableMT\u001b[0;34m(apikey, name, url, tickers, reqinfo, addsymbol, verbose)\u001b[0m\n\u001b[1;32m    212\u001b[0m                     \u001b[0mtempdf\u001b[0m\u001b[0;34m[\u001b[0m\u001b[0;34m'symbol'\u001b[0m\u001b[0;34m]\u001b[0m \u001b[0;34m=\u001b[0m \u001b[0mticker\u001b[0m\u001b[0;34m\u001b[0m\u001b[0;34m\u001b[0m\u001b[0m\n\u001b[0;32m--> 213\u001b[0;31m                 \u001b[0mtempdf\u001b[0m \u001b[0;34m=\u001b[0m \u001b[0mtempdf\u001b[0m\u001b[0;34m.\u001b[0m\u001b[0mappend\u001b[0m\u001b[0;34m(\u001b[0m\u001b[0mtab\u001b[0m\u001b[0;34m)\u001b[0m\u001b[0;34m\u001b[0m\u001b[0;34m\u001b[0m\u001b[0m\n\u001b[0m\u001b[1;32m    214\u001b[0m     \u001b[0mtempdf\u001b[0m \u001b[0;34m=\u001b[0m \u001b[0mcleanDF\u001b[0m\u001b[0;34m(\u001b[0m\u001b[0mtempdf\u001b[0m\u001b[0;34m,\u001b[0m\u001b[0mname\u001b[0m\u001b[0;34m)\u001b[0m\u001b[0;34m\u001b[0m\u001b[0;34m\u001b[0m\u001b[0m\n",
      "\u001b[0;32m~/opt/anaconda3/lib/python3.7/site-packages/pandas/core/frame.py\u001b[0m in \u001b[0;36mappend\u001b[0;34m(self, other, ignore_index, verify_integrity, sort)\u001b[0m\n\u001b[1;32m   7982\u001b[0m                 \u001b[0mverify_integrity\u001b[0m\u001b[0;34m=\u001b[0m\u001b[0mverify_integrity\u001b[0m\u001b[0;34m,\u001b[0m\u001b[0;34m\u001b[0m\u001b[0;34m\u001b[0m\u001b[0m\n\u001b[0;32m-> 7983\u001b[0;31m                 \u001b[0msort\u001b[0m\u001b[0;34m=\u001b[0m\u001b[0msort\u001b[0m\u001b[0;34m,\u001b[0m\u001b[0;34m\u001b[0m\u001b[0;34m\u001b[0m\u001b[0m\n\u001b[0m\u001b[1;32m   7984\u001b[0m             )\n",
      "\u001b[0;32m~/opt/anaconda3/lib/python3.7/site-packages/pandas/core/reshape/concat.py\u001b[0m in \u001b[0;36mconcat\u001b[0;34m(objs, axis, join, ignore_index, keys, levels, names, verify_integrity, sort, copy)\u001b[0m\n\u001b[1;32m    294\u001b[0m         \u001b[0mcopy\u001b[0m\u001b[0;34m=\u001b[0m\u001b[0mcopy\u001b[0m\u001b[0;34m,\u001b[0m\u001b[0;34m\u001b[0m\u001b[0;34m\u001b[0m\u001b[0m\n\u001b[0;32m--> 295\u001b[0;31m         \u001b[0msort\u001b[0m\u001b[0;34m=\u001b[0m\u001b[0msort\u001b[0m\u001b[0;34m,\u001b[0m\u001b[0;34m\u001b[0m\u001b[0;34m\u001b[0m\u001b[0m\n\u001b[0m\u001b[1;32m    296\u001b[0m     )\n",
      "\u001b[0;32m~/opt/anaconda3/lib/python3.7/site-packages/pandas/core/reshape/concat.py\u001b[0m in \u001b[0;36m__init__\u001b[0;34m(self, objs, axis, join, keys, levels, names, ignore_index, verify_integrity, copy, sort)\u001b[0m\n\u001b[1;32m    372\u001b[0m             \u001b[0;31m# consolidate\u001b[0m\u001b[0;34m\u001b[0m\u001b[0;34m\u001b[0m\u001b[0;34m\u001b[0m\u001b[0m\n\u001b[0;32m--> 373\u001b[0;31m             \u001b[0mobj\u001b[0m\u001b[0;34m.\u001b[0m\u001b[0m_consolidate_inplace\u001b[0m\u001b[0;34m(\u001b[0m\u001b[0;34m)\u001b[0m\u001b[0;34m\u001b[0m\u001b[0;34m\u001b[0m\u001b[0m\n\u001b[0m\u001b[1;32m    374\u001b[0m             \u001b[0mndims\u001b[0m\u001b[0;34m.\u001b[0m\u001b[0madd\u001b[0m\u001b[0;34m(\u001b[0m\u001b[0mobj\u001b[0m\u001b[0;34m.\u001b[0m\u001b[0mndim\u001b[0m\u001b[0;34m)\u001b[0m\u001b[0;34m\u001b[0m\u001b[0;34m\u001b[0m\u001b[0m\n",
      "\u001b[0;32m~/opt/anaconda3/lib/python3.7/site-packages/pandas/core/generic.py\u001b[0m in \u001b[0;36m_consolidate_inplace\u001b[0;34m(self)\u001b[0m\n\u001b[1;32m   5537\u001b[0m \u001b[0;34m\u001b[0m\u001b[0m\n\u001b[0;32m-> 5538\u001b[0;31m         \u001b[0mself\u001b[0m\u001b[0;34m.\u001b[0m\u001b[0m_protect_consolidate\u001b[0m\u001b[0;34m(\u001b[0m\u001b[0mf\u001b[0m\u001b[0;34m)\u001b[0m\u001b[0;34m\u001b[0m\u001b[0;34m\u001b[0m\u001b[0m\n\u001b[0m\u001b[1;32m   5539\u001b[0m \u001b[0;34m\u001b[0m\u001b[0m\n",
      "\u001b[0;32m~/opt/anaconda3/lib/python3.7/site-packages/pandas/core/generic.py\u001b[0m in \u001b[0;36m_protect_consolidate\u001b[0;34m(self, f)\u001b[0m\n\u001b[1;32m   5525\u001b[0m         \u001b[0mblocks_before\u001b[0m \u001b[0;34m=\u001b[0m \u001b[0mlen\u001b[0m\u001b[0;34m(\u001b[0m\u001b[0mself\u001b[0m\u001b[0;34m.\u001b[0m\u001b[0m_mgr\u001b[0m\u001b[0;34m.\u001b[0m\u001b[0mblocks\u001b[0m\u001b[0;34m)\u001b[0m\u001b[0;34m\u001b[0m\u001b[0;34m\u001b[0m\u001b[0m\n\u001b[0;32m-> 5526\u001b[0;31m         \u001b[0mresult\u001b[0m \u001b[0;34m=\u001b[0m \u001b[0mf\u001b[0m\u001b[0;34m(\u001b[0m\u001b[0;34m)\u001b[0m\u001b[0;34m\u001b[0m\u001b[0;34m\u001b[0m\u001b[0m\n\u001b[0m\u001b[1;32m   5527\u001b[0m         \u001b[0;32mif\u001b[0m \u001b[0mlen\u001b[0m\u001b[0;34m(\u001b[0m\u001b[0mself\u001b[0m\u001b[0;34m.\u001b[0m\u001b[0m_mgr\u001b[0m\u001b[0;34m.\u001b[0m\u001b[0mblocks\u001b[0m\u001b[0;34m)\u001b[0m \u001b[0;34m!=\u001b[0m \u001b[0mblocks_before\u001b[0m\u001b[0;34m:\u001b[0m\u001b[0;34m\u001b[0m\u001b[0;34m\u001b[0m\u001b[0m\n",
      "\u001b[0;32m~/opt/anaconda3/lib/python3.7/site-packages/pandas/core/generic.py\u001b[0m in \u001b[0;36mf\u001b[0;34m()\u001b[0m\n\u001b[1;32m   5535\u001b[0m         \u001b[0;32mdef\u001b[0m \u001b[0mf\u001b[0m\u001b[0;34m(\u001b[0m\u001b[0;34m)\u001b[0m\u001b[0;34m:\u001b[0m\u001b[0;34m\u001b[0m\u001b[0;34m\u001b[0m\u001b[0m\n\u001b[0;32m-> 5536\u001b[0;31m             \u001b[0mself\u001b[0m\u001b[0;34m.\u001b[0m\u001b[0m_mgr\u001b[0m \u001b[0;34m=\u001b[0m \u001b[0mself\u001b[0m\u001b[0;34m.\u001b[0m\u001b[0m_mgr\u001b[0m\u001b[0;34m.\u001b[0m\u001b[0mconsolidate\u001b[0m\u001b[0;34m(\u001b[0m\u001b[0;34m)\u001b[0m\u001b[0;34m\u001b[0m\u001b[0;34m\u001b[0m\u001b[0m\n\u001b[0m\u001b[1;32m   5537\u001b[0m \u001b[0;34m\u001b[0m\u001b[0m\n",
      "\u001b[0;32m~/opt/anaconda3/lib/python3.7/site-packages/pandas/core/internals/managers.py\u001b[0m in \u001b[0;36mconsolidate\u001b[0;34m(self)\u001b[0m\n\u001b[1;32m    987\u001b[0m         \u001b[0mbm\u001b[0m\u001b[0;34m.\u001b[0m\u001b[0m_is_consolidated\u001b[0m \u001b[0;34m=\u001b[0m \u001b[0;32mFalse\u001b[0m\u001b[0;34m\u001b[0m\u001b[0;34m\u001b[0m\u001b[0m\n\u001b[0;32m--> 988\u001b[0;31m         \u001b[0mbm\u001b[0m\u001b[0;34m.\u001b[0m\u001b[0m_consolidate_inplace\u001b[0m\u001b[0;34m(\u001b[0m\u001b[0;34m)\u001b[0m\u001b[0;34m\u001b[0m\u001b[0;34m\u001b[0m\u001b[0m\n\u001b[0m\u001b[1;32m    989\u001b[0m         \u001b[0;32mreturn\u001b[0m \u001b[0mbm\u001b[0m\u001b[0;34m\u001b[0m\u001b[0;34m\u001b[0m\u001b[0m\n",
      "\u001b[0;32m~/opt/anaconda3/lib/python3.7/site-packages/pandas/core/internals/managers.py\u001b[0m in \u001b[0;36m_consolidate_inplace\u001b[0;34m(self)\u001b[0m\n\u001b[1;32m    992\u001b[0m         \u001b[0;32mif\u001b[0m \u001b[0;32mnot\u001b[0m \u001b[0mself\u001b[0m\u001b[0;34m.\u001b[0m\u001b[0mis_consolidated\u001b[0m\u001b[0;34m(\u001b[0m\u001b[0;34m)\u001b[0m\u001b[0;34m:\u001b[0m\u001b[0;34m\u001b[0m\u001b[0;34m\u001b[0m\u001b[0m\n\u001b[0;32m--> 993\u001b[0;31m             \u001b[0mself\u001b[0m\u001b[0;34m.\u001b[0m\u001b[0mblocks\u001b[0m \u001b[0;34m=\u001b[0m \u001b[0mtuple\u001b[0m\u001b[0;34m(\u001b[0m\u001b[0m_consolidate\u001b[0m\u001b[0;34m(\u001b[0m\u001b[0mself\u001b[0m\u001b[0;34m.\u001b[0m\u001b[0mblocks\u001b[0m\u001b[0;34m)\u001b[0m\u001b[0;34m)\u001b[0m\u001b[0;34m\u001b[0m\u001b[0;34m\u001b[0m\u001b[0m\n\u001b[0m\u001b[1;32m    994\u001b[0m             \u001b[0mself\u001b[0m\u001b[0;34m.\u001b[0m\u001b[0m_is_consolidated\u001b[0m \u001b[0;34m=\u001b[0m \u001b[0;32mTrue\u001b[0m\u001b[0;34m\u001b[0m\u001b[0;34m\u001b[0m\u001b[0m\n",
      "\u001b[0;32m~/opt/anaconda3/lib/python3.7/site-packages/pandas/core/internals/managers.py\u001b[0m in \u001b[0;36m_consolidate\u001b[0;34m(blocks)\u001b[0m\n\u001b[1;32m   1916\u001b[0m         merged_blocks = _merge_blocks(\n\u001b[0;32m-> 1917\u001b[0;31m             \u001b[0mlist\u001b[0m\u001b[0;34m(\u001b[0m\u001b[0mgroup_blocks\u001b[0m\u001b[0;34m)\u001b[0m\u001b[0;34m,\u001b[0m \u001b[0mdtype\u001b[0m\u001b[0;34m=\u001b[0m\u001b[0mdtype\u001b[0m\u001b[0;34m,\u001b[0m \u001b[0mcan_consolidate\u001b[0m\u001b[0;34m=\u001b[0m\u001b[0m_can_consolidate\u001b[0m\u001b[0;34m\u001b[0m\u001b[0;34m\u001b[0m\u001b[0m\n\u001b[0m\u001b[1;32m   1918\u001b[0m         )\n",
      "\u001b[0;32m~/opt/anaconda3/lib/python3.7/site-packages/pandas/core/internals/managers.py\u001b[0m in \u001b[0;36m_merge_blocks\u001b[0;34m(blocks, dtype, can_consolidate)\u001b[0m\n\u001b[1;32m   1941\u001b[0m         \u001b[0margsort\u001b[0m \u001b[0;34m=\u001b[0m \u001b[0mnp\u001b[0m\u001b[0;34m.\u001b[0m\u001b[0margsort\u001b[0m\u001b[0;34m(\u001b[0m\u001b[0mnew_mgr_locs\u001b[0m\u001b[0;34m)\u001b[0m\u001b[0;34m\u001b[0m\u001b[0;34m\u001b[0m\u001b[0m\n\u001b[0;32m-> 1942\u001b[0;31m         \u001b[0mnew_values\u001b[0m \u001b[0;34m=\u001b[0m \u001b[0mnew_values\u001b[0m\u001b[0;34m[\u001b[0m\u001b[0margsort\u001b[0m\u001b[0;34m]\u001b[0m\u001b[0;34m\u001b[0m\u001b[0;34m\u001b[0m\u001b[0m\n\u001b[0m\u001b[1;32m   1943\u001b[0m         \u001b[0mnew_mgr_locs\u001b[0m \u001b[0;34m=\u001b[0m \u001b[0mnew_mgr_locs\u001b[0m\u001b[0;34m[\u001b[0m\u001b[0margsort\u001b[0m\u001b[0;34m]\u001b[0m\u001b[0;34m\u001b[0m\u001b[0;34m\u001b[0m\u001b[0m\n",
      "\u001b[0;31mKeyboardInterrupt\u001b[0m: ",
      "\nDuring handling of the above exception, another exception occurred:\n",
      "\u001b[0;31mKeyboardInterrupt\u001b[0m                         Traceback (most recent call last)",
      "\u001b[0;32m~/opt/anaconda3/lib/python3.7/site-packages/IPython/core/magics/execution.py\u001b[0m in \u001b[0;36mtime\u001b[0;34m(self, line, cell, local_ns)\u001b[0m\n\u001b[1;32m   1312\u001b[0m             \u001b[0;32mtry\u001b[0m\u001b[0;34m:\u001b[0m\u001b[0;34m\u001b[0m\u001b[0;34m\u001b[0m\u001b[0m\n\u001b[0;32m-> 1313\u001b[0;31m                 \u001b[0mout\u001b[0m \u001b[0;34m=\u001b[0m \u001b[0meval\u001b[0m\u001b[0;34m(\u001b[0m\u001b[0mcode\u001b[0m\u001b[0;34m,\u001b[0m \u001b[0mglob\u001b[0m\u001b[0;34m,\u001b[0m \u001b[0mlocal_ns\u001b[0m\u001b[0;34m)\u001b[0m\u001b[0;34m\u001b[0m\u001b[0;34m\u001b[0m\u001b[0m\n\u001b[0m\u001b[1;32m   1314\u001b[0m             \u001b[0;32mexcept\u001b[0m\u001b[0;34m:\u001b[0m\u001b[0;34m\u001b[0m\u001b[0;34m\u001b[0m\u001b[0m\n",
      "\u001b[0;32m<timed eval>\u001b[0m in \u001b[0;36m<module>\u001b[0;34m\u001b[0m\n",
      "\u001b[0;32m~/Desktop/Finance/Technology/Project/Setup/FMPGet.py\u001b[0m in \u001b[0;36mrun\u001b[0;34m(self, verbose)\u001b[0m\n\u001b[1;32m     68\u001b[0m         \u001b[0mself\u001b[0m\u001b[0;34m.\u001b[0m\u001b[0m__getTickers\u001b[0m\u001b[0;34m(\u001b[0m\u001b[0;34m)\u001b[0m\u001b[0;34m\u001b[0m\u001b[0;34m\u001b[0m\u001b[0m\n\u001b[0;32m---> 69\u001b[0;31m         \u001b[0mself\u001b[0m\u001b[0;34m.\u001b[0m\u001b[0m__getSpecific\u001b[0m\u001b[0;34m(\u001b[0m\u001b[0;34m)\u001b[0m\u001b[0;34m\u001b[0m\u001b[0;34m\u001b[0m\u001b[0m\n\u001b[0m\u001b[1;32m     70\u001b[0m \u001b[0;34m\u001b[0m\u001b[0m\n",
      "\u001b[0;32m~/Desktop/Finance/Technology/Project/Setup/FMPGet.py\u001b[0m in \u001b[0;36m__getSpecific\u001b[0;34m(self)\u001b[0m\n\u001b[1;32m    206\u001b[0m             \u001b[0;31m#   print('_'.join(name.split('_')[1:]),\" processing...\")\u001b[0m\u001b[0;34m\u001b[0m\u001b[0;34m\u001b[0m\u001b[0;34m\u001b[0m\u001b[0m\n\u001b[0;32m--> 207\u001b[0;31m             \u001b[0mtable\u001b[0m \u001b[0;34m=\u001b[0m \u001b[0mgetTable\u001b[0m\u001b[0;34m(\u001b[0m\u001b[0mself\u001b[0m\u001b[0;34m.\u001b[0m\u001b[0m__apikey\u001b[0m\u001b[0;34m,\u001b[0m\u001b[0mname\u001b[0m\u001b[0;34m,\u001b[0m\u001b[0murl\u001b[0m\u001b[0;34m,\u001b[0m\u001b[0mself\u001b[0m\u001b[0;34m.\u001b[0m\u001b[0m__d\u001b[0m\u001b[0;34m.\u001b[0m\u001b[0mget\u001b[0m\u001b[0;34m(\u001b[0m\u001b[0mname\u001b[0m\u001b[0;34m[\u001b[0m\u001b[0;36m0\u001b[0m\u001b[0;34m]\u001b[0m\u001b[0;34m)\u001b[0m\u001b[0;34m,\u001b[0m\u001b[0mself\u001b[0m\u001b[0;34m.\u001b[0m\u001b[0m__reqinfo\u001b[0m\u001b[0;34m,\u001b[0m\u001b[0mverbose\u001b[0m \u001b[0;34m=\u001b[0m \u001b[0mself\u001b[0m\u001b[0;34m.\u001b[0m\u001b[0mverbose\u001b[0m\u001b[0;34m)\u001b[0m\u001b[0;34m\u001b[0m\u001b[0;34m\u001b[0m\u001b[0m\n\u001b[0m\u001b[1;32m    208\u001b[0m             \u001b[0mself\u001b[0m\u001b[0;34m.\u001b[0m\u001b[0m__executeSQL\u001b[0m\u001b[0;34m(\u001b[0m\u001b[0mname\u001b[0m\u001b[0;34m,\u001b[0m\u001b[0mtable\u001b[0m\u001b[0;34m)\u001b[0m\u001b[0;34m\u001b[0m\u001b[0;34m\u001b[0m\u001b[0m\n",
      "\u001b[0;32m~/Desktop/Finance/Technology/Project/Setup/getFunctions.py\u001b[0m in \u001b[0;36mgetTable\u001b[0;34m(apikey, name, url, tickers, reqinfo, verbose)\u001b[0m\n\u001b[1;32m     69\u001b[0m     \u001b[0;32mif\u001b[0m \u001b[0mname\u001b[0m\u001b[0;34m[\u001b[0m\u001b[0;36m1\u001b[0m\u001b[0;34m]\u001b[0m \u001b[0;34m==\u001b[0m \u001b[0;34m'1'\u001b[0m\u001b[0;34m:\u001b[0m  \u001b[0;31m#parameters, etc. are redundant\u001b[0m\u001b[0;34m\u001b[0m\u001b[0;34m\u001b[0m\u001b[0m\n\u001b[0;32m---> 70\u001b[0;31m         \u001b[0mtable\u001b[0m \u001b[0;34m=\u001b[0m \u001b[0mgetJSON1Tables\u001b[0m\u001b[0;34m(\u001b[0m\u001b[0mapikey\u001b[0m\u001b[0;34m,\u001b[0m\u001b[0mname\u001b[0m\u001b[0;34m,\u001b[0m\u001b[0murl\u001b[0m\u001b[0;34m,\u001b[0m\u001b[0mtickers\u001b[0m\u001b[0;34m,\u001b[0m\u001b[0mbatch\u001b[0m\u001b[0;34m,\u001b[0m\u001b[0mreqinfo\u001b[0m\u001b[0;34m,\u001b[0m\u001b[0mverbose\u001b[0m\u001b[0;34m=\u001b[0m\u001b[0mverbose\u001b[0m\u001b[0;34m)\u001b[0m\u001b[0;34m\u001b[0m\u001b[0;34m\u001b[0m\u001b[0m\n\u001b[0m\u001b[1;32m     71\u001b[0m     \u001b[0;32melif\u001b[0m \u001b[0mname\u001b[0m\u001b[0;34m[\u001b[0m\u001b[0;36m1\u001b[0m\u001b[0;34m]\u001b[0m \u001b[0;34m==\u001b[0m \u001b[0;34m'2'\u001b[0m\u001b[0;34m:\u001b[0m\u001b[0;34m\u001b[0m\u001b[0;34m\u001b[0m\u001b[0m\n",
      "\u001b[0;32m~/Desktop/Finance/Technology/Project/Setup/getFunctions.py\u001b[0m in \u001b[0;36mgetJSON1Tables\u001b[0;34m(apikey, name, url, tickers, batch, reqinfo, verbose)\u001b[0m\n\u001b[1;32m     91\u001b[0m \u001b[0;34m\u001b[0m\u001b[0m\n\u001b[0;32m---> 92\u001b[0;31m     \u001b[0mtempdf\u001b[0m \u001b[0;34m=\u001b[0m \u001b[0mgetTableMT\u001b[0m\u001b[0;34m(\u001b[0m\u001b[0mapikey\u001b[0m\u001b[0;34m,\u001b[0m\u001b[0mname\u001b[0m\u001b[0;34m,\u001b[0m\u001b[0murl\u001b[0m\u001b[0;34m,\u001b[0m\u001b[0mtickers\u001b[0m\u001b[0;34m,\u001b[0m\u001b[0mreqinfo\u001b[0m\u001b[0;34m,\u001b[0m\u001b[0maddsymbol\u001b[0m\u001b[0;34m,\u001b[0m\u001b[0mverbose\u001b[0m\u001b[0;34m=\u001b[0m\u001b[0mverbose\u001b[0m\u001b[0;34m)\u001b[0m\u001b[0;34m\u001b[0m\u001b[0;34m\u001b[0m\u001b[0m\n\u001b[0m\u001b[1;32m     93\u001b[0m \u001b[0;34m\u001b[0m\u001b[0m\n",
      "\u001b[0;32m~/Desktop/Finance/Technology/Project/Setup/getFunctions.py\u001b[0m in \u001b[0;36mgetTableMT\u001b[0;34m(apikey, name, url, tickers, reqinfo, addsymbol, verbose)\u001b[0m\n\u001b[1;32m    212\u001b[0m                     \u001b[0mtempdf\u001b[0m\u001b[0;34m[\u001b[0m\u001b[0;34m'symbol'\u001b[0m\u001b[0;34m]\u001b[0m \u001b[0;34m=\u001b[0m \u001b[0mticker\u001b[0m\u001b[0;34m\u001b[0m\u001b[0;34m\u001b[0m\u001b[0m\n\u001b[0;32m--> 213\u001b[0;31m                 \u001b[0mtempdf\u001b[0m \u001b[0;34m=\u001b[0m \u001b[0mtempdf\u001b[0m\u001b[0;34m.\u001b[0m\u001b[0mappend\u001b[0m\u001b[0;34m(\u001b[0m\u001b[0mtab\u001b[0m\u001b[0;34m)\u001b[0m\u001b[0;34m\u001b[0m\u001b[0;34m\u001b[0m\u001b[0m\n\u001b[0m\u001b[1;32m    214\u001b[0m     \u001b[0mtempdf\u001b[0m \u001b[0;34m=\u001b[0m \u001b[0mcleanDF\u001b[0m\u001b[0;34m(\u001b[0m\u001b[0mtempdf\u001b[0m\u001b[0;34m,\u001b[0m\u001b[0mname\u001b[0m\u001b[0;34m)\u001b[0m\u001b[0;34m\u001b[0m\u001b[0;34m\u001b[0m\u001b[0m\n",
      "\u001b[0;32m~/opt/anaconda3/lib/python3.7/concurrent/futures/_base.py\u001b[0m in \u001b[0;36m__exit__\u001b[0;34m(self, exc_type, exc_val, exc_tb)\u001b[0m\n\u001b[1;32m    622\u001b[0m     \u001b[0;32mdef\u001b[0m \u001b[0m__exit__\u001b[0m\u001b[0;34m(\u001b[0m\u001b[0mself\u001b[0m\u001b[0;34m,\u001b[0m \u001b[0mexc_type\u001b[0m\u001b[0;34m,\u001b[0m \u001b[0mexc_val\u001b[0m\u001b[0;34m,\u001b[0m \u001b[0mexc_tb\u001b[0m\u001b[0;34m)\u001b[0m\u001b[0;34m:\u001b[0m\u001b[0;34m\u001b[0m\u001b[0;34m\u001b[0m\u001b[0m\n\u001b[0;32m--> 623\u001b[0;31m         \u001b[0mself\u001b[0m\u001b[0;34m.\u001b[0m\u001b[0mshutdown\u001b[0m\u001b[0;34m(\u001b[0m\u001b[0mwait\u001b[0m\u001b[0;34m=\u001b[0m\u001b[0;32mTrue\u001b[0m\u001b[0;34m)\u001b[0m\u001b[0;34m\u001b[0m\u001b[0;34m\u001b[0m\u001b[0m\n\u001b[0m\u001b[1;32m    624\u001b[0m         \u001b[0;32mreturn\u001b[0m \u001b[0;32mFalse\u001b[0m\u001b[0;34m\u001b[0m\u001b[0;34m\u001b[0m\u001b[0m\n",
      "\u001b[0;32m~/opt/anaconda3/lib/python3.7/concurrent/futures/thread.py\u001b[0m in \u001b[0;36mshutdown\u001b[0;34m(self, wait)\u001b[0m\n\u001b[1;32m    215\u001b[0m             \u001b[0;32mfor\u001b[0m \u001b[0mt\u001b[0m \u001b[0;32min\u001b[0m \u001b[0mself\u001b[0m\u001b[0;34m.\u001b[0m\u001b[0m_threads\u001b[0m\u001b[0;34m:\u001b[0m\u001b[0;34m\u001b[0m\u001b[0;34m\u001b[0m\u001b[0m\n\u001b[0;32m--> 216\u001b[0;31m                 \u001b[0mt\u001b[0m\u001b[0;34m.\u001b[0m\u001b[0mjoin\u001b[0m\u001b[0;34m(\u001b[0m\u001b[0;34m)\u001b[0m\u001b[0;34m\u001b[0m\u001b[0;34m\u001b[0m\u001b[0m\n\u001b[0m\u001b[1;32m    217\u001b[0m     \u001b[0mshutdown\u001b[0m\u001b[0;34m.\u001b[0m\u001b[0m__doc__\u001b[0m \u001b[0;34m=\u001b[0m \u001b[0m_base\u001b[0m\u001b[0;34m.\u001b[0m\u001b[0mExecutor\u001b[0m\u001b[0;34m.\u001b[0m\u001b[0mshutdown\u001b[0m\u001b[0;34m.\u001b[0m\u001b[0m__doc__\u001b[0m\u001b[0;34m\u001b[0m\u001b[0;34m\u001b[0m\u001b[0m\n",
      "\u001b[0;32m~/opt/anaconda3/lib/python3.7/threading.py\u001b[0m in \u001b[0;36mjoin\u001b[0;34m(self, timeout)\u001b[0m\n\u001b[1;32m   1043\u001b[0m         \u001b[0;32mif\u001b[0m \u001b[0mtimeout\u001b[0m \u001b[0;32mis\u001b[0m \u001b[0;32mNone\u001b[0m\u001b[0;34m:\u001b[0m\u001b[0;34m\u001b[0m\u001b[0;34m\u001b[0m\u001b[0m\n\u001b[0;32m-> 1044\u001b[0;31m             \u001b[0mself\u001b[0m\u001b[0;34m.\u001b[0m\u001b[0m_wait_for_tstate_lock\u001b[0m\u001b[0;34m(\u001b[0m\u001b[0;34m)\u001b[0m\u001b[0;34m\u001b[0m\u001b[0;34m\u001b[0m\u001b[0m\n\u001b[0m\u001b[1;32m   1045\u001b[0m         \u001b[0;32melse\u001b[0m\u001b[0;34m:\u001b[0m\u001b[0;34m\u001b[0m\u001b[0;34m\u001b[0m\u001b[0m\n",
      "\u001b[0;32m~/opt/anaconda3/lib/python3.7/threading.py\u001b[0m in \u001b[0;36m_wait_for_tstate_lock\u001b[0;34m(self, block, timeout)\u001b[0m\n\u001b[1;32m   1059\u001b[0m             \u001b[0;32massert\u001b[0m \u001b[0mself\u001b[0m\u001b[0;34m.\u001b[0m\u001b[0m_is_stopped\u001b[0m\u001b[0;34m\u001b[0m\u001b[0;34m\u001b[0m\u001b[0m\n\u001b[0;32m-> 1060\u001b[0;31m         \u001b[0;32melif\u001b[0m \u001b[0mlock\u001b[0m\u001b[0;34m.\u001b[0m\u001b[0macquire\u001b[0m\u001b[0;34m(\u001b[0m\u001b[0mblock\u001b[0m\u001b[0;34m,\u001b[0m \u001b[0mtimeout\u001b[0m\u001b[0;34m)\u001b[0m\u001b[0;34m:\u001b[0m\u001b[0;34m\u001b[0m\u001b[0;34m\u001b[0m\u001b[0m\n\u001b[0m\u001b[1;32m   1061\u001b[0m             \u001b[0mlock\u001b[0m\u001b[0;34m.\u001b[0m\u001b[0mrelease\u001b[0m\u001b[0;34m(\u001b[0m\u001b[0;34m)\u001b[0m\u001b[0;34m\u001b[0m\u001b[0;34m\u001b[0m\u001b[0m\n",
      "\u001b[0;31mKeyboardInterrupt\u001b[0m: ",
      "\nDuring handling of the above exception, another exception occurred:\n",
      "\u001b[0;31mAttributeError\u001b[0m                            Traceback (most recent call last)",
      "\u001b[0;32m~/opt/anaconda3/lib/python3.7/site-packages/IPython/core/interactiveshell.py\u001b[0m in \u001b[0;36mshowtraceback\u001b[0;34m(self, exc_tuple, filename, tb_offset, exception_only, running_compiled_code)\u001b[0m\n\u001b[1;32m   2053\u001b[0m                         \u001b[0;31m# in the engines. This should return a list of strings.\u001b[0m\u001b[0;34m\u001b[0m\u001b[0;34m\u001b[0m\u001b[0;34m\u001b[0m\u001b[0m\n\u001b[0;32m-> 2054\u001b[0;31m                         \u001b[0mstb\u001b[0m \u001b[0;34m=\u001b[0m \u001b[0mvalue\u001b[0m\u001b[0;34m.\u001b[0m\u001b[0m_render_traceback_\u001b[0m\u001b[0;34m(\u001b[0m\u001b[0;34m)\u001b[0m\u001b[0;34m\u001b[0m\u001b[0;34m\u001b[0m\u001b[0m\n\u001b[0m\u001b[1;32m   2055\u001b[0m                     \u001b[0;32mexcept\u001b[0m \u001b[0mException\u001b[0m\u001b[0;34m:\u001b[0m\u001b[0;34m\u001b[0m\u001b[0;34m\u001b[0m\u001b[0m\n",
      "\u001b[0;31mAttributeError\u001b[0m: 'KeyboardInterrupt' object has no attribute '_render_traceback_'",
      "\nDuring handling of the above exception, another exception occurred:\n",
      "\u001b[0;31mTypeError\u001b[0m                                 Traceback (most recent call last)",
      "\u001b[0;32m<ipython-input-3-48fe956a8f63>\u001b[0m in \u001b[0;36m<module>\u001b[0;34m\u001b[0m\n\u001b[0;32m----> 1\u001b[0;31m \u001b[0mget_ipython\u001b[0m\u001b[0;34m(\u001b[0m\u001b[0;34m)\u001b[0m\u001b[0;34m.\u001b[0m\u001b[0mrun_cell_magic\u001b[0m\u001b[0;34m(\u001b[0m\u001b[0;34m'time'\u001b[0m\u001b[0;34m,\u001b[0m \u001b[0;34m''\u001b[0m\u001b[0;34m,\u001b[0m \u001b[0;34m'a.run(verbose=True)\\n'\u001b[0m\u001b[0;34m)\u001b[0m\u001b[0;34m\u001b[0m\u001b[0;34m\u001b[0m\u001b[0m\n\u001b[0m",
      "\u001b[0;32m~/opt/anaconda3/lib/python3.7/site-packages/IPython/core/interactiveshell.py\u001b[0m in \u001b[0;36mrun_cell_magic\u001b[0;34m(self, magic_name, line, cell)\u001b[0m\n\u001b[1;32m   2389\u001b[0m             \u001b[0;32mwith\u001b[0m \u001b[0mself\u001b[0m\u001b[0;34m.\u001b[0m\u001b[0mbuiltin_trap\u001b[0m\u001b[0;34m:\u001b[0m\u001b[0;34m\u001b[0m\u001b[0;34m\u001b[0m\u001b[0m\n\u001b[1;32m   2390\u001b[0m                 \u001b[0margs\u001b[0m \u001b[0;34m=\u001b[0m \u001b[0;34m(\u001b[0m\u001b[0mmagic_arg_s\u001b[0m\u001b[0;34m,\u001b[0m \u001b[0mcell\u001b[0m\u001b[0;34m)\u001b[0m\u001b[0;34m\u001b[0m\u001b[0;34m\u001b[0m\u001b[0m\n\u001b[0;32m-> 2391\u001b[0;31m                 \u001b[0mresult\u001b[0m \u001b[0;34m=\u001b[0m \u001b[0mfn\u001b[0m\u001b[0;34m(\u001b[0m\u001b[0;34m*\u001b[0m\u001b[0margs\u001b[0m\u001b[0;34m,\u001b[0m \u001b[0;34m**\u001b[0m\u001b[0mkwargs\u001b[0m\u001b[0;34m)\u001b[0m\u001b[0;34m\u001b[0m\u001b[0;34m\u001b[0m\u001b[0m\n\u001b[0m\u001b[1;32m   2392\u001b[0m             \u001b[0;32mreturn\u001b[0m \u001b[0mresult\u001b[0m\u001b[0;34m\u001b[0m\u001b[0;34m\u001b[0m\u001b[0m\n\u001b[1;32m   2393\u001b[0m \u001b[0;34m\u001b[0m\u001b[0m\n",
      "\u001b[0;32m<decorator-gen-54>\u001b[0m in \u001b[0;36mtime\u001b[0;34m(self, line, cell, local_ns)\u001b[0m\n",
      "\u001b[0;32m~/opt/anaconda3/lib/python3.7/site-packages/IPython/core/magic.py\u001b[0m in \u001b[0;36m<lambda>\u001b[0;34m(f, *a, **k)\u001b[0m\n\u001b[1;32m    185\u001b[0m     \u001b[0;31m# but it's overkill for just that one bit of state.\u001b[0m\u001b[0;34m\u001b[0m\u001b[0;34m\u001b[0m\u001b[0;34m\u001b[0m\u001b[0m\n\u001b[1;32m    186\u001b[0m     \u001b[0;32mdef\u001b[0m \u001b[0mmagic_deco\u001b[0m\u001b[0;34m(\u001b[0m\u001b[0marg\u001b[0m\u001b[0;34m)\u001b[0m\u001b[0;34m:\u001b[0m\u001b[0;34m\u001b[0m\u001b[0;34m\u001b[0m\u001b[0m\n\u001b[0;32m--> 187\u001b[0;31m         \u001b[0mcall\u001b[0m \u001b[0;34m=\u001b[0m \u001b[0;32mlambda\u001b[0m \u001b[0mf\u001b[0m\u001b[0;34m,\u001b[0m \u001b[0;34m*\u001b[0m\u001b[0ma\u001b[0m\u001b[0;34m,\u001b[0m \u001b[0;34m**\u001b[0m\u001b[0mk\u001b[0m\u001b[0;34m:\u001b[0m \u001b[0mf\u001b[0m\u001b[0;34m(\u001b[0m\u001b[0;34m*\u001b[0m\u001b[0ma\u001b[0m\u001b[0;34m,\u001b[0m \u001b[0;34m**\u001b[0m\u001b[0mk\u001b[0m\u001b[0;34m)\u001b[0m\u001b[0;34m\u001b[0m\u001b[0;34m\u001b[0m\u001b[0m\n\u001b[0m\u001b[1;32m    188\u001b[0m \u001b[0;34m\u001b[0m\u001b[0m\n\u001b[1;32m    189\u001b[0m         \u001b[0;32mif\u001b[0m \u001b[0mcallable\u001b[0m\u001b[0;34m(\u001b[0m\u001b[0marg\u001b[0m\u001b[0;34m)\u001b[0m\u001b[0;34m:\u001b[0m\u001b[0;34m\u001b[0m\u001b[0;34m\u001b[0m\u001b[0m\n",
      "\u001b[0;32m~/opt/anaconda3/lib/python3.7/site-packages/IPython/core/magics/execution.py\u001b[0m in \u001b[0;36mtime\u001b[0;34m(self, line, cell, local_ns)\u001b[0m\n\u001b[1;32m   1313\u001b[0m                 \u001b[0mout\u001b[0m \u001b[0;34m=\u001b[0m \u001b[0meval\u001b[0m\u001b[0;34m(\u001b[0m\u001b[0mcode\u001b[0m\u001b[0;34m,\u001b[0m \u001b[0mglob\u001b[0m\u001b[0;34m,\u001b[0m \u001b[0mlocal_ns\u001b[0m\u001b[0;34m)\u001b[0m\u001b[0;34m\u001b[0m\u001b[0;34m\u001b[0m\u001b[0m\n\u001b[1;32m   1314\u001b[0m             \u001b[0;32mexcept\u001b[0m\u001b[0;34m:\u001b[0m\u001b[0;34m\u001b[0m\u001b[0;34m\u001b[0m\u001b[0m\n\u001b[0;32m-> 1315\u001b[0;31m                 \u001b[0mself\u001b[0m\u001b[0;34m.\u001b[0m\u001b[0mshell\u001b[0m\u001b[0;34m.\u001b[0m\u001b[0mshowtraceback\u001b[0m\u001b[0;34m(\u001b[0m\u001b[0;34m)\u001b[0m\u001b[0;34m\u001b[0m\u001b[0;34m\u001b[0m\u001b[0m\n\u001b[0m\u001b[1;32m   1316\u001b[0m                 \u001b[0;32mreturn\u001b[0m\u001b[0;34m\u001b[0m\u001b[0;34m\u001b[0m\u001b[0m\n\u001b[1;32m   1317\u001b[0m             \u001b[0mend\u001b[0m \u001b[0;34m=\u001b[0m \u001b[0mclock2\u001b[0m\u001b[0;34m(\u001b[0m\u001b[0;34m)\u001b[0m\u001b[0;34m\u001b[0m\u001b[0;34m\u001b[0m\u001b[0m\n",
      "\u001b[0;32m~/opt/anaconda3/lib/python3.7/site-packages/IPython/core/interactiveshell.py\u001b[0m in \u001b[0;36mshowtraceback\u001b[0;34m(self, exc_tuple, filename, tb_offset, exception_only, running_compiled_code)\u001b[0m\n\u001b[1;32m   2055\u001b[0m                     \u001b[0;32mexcept\u001b[0m \u001b[0mException\u001b[0m\u001b[0;34m:\u001b[0m\u001b[0;34m\u001b[0m\u001b[0;34m\u001b[0m\u001b[0m\n\u001b[1;32m   2056\u001b[0m                         stb = self.InteractiveTB.structured_traceback(etype,\n\u001b[0;32m-> 2057\u001b[0;31m                                             value, tb, tb_offset=tb_offset)\n\u001b[0m\u001b[1;32m   2058\u001b[0m \u001b[0;34m\u001b[0m\u001b[0m\n\u001b[1;32m   2059\u001b[0m                     \u001b[0mself\u001b[0m\u001b[0;34m.\u001b[0m\u001b[0m_showtraceback\u001b[0m\u001b[0;34m(\u001b[0m\u001b[0metype\u001b[0m\u001b[0;34m,\u001b[0m \u001b[0mvalue\u001b[0m\u001b[0;34m,\u001b[0m \u001b[0mstb\u001b[0m\u001b[0;34m)\u001b[0m\u001b[0;34m\u001b[0m\u001b[0;34m\u001b[0m\u001b[0m\n",
      "\u001b[0;32m~/opt/anaconda3/lib/python3.7/site-packages/IPython/core/ultratb.py\u001b[0m in \u001b[0;36mstructured_traceback\u001b[0;34m(self, etype, value, tb, tb_offset, number_of_lines_of_context)\u001b[0m\n\u001b[1;32m   1366\u001b[0m             \u001b[0mself\u001b[0m\u001b[0;34m.\u001b[0m\u001b[0mtb\u001b[0m \u001b[0;34m=\u001b[0m \u001b[0mtb\u001b[0m\u001b[0;34m\u001b[0m\u001b[0;34m\u001b[0m\u001b[0m\n\u001b[1;32m   1367\u001b[0m         return FormattedTB.structured_traceback(\n\u001b[0;32m-> 1368\u001b[0;31m             self, etype, value, tb, tb_offset, number_of_lines_of_context)\n\u001b[0m\u001b[1;32m   1369\u001b[0m \u001b[0;34m\u001b[0m\u001b[0m\n\u001b[1;32m   1370\u001b[0m \u001b[0;34m\u001b[0m\u001b[0m\n",
      "\u001b[0;32m~/opt/anaconda3/lib/python3.7/site-packages/IPython/core/ultratb.py\u001b[0m in \u001b[0;36mstructured_traceback\u001b[0;34m(self, etype, value, tb, tb_offset, number_of_lines_of_context)\u001b[0m\n\u001b[1;32m   1266\u001b[0m             \u001b[0;31m# Verbose modes need a full traceback\u001b[0m\u001b[0;34m\u001b[0m\u001b[0;34m\u001b[0m\u001b[0;34m\u001b[0m\u001b[0m\n\u001b[1;32m   1267\u001b[0m             return VerboseTB.structured_traceback(\n\u001b[0;32m-> 1268\u001b[0;31m                 \u001b[0mself\u001b[0m\u001b[0;34m,\u001b[0m \u001b[0metype\u001b[0m\u001b[0;34m,\u001b[0m \u001b[0mvalue\u001b[0m\u001b[0;34m,\u001b[0m \u001b[0mtb\u001b[0m\u001b[0;34m,\u001b[0m \u001b[0mtb_offset\u001b[0m\u001b[0;34m,\u001b[0m \u001b[0mnumber_of_lines_of_context\u001b[0m\u001b[0;34m\u001b[0m\u001b[0;34m\u001b[0m\u001b[0m\n\u001b[0m\u001b[1;32m   1269\u001b[0m             )\n\u001b[1;32m   1270\u001b[0m         \u001b[0;32melif\u001b[0m \u001b[0mmode\u001b[0m \u001b[0;34m==\u001b[0m \u001b[0;34m'Minimal'\u001b[0m\u001b[0;34m:\u001b[0m\u001b[0;34m\u001b[0m\u001b[0;34m\u001b[0m\u001b[0m\n",
      "\u001b[0;32m~/opt/anaconda3/lib/python3.7/site-packages/IPython/core/ultratb.py\u001b[0m in \u001b[0;36mstructured_traceback\u001b[0;34m(self, etype, evalue, etb, tb_offset, number_of_lines_of_context)\u001b[0m\n\u001b[1;32m   1123\u001b[0m \u001b[0;34m\u001b[0m\u001b[0m\n\u001b[1;32m   1124\u001b[0m         formatted_exception = self.format_exception_as_a_whole(etype, evalue, etb, number_of_lines_of_context,\n\u001b[0;32m-> 1125\u001b[0;31m                                                                tb_offset)\n\u001b[0m\u001b[1;32m   1126\u001b[0m \u001b[0;34m\u001b[0m\u001b[0m\n\u001b[1;32m   1127\u001b[0m         \u001b[0mcolors\u001b[0m \u001b[0;34m=\u001b[0m \u001b[0mself\u001b[0m\u001b[0;34m.\u001b[0m\u001b[0mColors\u001b[0m  \u001b[0;31m# just a shorthand + quicker name lookup\u001b[0m\u001b[0;34m\u001b[0m\u001b[0;34m\u001b[0m\u001b[0m\n",
      "\u001b[0;32m~/opt/anaconda3/lib/python3.7/site-packages/IPython/core/ultratb.py\u001b[0m in \u001b[0;36mformat_exception_as_a_whole\u001b[0;34m(self, etype, evalue, etb, number_of_lines_of_context, tb_offset)\u001b[0m\n\u001b[1;32m   1080\u001b[0m \u001b[0;34m\u001b[0m\u001b[0m\n\u001b[1;32m   1081\u001b[0m \u001b[0;34m\u001b[0m\u001b[0m\n\u001b[0;32m-> 1082\u001b[0;31m         \u001b[0mlast_unique\u001b[0m\u001b[0;34m,\u001b[0m \u001b[0mrecursion_repeat\u001b[0m \u001b[0;34m=\u001b[0m \u001b[0mfind_recursion\u001b[0m\u001b[0;34m(\u001b[0m\u001b[0morig_etype\u001b[0m\u001b[0;34m,\u001b[0m \u001b[0mevalue\u001b[0m\u001b[0;34m,\u001b[0m \u001b[0mrecords\u001b[0m\u001b[0;34m)\u001b[0m\u001b[0;34m\u001b[0m\u001b[0;34m\u001b[0m\u001b[0m\n\u001b[0m\u001b[1;32m   1083\u001b[0m \u001b[0;34m\u001b[0m\u001b[0m\n\u001b[1;32m   1084\u001b[0m         \u001b[0mframes\u001b[0m \u001b[0;34m=\u001b[0m \u001b[0mself\u001b[0m\u001b[0;34m.\u001b[0m\u001b[0mformat_records\u001b[0m\u001b[0;34m(\u001b[0m\u001b[0mrecords\u001b[0m\u001b[0;34m,\u001b[0m \u001b[0mlast_unique\u001b[0m\u001b[0;34m,\u001b[0m \u001b[0mrecursion_repeat\u001b[0m\u001b[0;34m)\u001b[0m\u001b[0;34m\u001b[0m\u001b[0;34m\u001b[0m\u001b[0m\n",
      "\u001b[0;32m~/opt/anaconda3/lib/python3.7/site-packages/IPython/core/ultratb.py\u001b[0m in \u001b[0;36mfind_recursion\u001b[0;34m(etype, value, records)\u001b[0m\n\u001b[1;32m    380\u001b[0m     \u001b[0;31m# first frame (from in to out) that looks different.\u001b[0m\u001b[0;34m\u001b[0m\u001b[0;34m\u001b[0m\u001b[0;34m\u001b[0m\u001b[0m\n\u001b[1;32m    381\u001b[0m     \u001b[0;32mif\u001b[0m \u001b[0;32mnot\u001b[0m \u001b[0mis_recursion_error\u001b[0m\u001b[0;34m(\u001b[0m\u001b[0metype\u001b[0m\u001b[0;34m,\u001b[0m \u001b[0mvalue\u001b[0m\u001b[0;34m,\u001b[0m \u001b[0mrecords\u001b[0m\u001b[0;34m)\u001b[0m\u001b[0;34m:\u001b[0m\u001b[0;34m\u001b[0m\u001b[0;34m\u001b[0m\u001b[0m\n\u001b[0;32m--> 382\u001b[0;31m         \u001b[0;32mreturn\u001b[0m \u001b[0mlen\u001b[0m\u001b[0;34m(\u001b[0m\u001b[0mrecords\u001b[0m\u001b[0;34m)\u001b[0m\u001b[0;34m,\u001b[0m \u001b[0;36m0\u001b[0m\u001b[0;34m\u001b[0m\u001b[0;34m\u001b[0m\u001b[0m\n\u001b[0m\u001b[1;32m    383\u001b[0m \u001b[0;34m\u001b[0m\u001b[0m\n\u001b[1;32m    384\u001b[0m     \u001b[0;31m# Select filename, lineno, func_name to track frames with\u001b[0m\u001b[0;34m\u001b[0m\u001b[0;34m\u001b[0m\u001b[0;34m\u001b[0m\u001b[0m\n",
      "\u001b[0;31mTypeError\u001b[0m: object of type 'NoneType' has no len()"
     ]
    }
   ],
   "source": [
    "%%time \n",
    "a.run(verbose=True)"
   ]
  },
  {
   "cell_type": "code",
   "execution_count": 10,
   "id": "closed-withdrawal",
   "metadata": {},
   "outputs": [],
   "source": [
    "urls = pd.read_json('Resources/urls.json',typ='series')"
   ]
  },
  {
   "cell_type": "code",
   "execution_count": null,
   "id": "liquid-standing",
   "metadata": {},
   "outputs": [],
   "source": []
  },
  {
   "cell_type": "code",
   "execution_count": 11,
   "id": "approximate-horizontal",
   "metadata": {},
   "outputs": [],
   "source": [
    "independents = urls[[name for name in urls.index if name[0] == 'G']]\n",
    "dependents = urls[[name for name in urls.index if name[0] != 'G' and name[0] != 'U']]\n",
    "unused = urls[[name for name in urls.index if name[0] == 'U']]"
   ]
  },
  {
   "cell_type": "code",
   "execution_count": 12,
   "id": "accomplished-evening",
   "metadata": {},
   "outputs": [
    {
     "data": {
      "text/plain": [
       "P1b1000_CV_PROFILE              https://financialmodelingprep.com/api/v3/profi...\n",
       "H1b1000_CV_QUOTE                https://financialmodelingprep.com/api/v3/quote...\n",
       "S1_CV_EXECUTIVES                https://financialmodelingprep.com/api/v3/key-e...\n",
       "S1_CV_FS_INCOME_YR              https://financialmodelingprep.com/api/v3/incom...\n",
       "S1_CV_FS_INCOME_QTR             https://financialmodelingprep.com/api/v3/incom...\n",
       "S1_CV_FS_BALANCESHEET_YR        https://financialmodelingprep.com/api/v3/balan...\n",
       "S1_CV_FS_BALANCESHEET_QTR       https://financialmodelingprep.com/api/v3/balan...\n",
       "S1_CV_FS_CASHFLOW_YR            https://financialmodelingprep.com/api/v3/cash-...\n",
       "S1_CV_FS_CASHFLOW_QTR           https://financialmodelingprep.com/api/v3/cash-...\n",
       "S1_CV_FS_INCOMEGROWTH_YR        https://financialmodelingprep.com/api/v3/incom...\n",
       "S1_CV_FS_BALANCEGROWTH_YR       https://financialmodelingprep.com/api/v3/balan...\n",
       "S1_CV_FS_CASHGROWTH_YR          https://financialmodelingprep.com/api/v3/cash-...\n",
       "S1_CV_RATIOS_TTM                https://financialmodelingprep.com/api/v3/ratio...\n",
       "S1_CV_RATIOS_YR                 https://financialmodelingprep.com/api/v3/ratio...\n",
       "S1_CV_RATIOS_QTR                https://financialmodelingprep.com/api/v3/ratio...\n",
       "S1_CV_ENTERPRISEVALUE_YR        https://financialmodelingprep.com/api/v3/enter...\n",
       "S1_CV_ENTERPRISEVALUE_QTR       https://financialmodelingprep.com/api/v3/enter...\n",
       "S1_CV_METRICS_TTM               https://financialmodelingprep.com/api/v3/key-m...\n",
       "S1_CV_METRICS_YR                https://financialmodelingprep.com/api/v3/key-m...\n",
       "S1_CV_METRICS_QTR               https://financialmodelingprep.com/api/v3/key-m...\n",
       "S1_CV_GROWTH_YR                 https://financialmodelingprep.com/api/v3/finan...\n",
       "S1_CV_GROWTH_QTR                https://financialmodelingprep.com/api/v3/finan...\n",
       "S1_CV_RATING                    https://financialmodelingprep.com/api/v3/ratin...\n",
       "S1_CV_RATING_DAY                https://financialmodelingprep.com/api/v3/histo...\n",
       "S1_CV_DCF                       https://financialmodelingprep.com/api/v3/disco...\n",
       "S2_CV_DCF_YR                    https://financialmodelingprep.com/api/v3/histo...\n",
       "S2_CV_DCF_QTR                   https://financialmodelingprep.com/api/v3/histo...\n",
       "S1_CV_DCF_DAY                   https://financialmodelingprep.com/api/v3/histo...\n",
       "S1_CV_MARKETCAP                 https://financialmodelingprep.com/api/v3/marke...\n",
       "S1_CV_MARKETCAP_DAY             https://financialmodelingprep.com/api/v3/marke...\n",
       "T1b1000_CV_NEWS                 https://financialmodelingprep.com/api/v3/stock...\n",
       "T1_CV_PRESSRELEASES             https://financialmodelingprep.com/api/v3/press...\n",
       "S1_INS_STOCKTRADING             https://financialmodelingprep.com/api/v4/insid...\n",
       "S1_CAL_EARNINGSCALENDAR_HIST    https://financialmodelingprep.com/api/v3/histo...\n",
       "T1_INST_HOLDERS                 https://financialmodelingprep.com/api/v3/insti...\n",
       "T1_INST_MUTFUNDHOLDERS          https://financialmodelingprep.com/api/v3/mutua...\n",
       "E1_INST_ETFHOLDERS              https://financialmodelingprep.com/api/v3/etf-h...\n",
       "E1_INST_ETFSECTORWEIGHTS        https://financialmodelingprep.com/api/v3/etf-s...\n",
       "E1_INST_ETFCOUNTRYWEIGHTS       https://financialmodelingprep.com/api/v3/etf-c...\n",
       "F1_INST_13F                     https://financialmodelingprep.com/api/v3/form-...\n",
       "T3b3_TS_PRICE_DAY               https://financialmodelingprep.com/api/v3/histo...\n",
       "T3b3_TS_DIVIDENDS_HIST          https://financialmodelingprep.com/api/v3/histo...\n",
       "T3b3_TS_SPLITS_HIST             https://financialmodelingprep.com/api/v3/histo...\n",
       "I3b3_MI_INDEXPRICEHIST_DAY      https://financialmodelingprep.com/api/v3/histo...\n",
       "C3b3_COM_PRICES_DAY             https://financialmodelingprep.com/api/v3/histo...\n",
       "M3b3_MF_PRICES_DAY              https://financialmodelingprep.com/api/v3/histo...\n",
       "dtype: object"
      ]
     },
     "execution_count": 12,
     "metadata": {},
     "output_type": "execute_result"
    }
   ],
   "source": [
    "pd.set_option('max_rows',None)\n",
    "dependents"
   ]
  },
  {
   "cell_type": "code",
   "execution_count": null,
   "id": "coated-petersburg",
   "metadata": {},
   "outputs": [],
   "source": [
    "! rm ../../FinancesTEST.db"
   ]
  },
  {
   "cell_type": "code",
   "execution_count": null,
   "id": "uniform-depression",
   "metadata": {},
   "outputs": [],
   "source": [
    "urls = pd.read_json('Resources/urls.json',typ='series')"
   ]
  },
  {
   "cell_type": "code",
   "execution_count": null,
   "id": "aquatic-vehicle",
   "metadata": {},
   "outputs": [],
   "source": [
    "#conn = sqlite3.connect('../../Finances.db')\n",
    "conn = sqlite3.connect('FinancesTEST.db')\n",
    "c = conn.cursor()"
   ]
  },
  {
   "cell_type": "code",
   "execution_count": null,
   "id": "complete-richmond",
   "metadata": {},
   "outputs": [],
   "source": [
    "def load_url(pair,apikey):\n",
    "    name = pair[0]\n",
    "    url = pair[1]\n",
    "    tab = get_appended(url,apikey,name)\n",
    "    return tab"
   ]
  },
  {
   "cell_type": "code",
   "execution_count": null,
   "id": "digital-vulnerability",
   "metadata": {},
   "outputs": [],
   "source": [
    "%%time\n",
    "rate_limit = 10\n",
    "offset = 1/rate_limit\n",
    "max_workers = rate_limit -1\n",
    "with concurrent.futures.ThreadPoolExecutor(max_workers=max_workers) as executor:\n",
    "    # Start the load operations and mark each future with its URL\n",
    "    future_to_url = {executor.submit(load_url,pair,apikey): pair for pair in independents.iteritems()}\n",
    "    for future in concurrent.futures.as_completed(future_to_url):\n",
    "        time.sleep(offset)\n",
    "        pair = future_to_url[future]\n",
    "        try:\n",
    "            tab = future.result()\n",
    "        except Exception as exc:\n",
    "            print(pair,'FAILED',exc)\n",
    "            \n",
    "        else:\n",
    "            c.execute('drop table if exists '+ pair[0])\n",
    "            tab.to_sql(pair[0],con=conn,index=False,if_exists='append')\n",
    "            print(pair, 'SUCCESS')"
   ]
  },
  {
   "cell_type": "code",
   "execution_count": 8,
   "id": "marked-belize",
   "metadata": {},
   "outputs": [
    {
     "ename": "SyntaxError",
     "evalue": "invalid syntax (<ipython-input-8-4b37ef281455>, line 1)",
     "output_type": "error",
     "traceback": [
      "\u001b[0;36m  File \u001b[0;32m\"<ipython-input-8-4b37ef281455>\"\u001b[0;36m, line \u001b[0;32m1\u001b[0m\n\u001b[0;31m    |\u001b[0m\n\u001b[0m    ^\u001b[0m\n\u001b[0;31mSyntaxError\u001b[0m\u001b[0;31m:\u001b[0m invalid syntax\n"
     ]
    }
   ],
   "source": [
    "|"
   ]
  },
  {
   "cell_type": "code",
   "execution_count": null,
   "id": "flexible-hampshire",
   "metadata": {},
   "outputs": [],
   "source": []
  },
  {
   "cell_type": "code",
   "execution_count": 14,
   "id": "afraid-cream",
   "metadata": {},
   "outputs": [],
   "source": [
    "#setup database\n",
    "###FULL lists for full set processing\n",
    "stocks = list(pd.io.sql.read_sql('select symbol from G1_CV_SYMBOLS;',con=conn).symbol)\n",
    "etfs  = list(pd.io.sql.read_sql('select symbol from G1_ETF_SYMBOLS;',con=conn).symbol)\n",
    "etfs2  = list(pd.io.sql.read_sql('select symbol from G1_CV_ETFS;',con=conn).symbol)\n",
    "indexes = list(pd.io.sql.read_sql('select symbol from G1_MI_MAJORINDEXES;',con=conn).symbol)\n",
    "ciks = ['000'+str(c) for c in list(pd.io.sql.read_sql('select cik from G1_INST_CIKLIST',con=conn).cik)]\n",
    "funds = list(pd.io.sql.read_sql('select symbol from G1_MF_SYMBOLS;',con=conn).symbol)\n",
    "commods = list(pd.io.sql.read_sql('select symbol from G1_COM_SYMBOLS;',con=conn).symbol)\n",
    "##Light cleanup, nothing perfect –– could set this up using sql. \n",
    "\n",
    "#merge etf lists\n",
    "etfs_c = list(set(etfs).union(set(etfs2)))\n",
    "#leave stocks only \n",
    "stocks_c = list(set(stocks) - set(etfs_c + indexes + ciks + funds + commods))"
   ]
  },
  {
   "cell_type": "code",
   "execution_count": 15,
   "id": "three-month",
   "metadata": {},
   "outputs": [],
   "source": [
    "#setup subset of tickers\n",
    "dow_tickers = list(pd.io.sql.read_sql('select symbol from G1_MI_DOWJLIST;',con=conn).symbol)\n",
    "nasdaq_tickers = list(pd.io.sql.read_sql('select symbol from G1_MI_NASDAQLIST;',con=conn).symbol)\n",
    "sp500_tickers = list(pd.io.sql.read_sql('select symbol from G1_MI_SP500LIST;',con=conn).symbol)"
   ]
  },
  {
   "cell_type": "code",
   "execution_count": 13,
   "id": "aerial-norwegian",
   "metadata": {},
   "outputs": [],
   "source": [
    "#define subset to work with\n",
    "stocksub = dow_tickers\n",
    "#stocksub = sp500_tickers\n",
    "indexsub = ['^IXIC','^GSPC','^DJI']\n",
    "#indexsub = ['^IXIC','^GSPC','^DJI','^VIX','^RUA','^FTSE','^NDX','^N225','GDAXI']"
   ]
  },
  {
   "cell_type": "code",
   "execution_count": 14,
   "id": "stretch-minutes",
   "metadata": {},
   "outputs": [],
   "source": [
    "#get top US etfs proportionate to stock list\n",
    "num_etfs = int(np.ceil(len(stocksub)/10))\n",
    "profile = get_appended(dependents['P1b1000_CV_PROFILE'],apikey,'P1b1000_CV_PROFILE',tickers = etfs_c)\n",
    "etfsub = list(profile[profile.country == 'US'].sort_values(by='volAvg',ascending=False).symbol[:num_etfs+1])\n",
    "tickersub = stocksub + etfsub"
   ]
  },
  {
   "cell_type": "code",
   "execution_count": 15,
   "id": "weekly-tunisia",
   "metadata": {},
   "outputs": [],
   "source": [
    "#get mutual fund data\n",
    "fundtable = get_appended(dependents['T1_INST_MUTFUNDHOLDERS'],apikey,'T1_INST_MUTFUNDHOLDERS',tickers=tickersub,verbose=False)\n",
    "fundsub = list(fundtable.holder.value_counts().index)"
   ]
  },
  {
   "cell_type": "code",
   "execution_count": 16,
   "id": "worse-baltimore",
   "metadata": {},
   "outputs": [],
   "source": [
    "mfs = pd.io.sql.read_sql('select * from G1_MF_SYMBOLS;',con=conn)\n",
    "fundsub = list(np.random.choice(list(mfs[mfs.name.isin(fundsub)].symbol),int(np.ceil(len(stocksub)/3))))"
   ]
  },
  {
   "cell_type": "code",
   "execution_count": 17,
   "id": "governing-wagner",
   "metadata": {},
   "outputs": [],
   "source": [
    "#establish subset of commods\n",
    "#commodsub = commods[:3]\n",
    "commodsub = commods"
   ]
  },
  {
   "cell_type": "code",
   "execution_count": 18,
   "id": "final-happiness",
   "metadata": {},
   "outputs": [],
   "source": [
    "#get ciks of institutional holders for ciksub\n",
    "instable = get_appended(dependents['T1_INST_HOLDERS'],apikey,'T1_INST_HOLDERS',tickers=tickersub)\n",
    "instsub = list(instable.holder.value_counts().index)\n",
    "instsub = list(np.random.choice(instsub,500)) #account for many missing inst-cik mappings"
   ]
  },
  {
   "cell_type": "code",
   "execution_count": 19,
   "id": "charitable-solid",
   "metadata": {},
   "outputs": [],
   "source": [
    "#retrieve ciks\n",
    "ciklist = pd.io.sql.read_sql('select * from G1_INST_CIKLIST',con=conn)\n",
    "ciksub = list(ciklist[ciklist.name.apply(lambda x: x.lower()).isin([i.lower() for i in instsub])].cik)\n",
    "ciksub = ['000'+str(c) for c in (ciksub)]\n",
    "ciksub = [c for c in ciksub if len(c)==10]"
   ]
  },
  {
   "cell_type": "code",
   "execution_count": 20,
   "id": "everyday-governor",
   "metadata": {},
   "outputs": [],
   "source": [
    "#dictionary – nothing commodity, crypto, etc. specific\n",
    "d = {'H':stocksub + etfsub + commodsub + fundsub,\n",
    "     'P':stocksub + etfsub + fundsub,\n",
    "     'T':stocksub + etfsub,\n",
    "     'S':stocksub,\n",
    "     'E':etfsub,\n",
    "     'C':commodsub,\n",
    "     'F':ciksub,\n",
    "     'I':indexsub,\n",
    "     'M':fundsub}"
   ]
  },
  {
   "cell_type": "raw",
   "id": "deluxe-hungary",
   "metadata": {},
   "source": [
    "%%time\n",
    "schemas = open(\"schema.sql\", \"a+\")\n",
    "for name, url in dependents.iteritems():\n",
    "    \n",
    "    tablename = '_'.join(name.split('_')[1:])\n",
    "    print(tablename)\n",
    "    \n",
    "    if name[0] == 'U':\n",
    "            continue \n",
    "    elif name[0]=='G': #if ticker info not needed\n",
    "        continue\n",
    "    else:\n",
    "        tab = get_appended(url,apikey,name,tickers=d.get(name[0]),verbose=True)\n",
    "    \n",
    "    if len(tab) == 0: \n",
    "        print(tablename,' FAILED')\n",
    "        #log error\n",
    "        continue\n",
    "    \n",
    "    #load sql\n",
    "    a = pd.io.sql.get_schema(tab,tablename)\n",
    "    c.execute('drop table if exists '+ tablename)\n",
    "    c.execute(a)\n",
    "    tosql = a +';\\n\\n'\n",
    "    schemas.write(tosql)\n",
    "    tab.to_sql(tablename,con=conn,index=False,if_exists='append')"
   ]
  },
  {
   "cell_type": "code",
   "execution_count": null,
   "id": "valid-cooking",
   "metadata": {},
   "outputs": [],
   "source": []
  },
  {
   "cell_type": "code",
   "execution_count": 33,
   "id": "legal-harassment",
   "metadata": {},
   "outputs": [],
   "source": [
    "tempdf = pd.DataFrame()\n",
    "apikey = apikey\n",
    "name = \"S2_CV_DCF_YR\"\n",
    "url = \"https://financialmodelingprep.com/api/v3/historical-discounted-cash-flow/ ?limit=50&apikey=\"\n",
    "tickers = dow_tickers\n",
    "batch = False\n",
    "reqInfo = ReqInfo(10,1,5)\n",
    "verbose = True\n",
    "MAX_WORKERS = 5\n",
    "OFFSET = 1\n",
    "addsymbol = False"
   ]
  },
  {
   "cell_type": "code",
   "execution_count": null,
   "id": "awful-detail",
   "metadata": {},
   "outputs": [],
   "source": []
  },
  {
   "cell_type": "code",
   "execution_count": 34,
   "id": "continental-equality",
   "metadata": {},
   "outputs": [],
   "source": [
    "def getRequestJ2(apikey,url,ticker,offset,verbose=False):\n",
    "    '''Return partial dataframe for ticker'''\n",
    "    \n",
    "    time.sleep(offset)\n",
    "    df = None\n",
    "    #create valid URL\n",
    "    final_url = url.replace(' ',ticker) + apikey\n",
    "    try:\n",
    "        jsonx = pd.read_json(final_url)\n",
    "        symbname = jsonx.columns[0]\n",
    "    \n",
    "        df = pd.DataFrame(jsonx.iloc[0,1])\n",
    "        df[symbname] = jsonx.loc[0,symbname]\n",
    "    except Exception as e :\n",
    "        print(e, '...ticker {} failed'.format(ticker))\n",
    "        \n",
    "    return df"
   ]
  },
  {
   "cell_type": "code",
   "execution_count": null,
   "id": "backed-binding",
   "metadata": {},
   "outputs": [],
   "source": []
  },
  {
   "cell_type": "code",
   "execution_count": 35,
   "id": "fantastic-panic",
   "metadata": {},
   "outputs": [
    {
     "name": "stdout",
     "output_type": "stream",
     "text": [
      "CRM SUCCESS\n",
      "V SUCCESS\n",
      "NKE SUCCESS\n",
      "WBA SUCCESS\n",
      "WMT SUCCESS\n",
      "VZ SUCCESS\n",
      "INTC SUCCESS\n",
      "UNH SUCCESS\n",
      "TRV SUCCESS\n",
      "JNJ SUCCESS\n",
      "MCD SUCCESS\n",
      "DIS SUCCESS\n",
      "JPM SUCCESS\n",
      "AMGN SUCCESS\n",
      "BA SUCCESS\n",
      "DOW SUCCESS\n",
      "AAPL SUCCESS\n",
      "CAT SUCCESS\n",
      "CSCO SUCCESS\n",
      "GS SUCCESS\n",
      "MSFT SUCCESS\n",
      "HD SUCCESS\n",
      "PG SUCCESS\n",
      "MRK SUCCESS\n",
      "IBM SUCCESS\n",
      "KO SUCCESS\n",
      "HON SUCCESS\n",
      "CVX SUCCESS\n",
      "AXP SUCCESS\n",
      "MMM SUCCESS\n",
      "CPU times: user 527 ms, sys: 33 ms, total: 560 ms\n",
      "Wall time: 5.33 s\n"
     ]
    }
   ],
   "source": [
    "%%time\n",
    "with concurrent.futures.ThreadPoolExecutor(max_workers=9) as executor:\n",
    "    \n",
    "    #create future for each batch\n",
    "    future_to_tickers = {executor.submit(getRequestJ2,apikey,url,ticker,OFFSET,verbose=True): ticker for ticker in tickers}\n",
    "    \n",
    "    for future in concurrent.futures.as_completed(future_to_tickers,timeout=None):\n",
    "        \n",
    "        ticker = future_to_tickers[future]\n",
    "        try:\n",
    "            tab = future.result()\n",
    "        except Exception as e:\n",
    "            print(ticker,'FAILED',e)\n",
    "            \n",
    "        else:\n",
    "            if addsymbol:\n",
    "                tempdf['symbol'] = ticker\n",
    "            tempdf = tempdf.append(tab)\n",
    "            print(ticker, 'SUCCESS')"
   ]
  },
  {
   "cell_type": "code",
   "execution_count": 39,
   "id": "small-outdoors",
   "metadata": {},
   "outputs": [
    {
     "data": {
      "text/plain": [
       "30"
      ]
     },
     "execution_count": 39,
     "metadata": {},
     "output_type": "execute_result"
    }
   ],
   "source": [
    "len(tempdf.symbol.value_counts())"
   ]
  },
  {
   "cell_type": "code",
   "execution_count": null,
   "id": "needed-subscription",
   "metadata": {},
   "outputs": [],
   "source": []
  }
 ],
 "metadata": {
  "kernelspec": {
   "display_name": "Python 3",
   "language": "python",
   "name": "python3"
  },
  "language_info": {
   "codemirror_mode": {
    "name": "ipython",
    "version": 3
   },
   "file_extension": ".py",
   "mimetype": "text/x-python",
   "name": "python",
   "nbconvert_exporter": "python",
   "pygments_lexer": "ipython3",
   "version": "3.7.6"
  }
 },
 "nbformat": 4,
 "nbformat_minor": 5
}
