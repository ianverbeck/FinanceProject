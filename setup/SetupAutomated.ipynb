{
 "cells": [
  {
   "cell_type": "code",
   "execution_count": 60,
   "metadata": {},
   "outputs": [],
   "source": [
    "import sqlite3\n",
    "\n",
    "import pandas as pd\n",
    "import numpy as np\n",
    "from urllib.request import urlopen  \n",
    "import json\n",
    "\n",
    "getkey = ! cat ../../apikey.txt\n",
    "apikey = getkey[0]\n",
    "\n",
    "from fhelp import get_json, fmp_todf"
   ]
  },
  {
   "cell_type": "code",
   "execution_count": 61,
   "metadata": {},
   "outputs": [],
   "source": [
    "#get list of tickers (just dow until everything is set up)\n",
    "dow_url = \"https://financialmodelingprep.com/api/v3/dowjones_constituent?apikey=600e501fe324b2f1cbb2aec5b390b6db\"\n",
    "dow_ticks = get_json(dow_url)\n",
    "dow_tickers = [tick['symbol'] for tick in dow_ticks]\n",
    "tickers = dow_tickers"
   ]
  },
  {
   "cell_type": "code",
   "execution_count": 3,
   "metadata": {},
   "outputs": [],
   "source": [
    "tickers += ['SECO']"
   ]
  },
  {
   "cell_type": "code",
   "execution_count": 4,
   "metadata": {},
   "outputs": [],
   "source": [
    "#connect to dv(setup if new)\n",
    "conn = sqlite3.connect('../../Finances.db')\n",
    "c = conn.cursor()"
   ]
  },
  {
   "cell_type": "markdown",
   "metadata": {},
   "source": [
    "## Company valuation"
   ]
  },
  {
   "cell_type": "code",
   "execution_count": 5,
   "metadata": {},
   "outputs": [],
   "source": [
    "prefix = 'CVALUATION__'"
   ]
  },
  {
   "cell_type": "markdown",
   "metadata": {},
   "source": [
    "### Profile"
   ]
  },
  {
   "cell_type": "code",
   "execution_count": 6,
   "metadata": {},
   "outputs": [],
   "source": [
    "name = prefix+'PROFILE'"
   ]
  },
  {
   "cell_type": "code",
   "execution_count": 7,
   "metadata": {},
   "outputs": [
    {
     "name": "stdout",
     "output_type": "stream",
     "text": [
      "CPU times: user 832 ms, sys: 46.9 ms, total: 879 ms\n",
      "Wall time: 13.4 s\n"
     ]
    }
   ],
   "source": [
    "%%time\n",
    "url = \"https://financialmodelingprep.com/api/v3/profile/***TICKER***?apikey=\" + apikey\n",
    "tab = fmp_todf(url, tickers)\n",
    "a = pd.io.sql.get_schema(tab,name)\n",
    "#print(a)"
   ]
  },
  {
   "cell_type": "code",
   "execution_count": 8,
   "metadata": {},
   "outputs": [
    {
     "name": "stdout",
     "output_type": "stream",
     "text": [
      "('CRM', 236.7, 1.25764, 9457330, 217227641000, 0.0, '115.29-284.5', -2.23, 'Salesforce.Com Inc', 'USD')\n"
     ]
    }
   ],
   "source": [
    "#clean up\n",
    "c.execute('drop table if exists '+ name)\n",
    "\n",
    "#add primary key (can't do with pandas)\n",
    "c.execute(\"\"\"\n",
    "CREATE TABLE \"CVALUATION__PROFILE\" (\n",
    "\"symbol\" TEXT PRIMARY KEY,\n",
    "\"price\" REAL,\n",
    "\"beta\" REAL,\n",
    "\"volAvg\" INTEGER,\n",
    "\"mktCap\" INTEGER,\n",
    "\"lastDiv\" REAL,\n",
    "\"range\" TEXT,\n",
    "\"changes\" REAL,\n",
    "\"companyName\" TEXT,\n",
    "\"currency\" TEXT,\n",
    "\"cik\" TEXT,\n",
    "\"isin\" TEXT,\n",
    "\"cusip\" TEXT,\n",
    "\"exchange\" TEXT,\n",
    "\"exchangeShortName\" TEXT,\n",
    "\"industry\" TEXT,\n",
    "\"website\" TEXT,\n",
    "\"description\" TEXT,\n",
    "\"ceo\" TEXT,\n",
    "\"sector\" TEXT,\n",
    "\"country\" TEXT,\n",
    "\"fullTimeEmployees\" TEXT,\n",
    "\"phone\" TEXT,\n",
    "\"address\" TEXT,\n",
    "\"city\" TEXT,\n",
    "\"state\" TEXT,\n",
    "\"zip\" TEXT,\n",
    "\"dcfDiff\" REAL,\n",
    "\"dcf\" REAL,\n",
    "\"image\" TEXT,\n",
    "\"ipoDate\" TEXT,\n",
    "\"defaultImage\" INTEGER\n",
    ")\"\"\")\n",
    "\n",
    "#put data into table\n",
    "tab.to_sql(name,con=conn,index=False,if_exists='append')\n",
    "c.execute('select * from '+name+ ' limit 1')\n",
    "print(c.fetchall()[0][0:10],)"
   ]
  },
  {
   "cell_type": "markdown",
   "metadata": {},
   "source": [
    "### Quote"
   ]
  },
  {
   "cell_type": "code",
   "execution_count": 9,
   "metadata": {},
   "outputs": [],
   "source": [
    "name = prefix+'QUOTE'"
   ]
  },
  {
   "cell_type": "code",
   "execution_count": 10,
   "metadata": {},
   "outputs": [
    {
     "name": "stdout",
     "output_type": "stream",
     "text": [
      "CPU times: user 669 ms, sys: 24.4 ms, total: 694 ms\n",
      "Wall time: 9.49 s\n"
     ]
    }
   ],
   "source": [
    "%%time\n",
    "url = \"https://financialmodelingprep.com/api/v3/quote/***TICKER***?apikey=\" + apikey\n",
    "tab = fmp_todf(url, tickers)\n",
    "a = pd.io.sql.get_schema(tab,name)\n",
    "#print(a)"
   ]
  },
  {
   "cell_type": "code",
   "execution_count": 11,
   "metadata": {},
   "outputs": [
    {
     "name": "stdout",
     "output_type": "stream",
     "text": [
      "('CRM', 'salesforce.com, inc.', 236.7, -0.93, -2.23, 236.2366, 240.08, 284.5, 115.29, 217227640832.0)\n"
     ]
    }
   ],
   "source": [
    "c.execute('drop table if exists '+ name)\n",
    "\n",
    "c.execute(\"\"\"\n",
    "CREATE TABLE \"CVALUATION__QUOTE\" (\n",
    "  \"symbol\" TEXT PRIMARY KEY,\n",
    "  \"name\" TEXT,\n",
    "  \"price\" REAL,\n",
    "  \"changesPercentage\" REAL,\n",
    "  \"change\" REAL,\n",
    "  \"dayLow\" REAL,\n",
    "  \"dayHigh\" REAL,\n",
    "  \"yearHigh\" REAL,\n",
    "  \"yearLow\" REAL,\n",
    "  \"marketCap\" REAL,\n",
    "  \"priceAvg50\" REAL,\n",
    "  \"priceAvg200\" REAL,\n",
    "  \"volume\" INTEGER,\n",
    "  \"avgVolume\" INTEGER,\n",
    "  \"exchange\" TEXT,\n",
    "  \"open\" REAL,\n",
    "  \"previousClose\" REAL,\n",
    "  \"eps\" REAL,\n",
    "  \"pe\" REAL,\n",
    "  \"earningsAnnouncement\" TEXT,\n",
    "  \"sharesOutstanding\" INTEGER,\n",
    "  \"timestamp\" INTEGER\n",
    ")\"\"\")\n",
    "\n",
    "#put data into table\n",
    "tab.to_sql(name,con=conn,index=False,if_exists='append')\n",
    "c.execute('select * from '+name+ ' limit 1')\n",
    "print(c.fetchall()[0][0:10],)"
   ]
  },
  {
   "cell_type": "markdown",
   "metadata": {},
   "source": [
    "### Key Executives"
   ]
  },
  {
   "cell_type": "code",
   "execution_count": 12,
   "metadata": {},
   "outputs": [],
   "source": [
    "name = prefix+'KEY_EXECUTIVES'"
   ]
  },
  {
   "cell_type": "code",
   "execution_count": 13,
   "metadata": {},
   "outputs": [
    {
     "name": "stdout",
     "output_type": "stream",
     "text": [
      "CPU times: user 1.58 s, sys: 26.1 ms, total: 1.6 s\n",
      "Wall time: 13.2 s\n"
     ]
    }
   ],
   "source": [
    "%%time\n",
    "url = \"https://financialmodelingprep.com/api/v3/key-executives/***TICKER***?apikey=\" + apikey\n",
    "tab = fmp_todf(url, tickers)\n",
    "a = pd.io.sql.get_schema(tab,name)\n",
    "#print(a)"
   ]
  },
  {
   "cell_type": "code",
   "execution_count": 14,
   "metadata": {},
   "outputs": [
    {
     "name": "stdout",
     "output_type": "stream",
     "text": [
      "('CRM', 'Co-Founder, Chairman & Chief Executive Officer', 'Mr. Marc R. Benioff', 5970000, 'USD', 'male', 1965, None)\n"
     ]
    }
   ],
   "source": [
    "c.execute('drop table if exists '+name)\n",
    "c.execute(\"\"\"\n",
    "CREATE TABLE \"CVALUATION__KEY_EXECUTIVES\" (\n",
    "  \"symbol\" TEXT,\n",
    "  \"title\" TEXT,\n",
    "  \"name\" TEXT PRIMARY KEY,\n",
    "  \"pay\" INTEGER,\n",
    "  \"currencyPay\" TEXT,\n",
    "  \"gender\" TEXT,\n",
    "  \"yearBorn\" INTEGER,\n",
    "  \"titleSince\" TEXT\n",
    ")\"\"\")\n",
    "tab['symbol'] = tab.index\n",
    "tab.to_sql(name,con=conn,index=False,if_exists='append')\n",
    "c.execute('select * from '+name+ ' limit 1')\n",
    "print(c.fetchall()[0][0:10],)"
   ]
  },
  {
   "cell_type": "markdown",
   "metadata": {},
   "source": [
    "### !!!Out for now: Search"
   ]
  },
  {
   "cell_type": "markdown",
   "metadata": {},
   "source": [
    "### !!!Out for now: Financial Zip"
   ]
  },
  {
   "cell_type": "markdown",
   "metadata": {},
   "source": [
    "### Financial Statements"
   ]
  },
  {
   "cell_type": "markdown",
   "metadata": {},
   "source": [
    "#### Income"
   ]
  },
  {
   "cell_type": "markdown",
   "metadata": {},
   "source": [
    "##### Quarterly"
   ]
  },
  {
   "cell_type": "code",
   "execution_count": 15,
   "metadata": {},
   "outputs": [],
   "source": [
    "name = prefix+'FINANCIAL_STATEMENTS_INCOME_Q'"
   ]
  },
  {
   "cell_type": "code",
   "execution_count": 16,
   "metadata": {},
   "outputs": [
    {
     "name": "stdout",
     "output_type": "stream",
     "text": [
      "CPU times: user 37.3 s, sys: 165 ms, total: 37.4 s\n",
      "Wall time: 52.5 s\n"
     ]
    }
   ],
   "source": [
    "%%time\n",
    "url = \"https://financialmodelingprep.com/api/v3/income-statement/***TICKER***?period=quarter&limit=1000000000&apikey=\" + apikey\n",
    "tab = fmp_todf(url, tickers)\n",
    "a = pd.io.sql.get_schema(tab,name)\n",
    "#print(a)"
   ]
  },
  {
   "cell_type": "code",
   "execution_count": 17,
   "metadata": {},
   "outputs": [
    {
     "name": "stdout",
     "output_type": "stream",
     "text": [
      "('2020-10-31', 'CRM', 'USD', '2020-12-04', '2020-12-04 08:43:26', 'Q3', '5419000000', '1394000000', '4025000000', 0.7427569662299317)\n"
     ]
    }
   ],
   "source": [
    "c.execute('drop table if exists '+name)\n",
    "c.execute(\"\"\"\n",
    "CREATE TABLE \"CVALUATION__FINANCIAL_STATEMENTS_INCOME_Q\" (\n",
    "  \"date\" TEXT,\n",
    "  \"symbol\" TEXT,\n",
    "  \"reportedCurrency\" TEXT,\n",
    "  \"fillingDate\" TEXT,\n",
    "  \"acceptedDate\" TEXT,\n",
    "  \"period\" TEXT,\n",
    "  \"revenue\" TEXT,\n",
    "  \"costOfRevenue\" TEXT,\n",
    "  \"grossProfit\" TEXT,\n",
    "  \"grossProfitRatio\" REAL,\n",
    "  \"researchAndDevelopmentExpenses\" TEXT,\n",
    "  \"generalAndAdministrativeExpenses\" TEXT,\n",
    "  \"sellingAndMarketingExpenses\" TEXT,\n",
    "  \"otherExpenses\" TEXT,\n",
    "  \"operatingExpenses\" TEXT,\n",
    "  \"costAndExpenses\" TEXT,\n",
    "  \"interestExpense\" REAL,\n",
    "  \"depreciationAndAmortization\" TEXT,\n",
    "  \"ebitda\" TEXT,\n",
    "  \"ebitdaratio\" REAL,\n",
    "  \"operatingIncome\" TEXT,\n",
    "  \"operatingIncomeRatio\" REAL,\n",
    "  \"totalOtherIncomeExpensesNet\" TEXT,\n",
    "  \"incomeBeforeTax\" TEXT,\n",
    "  \"incomeBeforeTaxRatio\" REAL,\n",
    "  \"incomeTaxExpense\" TEXT,\n",
    "  \"netIncome\" TEXT,\n",
    "  \"netIncomeRatio\" REAL,\n",
    "  \"eps\" REAL,\n",
    "  \"epsdiluted\" REAL,\n",
    "  \"weightedAverageShsOut\" TEXT,\n",
    "  \"weightedAverageShsOutDil\" TEXT,\n",
    "  \"link\" TEXT,\n",
    "  \"finalLink\" TEXT,\n",
    "  PRIMARY KEY (symbol,date)\n",
    ")\"\"\")\n",
    "tab.to_sql(name,con=conn,index=False,if_exists='append')\n",
    "c.execute('select * from '+name+ ' limit 1')\n",
    "print(c.fetchall()[0][0:10],)"
   ]
  },
  {
   "cell_type": "markdown",
   "metadata": {},
   "source": [
    "#### Balance Sheet"
   ]
  },
  {
   "cell_type": "markdown",
   "metadata": {},
   "source": [
    "##### Quarterly"
   ]
  },
  {
   "cell_type": "code",
   "execution_count": 18,
   "metadata": {},
   "outputs": [],
   "source": [
    "name = prefix+'FINANCIAL_STATEMENTS_BALANCE_SHEET_Q'"
   ]
  },
  {
   "cell_type": "code",
   "execution_count": 19,
   "metadata": {},
   "outputs": [
    {
     "name": "stdout",
     "output_type": "stream",
     "text": [
      "CPU times: user 52.1 s, sys: 237 ms, total: 52.3 s\n",
      "Wall time: 1min 7s\n"
     ]
    }
   ],
   "source": [
    "%%time\n",
    "url = \"https://financialmodelingprep.com/api/v3/balance-sheet-statement/***TICKER***?period=quarter&limit=1000000000&apikey=\" + apikey\n",
    "tab = fmp_todf(url, tickers)\n",
    "a = pd.io.sql.get_schema(tab,name)\n",
    "#print(a)"
   ]
  },
  {
   "cell_type": "code",
   "execution_count": 20,
   "metadata": {},
   "outputs": [
    {
     "name": "stdout",
     "output_type": "stream",
     "text": [
      "('2020-10-31', 'CRM', 'USD', '2020-12-04', '2020-12-04 08:43:26', 'Q3', '3724000000', '5768000000', '9492000000', '3316000000')\n"
     ]
    }
   ],
   "source": [
    "c.execute('drop table if exists '+name)\n",
    "c.execute(\"\"\"\n",
    "CREATE TABLE \"CVALUATION__FINANCIAL_STATEMENTS_BALANCE_SHEET_Q\" (\n",
    "  \"date\" TEXT,\n",
    "  \"symbol\" TEXT,\n",
    "  \"reportedCurrency\" TEXT,\n",
    "  \"fillingDate\" TEXT,\n",
    "  \"acceptedDate\" TEXT,\n",
    "  \"period\" TEXT,\n",
    "  \"cashAndCashEquivalents\" TEXT,\n",
    "  \"shortTermInvestments\" TEXT,\n",
    "  \"cashAndShortTermInvestments\" TEXT,\n",
    "  \"netReceivables\" TEXT,\n",
    "  \"inventory\" REAL,\n",
    "  \"otherCurrentAssets\" REAL,\n",
    "  \"totalCurrentAssets\" TEXT,\n",
    "  \"propertyPlantEquipmentNet\" TEXT,\n",
    "  \"goodwill\" TEXT,\n",
    "  \"intangibleAssets\" TEXT,\n",
    "  \"goodwillAndIntangibleAssets\" TEXT,\n",
    "  \"longTermInvestments\" REAL,\n",
    "  \"taxAssets\" TEXT,\n",
    "  \"otherNonCurrentAssets\" REAL,\n",
    "  \"totalNonCurrentAssets\" TEXT,\n",
    "  \"otherAssets\" REAL,\n",
    "  \"totalAssets\" TEXT,\n",
    "  \"accountPayables\" TEXT,\n",
    "  \"shortTermDebt\" TEXT,\n",
    "  \"taxPayables\" REAL,\n",
    "  \"deferredRevenue\" TEXT,\n",
    "  \"otherCurrentLiabilities\" TEXT,\n",
    "  \"totalCurrentLiabilities\" TEXT,\n",
    "  \"longTermDebt\" TEXT,\n",
    "  \"deferredRevenueNonCurrent\" REAL,\n",
    "  \"deferredTaxLiabilitiesNonCurrent\" REAL,\n",
    "  \"otherNonCurrentLiabilities\" TEXT,\n",
    "  \"totalNonCurrentLiabilities\" TEXT,\n",
    "  \"otherLiabilities\" TEXT,\n",
    "  \"totalLiabilities\" TEXT,\n",
    "  \"commonStock\" REAL,\n",
    "  \"retainedEarnings\" TEXT,\n",
    "  \"accumulatedOtherComprehensiveIncomeLoss\" REAL,\n",
    "  \"othertotalStockholdersEquity\" REAL,\n",
    "  \"totalStockholdersEquity\" TEXT,\n",
    "  \"totalLiabilitiesAndStockholdersEquity\" TEXT,\n",
    "  \"totalInvestments\" REAL,\n",
    "  \"totalDebt\" TEXT,\n",
    "  \"netDebt\" TEXT,\n",
    "  \"link\" TEXT,\n",
    "  \"finalLink\" TEXT,\n",
    "  PRIMARY KEY (symbol,date)\n",
    ")\"\"\")\n",
    "tab.to_sql(name,con=conn,index=False,if_exists='append')\n",
    "c.execute('select * from '+name+ ' limit 1')\n",
    "print(c.fetchall()[0][0:10],)"
   ]
  },
  {
   "cell_type": "markdown",
   "metadata": {},
   "source": [
    "#### Cash Flow Statement"
   ]
  },
  {
   "cell_type": "markdown",
   "metadata": {},
   "source": [
    "##### Quarterly"
   ]
  },
  {
   "cell_type": "code",
   "execution_count": 21,
   "metadata": {},
   "outputs": [],
   "source": [
    "name = prefix+'FINANCIAL_STATEMENTS_CASH_FLOW_Q'"
   ]
  },
  {
   "cell_type": "code",
   "execution_count": 22,
   "metadata": {},
   "outputs": [
    {
     "name": "stdout",
     "output_type": "stream",
     "text": [
      "CPU times: user 38 s, sys: 162 ms, total: 38.2 s\n",
      "Wall time: 52.5 s\n"
     ]
    }
   ],
   "source": [
    "%%time\n",
    "url = \"https://financialmodelingprep.com/api/v3/cash-flow-statement/***TICKER***?period=quarter&limit=1000000000&apikey=\" + apikey\n",
    "tab = fmp_todf(url, tickers)\n",
    "a = pd.io.sql.get_schema(tab,name)\n",
    "#print(a)"
   ]
  },
  {
   "cell_type": "code",
   "execution_count": 23,
   "metadata": {},
   "outputs": [
    {
     "name": "stdout",
     "output_type": "stream",
     "text": [
      "('2020-10-31', 'CRM', 'USD', '2020-12-04', '2020-12-04 08:43:26', 'Q3', '1081000000', '670000000', 0.0, '566000000')\n"
     ]
    }
   ],
   "source": [
    "c.execute('drop table if exists '+name)\n",
    "c.execute(\"\"\"\n",
    "CREATE TABLE \"CVALUATION__FINANCIAL_STATEMENTS_CASH_FLOW_Q\" (\n",
    "  \"date\" TEXT,\n",
    "  \"symbol\" TEXT,\n",
    "  \"reportedCurrency\" TEXT,\n",
    "  \"fillingDate\" TEXT,\n",
    "  \"acceptedDate\" TEXT,\n",
    "  \"period\" TEXT,\n",
    "  \"netIncome\" TEXT,\n",
    "  \"depreciationAndAmortization\" TEXT,\n",
    "  \"deferredIncomeTax\" REAL,\n",
    "  \"stockBasedCompensation\" TEXT,\n",
    "  \"changeInWorkingCapital\" TEXT,\n",
    "  \"accountsReceivables\" TEXT,\n",
    "  \"inventory\" REAL,\n",
    "  \"accountsPayables\" TEXT,\n",
    "  \"otherWorkingCapital\" TEXT,\n",
    "  \"otherNonCashItems\" TEXT,\n",
    "  \"netCashProvidedByOperatingActivities\" TEXT,\n",
    "  \"investmentsInPropertyPlantAndEquipment\" REAL,\n",
    "  \"acquisitionsNet\" REAL,\n",
    "  \"purchasesOfInvestments\" TEXT,\n",
    "  \"salesMaturitiesOfInvestments\" TEXT,\n",
    "  \"otherInvestingActivites\" REAL,\n",
    "  \"netCashUsedForInvestingActivites\" REAL,\n",
    "  \"debtRepayment\" TEXT,\n",
    "  \"commonStockIssued\" REAL,\n",
    "  \"commonStockRepurchased\" REAL,\n",
    "  \"dividendsPaid\" REAL,\n",
    "  \"otherFinancingActivites\" REAL,\n",
    "  \"netCashUsedProvidedByFinancingActivities\" REAL,\n",
    "  \"effectOfForexChangesOnCash\" REAL,\n",
    "  \"netChangeInCash\" TEXT,\n",
    "  \"cashAtEndOfPeriod\" TEXT,\n",
    "  \"cashAtBeginningOfPeriod\" TEXT,\n",
    "  \"operatingCashFlow\" TEXT,\n",
    "  \"capitalExpenditure\" TEXT,\n",
    "  \"freeCashFlow\" TEXT,\n",
    "  \"link\" TEXT,\n",
    "  \"finalLink\" TEXT,\n",
    "  PRIMARY KEY (symbol,date)\n",
    ")\"\"\")\n",
    "tab.to_sql(name,con=conn,index=False,if_exists='append')\n",
    "c.execute('select * from '+name+ ' limit 1')\n",
    "print(c.fetchall()[0][0:10],)"
   ]
  },
  {
   "cell_type": "markdown",
   "metadata": {},
   "source": [
    "### !!!Out for now: Financial Statements List"
   ]
  },
  {
   "cell_type": "markdown",
   "metadata": {},
   "source": [
    "### Growth statements (Annual)"
   ]
  },
  {
   "cell_type": "markdown",
   "metadata": {},
   "source": [
    "#### Income "
   ]
  },
  {
   "cell_type": "code",
   "execution_count": 24,
   "metadata": {},
   "outputs": [],
   "source": [
    "name = prefix+'GROWTH_STATEMENTS_INCOME_Y'"
   ]
  },
  {
   "cell_type": "code",
   "execution_count": 25,
   "metadata": {},
   "outputs": [
    {
     "name": "stdout",
     "output_type": "stream",
     "text": [
      "CPU times: user 4.13 s, sys: 36.1 ms, total: 4.17 s\n",
      "Wall time: 15 s\n"
     ]
    }
   ],
   "source": [
    "%%time\n",
    "url = \"https://financialmodelingprep.com/api/v3/income-statement-growth/***TICKER***?limit=1000000000&apikey=\" + apikey\n",
    "tab = fmp_todf(url, tickers)\n",
    "a = pd.io.sql.get_schema(tab,name)\n",
    "#print(a)"
   ]
  },
  {
   "cell_type": "code",
   "execution_count": 26,
   "metadata": {},
   "outputs": [
    {
     "name": "stdout",
     "output_type": "stream",
     "text": [
      "('2020-01-31', 'CRM', 'FY', 0.2873061285950911, 0.22718052738336714, 0.3084121655986166, 0.01639477150673828, 0.46659597030752914, 0.2980002796811635, 0.30771767810026385)\n"
     ]
    }
   ],
   "source": [
    "c.execute('drop table if exists '+name)\n",
    "c.execute(\"\"\"\n",
    "CREATE TABLE \"CVALUATION__GROWTH_STATEMENTS_INCOME_Y\" (\n",
    "  \"date\" TEXT,\n",
    "  \"symbol\" TEXT,\n",
    "  \"period\" TEXT,\n",
    "  \"growthRevenue\" REAL,\n",
    "  \"growthCostOfRevenue\" REAL,\n",
    "  \"growthGrossProfit\" REAL,\n",
    "  \"growthGrossProfitRatio\" REAL,\n",
    "  \"growthResearchAndDevelopmentExpenses\" REAL,\n",
    "  \"growthGeneralAndAdministrativeExpenses\" REAL,\n",
    "  \"growthSellingAndMarketingExpenses\" REAL,\n",
    "  \"growthOtherExpenses\" REAL,\n",
    "  \"growthOperatingExpenses\" REAL,\n",
    "  \"growthCostAndExpenses\" REAL,\n",
    "  \"growthInterestExpense\" REAL,\n",
    "  \"growthDepreciationAndAmortization\" REAL,\n",
    "  \"growthEBITDA\" REAL,\n",
    "  \"growthEBITDARatio\" REAL,\n",
    "  \"growthOperatingIncome\" REAL,\n",
    "  \"growthOperatingIncomeRatio\" REAL,\n",
    "  \"growthTotalOtherIncomeExpensesNet\" REAL,\n",
    "  \"growthIncomeBeforeTax\" REAL,\n",
    "  \"growthIncomeBeforeTaxRatio\" REAL,\n",
    "  \"growthIncomeTaxExpense\" REAL,\n",
    "  \"growthNetIncome\" REAL,\n",
    "  \"growthNetIncomeRatio\" REAL,\n",
    "  \"growthEPS\" REAL,\n",
    "  \"growthEPSDiluted\" REAL,\n",
    "  \"growthWeightedAverageShsOut\" REAL,\n",
    "  \"growthWeightedAverageShsOutDil\" REAL,\n",
    "  PRIMARY KEY (symbol,date)\n",
    ")\"\"\")\n",
    "\n",
    "tab.to_sql(name,con=conn,index=False,if_exists='append')\n",
    "c.execute('select * from '+name+ ' limit 1')\n",
    "print(c.fetchall()[0][0:10],)"
   ]
  },
  {
   "cell_type": "markdown",
   "metadata": {},
   "source": [
    "#### Balance Sheet"
   ]
  },
  {
   "cell_type": "code",
   "execution_count": 27,
   "metadata": {},
   "outputs": [],
   "source": [
    "name = prefix+'GROWTH_STATEMENTS_BALANCE_SHEET_Y'"
   ]
  },
  {
   "cell_type": "code",
   "execution_count": 28,
   "metadata": {},
   "outputs": [
    {
     "name": "stdout",
     "output_type": "stream",
     "text": [
      "CPU times: user 5.3 s, sys: 49.4 ms, total: 5.35 s\n",
      "Wall time: 17.4 s\n"
     ]
    }
   ],
   "source": [
    "%%time\n",
    "url = \"https://financialmodelingprep.com/api/v3/balance-sheet-statement-growth/***TICKER***?limit=1000000000&apikey=\" + apikey\n",
    "tab = fmp_todf(url, tickers)\n",
    "a = pd.io.sql.get_schema(tab,name)\n",
    "#print(a)"
   ]
  },
  {
   "cell_type": "code",
   "execution_count": 29,
   "metadata": {},
   "outputs": [
    {
     "name": "stdout",
     "output_type": "stream",
     "text": [
      "('2020-01-31', 'CRM', 'FY', 0.5530161109029599, 1.2725642558278543, 0.8302625518194381, 0.24299719887955182, 0.0, 0.4562798092209857, 0.4942431901151362)\n"
     ]
    }
   ],
   "source": [
    "c.execute('drop table if exists '+name)\n",
    "c.execute(\"\"\"\n",
    "CREATE TABLE \"CVALUATION__GROWTH_STATEMENTS_BALANCE_SHEET_Y\" (\n",
    "\"date\" TEXT,\n",
    "  \"symbol\" TEXT,\n",
    "  \"period\" TEXT,\n",
    "  \"growthCashAndCashEquivalents\" REAL,\n",
    "  \"growthShortTermInvestments\" REAL,\n",
    "  \"growthCashAndShortTermInvestments\" REAL,\n",
    "  \"growthNetReceivables\" REAL,\n",
    "  \"growthInventory\" REAL,\n",
    "  \"growthOtherCurrentAssets\" REAL,\n",
    "  \"growthTotalCurrentAssets\" REAL,\n",
    "  \"growthPropertyPlantEquipmentNet\" REAL,\n",
    "  \"growthGoodwill\" REAL,\n",
    "  \"growthIntangibleAssets\" REAL,\n",
    "  \"growthGoodwillAndIntangibleAssets\" REAL,\n",
    "  \"growthLongTermInvestments\" REAL,\n",
    "  \"growthTaxAssets\" REAL,\n",
    "  \"growthOtherNonCurrentAssets\" REAL,\n",
    "  \"growthTotalNonCurrentAssets\" REAL,\n",
    "  \"growthOtherAssets\" REAL,\n",
    "  \"growthTotalAssets\" REAL,\n",
    "  \"growthAccountPayables\" REAL,\n",
    "  \"growthShortTermDebt\" REAL,\n",
    "  \"growthTaxPayables\" REAL,\n",
    "  \"growthDeferredRevenue\" REAL,\n",
    "  \"growthOtherCurrentLiabilities\" REAL,\n",
    "  \"growthTotalCurrentLiabilities\" REAL,\n",
    "  \"growthLongTermDebt\" REAL,\n",
    "  \"growthDeferredRevenueNonCurrent\" REAL,\n",
    "  \"growthDeferrredTaxLiabilitiesNonCurrent\" REAL,\n",
    "  \"growthOtherNonCurrentLiabilities\" REAL,\n",
    "  \"growthTotalNonCurrentLiabilities\" REAL,\n",
    "  \"growthOtherLiabilities\" REAL,\n",
    "  \"growthTotalLiabilities\" REAL,\n",
    "  \"growthCommonStock\" REAL,\n",
    "  \"growthRetainedEarnings\" REAL,\n",
    "  \"growthAccumulatedOtherComprehensiveIncomeLoss\" REAL,\n",
    "  \"growthOthertotalStockholdersEquity\" REAL,\n",
    "  \"growthTotalStockholdersEquity\" REAL,\n",
    "  \"growthTotalLiabilitiesAndStockholdersEquity\" REAL,\n",
    "  \"growthTotalInvestments\" REAL,\n",
    "  \"growthTotalDebt\" REAL,\n",
    "  \"growthNetDebt\" REAL,\n",
    "  PRIMARY KEY (symbol,date)\n",
    ")\"\"\")\n",
    "\n",
    "tab.to_sql(name,con=conn,index=False,if_exists='append')\n",
    "c.execute('select * from '+name+ ' limit 1')\n",
    "print(c.fetchall()[0][0:10],)"
   ]
  },
  {
   "cell_type": "markdown",
   "metadata": {},
   "source": [
    "#### Cash Flow"
   ]
  },
  {
   "cell_type": "code",
   "execution_count": 30,
   "metadata": {},
   "outputs": [],
   "source": [
    "name = prefix+'GROWTH_STATEMENTS_CASH_FLOW_Y'"
   ]
  },
  {
   "cell_type": "code",
   "execution_count": 31,
   "metadata": {},
   "outputs": [
    {
     "name": "stdout",
     "output_type": "stream",
     "text": [
      "CREATE TABLE \"CVALUATION__GROWTH_STATEMENTS_CASH_FLOW_Y\" (\n",
      "\"date\" TEXT,\n",
      "  \"symbol\" TEXT,\n",
      "  \"period\" TEXT,\n",
      "  \"growthNetIncome\" REAL,\n",
      "  \"growthDepreciationAndAmortization\" REAL,\n",
      "  \"growthDeferredIncomeTax\" REAL,\n",
      "  \"growthStockBasedCompensation\" REAL,\n",
      "  \"growthChangeInWorkingCapital\" REAL,\n",
      "  \"growthAccountsReceivables\" REAL,\n",
      "  \"growthInventory\" REAL,\n",
      "  \"growthAccountsPayables\" REAL,\n",
      "  \"growthOtherWorkingCapital\" REAL,\n",
      "  \"growthOtherNonCashItems\" REAL,\n",
      "  \"growthNetCashProvidedByOperatingActivites\" REAL,\n",
      "  \"growthInvestmentsInPropertyPlantAndEquipment\" REAL,\n",
      "  \"growthAcquisitionsNet\" REAL,\n",
      "  \"growthPurchasesOfInvestments\" REAL,\n",
      "  \"growthSalesMaturitiesOfInvestments\" REAL,\n",
      "  \"growthOtherInvestingActivites\" REAL,\n",
      "  \"growthNetCashUsedForInvestingActivites\" REAL,\n",
      "  \"growthDebtRepayment\" REAL,\n",
      "  \"growthCommonStockIssued\" REAL,\n",
      "  \"growthCommonStockRepurchased\" REAL,\n",
      "  \"growthDividendsPaid\" REAL,\n",
      "  \"growthOtherFinancingActivites\" REAL,\n",
      "  \"growthNetCashUsedProvidedByFinancingActivities\" REAL,\n",
      "  \"growthEffectOfForexChangesOnCash\" REAL,\n",
      "  \"growthNetChangeInCash\" REAL,\n",
      "  \"growthCashAtEndOfPeriod\" REAL,\n",
      "  \"growthCashAtBeginningOfPeriod\" REAL,\n",
      "  \"growthOperatingCashFlow\" REAL,\n",
      "  \"growthCapitalExpenditure\" REAL,\n",
      "  \"growthFreeCashFlow\" REAL\n",
      ")\n",
      "CPU times: user 4.45 s, sys: 39.3 ms, total: 4.49 s\n",
      "Wall time: 15.3 s\n"
     ]
    }
   ],
   "source": [
    "%%time\n",
    "url = \"https://financialmodelingprep.com/api/v3/cash-flow-statement-growth/***TICKER***?limit=1000000000&apikey=\" + apikey\n",
    "tab = fmp_todf(url, tickers)\n",
    "a = pd.io.sql.get_schema(tab,name)\n",
    "print(a)"
   ]
  },
  {
   "cell_type": "code",
   "execution_count": 32,
   "metadata": {},
   "outputs": [
    {
     "name": "stdout",
     "output_type": "stream",
     "text": [
      "('2020-01-31', 'CRM', 'FY', -0.8864864864864865, 1.2193347193347193, 0.0, -0.8409976617303195, -19.98876404494382, 0.08342361863488625, 0.0)\n"
     ]
    }
   ],
   "source": [
    "c.execute('drop table if exists '+name)\n",
    "c.execute(\"\"\"\n",
    "CREATE TABLE \"CVALUATION__GROWTH_STATEMENTS_CASH_FLOW_Y\" (\n",
    "\"date\" TEXT,\n",
    "  \"symbol\" TEXT,\n",
    "  \"period\" TEXT,\n",
    "  \"growthNetIncome\" REAL,\n",
    "  \"growthDepreciationAndAmortization\" REAL,\n",
    "  \"growthDeferredIncomeTax\" REAL,\n",
    "  \"growthStockBasedCompensation\" REAL,\n",
    "  \"growthChangeInWorkingCapital\" REAL,\n",
    "  \"growthAccountsReceivables\" REAL,\n",
    "  \"growthInventory\" REAL,\n",
    "  \"growthAccountsPayables\" REAL,\n",
    "  \"growthOtherWorkingCapital\" REAL,\n",
    "  \"growthOtherNonCashItems\" REAL,\n",
    "  \"growthNetCashProvidedByOperatingActivites\" REAL,\n",
    "  \"growthInvestmentsInPropertyPlantAndEquipment\" REAL,\n",
    "  \"growthAcquisitionsNet\" REAL,\n",
    "  \"growthPurchasesOfInvestments\" REAL,\n",
    "  \"growthSalesMaturitiesOfInvestments\" REAL,\n",
    "  \"growthOtherInvestingActivites\" REAL,\n",
    "  \"growthNetCashUsedForInvestingActivites\" REAL,\n",
    "  \"growthDebtRepayment\" REAL,\n",
    "  \"growthCommonStockIssued\" REAL,\n",
    "  \"growthCommonStockRepurchased\" REAL,\n",
    "  \"growthDividendsPaid\" REAL,\n",
    "  \"growthOtherFinancingActivites\" REAL,\n",
    "  \"growthNetCashUsedProvidedByFinancingActivities\" REAL,\n",
    "  \"growthEffectOfForexChangesOnCash\" REAL,\n",
    "  \"growthNetChangeInCash\" REAL,\n",
    "  \"growthCashAtEndOfPeriod\" REAL,\n",
    "  \"growthCashAtBeginningOfPeriod\" REAL,\n",
    "  \"growthOperatingCashFlow\" REAL,\n",
    "  \"growthCapitalExpenditure\" REAL,\n",
    "  \"growthFreeCashFlow\" REAL,\n",
    "  PRIMARY KEY (symbol,date)\n",
    ")\"\"\")\n",
    "\n",
    "tab.to_sql(name,con=conn,index=False,if_exists='append')\n",
    "c.execute('select * from '+name+ ' limit 1')\n",
    "print(c.fetchall()[0][0:10],)"
   ]
  },
  {
   "cell_type": "markdown",
   "metadata": {},
   "source": [
    "### !!!Out for now: International Filings"
   ]
  },
  {
   "cell_type": "markdown",
   "metadata": {},
   "source": [
    "### !!!Out for now: Financial Statements As Reported"
   ]
  },
  {
   "cell_type": "markdown",
   "metadata": {},
   "source": [
    "### Financial Ratios"
   ]
  },
  {
   "cell_type": "markdown",
   "metadata": {},
   "source": [
    "##### Quarterly"
   ]
  },
  {
   "cell_type": "code",
   "execution_count": 33,
   "metadata": {},
   "outputs": [],
   "source": [
    "name = prefix+'FINANCIAL_RATIOS_Q'"
   ]
  },
  {
   "cell_type": "code",
   "execution_count": 34,
   "metadata": {},
   "outputs": [
    {
     "name": "stdout",
     "output_type": "stream",
     "text": [
      "CPU times: user 51.3 s, sys: 223 ms, total: 51.6 s\n",
      "Wall time: 1min 14s\n"
     ]
    }
   ],
   "source": [
    "%%time\n",
    "url = \"https://financialmodelingprep.com/api/v3/ratios/***TICKER***?period=quarter&limit=1000000000&apikey=\" + apikey\n",
    "tab = fmp_todf(url, tickers)\n",
    "a = pd.io.sql.get_schema(tab,name)\n",
    "#print(a)"
   ]
  },
  {
   "cell_type": "code",
   "execution_count": 35,
   "metadata": {},
   "outputs": [
    {
     "name": "stdout",
     "output_type": "stream",
     "text": [
      "('CRM', '2020-10-31', 1.2216772927905837, 1.0469184240640836, 0.30439758051332355, 223.35117180291567, 0.0, 55.07289167743126, 226.29124820659973, -171.2183565291685)\n"
     ]
    }
   ],
   "source": [
    "c.execute('drop table if exists '+name)\n",
    "c.execute(\"\"\"\n",
    "CREATE TABLE \"CVALUATION__FINANCIAL_RATIOS_Q\" (\n",
    "\"symbol\" TEXT,\n",
    "  \"date\" TEXT,\n",
    "  \"currentRatio\" REAL,\n",
    "  \"quickRatio\" REAL,\n",
    "  \"cashRatio\" REAL,\n",
    "  \"daysOfSalesOutstanding\" REAL,\n",
    "  \"daysOfInventoryOutstanding\" REAL,\n",
    "  \"operatingCycle\" REAL,\n",
    "  \"daysOfPayablesOutstanding\" REAL,\n",
    "  \"cashConversionCycle\" REAL,\n",
    "  \"grossProfitMargin\" REAL,\n",
    "  \"operatingProfitMargin\" REAL,\n",
    "  \"pretaxProfitMargin\" REAL,\n",
    "  \"netProfitMargin\" REAL,\n",
    "  \"effectiveTaxRate\" REAL,\n",
    "  \"returnOnAssets\" REAL,\n",
    "  \"returnOnEquity\" REAL,\n",
    "  \"returnOnCapitalEmployed\" REAL,\n",
    "  \"netIncomePerEBT\" REAL,\n",
    "  \"ebtPerEbit\" REAL,\n",
    "  \"ebitPerRevenue\" REAL,\n",
    "  \"debtRatio\" REAL,\n",
    "  \"debtEquityRatio\" REAL,\n",
    "  \"longTermDebtToCapitalization\" REAL,\n",
    "  \"totalDebtToCapitalization\" REAL,\n",
    "  \"interestCoverage\" REAL,\n",
    "  \"cashFlowToDebtRatio\" REAL,\n",
    "  \"companyEquityMultiplier\" REAL,\n",
    "  \"receivablesTurnover\" REAL,\n",
    "  \"payablesTurnover\" REAL,\n",
    "  \"inventoryTurnover\" REAL,\n",
    "  \"fixedAssetTurnover\" REAL,\n",
    "  \"assetTurnover\" REAL,\n",
    "  \"operatingCashFlowPerShare\" REAL,\n",
    "  \"freeCashFlowPerShare\" REAL,\n",
    "  \"cashPerShare\" REAL,\n",
    "  \"payoutRatio\" REAL,\n",
    "  \"operatingCashFlowSalesRatio\" REAL,\n",
    "  \"freeCashFlowOperatingCashFlowRatio\" REAL,\n",
    "  \"cashFlowCoverageRatios\" REAL,\n",
    "  \"shortTermCoverageRatios\" REAL,\n",
    "  \"capitalExpenditureCoverageRatio\" REAL,\n",
    "  \"dividendPaidAndCapexCoverageRatio\" REAL,\n",
    "  \"dividendPayoutRatio\" REAL,\n",
    "  \"priceBookValueRatio\" REAL,\n",
    "  \"priceToBookRatio\" REAL,\n",
    "  \"priceToSalesRatio\" REAL,\n",
    "  \"priceEarningsRatio\" REAL,\n",
    "  \"priceToFreeCashFlowsRatio\" REAL,\n",
    "  \"priceToOperatingCashFlowsRatio\" REAL,\n",
    "  \"priceCashFlowRatio\" REAL,\n",
    "  \"priceEarningsToGrowthRatio\" REAL,\n",
    "  \"priceSalesRatio\" REAL,\n",
    "  \"dividendYield\" REAL,\n",
    "  \"enterpriseValueMultiple\" REAL,\n",
    "  \"priceFairValue\" REAL,\n",
    "  PRIMARY KEY (symbol,date)\n",
    ")\"\"\")\n",
    "\n",
    "tab.to_sql(name,con=conn,index=False,if_exists='append')\n",
    "c.execute('select * from '+name+ ' limit 1')\n",
    "print(c.fetchall()[0][0:10],)"
   ]
  },
  {
   "cell_type": "markdown",
   "metadata": {},
   "source": [
    "### Enterprise Value"
   ]
  },
  {
   "cell_type": "markdown",
   "metadata": {},
   "source": [
    "##### Quarterly"
   ]
  },
  {
   "cell_type": "code",
   "execution_count": 36,
   "metadata": {},
   "outputs": [],
   "source": [
    "name = prefix+'ENTERPRISE_VALUE_Q'"
   ]
  },
  {
   "cell_type": "code",
   "execution_count": 37,
   "metadata": {},
   "outputs": [
    {
     "name": "stdout",
     "output_type": "stream",
     "text": [
      "CPU times: user 14.8 s, sys: 67 ms, total: 14.8 s\n",
      "Wall time: 29.8 s\n"
     ]
    }
   ],
   "source": [
    "%%time\n",
    "url = \"https://financialmodelingprep.com/api/v3/enterprise-values/***TICKER***?period=quarter&limit=1000000000&apikey=\" + apikey\n",
    "tab = fmp_todf(url, tickers)\n",
    "a = pd.io.sql.get_schema(tab,name)\n",
    "#print(a)"
   ]
  },
  {
   "cell_type": "code",
   "execution_count": 38,
   "metadata": {},
   "outputs": [
    {
     "name": "stdout",
     "output_type": "stream",
     "text": [
      "('CRM', '2020-10-31', 232.270004, '911000000', '211597973644', '3724000000', '8440000000', '216313973644')\n"
     ]
    }
   ],
   "source": [
    "c.execute('drop table if exists '+name)\n",
    "c.execute(\"\"\"\n",
    "CREATE TABLE \"CVALUATION__ENTERPRISE_VALUE_Q\" (\n",
    "  \"symbol\" TEXT,\n",
    "  \"date\" TEXT,\n",
    "  \"stockPrice\" REAL,\n",
    "  \"numberOfShares\" TEXT,\n",
    "  \"marketCapitalization\" TEXT,\n",
    "  \"minusCashAndCashEquivalents\" TEXT,\n",
    "  \"addTotalDebt\" TEXT,\n",
    "  \"enterpriseValue\" TEXT,\n",
    "  PRIMARY KEY (symbol,date)\n",
    "  \n",
    ")\"\"\")\n",
    "\n",
    "tab.to_sql(name,con=conn,index=False,if_exists='append')\n",
    "c.execute('select * from '+name+ ' limit 1')\n",
    "print(c.fetchall()[0][0:10],)"
   ]
  },
  {
   "cell_type": "markdown",
   "metadata": {},
   "source": [
    "### Key Metrics"
   ]
  },
  {
   "cell_type": "markdown",
   "metadata": {},
   "source": [
    "##### Quarterly"
   ]
  },
  {
   "cell_type": "code",
   "execution_count": 39,
   "metadata": {},
   "outputs": [],
   "source": [
    "name = prefix+'KEY_METRICS_Q'"
   ]
  },
  {
   "cell_type": "code",
   "execution_count": 40,
   "metadata": {},
   "outputs": [
    {
     "name": "stdout",
     "output_type": "stream",
     "text": [
      "CPU times: user 57.2 s, sys: 287 ms, total: 57.5 s\n",
      "Wall time: 1min 21s\n"
     ]
    }
   ],
   "source": [
    "%%time\n",
    "url = \"https://financialmodelingprep.com/api/v3/key-metrics/***TICKER***?period=quarter&limit=1000000000&apikey=\" + apikey\n",
    "tab = fmp_todf(url, tickers)\n",
    "a = pd.io.sql.get_schema(tab,name)\n",
    "#print(a)"
   ]
  },
  {
   "cell_type": "code",
   "execution_count": 41,
   "metadata": {},
   "outputs": [
    {
     "name": "stdout",
     "output_type": "stream",
     "text": [
      "('CRM', '2020-10-31', 5.94840834248079, 1.1866081229418222, 0.3721185510428101, 0.23600439077936333, 4.08781558726674, 44.24807903402854, 31.201975850713502, 44.24807903402854)\n"
     ]
    }
   ],
   "source": [
    "c.execute('drop table if exists '+name)\n",
    "c.execute(\"\"\"\n",
    "CREATE TABLE \"CVALUATION__KEY_METRICS_Q\" (\n",
    "\"symbol\" TEXT,\n",
    "  \"date\" TEXT,\n",
    "  \"revenuePerShare\" REAL,\n",
    "  \"netIncomePerShare\" REAL,\n",
    "  \"operatingCashFlowPerShare\" REAL,\n",
    "  \"freeCashFlowPerShare\" REAL,\n",
    "  \"cashPerShare\" REAL,\n",
    "  \"bookValuePerShare\" REAL,\n",
    "  \"tangibleBookValuePerShare\" REAL,\n",
    "  \"shareholdersEquityPerShare\" REAL,\n",
    "  \"interestDebtPerShare\" TEXT,\n",
    "  \"marketCap\" TEXT,\n",
    "  \"enterpriseValue\" TEXT,\n",
    "  \"peRatio\" TEXT,\n",
    "  \"priceToSalesRatio\" REAL,\n",
    "  \"pocfratio\" REAL,\n",
    "  \"pfcfRatio\" REAL,\n",
    "  \"pbRatio\" REAL,\n",
    "  \"ptbRatio\" REAL,\n",
    "  \"evToSales\" REAL,\n",
    "  \"enterpriseValueOverEBITDA\" REAL,\n",
    "  \"evToOperatingCashFlow\" REAL,\n",
    "  \"evToFreeCashFlow\" REAL,\n",
    "  \"earningsYield\" REAL,\n",
    "  \"freeCashFlowYield\" REAL,\n",
    "  \"debtToEquity\" REAL,\n",
    "  \"debtToAssets\" REAL,\n",
    "  \"netDebtToEBITDA\" TEXT,\n",
    "  \"currentRatio\" TEXT,\n",
    "  \"interestCoverage\" TEXT,\n",
    "  \"incomeQuality\" TEXT,\n",
    "  \"dividendYield\" REAL,\n",
    "  \"payoutRatio\" TEXT,\n",
    "  \"salesGeneralAndAdministrativeToRevenue\" REAL,\n",
    "  \"researchAndDdevelopementToRevenue\" REAL,\n",
    "  \"intangiblesToTotalAssets\" REAL,\n",
    "  \"capexToOperatingCashFlow\" TEXT,\n",
    "  \"capexToRevenue\" TEXT,\n",
    "  \"capexToDepreciation\" TEXT,\n",
    "  \"stockBasedCompensationToRevenue\" REAL,\n",
    "  \"grahamNumber\" REAL,\n",
    "  \"roic\" REAL,\n",
    "  \"returnOnTangibleAssets\" REAL,\n",
    "  \"grahamNetNet\" REAL,\n",
    "  \"workingCapital\" TEXT,\n",
    "  \"tangibleAssetValue\" TEXT,\n",
    "  \"netCurrentAssetValue\" TEXT,\n",
    "  \"investedCapital\" TEXT,\n",
    "  \"averageReceivables\" INTEGER,\n",
    "  \"averagePayables\" INTEGER,\n",
    "  \"averageInventory\" INTEGER,\n",
    "  \"daysSalesOutstanding\" REAL,\n",
    "  \"daysPayablesOutstanding\" TEXT,\n",
    "  \"daysOfInventoryOnHand\" TEXT,\n",
    "  \"receivablesTurnover\" REAL,\n",
    "  \"payablesTurnover\" TEXT,\n",
    "  \"inventoryTurnover\" REAL,\n",
    "  \"roe\" REAL,\n",
    "  \"capexPerShare\" TEXT,\n",
    "  PRIMARY KEY (symbol,date)\n",
    ")\"\"\")\n",
    "\n",
    "tab.to_sql(name,con=conn,index=False,if_exists='append')\n",
    "c.execute('select * from '+name+ ' limit 1')\n",
    "print(c.fetchall()[0][0:10],)"
   ]
  },
  {
   "cell_type": "markdown",
   "metadata": {},
   "source": [
    "### Financial Growth "
   ]
  },
  {
   "cell_type": "markdown",
   "metadata": {},
   "source": [
    "##### Quarterly"
   ]
  },
  {
   "cell_type": "code",
   "execution_count": 42,
   "metadata": {},
   "outputs": [],
   "source": [
    "name = prefix+'FINANCIAL_GROWTH_Q'"
   ]
  },
  {
   "cell_type": "code",
   "execution_count": 43,
   "metadata": {},
   "outputs": [
    {
     "name": "stdout",
     "output_type": "stream",
     "text": [
      "CPU times: user 57.5 s, sys: 307 ms, total: 57.8 s\n",
      "Wall time: 1min 19s\n"
     ]
    }
   ],
   "source": [
    "%%time\n",
    "url = \"https://financialmodelingprep.com/api/v3/key-metrics/***TICKER***?period=quarter&limit=1000000000&apikey=\" + apikey\n",
    "tab = fmp_todf(url, tickers)\n",
    "a = pd.io.sql.get_schema(tab,name)\n",
    "#print(a)"
   ]
  },
  {
   "cell_type": "code",
   "execution_count": 44,
   "metadata": {},
   "outputs": [
    {
     "name": "stdout",
     "output_type": "stream",
     "text": [
      "('CRM', '2020-10-31', 5.94840834248079, 1.1866081229418222, 0.3721185510428101, 0.23600439077936333, 4.08781558726674, 44.24807903402854, 31.201975850713502, 44.24807903402854)\n"
     ]
    }
   ],
   "source": [
    "c.execute('drop table if exists '+name)\n",
    "c.execute(\"\"\"\n",
    "CREATE TABLE \"CVALUATION__FINANCIAL_GROWTH_Q\" (\n",
    " \"symbol\" TEXT,\n",
    "  \"date\" TEXT,\n",
    "  \"revenuePerShare\" REAL,\n",
    "  \"netIncomePerShare\" REAL,\n",
    "  \"operatingCashFlowPerShare\" REAL,\n",
    "  \"freeCashFlowPerShare\" REAL,\n",
    "  \"cashPerShare\" REAL,\n",
    "  \"bookValuePerShare\" REAL,\n",
    "  \"tangibleBookValuePerShare\" REAL,\n",
    "  \"shareholdersEquityPerShare\" REAL,\n",
    "  \"interestDebtPerShare\" TEXT,\n",
    "  \"marketCap\" TEXT,\n",
    "  \"enterpriseValue\" TEXT,\n",
    "  \"peRatio\" REAL,\n",
    "  \"priceToSalesRatio\" REAL,\n",
    "  \"pocfratio\" REAL,\n",
    "  \"pfcfRatio\" REAL,\n",
    "  \"pbRatio\" REAL,\n",
    "  \"ptbRatio\" REAL,\n",
    "  \"evToSales\" REAL,\n",
    "  \"enterpriseValueOverEBITDA\" REAL,\n",
    "  \"evToOperatingCashFlow\" REAL,\n",
    "  \"evToFreeCashFlow\" REAL,\n",
    "  \"earningsYield\" REAL,\n",
    "  \"freeCashFlowYield\" REAL,\n",
    "  \"debtToEquity\" REAL,\n",
    "  \"debtToAssets\" REAL,\n",
    "  \"netDebtToEBITDA\" TEXT,\n",
    "  \"currentRatio\" REAL,\n",
    "  \"interestCoverage\" TEXT,\n",
    "  \"incomeQuality\" TEXT,\n",
    "  \"dividendYield\" REAL,\n",
    "  \"payoutRatio\" TEXT,\n",
    "  \"salesGeneralAndAdministrativeToRevenue\" REAL,\n",
    "  \"researchAndDdevelopementToRevenue\" REAL,\n",
    "  \"intangiblesToTotalAssets\" REAL,\n",
    "  \"capexToOperatingCashFlow\" TEXT,\n",
    "  \"capexToRevenue\" TEXT,\n",
    "  \"capexToDepreciation\" TEXT,\n",
    "  \"stockBasedCompensationToRevenue\" REAL,\n",
    "  \"grahamNumber\" REAL,\n",
    "  \"roic\" REAL,\n",
    "  \"returnOnTangibleAssets\" REAL,\n",
    "  \"grahamNetNet\" REAL,\n",
    "  \"workingCapital\" TEXT,\n",
    "  \"tangibleAssetValue\" TEXT,\n",
    "  \"netCurrentAssetValue\" TEXT,\n",
    "  \"investedCapital\" TEXT,\n",
    "  \"averageReceivables\" INTEGER,\n",
    "  \"averagePayables\" INTEGER,\n",
    "  \"averageInventory\" INTEGER,\n",
    "  \"daysSalesOutstanding\" REAL,\n",
    "  \"daysPayablesOutstanding\" REAL,\n",
    "  \"daysOfInventoryOnHand\" REAL,\n",
    "  \"receivablesTurnover\" TEXT,\n",
    "  \"payablesTurnover\" TEXT,\n",
    "  \"inventoryTurnover\" REAL,\n",
    "  \"roe\" REAL,\n",
    "  \"capexPerShare\" REAL,\n",
    "  PRIMARY KEY (symbol,date)\n",
    ")\"\"\")\n",
    "\n",
    "tab.to_sql(name,con=conn,index=False,if_exists='append')\n",
    "c.execute('select * from '+name+ ' limit 1')\n",
    "print(c.fetchall()[0][0:10],)"
   ]
  },
  {
   "cell_type": "markdown",
   "metadata": {},
   "source": [
    "### Rating"
   ]
  },
  {
   "cell_type": "code",
   "execution_count": 45,
   "metadata": {},
   "outputs": [],
   "source": []
  },
  {
   "cell_type": "code",
   "execution_count": 57,
   "metadata": {},
   "outputs": [],
   "source": []
  },
  {
   "cell_type": "code",
   "execution_count": 59,
   "metadata": {},
   "outputs": [
    {
     "data": {
      "text/plain": [
       "LSE                        4502\n",
       "HKSE                       3151\n",
       "New York Stock Exchange    2623\n",
       "Nasdaq Global Select       2270\n",
       "ASX                        1947\n",
       "Toronto                    1759\n",
       "NSE                        1632\n",
       "Nasdaq                     1550\n",
       "NYSE Arca                  1540\n",
       "NASDAQ Capital Market      1333\n",
       "Other OTC                  1008\n",
       "XETRA                       909\n",
       "Paris                       884\n",
       "NASDAQ Global Market        847\n",
       "NYSE                        704\n",
       "SIX                         528\n",
       "NYSE American               360\n",
       "NYSEArca                    346\n",
       "BATS Exchange               258\n",
       "YHD                         256\n",
       "MCX                         216\n",
       "OSE                         192\n",
       "NasdaqGM                    169\n",
       "Brussels                    167\n",
       "BATS                        145\n",
       "Amsterdam                   137\n",
       "NMS                          75\n",
       "Lisbon                       52\n",
       "Irish                        39\n",
       "NCM                          32\n",
       "                             21\n",
       "Oslo                         19\n",
       "NasdaqGS                     14\n",
       "Swiss                         8\n",
       "TSXV                          7\n",
       "HKG                           5\n",
       "Sao Paolo                     3\n",
       "Frankfurt                     1\n",
       "FGI                           1\n",
       "NasdaqCM                      1\n",
       "ASE                           1\n",
       "OSL                           1\n",
       "MCE                           1\n",
       "Name: exchange, dtype: int64"
      ]
     },
     "execution_count": 59,
     "metadata": {},
     "output_type": "execute_result"
    }
   ],
   "source": [
    "son = get_json('https://financialmodelingprep.com/api/v3/stock/list?apikey='+apikey)\n",
    "tickers2 = pd.DataFrame(son)\n",
    "tickers2['exchange'].value_counts()"
   ]
  },
  {
   "cell_type": "code",
   "execution_count": null,
   "metadata": {},
   "outputs": [],
   "source": []
  }
 ],
 "metadata": {
  "kernelspec": {
   "display_name": "Python 3",
   "language": "python",
   "name": "python3"
  },
  "language_info": {
   "codemirror_mode": {
    "name": "ipython",
    "version": 3
   },
   "file_extension": ".py",
   "mimetype": "text/x-python",
   "name": "python",
   "nbconvert_exporter": "python",
   "pygments_lexer": "ipython3",
   "version": "3.7.6"
  }
 },
 "nbformat": 4,
 "nbformat_minor": 4
}
