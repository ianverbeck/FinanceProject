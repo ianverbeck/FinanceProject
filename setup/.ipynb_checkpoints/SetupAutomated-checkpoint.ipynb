{
 "cells": [
  {
   "cell_type": "code",
   "execution_count": 2,
   "metadata": {},
   "outputs": [],
   "source": [
    "import sqlite3\n",
    "\n",
    "import pandas as pd\n",
    "import numpy as np\n",
    "from urllib.request import urlopen  \n",
    "import json\n",
    "\n",
    "getkey = ! cat ../../apikey.txt\n",
    "apikey = getkey[0]\n",
    "\n",
    "from fhelp import get_appended"
   ]
  },
  {
   "cell_type": "code",
   "execution_count": 3,
   "metadata": {},
   "outputs": [
    {
     "name": "stdout",
     "output_type": "stream",
     "text": [
      "['CRM', 'WBA', 'V', 'NKE', 'UNH', 'TRV', 'VZ', 'INTC', 'WMT', 'JNJ', 'DIS', 'MCD', 'JPM', 'CAT', 'BA', 'AMGN', 'DOW', 'AAPL', 'GS', 'CSCO', 'MSFT', 'HD', 'PG', 'MRK', 'IBM', 'HON', 'KO', 'CVX', 'AXP', 'MMM']\n"
     ]
    }
   ],
   "source": [
    "#get list of tickers (just dow until everything is set up)\n",
    "dow_url = \"https://financialmodelingprep.com/api/v3/dowjones_constituent?apikey=600e501fe324b2f1cbb2aec5b390b6db\"\n",
    "dow_tick = pd.read_json(dow_url)\n",
    "tickers = list(dow_tick.symbol.values)\n",
    "print(tickers,)"
   ]
  },
  {
   "cell_type": "code",
   "execution_count": 4,
   "metadata": {},
   "outputs": [],
   "source": [
    "#tickersall = pd.read_json('https://financialmodelingprep.com/api/v3/stock/list?apikey='+apikey)\n",
    "#tickersall['exchange'].value_counts()"
   ]
  },
  {
   "cell_type": "code",
   "execution_count": 5,
   "metadata": {},
   "outputs": [],
   "source": [
    "tickers += ['SECO'] #check stock I am currently interested in"
   ]
  },
  {
   "cell_type": "code",
   "execution_count": 6,
   "metadata": {},
   "outputs": [],
   "source": [
    "#connect to dv(setup if new)\n",
    "conn = sqlite3.connect('../../Finances.db')\n",
    "c = conn.cursor()"
   ]
  },
  {
   "cell_type": "markdown",
   "metadata": {},
   "source": [
    "## Company valuation"
   ]
  },
  {
   "cell_type": "code",
   "execution_count": 6,
   "metadata": {},
   "outputs": [],
   "source": [
    "prefix = 'CVALUATION__'"
   ]
  },
  {
   "cell_type": "markdown",
   "metadata": {},
   "source": [
    "### Profile"
   ]
  },
  {
   "cell_type": "code",
   "execution_count": 8,
   "metadata": {},
   "outputs": [],
   "source": [
    "name = prefix+'PROFILE'"
   ]
  },
  {
   "cell_type": "code",
   "execution_count": 9,
   "metadata": {},
   "outputs": [
    {
     "name": "stdout",
     "output_type": "stream",
     "text": [
      "CPU times: user 1.18 s, sys: 45.8 ms, total: 1.23 s\n",
      "Wall time: 11.4 s\n"
     ]
    }
   ],
   "source": [
    "%%time\n",
    "url = \"https://financialmodelingprep.com/api/v3/profile/***TICKER***?apikey=\" + apikey\n",
    "tab = get_appended(url,tickers)\n",
    "tab.drop_duplicates(inplace=True)\n",
    "a = pd.io.sql.get_schema(tab,name)\n",
    "#print(a)"
   ]
  },
  {
   "cell_type": "code",
   "execution_count": 10,
   "metadata": {},
   "outputs": [
    {
     "name": "stdout",
     "output_type": "stream",
     "text": [
      "('CRM', 236.855, 1.25764, 9457330, 217370247000, 0.0, '115.29-284.5', 0.1554, 'Salesforce.Com Inc', 'USD')\n"
     ]
    }
   ],
   "source": [
    "#clean up\n",
    "c.execute('drop table if exists '+ name)\n",
    "\n",
    "#add primary key (can't do with pandas)\n",
    "c.execute(\"\"\"\n",
    "CREATE TABLE \"CVALUATION__PROFILE\" (\n",
    "\"symbol\" TEXT PRImARY KEY,\n",
    "  \"price\" REAL,\n",
    "  \"beta\" REAL,\n",
    "  \"volAvg\" INTEGER,\n",
    "  \"mktCap\" INTEGER,\n",
    "  \"lastDiv\" REAL,\n",
    "  \"range\" TEXT,\n",
    "  \"changes\" REAL,\n",
    "  \"companyName\" TEXT,\n",
    "  \"currency\" TEXT,\n",
    "  \"cik\" TEXT,\n",
    "  \"isin\" TEXT,\n",
    "  \"cusip\" TEXT,\n",
    "  \"exchange\" TEXT,\n",
    "  \"exchangeShortName\" TEXT,\n",
    "  \"industry\" TEXT,\n",
    "  \"website\" TEXT,\n",
    "  \"description\" TEXT,\n",
    "  \"ceo\" TEXT,\n",
    "  \"sector\" TEXT,\n",
    "  \"country\" TEXT,\n",
    "  \"fullTimeEmployees\" TEXT,\n",
    "  \"phone\" TEXT,\n",
    "  \"address\" TEXT,\n",
    "  \"city\" TEXT,\n",
    "  \"state\" TEXT,\n",
    "  \"zip\" TEXT,\n",
    "  \"dcfDiff\" REAL,\n",
    "  \"dcf\" REAL,\n",
    "  \"image\" TEXT,\n",
    "  \"ipoDate\" TEXT,\n",
    "  \"defaultImage\" INTEGER,\n",
    "  \"isEtf\" TEXT,\n",
    "  \"isActivelyTrading\" TEXT\n",
    ")\"\"\")\n",
    "\n",
    "#put data into table\n",
    "tab.to_sql(name,con=conn,index=False,if_exists='append')\n",
    "c.execute('select * from '+name+ ' limit 1')\n",
    "print(c.fetchall()[0][0:10],)"
   ]
  },
  {
   "cell_type": "markdown",
   "metadata": {},
   "source": [
    "### Quote"
   ]
  },
  {
   "cell_type": "code",
   "execution_count": 11,
   "metadata": {},
   "outputs": [],
   "source": [
    "name = prefix+'QUOTE'"
   ]
  },
  {
   "cell_type": "code",
   "execution_count": 12,
   "metadata": {},
   "outputs": [
    {
     "name": "stdout",
     "output_type": "stream",
     "text": [
      "CPU times: user 992 ms, sys: 24.9 ms, total: 1.02 s\n",
      "Wall time: 11.2 s\n"
     ]
    }
   ],
   "source": [
    "%%time\n",
    "url = \"https://financialmodelingprep.com/api/v3/quote/***TICKER***?apikey=\" + apikey\n",
    "tab = get_appended(url,tickers)\n",
    "tab.drop_duplicates(inplace=True)\n",
    "a = pd.io.sql.get_schema(tab,name)\n",
    "#print(a)"
   ]
  },
  {
   "cell_type": "code",
   "execution_count": 13,
   "metadata": {},
   "outputs": [
    {
     "name": "stdout",
     "output_type": "stream",
     "text": [
      "('CRM', 'salesforce.com, inc.', 236.87, 0.07, 0.17, 233.96, 238.22, 284.5, 115.29, 217383649280.0)\n"
     ]
    }
   ],
   "source": [
    "c.execute('drop table if exists '+ name)\n",
    "\n",
    "c.execute(\"\"\"\n",
    "CREATE TABLE \"CVALUATION__QUOTE\" (\n",
    "  \"symbol\" TEXT PRIMARY KEY,\n",
    "  \"name\" TEXT,\n",
    "  \"price\" REAL,\n",
    "  \"changesPercentage\" REAL,\n",
    "  \"change\" REAL,\n",
    "  \"dayLow\" REAL,\n",
    "  \"dayHigh\" REAL,\n",
    "  \"yearHigh\" REAL,\n",
    "  \"yearLow\" REAL,\n",
    "  \"marketCap\" REAL,\n",
    "  \"priceAvg50\" REAL,\n",
    "  \"priceAvg200\" REAL,\n",
    "  \"volume\" INTEGER,\n",
    "  \"avgVolume\" INTEGER,\n",
    "  \"exchange\" TEXT,\n",
    "  \"open\" REAL,\n",
    "  \"previousClose\" REAL,\n",
    "  \"eps\" REAL,\n",
    "  \"pe\" REAL,\n",
    "  \"earningsAnnouncement\" TEXT,\n",
    "  \"sharesOutstanding\" INTEGER,\n",
    "  \"timestamp\" INTEGER\n",
    ")\"\"\")\n",
    "\n",
    "#put data into table\n",
    "tab.to_sql(name,con=conn,index=False,if_exists='append')\n",
    "c.execute('select * from '+name+ ' limit 1')\n",
    "print(c.fetchall()[0][0:10],)"
   ]
  },
  {
   "cell_type": "markdown",
   "metadata": {},
   "source": [
    "### Key Executives"
   ]
  },
  {
   "cell_type": "code",
   "execution_count": 14,
   "metadata": {},
   "outputs": [],
   "source": [
    "name = prefix+'KEY_EXECUTIVES'"
   ]
  },
  {
   "cell_type": "code",
   "execution_count": 15,
   "metadata": {},
   "outputs": [
    {
     "name": "stdout",
     "output_type": "stream",
     "text": [
      "CPU times: user 635 ms, sys: 23.3 ms, total: 658 ms\n",
      "Wall time: 18 s\n"
     ]
    }
   ],
   "source": [
    "%%time\n",
    "url = \"https://financialmodelingprep.com/api/v3/key-executives/***TICKER***?apikey=\" + apikey\n",
    "tab = get_appended(url,tickers)\n",
    "tab.drop_duplicates(inplace=True)\n",
    "a = pd.io.sql.get_schema(tab,name)\n",
    "#print(a)"
   ]
  },
  {
   "cell_type": "code",
   "execution_count": 16,
   "metadata": {},
   "outputs": [
    {
     "name": "stdout",
     "output_type": "stream",
     "text": [
      "('0', 'Co-Founder, Chairman & Chief Executive Officer', 'Mr. Marc R. Benioff', 5970000, 'USD', 'male', 1965, None)\n"
     ]
    }
   ],
   "source": [
    "c.execute('drop table if exists '+name)\n",
    "c.execute(\"\"\"\n",
    "CREATE TABLE \"CVALUATION__KEY_EXECUTIVES\" (\n",
    "  \"symbol\" TEXT,\n",
    "  \"title\" TEXT,\n",
    "  \"name\" TEXT PRIMARY KEY,\n",
    "  \"pay\" INTEGER,\n",
    "  \"currencyPay\" TEXT,\n",
    "  \"gender\" TEXT,\n",
    "  \"yearBorn\" INTEGER,\n",
    "  \"titleSince\" TEXT\n",
    ")\"\"\")\n",
    "tab['symbol'] = tab.index\n",
    "tab.to_sql(name,con=conn,index=False,if_exists='append')\n",
    "c.execute('select * from '+name+ ' limit 1')\n",
    "print(c.fetchall()[0][0:10],)"
   ]
  },
  {
   "cell_type": "markdown",
   "metadata": {},
   "source": [
    "### !!!Out for now: Search"
   ]
  },
  {
   "cell_type": "markdown",
   "metadata": {},
   "source": [
    "### !!!Out for now: Financial Zip"
   ]
  },
  {
   "cell_type": "markdown",
   "metadata": {},
   "source": [
    "### Financial Statements"
   ]
  },
  {
   "cell_type": "markdown",
   "metadata": {},
   "source": [
    "#### Income"
   ]
  },
  {
   "cell_type": "markdown",
   "metadata": {},
   "source": [
    "##### Quarterly"
   ]
  },
  {
   "cell_type": "code",
   "execution_count": 17,
   "metadata": {},
   "outputs": [],
   "source": [
    "name = prefix+'FINANCIAL_STATEMENTS_INCOME_Q'"
   ]
  },
  {
   "cell_type": "code",
   "execution_count": 18,
   "metadata": {},
   "outputs": [
    {
     "name": "stdout",
     "output_type": "stream",
     "text": [
      "CPU times: user 1.24 s, sys: 53.9 ms, total: 1.29 s\n",
      "Wall time: 17.2 s\n"
     ]
    }
   ],
   "source": [
    "%%time\n",
    "url = \"https://financialmodelingprep.com/api/v3/income-statement/***TICKER***?period=quarter&limit=1000000000&apikey=\" + apikey\n",
    "tab = get_appended(url,tickers)\n",
    "tab.drop_duplicates(inplace=True)\n",
    "a = pd.io.sql.get_schema(tab,name)\n",
    "#print(a)"
   ]
  },
  {
   "cell_type": "code",
   "execution_count": 19,
   "metadata": {},
   "outputs": [
    {
     "name": "stdout",
     "output_type": "stream",
     "text": [
      "('2020-10-31 00:00:00', 'CRM', 'USD', '2020-12-04', '2020-12-04 08:43:26', 'Q3', '5419000000', '1394000000', '4025000000', 0.742756966229931)\n"
     ]
    }
   ],
   "source": [
    "c.execute('drop table if exists '+name)\n",
    "c.execute(\"\"\"\n",
    "CREATE TABLE \"CVALUATION__FINANCIAL_STATEMENTS_INCOME_Q\" (\n",
    "  \"date\" TEXT,\n",
    "  \"symbol\" TEXT,\n",
    "  \"reportedCurrency\" TEXT,\n",
    "  \"fillingDate\" TEXT,\n",
    "  \"acceptedDate\" TEXT,\n",
    "  \"period\" TEXT,\n",
    "  \"revenue\" TEXT,\n",
    "  \"costOfRevenue\" TEXT,\n",
    "  \"grossProfit\" TEXT,\n",
    "  \"grossProfitRatio\" REAL,\n",
    "  \"researchAndDevelopmentExpenses\" TEXT,\n",
    "  \"generalAndAdministrativeExpenses\" TEXT,\n",
    "  \"sellingAndMarketingExpenses\" TEXT,\n",
    "  \"otherExpenses\" TEXT,\n",
    "  \"operatingExpenses\" TEXT,\n",
    "  \"costAndExpenses\" TEXT,\n",
    "  \"interestExpense\" REAL,\n",
    "  \"depreciationAndAmortization\" TEXT,\n",
    "  \"ebitda\" TEXT,\n",
    "  \"ebitdaratio\" REAL,\n",
    "  \"operatingIncome\" TEXT,\n",
    "  \"operatingIncomeRatio\" REAL,\n",
    "  \"totalOtherIncomeExpensesNet\" TEXT,\n",
    "  \"incomeBeforeTax\" TEXT,\n",
    "  \"incomeBeforeTaxRatio\" REAL,\n",
    "  \"incomeTaxExpense\" TEXT,\n",
    "  \"netIncome\" TEXT,\n",
    "  \"netIncomeRatio\" REAL,\n",
    "  \"eps\" REAL,\n",
    "  \"epsdiluted\" REAL,\n",
    "  \"weightedAverageShsOut\" TEXT,\n",
    "  \"weightedAverageShsOutDil\" TEXT,\n",
    "  \"link\" TEXT,\n",
    "  \"finalLink\" TEXT,\n",
    "  PRIMARY KEY (symbol,date)\n",
    ")\"\"\")\n",
    "tab.to_sql(name,con=conn,index=False,if_exists='append')\n",
    "c.execute('select * from '+name+ ' limit 1')\n",
    "print(c.fetchall()[0][0:10],)"
   ]
  },
  {
   "cell_type": "markdown",
   "metadata": {},
   "source": [
    "##### Yearly"
   ]
  },
  {
   "cell_type": "code",
   "execution_count": 20,
   "metadata": {},
   "outputs": [],
   "source": [
    "name = prefix+'FINANCIAL_STATEMENTS_INCOME_Y'"
   ]
  },
  {
   "cell_type": "code",
   "execution_count": 21,
   "metadata": {},
   "outputs": [
    {
     "name": "stdout",
     "output_type": "stream",
     "text": [
      "CPU times: user 1.18 s, sys: 33.9 ms, total: 1.22 s\n",
      "Wall time: 13.3 s\n"
     ]
    }
   ],
   "source": [
    "%%time\n",
    "url = \"https://financialmodelingprep.com/api/v3/income-statement/***TICKER***?limit=1000000000&apikey=\" + apikey\n",
    "tab = get_appended(url,tickers)\n",
    "tab.drop_duplicates(inplace=True)\n",
    "a = pd.io.sql.get_schema(tab,name)\n",
    "#print(a)"
   ]
  },
  {
   "cell_type": "code",
   "execution_count": 22,
   "metadata": {},
   "outputs": [
    {
     "name": "stdout",
     "output_type": "stream",
     "text": [
      "('2020-01-31 00:00:00', 'CRM', 'USD', '2020-03-05 00:00:00', '2020-03-05 16:29:57', 'FY', '17098000000', '4235000000', '12863000000', 0.752310211720669)\n"
     ]
    }
   ],
   "source": [
    "c.execute('drop table if exists '+name)\n",
    "c.execute(\"\"\"\n",
    "CREATE TABLE \"CVALUATION__FINANCIAL_STATEMENTS_INCOME_Y\" (\n",
    "\"date\" TEXT,\n",
    "  \"symbol\" TEXT,\n",
    "  \"reportedCurrency\" TEXT,\n",
    "  \"fillingDate\" TEXT,\n",
    "  \"acceptedDate\" TEXT,\n",
    "  \"period\" TEXT,\n",
    "  \"revenue\" TEXT,\n",
    "  \"costOfRevenue\" TEXT,\n",
    "  \"grossProfit\" TEXT,\n",
    "  \"grossProfitRatio\" REAL,\n",
    "  \"researchAndDevelopmentExpenses\" TEXT,\n",
    "  \"generalAndAdministrativeExpenses\" TEXT,\n",
    "  \"sellingAndMarketingExpenses\" TEXT,\n",
    "  \"otherExpenses\" TEXT,\n",
    "  \"operatingExpenses\" TEXT,\n",
    "  \"costAndExpenses\" TEXT,\n",
    "  \"interestExpense\" TEXT,\n",
    "  \"depreciationAndAmortization\" TEXT,\n",
    "  \"ebitda\" TEXT,\n",
    "  \"ebitdaratio\" REAL,\n",
    "  \"operatingIncome\" TEXT,\n",
    "  \"operatingIncomeRatio\" REAL,\n",
    "  \"totalOtherIncomeExpensesNet\" TEXT,\n",
    "  \"incomeBeforeTax\" TEXT,\n",
    "  \"incomeBeforeTaxRatio\" REAL,\n",
    "  \"incomeTaxExpense\" TEXT,\n",
    "  \"netIncome\" TEXT,\n",
    "  \"netIncomeRatio\" REAL,\n",
    "  \"eps\" REAL,\n",
    "  \"epsdiluted\" REAL,\n",
    "  \"weightedAverageShsOut\" TEXT,\n",
    "  \"weightedAverageShsOutDil\" TEXT,\n",
    "  \"link\" TEXT,\n",
    "  \"finalLink\" TEXT,\n",
    "  PRIMARY KEY (symbol,date)\n",
    ")\"\"\")\n",
    "tab.to_sql(name,con=conn,index=False,if_exists='append')\n",
    "c.execute('select * from '+name+ ' limit 1')\n",
    "print(c.fetchall()[0][0:10],)"
   ]
  },
  {
   "cell_type": "markdown",
   "metadata": {},
   "source": [
    "#### Balance Sheet"
   ]
  },
  {
   "cell_type": "markdown",
   "metadata": {},
   "source": [
    "##### Quarterly"
   ]
  },
  {
   "cell_type": "code",
   "execution_count": 23,
   "metadata": {},
   "outputs": [],
   "source": [
    "name = prefix+'FINANCIAL_STATEMENTS_BALANCE_SHEET_Q'"
   ]
  },
  {
   "cell_type": "code",
   "execution_count": 24,
   "metadata": {},
   "outputs": [
    {
     "name": "stdout",
     "output_type": "stream",
     "text": [
      "CPU times: user 1.45 s, sys: 63.1 ms, total: 1.51 s\n",
      "Wall time: 17.6 s\n"
     ]
    }
   ],
   "source": [
    "%%time\n",
    "url = \"https://financialmodelingprep.com/api/v3/balance-sheet-statement/***TICKER***?period=quarter&limit=1000000000&apikey=\" + apikey\n",
    "tab = get_appended(url,tickers)\n",
    "tab.drop_duplicates(inplace=True)\n",
    "a = pd.io.sql.get_schema(tab,name)\n",
    "#print(a)"
   ]
  },
  {
   "cell_type": "code",
   "execution_count": 25,
   "metadata": {},
   "outputs": [
    {
     "name": "stdout",
     "output_type": "stream",
     "text": [
      "('2020-10-31 00:00:00', 'CRM', 'USD', '2020-12-04', '2020-12-04 08:43:26', 'Q3', '3724000000', '5768000000', '9492000000', '3316000000')\n"
     ]
    }
   ],
   "source": [
    "c.execute('drop table if exists '+name)\n",
    "c.execute(\"\"\"\n",
    "CREATE TABLE \"CVALUATION__FINANCIAL_STATEMENTS_BALANCE_SHEET_Q\" (\n",
    "  \"date\" TEXT,\n",
    "  \"symbol\" TEXT,\n",
    "  \"reportedCurrency\" TEXT,\n",
    "  \"fillingDate\" TEXT,\n",
    "  \"acceptedDate\" TEXT,\n",
    "  \"period\" TEXT,\n",
    "  \"cashAndCashEquivalents\" TEXT,\n",
    "  \"shortTermInvestments\" TEXT,\n",
    "  \"cashAndShortTermInvestments\" TEXT,\n",
    "  \"netReceivables\" TEXT,\n",
    "  \"inventory\" REAL,\n",
    "  \"otherCurrentAssets\" REAL,\n",
    "  \"totalCurrentAssets\" TEXT,\n",
    "  \"propertyPlantEquipmentNet\" TEXT,\n",
    "  \"goodwill\" TEXT,\n",
    "  \"intangibleAssets\" TEXT,\n",
    "  \"goodwillAndIntangibleAssets\" TEXT,\n",
    "  \"longTermInvestments\" REAL,\n",
    "  \"taxAssets\" TEXT,\n",
    "  \"otherNonCurrentAssets\" REAL,\n",
    "  \"totalNonCurrentAssets\" TEXT,\n",
    "  \"otherAssets\" REAL,\n",
    "  \"totalAssets\" TEXT,\n",
    "  \"accountPayables\" TEXT,\n",
    "  \"shortTermDebt\" TEXT,\n",
    "  \"taxPayables\" REAL,\n",
    "  \"deferredRevenue\" TEXT,\n",
    "  \"otherCurrentLiabilities\" TEXT,\n",
    "  \"totalCurrentLiabilities\" TEXT,\n",
    "  \"longTermDebt\" TEXT,\n",
    "  \"deferredRevenueNonCurrent\" REAL,\n",
    "  \"deferredTaxLiabilitiesNonCurrent\" REAL,\n",
    "  \"otherNonCurrentLiabilities\" TEXT,\n",
    "  \"totalNonCurrentLiabilities\" TEXT,\n",
    "  \"otherLiabilities\" TEXT,\n",
    "  \"totalLiabilities\" TEXT,\n",
    "  \"commonStock\" REAL,\n",
    "  \"retainedEarnings\" TEXT,\n",
    "  \"accumulatedOtherComprehensiveIncomeLoss\" REAL,\n",
    "  \"othertotalStockholdersEquity\" REAL,\n",
    "  \"totalStockholdersEquity\" TEXT,\n",
    "  \"totalLiabilitiesAndStockholdersEquity\" TEXT,\n",
    "  \"totalInvestments\" REAL,\n",
    "  \"totalDebt\" TEXT,\n",
    "  \"netDebt\" TEXT,\n",
    "  \"link\" TEXT,\n",
    "  \"finalLink\" TEXT,\n",
    "  PRIMARY KEY (symbol,date)\n",
    ")\"\"\")\n",
    "tab.to_sql(name,con=conn,index=False,if_exists='append')\n",
    "c.execute('select * from '+name+ ' limit 1')\n",
    "print(c.fetchall()[0][0:10],)"
   ]
  },
  {
   "cell_type": "markdown",
   "metadata": {},
   "source": [
    "##### Yearly"
   ]
  },
  {
   "cell_type": "code",
   "execution_count": 26,
   "metadata": {},
   "outputs": [],
   "source": [
    "name = prefix+'FINANCIAL_STATEMENTS_BALANCE_SHEET_Y'"
   ]
  },
  {
   "cell_type": "code",
   "execution_count": 27,
   "metadata": {},
   "outputs": [
    {
     "name": "stdout",
     "output_type": "stream",
     "text": [
      "CPU times: user 1.36 s, sys: 39 ms, total: 1.4 s\n",
      "Wall time: 14.6 s\n"
     ]
    }
   ],
   "source": [
    "%%time\n",
    "url = \"https://financialmodelingprep.com/api/v3/balance-sheet-statement/***TICKER***?limit=1000000000&apikey=\" + apikey\n",
    "tab = get_appended(url,tickers)\n",
    "tab.drop_duplicates(inplace=True)\n",
    "a = pd.io.sql.get_schema(tab,name)\n",
    "#print(a)"
   ]
  },
  {
   "cell_type": "code",
   "execution_count": 28,
   "metadata": {},
   "outputs": [
    {
     "name": "stdout",
     "output_type": "stream",
     "text": [
      "('2020-01-31 00:00:00', 'CRM', 'USD', '2020-03-05 00:00:00', '2020-03-05 16:29:57', 'FY', '4145000000', '3802000000', '7947000000', '6174000000')\n"
     ]
    }
   ],
   "source": [
    "c.execute('drop table if exists '+name)\n",
    "c.execute(\"\"\"\n",
    "CREATE TABLE \"CVALUATION__FINANCIAL_STATEMENTS_BALANCE_SHEET_Y\" (\n",
    "  \"date\" TEXT,\n",
    "  \"symbol\" TEXT,\n",
    "  \"reportedCurrency\" TEXT,\n",
    "  \"fillingDate\" TEXT,\n",
    "  \"acceptedDate\" TEXT,\n",
    "  \"period\" TEXT,\n",
    "  \"cashAndCashEquivalents\" TEXT,\n",
    "  \"shortTermInvestments\" TEXT,\n",
    "  \"cashAndShortTermInvestments\" TEXT,\n",
    "  \"netReceivables\" TEXT,\n",
    "  \"inventory\" REAL,\n",
    "  \"otherCurrentAssets\" REAL,\n",
    "  \"totalCurrentAssets\" TEXT,\n",
    "  \"propertyPlantEquipmentNet\" TEXT,\n",
    "  \"goodwill\" TEXT,\n",
    "  \"intangibleAssets\" TEXT,\n",
    "  \"goodwillAndIntangibleAssets\" TEXT,\n",
    "  \"longTermInvestments\" REAL,\n",
    "  \"taxAssets\" TEXT,\n",
    "  \"otherNonCurrentAssets\" REAL,\n",
    "  \"totalNonCurrentAssets\" TEXT,\n",
    "  \"otherAssets\" REAL,\n",
    "  \"totalAssets\" TEXT,\n",
    "  \"accountPayables\" TEXT,\n",
    "  \"shortTermDebt\" TEXT,\n",
    "  \"taxPayables\" REAL,\n",
    "  \"deferredRevenue\" TEXT,\n",
    "  \"otherCurrentLiabilities\" TEXT,\n",
    "  \"totalCurrentLiabilities\" TEXT,\n",
    "  \"longTermDebt\" TEXT,\n",
    "  \"deferredRevenueNonCurrent\" REAL,\n",
    "  \"deferredTaxLiabilitiesNonCurrent\" REAL,\n",
    "  \"otherNonCurrentLiabilities\" TEXT,\n",
    "  \"totalNonCurrentLiabilities\" TEXT,\n",
    "  \"otherLiabilities\" TEXT,\n",
    "  \"totalLiabilities\" TEXT,\n",
    "  \"commonStock\" REAL,\n",
    "  \"retainedEarnings\" TEXT,\n",
    "  \"accumulatedOtherComprehensiveIncomeLoss\" REAL,\n",
    "  \"othertotalStockholdersEquity\" REAL,\n",
    "  \"totalStockholdersEquity\" TEXT,\n",
    "  \"totalLiabilitiesAndStockholdersEquity\" TEXT,\n",
    "  \"totalInvestments\" REAL,\n",
    "  \"totalDebt\" TEXT,\n",
    "  \"netDebt\" TEXT,\n",
    "  \"link\" TEXT,\n",
    "  \"finalLink\" TEXT,\n",
    "  PRIMARY KEY (symbol,date)\n",
    ")\"\"\")\n",
    "tab.to_sql(name,con=conn,index=False,if_exists='append')\n",
    "c.execute('select * from '+name+ ' limit 1')\n",
    "print(c.fetchall()[0][0:10],)"
   ]
  },
  {
   "cell_type": "markdown",
   "metadata": {},
   "source": [
    "#### Cash Flow Statement"
   ]
  },
  {
   "cell_type": "markdown",
   "metadata": {},
   "source": [
    "##### Quarterly"
   ]
  },
  {
   "cell_type": "code",
   "execution_count": 29,
   "metadata": {},
   "outputs": [],
   "source": [
    "name = prefix+'FINANCIAL_STATEMENTS_CASH_FLOW_Q'"
   ]
  },
  {
   "cell_type": "code",
   "execution_count": 30,
   "metadata": {},
   "outputs": [
    {
     "name": "stdout",
     "output_type": "stream",
     "text": [
      "CPU times: user 1.33 s, sys: 57.8 ms, total: 1.39 s\n",
      "Wall time: 17.1 s\n"
     ]
    }
   ],
   "source": [
    "%%time\n",
    "url = \"https://financialmodelingprep.com/api/v3/cash-flow-statement/***TICKER***?period=quarter&limit=1000000000&apikey=\" + apikey\n",
    "tab = get_appended(url,tickers)\n",
    "tab.drop_duplicates(inplace=True)\n",
    "a = pd.io.sql.get_schema(tab,name)\n",
    "#print(a)"
   ]
  },
  {
   "cell_type": "code",
   "execution_count": 31,
   "metadata": {},
   "outputs": [
    {
     "name": "stdout",
     "output_type": "stream",
     "text": [
      "('2020-10-31 00:00:00', 'CRM', 'USD', '2020-12-04', '2020-12-04 08:43:26', 'Q3', '1081000000.0', '670000000.0', 0.0, '566000000')\n"
     ]
    }
   ],
   "source": [
    "c.execute('drop table if exists '+name)\n",
    "c.execute(\"\"\"\n",
    "CREATE TABLE \"CVALUATION__FINANCIAL_STATEMENTS_CASH_FLOW_Q\" (\n",
    "  \"date\" TEXT,\n",
    "  \"symbol\" TEXT,\n",
    "  \"reportedCurrency\" TEXT,\n",
    "  \"fillingDate\" TEXT,\n",
    "  \"acceptedDate\" TEXT,\n",
    "  \"period\" TEXT,\n",
    "  \"netIncome\" TEXT,\n",
    "  \"depreciationAndAmortization\" TEXT,\n",
    "  \"deferredIncomeTax\" REAL,\n",
    "  \"stockBasedCompensation\" TEXT,\n",
    "  \"changeInWorkingCapital\" TEXT,\n",
    "  \"accountsReceivables\" TEXT,\n",
    "  \"inventory\" REAL,\n",
    "  \"accountsPayables\" TEXT,\n",
    "  \"otherWorkingCapital\" TEXT,\n",
    "  \"otherNonCashItems\" TEXT,\n",
    "  \"netCashProvidedByOperatingActivities\" TEXT,\n",
    "  \"investmentsInPropertyPlantAndEquipment\" REAL,\n",
    "  \"acquisitionsNet\" REAL,\n",
    "  \"purchasesOfInvestments\" TEXT,\n",
    "  \"salesMaturitiesOfInvestments\" TEXT,\n",
    "  \"otherInvestingActivites\" REAL,\n",
    "  \"netCashUsedForInvestingActivites\" REAL,\n",
    "  \"debtRepayment\" TEXT,\n",
    "  \"commonStockIssued\" REAL,\n",
    "  \"commonStockRepurchased\" REAL,\n",
    "  \"dividendsPaid\" REAL,\n",
    "  \"otherFinancingActivites\" REAL,\n",
    "  \"netCashUsedProvidedByFinancingActivities\" REAL,\n",
    "  \"effectOfForexChangesOnCash\" REAL,\n",
    "  \"netChangeInCash\" TEXT,\n",
    "  \"cashAtEndOfPeriod\" TEXT,\n",
    "  \"cashAtBeginningOfPeriod\" TEXT,\n",
    "  \"operatingCashFlow\" TEXT,\n",
    "  \"capitalExpenditure\" TEXT,\n",
    "  \"freeCashFlow\" TEXT,\n",
    "  \"link\" TEXT,\n",
    "  \"finalLink\" TEXT,\n",
    "  PRIMARY KEY (symbol,date)\n",
    ")\"\"\")\n",
    "tab.to_sql(name,con=conn,index=False,if_exists='append')\n",
    "c.execute('select * from '+name+ ' limit 1')\n",
    "print(c.fetchall()[0][0:10],)"
   ]
  },
  {
   "cell_type": "markdown",
   "metadata": {},
   "source": [
    "### Yearly"
   ]
  },
  {
   "cell_type": "code",
   "execution_count": 32,
   "metadata": {},
   "outputs": [],
   "source": [
    "name = prefix+'FINANCIAL_STATEMENTS_CASH_FLOW_Y'"
   ]
  },
  {
   "cell_type": "code",
   "execution_count": 33,
   "metadata": {},
   "outputs": [
    {
     "name": "stdout",
     "output_type": "stream",
     "text": [
      "CPU times: user 1.2 s, sys: 35.1 ms, total: 1.23 s\n",
      "Wall time: 13.5 s\n"
     ]
    }
   ],
   "source": [
    "%%time\n",
    "url = \"https://financialmodelingprep.com/api/v3/cash-flow-statement/***TICKER***?limit=1000000000&apikey=\" + apikey\n",
    "tab = get_appended(url,tickers)\n",
    "tab.drop_duplicates(inplace=True)\n",
    "a = pd.io.sql.get_schema(tab,name)\n",
    "#print(a)"
   ]
  },
  {
   "cell_type": "code",
   "execution_count": 34,
   "metadata": {},
   "outputs": [
    {
     "name": "stdout",
     "output_type": "stream",
     "text": [
      "('2020-01-31 00:00:00', 'CRM', 'USD', '2020-03-05 00:00:00', '2020-03-05 16:29:57', 'FY', '126000000', '2135000000', 0.0, '1785000000')\n"
     ]
    }
   ],
   "source": [
    "c.execute('drop table if exists '+name)\n",
    "c.execute(\"\"\"\n",
    "CREATE TABLE \"CVALUATION__FINANCIAL_STATEMENTS_CASH_FLOW_Y\" (\n",
    "  \"date\" TEXT,\n",
    "  \"symbol\" TEXT,\n",
    "  \"reportedCurrency\" TEXT,\n",
    "  \"fillingDate\" TEXT,\n",
    "  \"acceptedDate\" TEXT,\n",
    "  \"period\" TEXT,\n",
    "  \"netIncome\" TEXT,\n",
    "  \"depreciationAndAmortization\" TEXT,\n",
    "  \"deferredIncomeTax\" REAL,\n",
    "  \"stockBasedCompensation\" TEXT,\n",
    "  \"changeInWorkingCapital\" TEXT,\n",
    "  \"accountsReceivables\" TEXT,\n",
    "  \"inventory\" REAL,\n",
    "  \"accountsPayables\" TEXT,\n",
    "  \"otherWorkingCapital\" TEXT,\n",
    "  \"otherNonCashItems\" TEXT,\n",
    "  \"netCashProvidedByOperatingActivities\" TEXT,\n",
    "  \"investmentsInPropertyPlantAndEquipment\" REAL,\n",
    "  \"acquisitionsNet\" REAL,\n",
    "  \"purchasesOfInvestments\" TEXT,\n",
    "  \"salesMaturitiesOfInvestments\" TEXT,\n",
    "  \"otherInvestingActivites\" REAL,\n",
    "  \"netCashUsedForInvestingActivites\" REAL,\n",
    "  \"debtRepayment\" TEXT,\n",
    "  \"commonStockIssued\" REAL,\n",
    "  \"commonStockRepurchased\" REAL,\n",
    "  \"dividendsPaid\" REAL,\n",
    "  \"otherFinancingActivites\" REAL,\n",
    "  \"netCashUsedProvidedByFinancingActivities\" REAL,\n",
    "  \"effectOfForexChangesOnCash\" REAL,\n",
    "  \"netChangeInCash\" TEXT,\n",
    "  \"cashAtEndOfPeriod\" TEXT,\n",
    "  \"cashAtBeginningOfPeriod\" TEXT,\n",
    "  \"operatingCashFlow\" TEXT,\n",
    "  \"capitalExpenditure\" TEXT,\n",
    "  \"freeCashFlow\" TEXT,\n",
    "  \"link\" TEXT,\n",
    "  \"finalLink\" TEXT,\n",
    "  PRIMARY KEY (symbol,date)\n",
    ")\"\"\")\n",
    "tab.to_sql(name,con=conn,index=False,if_exists='append')\n",
    "c.execute('select * from '+name+ ' limit 1')\n",
    "print(c.fetchall()[0][0:10],)"
   ]
  },
  {
   "cell_type": "markdown",
   "metadata": {},
   "source": [
    "### !!!Out for now: Financial Statements List"
   ]
  },
  {
   "cell_type": "markdown",
   "metadata": {},
   "source": [
    "### Growth statements (Annual)"
   ]
  },
  {
   "cell_type": "markdown",
   "metadata": {},
   "source": [
    "#### Income "
   ]
  },
  {
   "cell_type": "code",
   "execution_count": 35,
   "metadata": {},
   "outputs": [],
   "source": [
    "name = prefix+'GROWTH_STATEMENTS_INCOME_Y'"
   ]
  },
  {
   "cell_type": "code",
   "execution_count": 36,
   "metadata": {},
   "outputs": [
    {
     "name": "stdout",
     "output_type": "stream",
     "text": [
      "CPU times: user 1.11 s, sys: 33.6 ms, total: 1.15 s\n",
      "Wall time: 13 s\n"
     ]
    }
   ],
   "source": [
    "%%time\n",
    "url = \"https://financialmodelingprep.com/api/v3/income-statement-growth/***TICKER***?limit=1000000000&apikey=\" + apikey\n",
    "tab = get_appended(url,tickers)\n",
    "tab.drop_duplicates(inplace=True)\n",
    "a = pd.io.sql.get_schema(tab,name)\n",
    "#print(a)"
   ]
  },
  {
   "cell_type": "code",
   "execution_count": 37,
   "metadata": {},
   "outputs": [
    {
     "name": "stdout",
     "output_type": "stream",
     "text": [
      "('2020-01-31 00:00:00', 'CRM', 'FY', 0.287306128595091, 0.22718052738336703, 0.308412165598616, 0.016394771506738, 0.46659597030752903, 0.29800027968116305, 0.307717678100263)\n"
     ]
    }
   ],
   "source": [
    "c.execute('drop table if exists '+name)\n",
    "c.execute(\"\"\"\n",
    "CREATE TABLE \"CVALUATION__GROWTH_STATEMENTS_INCOME_Y\" (\n",
    "  \"date\" TEXT,\n",
    "  \"symbol\" TEXT,\n",
    "  \"period\" TEXT,\n",
    "  \"growthRevenue\" REAL,\n",
    "  \"growthCostOfRevenue\" REAL,\n",
    "  \"growthGrossProfit\" REAL,\n",
    "  \"growthGrossProfitRatio\" REAL,\n",
    "  \"growthResearchAndDevelopmentExpenses\" REAL,\n",
    "  \"growthGeneralAndAdministrativeExpenses\" REAL,\n",
    "  \"growthSellingAndMarketingExpenses\" REAL,\n",
    "  \"growthOtherExpenses\" REAL,\n",
    "  \"growthOperatingExpenses\" REAL,\n",
    "  \"growthCostAndExpenses\" REAL,\n",
    "  \"growthInterestExpense\" REAL,\n",
    "  \"growthDepreciationAndAmortization\" REAL,\n",
    "  \"growthEBITDA\" REAL,\n",
    "  \"growthEBITDARatio\" REAL,\n",
    "  \"growthOperatingIncome\" REAL,\n",
    "  \"growthOperatingIncomeRatio\" REAL,\n",
    "  \"growthTotalOtherIncomeExpensesNet\" REAL,\n",
    "  \"growthIncomeBeforeTax\" REAL,\n",
    "  \"growthIncomeBeforeTaxRatio\" REAL,\n",
    "  \"growthIncomeTaxExpense\" REAL,\n",
    "  \"growthNetIncome\" REAL,\n",
    "  \"growthNetIncomeRatio\" REAL,\n",
    "  \"growthEPS\" REAL,\n",
    "  \"growthEPSDiluted\" REAL,\n",
    "  \"growthWeightedAverageShsOut\" REAL,\n",
    "  \"growthWeightedAverageShsOutDil\" REAL,\n",
    "  PRIMARY KEY (symbol,date)\n",
    ")\"\"\")\n",
    "\n",
    "tab.to_sql(name,con=conn,index=False,if_exists='append')\n",
    "c.execute('select * from '+name+ ' limit 1')\n",
    "print(c.fetchall()[0][0:10],)"
   ]
  },
  {
   "cell_type": "markdown",
   "metadata": {},
   "source": [
    "#### Balance Sheet"
   ]
  },
  {
   "cell_type": "code",
   "execution_count": 38,
   "metadata": {},
   "outputs": [],
   "source": [
    "name = prefix+'GROWTH_STATEMENTS_BALANCE_SHEET_Y'"
   ]
  },
  {
   "cell_type": "code",
   "execution_count": 39,
   "metadata": {},
   "outputs": [
    {
     "name": "stdout",
     "output_type": "stream",
     "text": [
      "CPU times: user 1.33 s, sys: 37 ms, total: 1.37 s\n",
      "Wall time: 14.7 s\n"
     ]
    }
   ],
   "source": [
    "%%time\n",
    "url = \"https://financialmodelingprep.com/api/v3/balance-sheet-statement-growth/***TICKER***?limit=1000000000&apikey=\" + apikey\n",
    "tab = get_appended(url,tickers)\n",
    "tab.drop_duplicates(inplace=True)\n",
    "a = pd.io.sql.get_schema(tab,name)\n",
    "#print(a)"
   ]
  },
  {
   "cell_type": "code",
   "execution_count": 40,
   "metadata": {},
   "outputs": [
    {
     "name": "stdout",
     "output_type": "stream",
     "text": [
      "('2020-01-31 00:00:00', 'CRM', 'FY', 0.553016110902959, 1.272564255827854, 0.8302625518194381, 0.242997198879551, 0.0, 0.45627980922098504, 0.494243190115136)\n"
     ]
    }
   ],
   "source": [
    "c.execute('drop table if exists '+name)\n",
    "c.execute(\"\"\"\n",
    "CREATE TABLE \"CVALUATION__GROWTH_STATEMENTS_BALANCE_SHEET_Y\" (\n",
    "\"date\" TEXT,\n",
    "  \"symbol\" TEXT,\n",
    "  \"period\" TEXT,\n",
    "  \"growthCashAndCashEquivalents\" REAL,\n",
    "  \"growthShortTermInvestments\" REAL,\n",
    "  \"growthCashAndShortTermInvestments\" REAL,\n",
    "  \"growthNetReceivables\" REAL,\n",
    "  \"growthInventory\" REAL,\n",
    "  \"growthOtherCurrentAssets\" REAL,\n",
    "  \"growthTotalCurrentAssets\" REAL,\n",
    "  \"growthPropertyPlantEquipmentNet\" REAL,\n",
    "  \"growthGoodwill\" REAL,\n",
    "  \"growthIntangibleAssets\" REAL,\n",
    "  \"growthGoodwillAndIntangibleAssets\" REAL,\n",
    "  \"growthLongTermInvestments\" REAL,\n",
    "  \"growthTaxAssets\" REAL,\n",
    "  \"growthOtherNonCurrentAssets\" REAL,\n",
    "  \"growthTotalNonCurrentAssets\" REAL,\n",
    "  \"growthOtherAssets\" REAL,\n",
    "  \"growthTotalAssets\" REAL,\n",
    "  \"growthAccountPayables\" REAL,\n",
    "  \"growthShortTermDebt\" REAL,\n",
    "  \"growthTaxPayables\" REAL,\n",
    "  \"growthDeferredRevenue\" REAL,\n",
    "  \"growthOtherCurrentLiabilities\" REAL,\n",
    "  \"growthTotalCurrentLiabilities\" REAL,\n",
    "  \"growthLongTermDebt\" REAL,\n",
    "  \"growthDeferredRevenueNonCurrent\" REAL,\n",
    "  \"growthDeferrredTaxLiabilitiesNonCurrent\" REAL,\n",
    "  \"growthOtherNonCurrentLiabilities\" REAL,\n",
    "  \"growthTotalNonCurrentLiabilities\" REAL,\n",
    "  \"growthOtherLiabilities\" REAL,\n",
    "  \"growthTotalLiabilities\" REAL,\n",
    "  \"growthCommonStock\" REAL,\n",
    "  \"growthRetainedEarnings\" REAL,\n",
    "  \"growthAccumulatedOtherComprehensiveIncomeLoss\" REAL,\n",
    "  \"growthOthertotalStockholdersEquity\" REAL,\n",
    "  \"growthTotalStockholdersEquity\" REAL,\n",
    "  \"growthTotalLiabilitiesAndStockholdersEquity\" REAL,\n",
    "  \"growthTotalInvestments\" REAL,\n",
    "  \"growthTotalDebt\" REAL,\n",
    "  \"growthNetDebt\" REAL,\n",
    "  PRIMARY KEY (symbol,date)\n",
    ")\"\"\")\n",
    "\n",
    "tab.to_sql(name,con=conn,index=False,if_exists='append')\n",
    "c.execute('select * from '+name+ ' limit 1')\n",
    "print(c.fetchall()[0][0:10],)"
   ]
  },
  {
   "cell_type": "markdown",
   "metadata": {},
   "source": [
    "#### Cash Flow"
   ]
  },
  {
   "cell_type": "code",
   "execution_count": 41,
   "metadata": {},
   "outputs": [],
   "source": [
    "name = prefix+'GROWTH_STATEMENTS_CASH_FLOW_Y'"
   ]
  },
  {
   "cell_type": "code",
   "execution_count": 42,
   "metadata": {},
   "outputs": [
    {
     "name": "stdout",
     "output_type": "stream",
     "text": [
      "CREATE TABLE \"CVALUATION__GROWTH_STATEMENTS_CASH_FLOW_Y\" (\n",
      "\"date\" TIMESTAMP,\n",
      "  \"symbol\" TEXT,\n",
      "  \"period\" TEXT,\n",
      "  \"growthNetIncome\" REAL,\n",
      "  \"growthDepreciationAndAmortization\" REAL,\n",
      "  \"growthDeferredIncomeTax\" REAL,\n",
      "  \"growthStockBasedCompensation\" REAL,\n",
      "  \"growthChangeInWorkingCapital\" REAL,\n",
      "  \"growthAccountsReceivables\" REAL,\n",
      "  \"growthInventory\" REAL,\n",
      "  \"growthAccountsPayables\" REAL,\n",
      "  \"growthOtherWorkingCapital\" REAL,\n",
      "  \"growthOtherNonCashItems\" REAL,\n",
      "  \"growthNetCashProvidedByOperatingActivites\" REAL,\n",
      "  \"growthInvestmentsInPropertyPlantAndEquipment\" REAL,\n",
      "  \"growthAcquisitionsNet\" REAL,\n",
      "  \"growthPurchasesOfInvestments\" REAL,\n",
      "  \"growthSalesMaturitiesOfInvestments\" REAL,\n",
      "  \"growthOtherInvestingActivites\" REAL,\n",
      "  \"growthNetCashUsedForInvestingActivites\" REAL,\n",
      "  \"growthDebtRepayment\" REAL,\n",
      "  \"growthCommonStockIssued\" REAL,\n",
      "  \"growthCommonStockRepurchased\" REAL,\n",
      "  \"growthDividendsPaid\" REAL,\n",
      "  \"growthOtherFinancingActivites\" REAL,\n",
      "  \"growthNetCashUsedProvidedByFinancingActivities\" REAL,\n",
      "  \"growthEffectOfForexChangesOnCash\" REAL,\n",
      "  \"growthNetChangeInCash\" REAL,\n",
      "  \"growthCashAtEndOfPeriod\" REAL,\n",
      "  \"growthCashAtBeginningOfPeriod\" REAL,\n",
      "  \"growthOperatingCashFlow\" REAL,\n",
      "  \"growthCapitalExpenditure\" REAL,\n",
      "  \"growthFreeCashFlow\" REAL\n",
      ")\n",
      "CPU times: user 1.16 s, sys: 33.1 ms, total: 1.2 s\n",
      "Wall time: 12.6 s\n"
     ]
    }
   ],
   "source": [
    "%%time\n",
    "url = \"https://financialmodelingprep.com/api/v3/cash-flow-statement-growth/***TICKER***?limit=1000000000&apikey=\" + apikey\n",
    "tab = get_appended(url,tickers)\n",
    "tab.drop_duplicates(inplace=True)\n",
    "a = pd.io.sql.get_schema(tab,name)\n",
    "print(a)"
   ]
  },
  {
   "cell_type": "code",
   "execution_count": 43,
   "metadata": {},
   "outputs": [
    {
     "name": "stdout",
     "output_type": "stream",
     "text": [
      "('2020-01-31 00:00:00', 'CRM', 'FY', -0.8864864864864861, 1.219334719334719, 0.0, -0.8409976617303191, -19.98876404494382, 0.08342361863488601, 0.0)\n"
     ]
    }
   ],
   "source": [
    "c.execute('drop table if exists '+name)\n",
    "c.execute(\"\"\"\n",
    "CREATE TABLE \"CVALUATION__GROWTH_STATEMENTS_CASH_FLOW_Y\" (\n",
    "\"date\" TEXT,\n",
    "  \"symbol\" TEXT,\n",
    "  \"period\" TEXT,\n",
    "  \"growthNetIncome\" REAL,\n",
    "  \"growthDepreciationAndAmortization\" REAL,\n",
    "  \"growthDeferredIncomeTax\" REAL,\n",
    "  \"growthStockBasedCompensation\" REAL,\n",
    "  \"growthChangeInWorkingCapital\" REAL,\n",
    "  \"growthAccountsReceivables\" REAL,\n",
    "  \"growthInventory\" REAL,\n",
    "  \"growthAccountsPayables\" REAL,\n",
    "  \"growthOtherWorkingCapital\" REAL,\n",
    "  \"growthOtherNonCashItems\" REAL,\n",
    "  \"growthNetCashProvidedByOperatingActivites\" REAL,\n",
    "  \"growthInvestmentsInPropertyPlantAndEquipment\" REAL,\n",
    "  \"growthAcquisitionsNet\" REAL,\n",
    "  \"growthPurchasesOfInvestments\" REAL,\n",
    "  \"growthSalesMaturitiesOfInvestments\" REAL,\n",
    "  \"growthOtherInvestingActivites\" REAL,\n",
    "  \"growthNetCashUsedForInvestingActivites\" REAL,\n",
    "  \"growthDebtRepayment\" REAL,\n",
    "  \"growthCommonStockIssued\" REAL,\n",
    "  \"growthCommonStockRepurchased\" REAL,\n",
    "  \"growthDividendsPaid\" REAL,\n",
    "  \"growthOtherFinancingActivites\" REAL,\n",
    "  \"growthNetCashUsedProvidedByFinancingActivities\" REAL,\n",
    "  \"growthEffectOfForexChangesOnCash\" REAL,\n",
    "  \"growthNetChangeInCash\" REAL,\n",
    "  \"growthCashAtEndOfPeriod\" REAL,\n",
    "  \"growthCashAtBeginningOfPeriod\" REAL,\n",
    "  \"growthOperatingCashFlow\" REAL,\n",
    "  \"growthCapitalExpenditure\" REAL,\n",
    "  \"growthFreeCashFlow\" REAL,\n",
    "  PRIMARY KEY (symbol,date)\n",
    ")\"\"\")\n",
    "\n",
    "tab.to_sql(name,con=conn,index=False,if_exists='append')\n",
    "c.execute('select * from '+name+ ' limit 1')\n",
    "print(c.fetchall()[0][0:10],)"
   ]
  },
  {
   "cell_type": "markdown",
   "metadata": {},
   "source": [
    "### !!!Out for now: International Filings"
   ]
  },
  {
   "cell_type": "markdown",
   "metadata": {},
   "source": [
    "### !!!Out for now: Financial Statements As Reported"
   ]
  },
  {
   "cell_type": "markdown",
   "metadata": {},
   "source": [
    "### Financial Ratios"
   ]
  },
  {
   "cell_type": "markdown",
   "metadata": {},
   "source": [
    "##### Quarterly"
   ]
  },
  {
   "cell_type": "code",
   "execution_count": 44,
   "metadata": {},
   "outputs": [],
   "source": [
    "name = prefix+'FINANCIAL_RATIOS_Q'"
   ]
  },
  {
   "cell_type": "code",
   "execution_count": 45,
   "metadata": {},
   "outputs": [
    {
     "name": "stdout",
     "output_type": "stream",
     "text": [
      "CPU times: user 1.53 s, sys: 84 ms, total: 1.62 s\n",
      "Wall time: 20.6 s\n"
     ]
    }
   ],
   "source": [
    "%%time\n",
    "url = \"https://financialmodelingprep.com/api/v3/ratios/***TICKER***?period=quarter&limit=1000000000&apikey=\" + apikey\n",
    "tab = get_appended(url,tickers)\n",
    "tab.drop_duplicates(inplace=True)\n",
    "a = pd.io.sql.get_schema(tab,name)\n",
    "#print(a)"
   ]
  },
  {
   "cell_type": "code",
   "execution_count": 46,
   "metadata": {},
   "outputs": [
    {
     "name": "stdout",
     "output_type": "stream",
     "text": [
      "('CRM', '2020-10-31 00:00:00', 1.221677292790583, 1.046918424064083, 0.304397580513323, 223.35117180291567, 0.0, 55.07289167743126, 226.29124820659973, -171.2183565291685)\n"
     ]
    }
   ],
   "source": [
    "c.execute('drop table if exists '+name)\n",
    "c.execute(\"\"\"\n",
    "CREATE TABLE \"CVALUATION__FINANCIAL_RATIOS_Q\" (\n",
    "\"symbol\" TEXT,\n",
    "  \"date\" TEXT,\n",
    "  \"currentRatio\" REAL,\n",
    "  \"quickRatio\" REAL,\n",
    "  \"cashRatio\" REAL,\n",
    "  \"daysOfSalesOutstanding\" REAL,\n",
    "  \"daysOfInventoryOutstanding\" REAL,\n",
    "  \"operatingCycle\" REAL,\n",
    "  \"daysOfPayablesOutstanding\" REAL,\n",
    "  \"cashConversionCycle\" REAL,\n",
    "  \"grossProfitMargin\" REAL,\n",
    "  \"operatingProfitMargin\" REAL,\n",
    "  \"pretaxProfitMargin\" REAL,\n",
    "  \"netProfitMargin\" REAL,\n",
    "  \"effectiveTaxRate\" REAL,\n",
    "  \"returnOnAssets\" REAL,\n",
    "  \"returnOnEquity\" REAL,\n",
    "  \"returnOnCapitalEmployed\" REAL,\n",
    "  \"netIncomePerEBT\" REAL,\n",
    "  \"ebtPerEbit\" REAL,\n",
    "  \"ebitPerRevenue\" REAL,\n",
    "  \"debtRatio\" REAL,\n",
    "  \"debtEquityRatio\" REAL,\n",
    "  \"longTermDebtToCapitalization\" REAL,\n",
    "  \"totalDebtToCapitalization\" REAL,\n",
    "  \"interestCoverage\" REAL,\n",
    "  \"cashFlowToDebtRatio\" REAL,\n",
    "  \"companyEquityMultiplier\" REAL,\n",
    "  \"receivablesTurnover\" REAL,\n",
    "  \"payablesTurnover\" REAL,\n",
    "  \"inventoryTurnover\" REAL,\n",
    "  \"fixedAssetTurnover\" REAL,\n",
    "  \"assetTurnover\" REAL,\n",
    "  \"operatingCashFlowPerShare\" REAL,\n",
    "  \"freeCashFlowPerShare\" REAL,\n",
    "  \"cashPerShare\" REAL,\n",
    "  \"payoutRatio\" REAL,\n",
    "  \"operatingCashFlowSalesRatio\" REAL,\n",
    "  \"freeCashFlowOperatingCashFlowRatio\" REAL,\n",
    "  \"cashFlowCoverageRatios\" REAL,\n",
    "  \"shortTermCoverageRatios\" REAL,\n",
    "  \"capitalExpenditureCoverageRatio\" REAL,\n",
    "  \"dividendPaidAndCapexCoverageRatio\" REAL,\n",
    "  \"dividendPayoutRatio\" REAL,\n",
    "  \"priceBookValueRatio\" REAL,\n",
    "  \"priceToBookRatio\" REAL,\n",
    "  \"priceToSalesRatio\" REAL,\n",
    "  \"priceEarningsRatio\" REAL,\n",
    "  \"priceToFreeCashFlowsRatio\" REAL,\n",
    "  \"priceToOperatingCashFlowsRatio\" REAL,\n",
    "  \"priceCashFlowRatio\" REAL,\n",
    "  \"priceEarningsToGrowthRatio\" REAL,\n",
    "  \"priceSalesRatio\" REAL,\n",
    "  \"dividendYield\" REAL,\n",
    "  \"enterpriseValueMultiple\" REAL,\n",
    "  \"priceFairValue\" REAL,\n",
    "  PRIMARY KEY (symbol,date)\n",
    ")\"\"\")\n",
    "\n",
    "tab.to_sql(name,con=conn,index=False,if_exists='append')\n",
    "c.execute('select * from '+name+ ' limit 1')\n",
    "print(c.fetchall()[0][0:10],)"
   ]
  },
  {
   "cell_type": "markdown",
   "metadata": {},
   "source": [
    "##### Yearly"
   ]
  },
  {
   "cell_type": "code",
   "execution_count": 47,
   "metadata": {},
   "outputs": [],
   "source": [
    "name = prefix+'FINANCIAL_RATIOS_Y'"
   ]
  },
  {
   "cell_type": "code",
   "execution_count": 48,
   "metadata": {},
   "outputs": [
    {
     "name": "stdout",
     "output_type": "stream",
     "text": [
      "CPU times: user 1.48 s, sys: 46.4 ms, total: 1.53 s\n",
      "Wall time: 17.2 s\n"
     ]
    }
   ],
   "source": [
    "%%time\n",
    "url = \"https://financialmodelingprep.com/api/v3/ratios/***TICKER***?limit=1000000000&apikey=\" + apikey\n",
    "tab = get_appended(url,tickers)\n",
    "tab.drop_duplicates(inplace=True)\n",
    "a = pd.io.sql.get_schema(tab,name)\n",
    "#print(a)"
   ]
  },
  {
   "cell_type": "code",
   "execution_count": 49,
   "metadata": {},
   "outputs": [
    {
     "name": "stdout",
     "output_type": "stream",
     "text": [
      "('CRM', '2020-01-31 00:00:00', 1.07531155271135, 0.9512293701583021, 0.27921859211855804, 131.79962568721487, 0.0, 131.79962568721487, 295.87839433293976, -164.0787686457249)\n"
     ]
    }
   ],
   "source": [
    "c.execute('drop table if exists '+name)\n",
    "c.execute(\"\"\"\n",
    "CREATE TABLE \"CVALUATION__FINANCIAL_RATIOS_Y\" (\n",
    "\"symbol\" TEXT,\n",
    "  \"date\" TEXT,\n",
    "  \"currentRatio\" REAL,\n",
    "  \"quickRatio\" REAL,\n",
    "  \"cashRatio\" REAL,\n",
    "  \"daysOfSalesOutstanding\" REAL,\n",
    "  \"daysOfInventoryOutstanding\" REAL,\n",
    "  \"operatingCycle\" REAL,\n",
    "  \"daysOfPayablesOutstanding\" REAL,\n",
    "  \"cashConversionCycle\" REAL,\n",
    "  \"grossProfitMargin\" REAL,\n",
    "  \"operatingProfitMargin\" REAL,\n",
    "  \"pretaxProfitMargin\" REAL,\n",
    "  \"netProfitMargin\" REAL,\n",
    "  \"effectiveTaxRate\" REAL,\n",
    "  \"returnOnAssets\" REAL,\n",
    "  \"returnOnEquity\" REAL,\n",
    "  \"returnOnCapitalEmployed\" REAL,\n",
    "  \"netIncomePerEBT\" REAL,\n",
    "  \"ebtPerEbit\" REAL,\n",
    "  \"ebitPerRevenue\" REAL,\n",
    "  \"debtRatio\" REAL,\n",
    "  \"debtEquityRatio\" REAL,\n",
    "  \"longTermDebtToCapitalization\" REAL,\n",
    "  \"totalDebtToCapitalization\" REAL,\n",
    "  \"interestCoverage\" REAL,\n",
    "  \"cashFlowToDebtRatio\" REAL,\n",
    "  \"companyEquityMultiplier\" REAL,\n",
    "  \"receivablesTurnover\" REAL,\n",
    "  \"payablesTurnover\" REAL,\n",
    "  \"inventoryTurnover\" REAL,\n",
    "  \"fixedAssetTurnover\" REAL,\n",
    "  \"assetTurnover\" REAL,\n",
    "  \"operatingCashFlowPerShare\" REAL,\n",
    "  \"freeCashFlowPerShare\" REAL,\n",
    "  \"cashPerShare\" REAL,\n",
    "  \"payoutRatio\" REAL,\n",
    "  \"operatingCashFlowSalesRatio\" REAL,\n",
    "  \"freeCashFlowOperatingCashFlowRatio\" REAL,\n",
    "  \"cashFlowCoverageRatios\" REAL,\n",
    "  \"shortTermCoverageRatios\" REAL,\n",
    "  \"capitalExpenditureCoverageRatio\" REAL,\n",
    "  \"dividendPaidAndCapexCoverageRatio\" REAL,\n",
    "  \"dividendPayoutRatio\" REAL,\n",
    "  \"priceBookValueRatio\" REAL,\n",
    "  \"priceToBookRatio\" REAL,\n",
    "  \"priceToSalesRatio\" REAL,\n",
    "  \"priceEarningsRatio\" REAL,\n",
    "  \"priceToFreeCashFlowsRatio\" REAL,\n",
    "  \"priceToOperatingCashFlowsRatio\" REAL,\n",
    "  \"priceCashFlowRatio\" REAL,\n",
    "  \"priceEarningsToGrowthRatio\" REAL,\n",
    "  \"priceSalesRatio\" REAL,\n",
    "  \"dividendYield\" REAL,\n",
    "  \"enterpriseValueMultiple\" REAL,\n",
    "  \"priceFairValue\" REAL,\n",
    "  PRIMARY KEY (symbol,date)\n",
    ")\"\"\")\n",
    "\n",
    "tab.to_sql(name,con=conn,index=False,if_exists='append')\n",
    "c.execute('select * from '+name+ ' limit 1')\n",
    "print(c.fetchall()[0][0:10],)"
   ]
  },
  {
   "cell_type": "markdown",
   "metadata": {},
   "source": [
    "##### TTM"
   ]
  },
  {
   "cell_type": "code",
   "execution_count": 7,
   "metadata": {},
   "outputs": [],
   "source": [
    "name = prefix+'FINANCIAL_RATIOS_TTM'"
   ]
  },
  {
   "cell_type": "code",
   "execution_count": 8,
   "metadata": {},
   "outputs": [
    {
     "name": "stdout",
     "output_type": "stream",
     "text": [
      "HTTP Error 500:  for tickerJPM , continuing.....\n",
      "CPU times: user 1.36 s, sys: 36.5 ms, total: 1.39 s\n",
      "Wall time: 11.8 s\n"
     ]
    }
   ],
   "source": [
    "%%time\n",
    "url = \"https://financialmodelingprep.com/api/v3/ratios-ttm/***TICKER***?apikey=\" + apikey\n",
    "tab = get_appended(url,tickers)\n",
    "tab['symbol'] = tab.index\n",
    "tab.drop_duplicates(inplace=True)\n",
    "a = pd.io.sql.get_schema(tab,name)\n",
    "#print(a)"
   ]
  },
  {
   "cell_type": "code",
   "execution_count": 10,
   "metadata": {},
   "outputs": [
    {
     "name": "stdout",
     "output_type": "stream",
     "text": [
      "('0', None, None, None, None, None, 1.221677292790583, 1.046918424064083, 0.304397580513323, 59.66380755200631)\n"
     ]
    }
   ],
   "source": [
    "c.execute('drop table if exists '+name)\n",
    "c.execute(\"\"\"\n",
    "CREATE TABLE \"CVALUATION__FINANCIAL_RATIOS_TTM\" (\n",
    "  \"symbol\" TEXT,\n",
    "  \"dividendYielTTM\" REAL,\n",
    "  \"dividendYielPercentageTTM\" REAL,\n",
    "  \"peRatioTTM\" REAL,\n",
    "  \"pegRatioTTM\" REAL,\n",
    "  \"payoutRatioTTM\" REAL,\n",
    "  \"currentRatioTTM\" REAL,\n",
    "  \"quickRatioTTM\" REAL,\n",
    "  \"cashRatioTTM\" REAL,\n",
    "  \"daysOfSalesOutstandingTTM\" REAL,\n",
    "  \"daysOfInventoryOutstandingTTM\" REAL,\n",
    "  \"operatingCycleTTM\" REAL,\n",
    "  \"daysOfPayablesOutstandingTTM\" REAL,\n",
    "  \"cashConversionCycleTTM\" REAL,\n",
    "  \"grossProfitMarginTTM\" REAL,\n",
    "  \"operatingProfitMarginTTM\" REAL,\n",
    "  \"pretaxProfitMarginTTM\" REAL,\n",
    "  \"netProfitMarginTTM\" REAL,\n",
    "  \"effectiveTaxRateTTM\" REAL,\n",
    "  \"returnOnAssetsTTM\" REAL,\n",
    "  \"returnOnEquityTTM\" REAL,\n",
    "  \"returnOnCapitalEmployedTTM\" REAL,\n",
    "  \"netIncomePerEBTTTM\" REAL,\n",
    "  \"ebtPerEbitTTM\" REAL,\n",
    "  \"ebitPerRevenueTTM\" REAL,\n",
    "  \"debtRatioTTM\" REAL,\n",
    "  \"debtEquityRatioTTM\" REAL,\n",
    "  \"longTermDebtToCapitalizationTTM\" REAL,\n",
    "  \"totalDebtToCapitalizationTTM\" REAL,\n",
    "  \"interestCoverageTTM\" REAL,\n",
    "  \"cashFlowToDebtRatioTTM\" REAL,\n",
    "  \"companyEquityMultiplierTTM\" REAL,\n",
    "  \"receivablesTurnoverTTM\" REAL,\n",
    "  \"payablesTurnoverTTM\" REAL,\n",
    "  \"inventoryTurnoverTTM\" REAL,\n",
    "  \"fixedAssetTurnoverTTM\" REAL,\n",
    "  \"assetTurnoverTTM\" REAL,\n",
    "  \"operatingCashFlowPerShareTTM\" REAL,\n",
    "  \"freeCashFlowPerShareTTM\" REAL,\n",
    "  \"cashPerShareTTM\" REAL,\n",
    "  \"operatingCashFlowSalesRatioTTM\" REAL,\n",
    "  \"freeCashFlowOperatingCashFlowRatioTTM\" REAL,\n",
    "  \"cashFlowCoverageRatiosTTM\" REAL,\n",
    "  \"shortTermCoverageRatiosTTM\" REAL,\n",
    "  \"capitalExpenditureCoverageRatioTTM\" REAL,\n",
    "  \"dividendPaidAndCapexCoverageRatioTTM\" REAL,\n",
    "  \"priceBookValueRatioTTM\" REAL,\n",
    "  \"priceToBookRatioTTM\" REAL,\n",
    "  \"priceToSalesRatioTTM\" REAL,\n",
    "  \"priceEarningsRatioTTM\" REAL,\n",
    "  \"priceToFreeCashFlowsRatioTTM\" REAL,\n",
    "  \"priceToOperatingCashFlowsRatioTTM\" REAL,\n",
    "  \"priceCashFlowRatioTTM\" REAL,\n",
    "  \"priceEarningsToGrowthRatioTTM\" REAL,\n",
    "  \"priceSalesRatioTTM\" REAL,\n",
    "  \"dividendYieldTTM\" REAL,\n",
    "  \"enterpriseValueMultipleTTM\" REAL,\n",
    "  \"priceFairValueTTM\" REAL\n",
    ")\"\"\")\n",
    "\n",
    "tab.to_sql(name,con=conn,index=False,if_exists='append')\n",
    "c.execute('select * from '+name+ ' limit 1')\n",
    "print(c.fetchall()[0][0:10],)"
   ]
  },
  {
   "cell_type": "markdown",
   "metadata": {},
   "source": [
    "### Enterprise Value"
   ]
  },
  {
   "cell_type": "markdown",
   "metadata": {},
   "source": [
    "##### Quarterly"
   ]
  },
  {
   "cell_type": "code",
   "execution_count": 11,
   "metadata": {},
   "outputs": [],
   "source": [
    "name = prefix+'ENTERPRISE_VALUE_Q'"
   ]
  },
  {
   "cell_type": "code",
   "execution_count": 12,
   "metadata": {},
   "outputs": [
    {
     "name": "stdout",
     "output_type": "stream",
     "text": [
      "CPU times: user 744 ms, sys: 32 ms, total: 776 ms\n",
      "Wall time: 13.9 s\n"
     ]
    }
   ],
   "source": [
    "%%time\n",
    "url = \"https://financialmodelingprep.com/api/v3/enterprise-values/***TICKER***?period=quarter&limit=1000000000&apikey=\" + apikey\n",
    "tab = get_appended(url,tickers)\n",
    "tab.drop_duplicates(inplace=True)\n",
    "a = pd.io.sql.get_schema(tab,name)\n",
    "#print(a)"
   ]
  },
  {
   "cell_type": "code",
   "execution_count": 13,
   "metadata": {},
   "outputs": [
    {
     "name": "stdout",
     "output_type": "stream",
     "text": [
      "('CRM', '2020-10-31 00:00:00', 232.270004, '911000000', '211597973644.0', '3724000000', '8440000000', '216313973644.0')\n"
     ]
    }
   ],
   "source": [
    "c.execute('drop table if exists '+name)\n",
    "c.execute(\"\"\"\n",
    "CREATE TABLE \"CVALUATION__ENTERPRISE_VALUE_Q\" (\n",
    "  \"symbol\" TEXT,\n",
    "  \"date\" TEXT,\n",
    "  \"stockPrice\" REAL,\n",
    "  \"numberOfShares\" TEXT,\n",
    "  \"marketCapitalization\" TEXT,\n",
    "  \"minusCashAndCashEquivalents\" TEXT,\n",
    "  \"addTotalDebt\" TEXT,\n",
    "  \"enterpriseValue\" TEXT,\n",
    "  PRIMARY KEY (symbol,date)\n",
    "  \n",
    ")\"\"\")\n",
    "\n",
    "tab.to_sql(name,con=conn,index=False,if_exists='append')\n",
    "c.execute('select * from '+name+ ' limit 1')\n",
    "print(c.fetchall()[0][0:10],)"
   ]
  },
  {
   "cell_type": "markdown",
   "metadata": {},
   "source": [
    "##### Yearly"
   ]
  },
  {
   "cell_type": "code",
   "execution_count": 14,
   "metadata": {},
   "outputs": [],
   "source": [
    "name = prefix+'ENTERPRISE_VALUE_Y'"
   ]
  },
  {
   "cell_type": "code",
   "execution_count": 15,
   "metadata": {},
   "outputs": [
    {
     "name": "stdout",
     "output_type": "stream",
     "text": [
      "CPU times: user 782 ms, sys: 28 ms, total: 810 ms\n",
      "Wall time: 10.3 s\n"
     ]
    }
   ],
   "source": [
    "%%time\n",
    "url = \"https://financialmodelingprep.com/api/v3/enterprise-values/***TICKER***?limit=1000000000&apikey=\" + apikey\n",
    "tab = get_appended(url,tickers)\n",
    "tab.drop_duplicates(inplace=True)\n",
    "a = pd.io.sql.get_schema(tab,name)\n",
    "#print(a)"
   ]
  },
  {
   "cell_type": "code",
   "execution_count": 16,
   "metadata": {},
   "outputs": [
    {
     "name": "stdout",
     "output_type": "stream",
     "text": [
      "('CRM', '2020-01-31 00:00:00', 170.4, '829000000', '141261600000.0', '4145000000', '6475000000', '143591600000.0')\n"
     ]
    }
   ],
   "source": [
    "c.execute('drop table if exists '+name)\n",
    "c.execute(\"\"\"\n",
    "CREATE TABLE \"CVALUATION__ENTERPRISE_VALUE_Y\" (\n",
    "  \"symbol\" TEXT,\n",
    "  \"date\" TEXT,\n",
    "  \"stockPrice\" REAL,\n",
    "  \"numberOfShares\" TEXT,\n",
    "  \"marketCapitalization\" TEXT,\n",
    "  \"minusCashAndCashEquivalents\" TEXT,\n",
    "  \"addTotalDebt\" TEXT,\n",
    "  \"enterpriseValue\" TEXT,\n",
    "  PRIMARY KEY (symbol,date)\n",
    "  \n",
    ")\"\"\")\n",
    "\n",
    "tab.to_sql(name,con=conn,index=False,if_exists='append')\n",
    "c.execute('select * from '+name+ ' limit 1')\n",
    "print(c.fetchall()[0][0:10],)"
   ]
  },
  {
   "cell_type": "markdown",
   "metadata": {},
   "source": [
    "### Key Metrics"
   ]
  },
  {
   "cell_type": "markdown",
   "metadata": {},
   "source": [
    "##### Quarterly"
   ]
  },
  {
   "cell_type": "code",
   "execution_count": 17,
   "metadata": {},
   "outputs": [],
   "source": [
    "name = prefix+'KEY_METRICS_Q'"
   ]
  },
  {
   "cell_type": "code",
   "execution_count": 18,
   "metadata": {},
   "outputs": [
    {
     "name": "stdout",
     "output_type": "stream",
     "text": [
      "CPU times: user 1.62 s, sys: 85.4 ms, total: 1.71 s\n",
      "Wall time: 20.2 s\n"
     ]
    }
   ],
   "source": [
    "%%time\n",
    "url = \"https://financialmodelingprep.com/api/v3/key-metrics/***TICKER***?period=quarter&limit=1000000000&apikey=\" + apikey\n",
    "tab = get_appended(url,tickers)\n",
    "tab.drop_duplicates(inplace=True)\n",
    "a = pd.io.sql.get_schema(tab,name)\n",
    "#print(a)"
   ]
  },
  {
   "cell_type": "code",
   "execution_count": 19,
   "metadata": {},
   "outputs": [
    {
     "name": "stdout",
     "output_type": "stream",
     "text": [
      "('CRM', '2020-10-31 00:00:00', 5.94840834248079, 1.186608122941822, 0.37211855104281005, 0.23600439077936303, 4.08781558726674, 44.24807903402854, 31.201975850713502, 44.24807903402854)\n"
     ]
    }
   ],
   "source": [
    "c.execute('drop table if exists '+name)\n",
    "c.execute(\"\"\"\n",
    "CREATE TABLE \"CVALUATION__KEY_METRICS_Q\" (\n",
    "\"symbol\" TEXT,\n",
    "  \"date\" TEXT,\n",
    "  \"revenuePerShare\" REAL,\n",
    "  \"netIncomePerShare\" REAL,\n",
    "  \"operatingCashFlowPerShare\" REAL,\n",
    "  \"freeCashFlowPerShare\" REAL,\n",
    "  \"cashPerShare\" REAL,\n",
    "  \"bookValuePerShare\" REAL,\n",
    "  \"tangibleBookValuePerShare\" REAL,\n",
    "  \"shareholdersEquityPerShare\" REAL,\n",
    "  \"interestDebtPerShare\" TEXT,\n",
    "  \"marketCap\" TEXT,\n",
    "  \"enterpriseValue\" TEXT,\n",
    "  \"peRatio\" TEXT,\n",
    "  \"priceToSalesRatio\" REAL,\n",
    "  \"pocfratio\" REAL,\n",
    "  \"pfcfRatio\" REAL,\n",
    "  \"pbRatio\" REAL,\n",
    "  \"ptbRatio\" REAL,\n",
    "  \"evToSales\" REAL,\n",
    "  \"enterpriseValueOverEBITDA\" REAL,\n",
    "  \"evToOperatingCashFlow\" REAL,\n",
    "  \"evToFreeCashFlow\" REAL,\n",
    "  \"earningsYield\" REAL,\n",
    "  \"freeCashFlowYield\" REAL,\n",
    "  \"debtToEquity\" REAL,\n",
    "  \"debtToAssets\" REAL,\n",
    "  \"netDebtToEBITDA\" TEXT,\n",
    "  \"currentRatio\" TEXT,\n",
    "  \"interestCoverage\" TEXT,\n",
    "  \"incomeQuality\" TEXT,\n",
    "  \"dividendYield\" REAL,\n",
    "  \"payoutRatio\" TEXT,\n",
    "  \"salesGeneralAndAdministrativeToRevenue\" REAL,\n",
    "  \"researchAndDdevelopementToRevenue\" REAL,\n",
    "  \"intangiblesToTotalAssets\" REAL,\n",
    "  \"capexToOperatingCashFlow\" TEXT,\n",
    "  \"capexToRevenue\" TEXT,\n",
    "  \"capexToDepreciation\" TEXT,\n",
    "  \"stockBasedCompensationToRevenue\" REAL,\n",
    "  \"grahamNumber\" REAL,\n",
    "  \"roic\" REAL,\n",
    "  \"returnOnTangibleAssets\" REAL,\n",
    "  \"grahamNetNet\" REAL,\n",
    "  \"workingCapital\" TEXT,\n",
    "  \"tangibleAssetValue\" TEXT,\n",
    "  \"netCurrentAssetValue\" TEXT,\n",
    "  \"investedCapital\" TEXT,\n",
    "  \"averageReceivables\" INTEGER,\n",
    "  \"averagePayables\" INTEGER,\n",
    "  \"averageInventory\" INTEGER,\n",
    "  \"daysSalesOutstanding\" REAL,\n",
    "  \"daysPayablesOutstanding\" TEXT,\n",
    "  \"daysOfInventoryOnHand\" TEXT,\n",
    "  \"receivablesTurnover\" REAL,\n",
    "  \"payablesTurnover\" TEXT,\n",
    "  \"inventoryTurnover\" REAL,\n",
    "  \"roe\" REAL,\n",
    "  \"capexPerShare\" TEXT,\n",
    "  PRIMARY KEY (symbol,date)\n",
    ")\"\"\")\n",
    "\n",
    "tab.to_sql(name,con=conn,index=False,if_exists='append')\n",
    "c.execute('select * from '+name+ ' limit 1')\n",
    "print(c.fetchall()[0][0:10],)"
   ]
  },
  {
   "cell_type": "markdown",
   "metadata": {},
   "source": [
    "##### Yearly"
   ]
  },
  {
   "cell_type": "code",
   "execution_count": 20,
   "metadata": {},
   "outputs": [],
   "source": [
    "name = prefix+'KEY_METRICS_Y'"
   ]
  },
  {
   "cell_type": "code",
   "execution_count": 21,
   "metadata": {},
   "outputs": [
    {
     "name": "stdout",
     "output_type": "stream",
     "text": [
      "CPU times: user 1.52 s, sys: 46.4 ms, total: 1.57 s\n",
      "Wall time: 15.4 s\n"
     ]
    }
   ],
   "source": [
    "%%time\n",
    "url = \"https://financialmodelingprep.com/api/v3/key-metrics/***TICKER***?limit=1000000000&apikey=\" + apikey\n",
    "tab = get_appended(url,tickers)\n",
    "tab.drop_duplicates(inplace=True)\n",
    "a = pd.io.sql.get_schema(tab,name)\n",
    "#print(a)"
   ]
  },
  {
   "cell_type": "code",
   "execution_count": 22,
   "metadata": {},
   "outputs": [
    {
     "name": "stdout",
     "output_type": "stream",
     "text": [
      "('CRM', '2020-01-31 00:00:00', 20.624849215922797, 0.151990349819059, 5.224366706875754, 4.448733413751507, 5.0, 40.874547647768395, 29.781664656212303, 40.874547647768395)\n"
     ]
    }
   ],
   "source": [
    "c.execute('drop table if exists '+name)\n",
    "c.execute(\"\"\"\n",
    "CREATE TABLE \"CVALUATION__KEY_METRICS_Y\" (\n",
    "\"symbol\" TEXT,\n",
    "  \"date\" TEXT,\n",
    "  \"revenuePerShare\" REAL,\n",
    "  \"netIncomePerShare\" REAL,\n",
    "  \"operatingCashFlowPerShare\" REAL,\n",
    "  \"freeCashFlowPerShare\" REAL,\n",
    "  \"cashPerShare\" REAL,\n",
    "  \"bookValuePerShare\" REAL,\n",
    "  \"tangibleBookValuePerShare\" REAL,\n",
    "  \"shareholdersEquityPerShare\" REAL,\n",
    "  \"interestDebtPerShare\" TEXT,\n",
    "  \"marketCap\" TEXT,\n",
    "  \"enterpriseValue\" TEXT,\n",
    "  \"peRatio\" TEXT,\n",
    "  \"priceToSalesRatio\" REAL,\n",
    "  \"pocfratio\" REAL,\n",
    "  \"pfcfRatio\" REAL,\n",
    "  \"pbRatio\" REAL,\n",
    "  \"ptbRatio\" REAL,\n",
    "  \"evToSales\" REAL,\n",
    "  \"enterpriseValueOverEBITDA\" REAL,\n",
    "  \"evToOperatingCashFlow\" REAL,\n",
    "  \"evToFreeCashFlow\" REAL,\n",
    "  \"earningsYield\" REAL,\n",
    "  \"freeCashFlowYield\" REAL,\n",
    "  \"debtToEquity\" REAL,\n",
    "  \"debtToAssets\" REAL,\n",
    "  \"netDebtToEBITDA\" TEXT,\n",
    "  \"currentRatio\" TEXT,\n",
    "  \"interestCoverage\" TEXT,\n",
    "  \"incomeQuality\" TEXT,\n",
    "  \"dividendYield\" REAL,\n",
    "  \"payoutRatio\" TEXT,\n",
    "  \"salesGeneralAndAdministrativeToRevenue\" REAL,\n",
    "  \"researchAndDdevelopementToRevenue\" REAL,\n",
    "  \"intangiblesToTotalAssets\" REAL,\n",
    "  \"capexToOperatingCashFlow\" TEXT,\n",
    "  \"capexToRevenue\" TEXT,\n",
    "  \"capexToDepreciation\" TEXT,\n",
    "  \"stockBasedCompensationToRevenue\" REAL,\n",
    "  \"grahamNumber\" REAL,\n",
    "  \"roic\" REAL,\n",
    "  \"returnOnTangibleAssets\" REAL,\n",
    "  \"grahamNetNet\" REAL,\n",
    "  \"workingCapital\" TEXT,\n",
    "  \"tangibleAssetValue\" TEXT,\n",
    "  \"netCurrentAssetValue\" TEXT,\n",
    "  \"investedCapital\" TEXT,\n",
    "  \"averageReceivables\" INTEGER,\n",
    "  \"averagePayables\" INTEGER,\n",
    "  \"averageInventory\" INTEGER,\n",
    "  \"daysSalesOutstanding\" REAL,\n",
    "  \"daysPayablesOutstanding\" TEXT,\n",
    "  \"daysOfInventoryOnHand\" TEXT,\n",
    "  \"receivablesTurnover\" REAL,\n",
    "  \"payablesTurnover\" TEXT,\n",
    "  \"inventoryTurnover\" REAL,\n",
    "  \"roe\" REAL,\n",
    "  \"capexPerShare\" TEXT,\n",
    "  PRIMARY KEY (symbol,date)\n",
    ")\"\"\")\n",
    "\n",
    "tab.to_sql(name,con=conn,index=False,if_exists='append')\n",
    "c.execute('select * from '+name+ ' limit 1')\n",
    "print(c.fetchall()[0][0:10],)"
   ]
  },
  {
   "cell_type": "markdown",
   "metadata": {},
   "source": [
    "### Financial Growth "
   ]
  },
  {
   "cell_type": "markdown",
   "metadata": {},
   "source": [
    "##### Quarterly"
   ]
  },
  {
   "cell_type": "code",
   "execution_count": 23,
   "metadata": {},
   "outputs": [],
   "source": [
    "name = prefix+'FINANCIAL_GROWTH_Q'"
   ]
  },
  {
   "cell_type": "code",
   "execution_count": 24,
   "metadata": {},
   "outputs": [
    {
     "name": "stdout",
     "output_type": "stream",
     "text": [
      "CPU times: user 1.64 s, sys: 88.7 ms, total: 1.73 s\n",
      "Wall time: 23.3 s\n"
     ]
    }
   ],
   "source": [
    "%%time\n",
    "url = \"https://financialmodelingprep.com/api/v3/key-metrics/***TICKER***?period=quarter&limit=1000000000&apikey=\" + apikey\n",
    "tab = get_appended(url,tickers)\n",
    "tab.drop_duplicates(inplace=True)\n",
    "a = pd.io.sql.get_schema(tab,name)\n",
    "#print(a)"
   ]
  },
  {
   "cell_type": "code",
   "execution_count": 25,
   "metadata": {},
   "outputs": [
    {
     "name": "stdout",
     "output_type": "stream",
     "text": [
      "('CRM', '2020-10-31 00:00:00', 5.94840834248079, 1.186608122941822, 0.37211855104281005, 0.23600439077936303, 4.08781558726674, 44.24807903402854, 31.201975850713502, 44.24807903402854)\n"
     ]
    }
   ],
   "source": [
    "c.execute('drop table if exists '+name)\n",
    "c.execute(\"\"\"\n",
    "CREATE TABLE \"CVALUATION__FINANCIAL_GROWTH_Q\" (\n",
    " \"symbol\" TEXT,\n",
    "  \"date\" TEXT,\n",
    "  \"revenuePerShare\" REAL,\n",
    "  \"netIncomePerShare\" REAL,\n",
    "  \"operatingCashFlowPerShare\" REAL,\n",
    "  \"freeCashFlowPerShare\" REAL,\n",
    "  \"cashPerShare\" REAL,\n",
    "  \"bookValuePerShare\" REAL,\n",
    "  \"tangibleBookValuePerShare\" REAL,\n",
    "  \"shareholdersEquityPerShare\" REAL,\n",
    "  \"interestDebtPerShare\" TEXT,\n",
    "  \"marketCap\" TEXT,\n",
    "  \"enterpriseValue\" TEXT,\n",
    "  \"peRatio\" REAL,\n",
    "  \"priceToSalesRatio\" REAL,\n",
    "  \"pocfratio\" REAL,\n",
    "  \"pfcfRatio\" REAL,\n",
    "  \"pbRatio\" REAL,\n",
    "  \"ptbRatio\" REAL,\n",
    "  \"evToSales\" REAL,\n",
    "  \"enterpriseValueOverEBITDA\" REAL,\n",
    "  \"evToOperatingCashFlow\" REAL,\n",
    "  \"evToFreeCashFlow\" REAL,\n",
    "  \"earningsYield\" REAL,\n",
    "  \"freeCashFlowYield\" REAL,\n",
    "  \"debtToEquity\" REAL,\n",
    "  \"debtToAssets\" REAL,\n",
    "  \"netDebtToEBITDA\" TEXT,\n",
    "  \"currentRatio\" REAL,\n",
    "  \"interestCoverage\" TEXT,\n",
    "  \"incomeQuality\" TEXT,\n",
    "  \"dividendYield\" REAL,\n",
    "  \"payoutRatio\" TEXT,\n",
    "  \"salesGeneralAndAdministrativeToRevenue\" REAL,\n",
    "  \"researchAndDdevelopementToRevenue\" REAL,\n",
    "  \"intangiblesToTotalAssets\" REAL,\n",
    "  \"capexToOperatingCashFlow\" TEXT,\n",
    "  \"capexToRevenue\" TEXT,\n",
    "  \"capexToDepreciation\" TEXT,\n",
    "  \"stockBasedCompensationToRevenue\" REAL,\n",
    "  \"grahamNumber\" REAL,\n",
    "  \"roic\" REAL,\n",
    "  \"returnOnTangibleAssets\" REAL,\n",
    "  \"grahamNetNet\" REAL,\n",
    "  \"workingCapital\" TEXT,\n",
    "  \"tangibleAssetValue\" TEXT,\n",
    "  \"netCurrentAssetValue\" TEXT,\n",
    "  \"investedCapital\" TEXT,\n",
    "  \"averageReceivables\" INTEGER,\n",
    "  \"averagePayables\" INTEGER,\n",
    "  \"averageInventory\" INTEGER,\n",
    "  \"daysSalesOutstanding\" REAL,\n",
    "  \"daysPayablesOutstanding\" REAL,\n",
    "  \"daysOfInventoryOnHand\" REAL,\n",
    "  \"receivablesTurnover\" TEXT,\n",
    "  \"payablesTurnover\" TEXT,\n",
    "  \"inventoryTurnover\" REAL,\n",
    "  \"roe\" REAL,\n",
    "  \"capexPerShare\" REAL,\n",
    "  PRIMARY KEY (symbol,date)\n",
    ")\"\"\")\n",
    "\n",
    "tab.to_sql(name,con=conn,index=False,if_exists='append')\n",
    "c.execute('select * from '+name+ ' limit 1')\n",
    "print(c.fetchall()[0][0:10],)"
   ]
  },
  {
   "cell_type": "markdown",
   "metadata": {},
   "source": [
    "##### Yearly"
   ]
  },
  {
   "cell_type": "code",
   "execution_count": 26,
   "metadata": {},
   "outputs": [],
   "source": [
    "name = prefix+'FINANCIAL_GROWTH_Y'"
   ]
  },
  {
   "cell_type": "code",
   "execution_count": 27,
   "metadata": {},
   "outputs": [
    {
     "name": "stdout",
     "output_type": "stream",
     "text": [
      "CPU times: user 1.56 s, sys: 45 ms, total: 1.6 s\n",
      "Wall time: 15.7 s\n"
     ]
    }
   ],
   "source": [
    "%%time\n",
    "url = \"https://financialmodelingprep.com/api/v3/key-metrics/***TICKER***?limit=1000000000&apikey=\" + apikey\n",
    "tab = get_appended(url,tickers)\n",
    "tab.drop_duplicates(inplace=True)\n",
    "a = pd.io.sql.get_schema(tab,name)\n",
    "#print(a)"
   ]
  },
  {
   "cell_type": "code",
   "execution_count": 28,
   "metadata": {},
   "outputs": [
    {
     "name": "stdout",
     "output_type": "stream",
     "text": [
      "('CRM', '2020-01-31 00:00:00', 20.624849215922797, 0.151990349819059, 5.224366706875754, 4.448733413751507, 5.0, 40.874547647768395, 29.781664656212303, 40.874547647768395)\n"
     ]
    }
   ],
   "source": [
    "c.execute('drop table if exists '+name)\n",
    "c.execute(\"\"\"\n",
    "CREATE TABLE \"CVALUATION__FINANCIAL_GROWTH_Y\" (\n",
    " \"symbol\" TEXT,\n",
    "  \"date\" TEXT,\n",
    "  \"revenuePerShare\" REAL,\n",
    "  \"netIncomePerShare\" REAL,\n",
    "  \"operatingCashFlowPerShare\" REAL,\n",
    "  \"freeCashFlowPerShare\" REAL,\n",
    "  \"cashPerShare\" REAL,\n",
    "  \"bookValuePerShare\" REAL,\n",
    "  \"tangibleBookValuePerShare\" REAL,\n",
    "  \"shareholdersEquityPerShare\" REAL,\n",
    "  \"interestDebtPerShare\" TEXT,\n",
    "  \"marketCap\" TEXT,\n",
    "  \"enterpriseValue\" TEXT,\n",
    "  \"peRatio\" REAL,\n",
    "  \"priceToSalesRatio\" REAL,\n",
    "  \"pocfratio\" REAL,\n",
    "  \"pfcfRatio\" REAL,\n",
    "  \"pbRatio\" REAL,\n",
    "  \"ptbRatio\" REAL,\n",
    "  \"evToSales\" REAL,\n",
    "  \"enterpriseValueOverEBITDA\" REAL,\n",
    "  \"evToOperatingCashFlow\" REAL,\n",
    "  \"evToFreeCashFlow\" REAL,\n",
    "  \"earningsYield\" REAL,\n",
    "  \"freeCashFlowYield\" REAL,\n",
    "  \"debtToEquity\" REAL,\n",
    "  \"debtToAssets\" REAL,\n",
    "  \"netDebtToEBITDA\" TEXT,\n",
    "  \"currentRatio\" REAL,\n",
    "  \"interestCoverage\" TEXT,\n",
    "  \"incomeQuality\" TEXT,\n",
    "  \"dividendYield\" REAL,\n",
    "  \"payoutRatio\" TEXT,\n",
    "  \"salesGeneralAndAdministrativeToRevenue\" REAL,\n",
    "  \"researchAndDdevelopementToRevenue\" REAL,\n",
    "  \"intangiblesToTotalAssets\" REAL,\n",
    "  \"capexToOperatingCashFlow\" TEXT,\n",
    "  \"capexToRevenue\" TEXT,\n",
    "  \"capexToDepreciation\" TEXT,\n",
    "  \"stockBasedCompensationToRevenue\" REAL,\n",
    "  \"grahamNumber\" REAL,\n",
    "  \"roic\" REAL,\n",
    "  \"returnOnTangibleAssets\" REAL,\n",
    "  \"grahamNetNet\" REAL,\n",
    "  \"workingCapital\" TEXT,\n",
    "  \"tangibleAssetValue\" TEXT,\n",
    "  \"netCurrentAssetValue\" TEXT,\n",
    "  \"investedCapital\" TEXT,\n",
    "  \"averageReceivables\" INTEGER,\n",
    "  \"averagePayables\" INTEGER,\n",
    "  \"averageInventory\" INTEGER,\n",
    "  \"daysSalesOutstanding\" REAL,\n",
    "  \"daysPayablesOutstanding\" REAL,\n",
    "  \"daysOfInventoryOnHand\" REAL,\n",
    "  \"receivablesTurnover\" TEXT,\n",
    "  \"payablesTurnover\" TEXT,\n",
    "  \"inventoryTurnover\" REAL,\n",
    "  \"roe\" REAL,\n",
    "  \"capexPerShare\" REAL,\n",
    "  PRIMARY KEY (symbol,date)\n",
    ")\"\"\")\n",
    "\n",
    "tab.to_sql(name,con=conn,index=False,if_exists='append')\n",
    "c.execute('select * from '+name+ ' limit 1')\n",
    "print(c.fetchall()[0][0:10],)"
   ]
  },
  {
   "cell_type": "markdown",
   "metadata": {},
   "source": [
    "### Rating (Historical daily) –– skipped today's rating API.. will add in later if needed"
   ]
  },
  {
   "cell_type": "code",
   "execution_count": 33,
   "metadata": {},
   "outputs": [],
   "source": [
    "name = prefix+'RATING_D'"
   ]
  },
  {
   "cell_type": "code",
   "execution_count": 34,
   "metadata": {},
   "outputs": [
    {
     "data": {
      "text/plain": [
       "'CVALUATION__RATING_D'"
      ]
     },
     "execution_count": 34,
     "metadata": {},
     "output_type": "execute_result"
    }
   ],
   "source": [
    "name"
   ]
  },
  {
   "cell_type": "code",
   "execution_count": 35,
   "metadata": {},
   "outputs": [
    {
     "name": "stdout",
     "output_type": "stream",
     "text": [
      "CREATE TABLE \"CVALUATION__RATING_D\" (\n",
      "\"symbol\" TEXT,\n",
      "  \"date\" TIMESTAMP,\n",
      "  \"rating\" TEXT,\n",
      "  \"ratingScore\" INTEGER,\n",
      "  \"ratingRecommendation\" TEXT,\n",
      "  \"ratingDetailsDCFScore\" INTEGER,\n",
      "  \"ratingDetailsDCFRecommendation\" TEXT,\n",
      "  \"ratingDetailsROEScore\" INTEGER,\n",
      "  \"ratingDetailsROERecommendation\" TEXT,\n",
      "  \"ratingDetailsROAScore\" INTEGER,\n",
      "  \"ratingDetailsROARecommendation\" TEXT,\n",
      "  \"ratingDetailsDEScore\" INTEGER,\n",
      "  \"ratingDetailsDERecommendation\" TEXT,\n",
      "  \"ratingDetailsPEScore\" INTEGER,\n",
      "  \"ratingDetailsPERecommendation\" TEXT,\n",
      "  \"ratingDetailsPBScore\" INTEGER,\n",
      "  \"ratingDetailsPBRecommendation\" TEXT\n",
      ")\n",
      "CPU times: user 4.7 s, sys: 510 ms, total: 5.21 s\n",
      "Wall time: 56.8 s\n"
     ]
    }
   ],
   "source": [
    "%%time\n",
    "url = \"https://financialmodelingprep.com/api/v3/historical-rating/***TICKER***?limit=100000000&apikey=\" + apikey\n",
    "tab = get_appended(url,tickers)\n",
    "tab.drop_duplicates(inplace=True)\n",
    "a = pd.io.sql.get_schema(tab,name)\n",
    "print(a)"
   ]
  },
  {
   "cell_type": "code",
   "execution_count": 39,
   "metadata": {},
   "outputs": [
    {
     "name": "stdout",
     "output_type": "stream",
     "text": [
      "('CRM', '2021-02-05 00:00:00', 'A+', 4, 'Buy', 5, 'Strong Buy', 3, 'Neutral', 3)\n"
     ]
    }
   ],
   "source": [
    "c.execute('drop table if exists '+name)\n",
    "c.execute(\"\"\"\n",
    "CREATE TABLE \"CVALUATION__RATING_D\" (\n",
    "\"symbol\" TEXT,\n",
    "  \"date\" TIMESTAMP,\n",
    "  \"rating\" TEXT,\n",
    "  \"ratingScore\" INTEGER,\n",
    "  \"ratingRecommendation\" TEXT,\n",
    "  \"ratingDetailsDCFScore\" INTEGER,\n",
    "  \"ratingDetailsDCFRecommendation\" TEXT,\n",
    "  \"ratingDetailsROEScore\" INTEGER,\n",
    "  \"ratingDetailsROERecommendation\" TEXT,\n",
    "  \"ratingDetailsROAScore\" INTEGER,\n",
    "  \"ratingDetailsROARecommendation\" TEXT,\n",
    "  \"ratingDetailsDEScore\" INTEGER,\n",
    "  \"ratingDetailsDERecommendation\" TEXT,\n",
    "  \"ratingDetailsPEScore\" INTEGER,\n",
    "  \"ratingDetailsPERecommendation\" TEXT,\n",
    "  \"ratingDetailsPBScore\" INTEGER,\n",
    "  \"ratingDetailsPBRecommendation\" TEXT,\n",
    "  PRIMARY KEY (symbol,date)\n",
    ")\"\"\")\n",
    "tab.to_sql(name,con=conn,index=False,if_exists='append')\n",
    "c.execute('select * from '+name+ ' limit 1')\n",
    "print(c.fetchall()[0][0:10],)"
   ]
  },
  {
   "cell_type": "markdown",
   "metadata": {},
   "source": [
    "## Historical DCF"
   ]
  },
  {
   "cell_type": "markdown",
   "metadata": {},
   "source": [
    "### Yearly"
   ]
  },
  {
   "cell_type": "code",
   "execution_count": 56,
   "metadata": {},
   "outputs": [],
   "source": [
    "name = prefix+'DCF_Y'"
   ]
  },
  {
   "cell_type": "code",
   "execution_count": 57,
   "metadata": {},
   "outputs": [
    {
     "name": "stdout",
     "output_type": "stream",
     "text": [
      "CREATE TABLE \"CVALUATION__DCF_Y\" (\n",
      "\"date\" TIMESTAMP,\n",
      "  \"Stock Price\" REAL,\n",
      "  \"DCF\" REAL,\n",
      "  \"symbol\" TEXT\n",
      ")\n",
      "CPU times: user 745 ms, sys: 23.9 ms, total: 769 ms\n",
      "Wall time: 9.79 s\n"
     ]
    },
    {
     "name": "stderr",
     "output_type": "stream",
     "text": [
      "/Users/verbeck/opt/anaconda3/lib/python3.7/site-packages/ipykernel_launcher.py:4: UserWarning: The spaces in these column names will not be changed. In pandas versions < 0.14, spaces were converted to underscores.\n",
      "  after removing the cwd from sys.path.\n"
     ]
    }
   ],
   "source": [
    "%%time\n",
    "url = \"https://financialmodelingprep.com/api/v3/historical-discounted-cash-flow/***TICKER***?apikey=\" + apikey\n",
    "tab = get_appended(url,tickers,symbol_seperate=True)\n",
    "tab.drop_duplicates(inplace=True)\n",
    "a = pd.io.sql.get_schema(tab,name)\n",
    "print(a)"
   ]
  },
  {
   "cell_type": "code",
   "execution_count": 60,
   "metadata": {},
   "outputs": [
    {
     "name": "stdout",
     "output_type": "stream",
     "text": [
      "('2020-01-31 00:00:00', 170.4, 175.4, 'CRM')\n"
     ]
    },
    {
     "name": "stderr",
     "output_type": "stream",
     "text": [
      "/Users/verbeck/opt/anaconda3/lib/python3.7/site-packages/pandas/core/generic.py:2663: UserWarning: The spaces in these column names will not be changed. In pandas versions < 0.14, spaces were converted to underscores.\n",
      "  method=method,\n"
     ]
    }
   ],
   "source": [
    "c.execute('drop table if exists '+name)\n",
    "c.execute(\"\"\"\n",
    "CREATE TABLE \"CVALUATION__DCF_Y\" (\n",
    "  \"date\" TIMESTAMP,\n",
    "  \"Stock Price\" REAL,\n",
    "  \"DCF\" REAL,\n",
    "  \"symbol\" TEXT,\n",
    "  PRIMARY KEY(symbol,date)\n",
    ")\n",
    "\"\"\")\n",
    "tab.to_sql(name,con=conn,index=False,if_exists='append')\n",
    "c.execute('select * from '+name+ ' limit 1')\n",
    "print(c.fetchall()[0][0:10],)"
   ]
  },
  {
   "cell_type": "markdown",
   "metadata": {},
   "source": [
    "### Quarterly"
   ]
  },
  {
   "cell_type": "code",
   "execution_count": 55,
   "metadata": {},
   "outputs": [],
   "source": [
    "name = prefix+'DCF_Q'"
   ]
  },
  {
   "cell_type": "code",
   "execution_count": 63,
   "metadata": {},
   "outputs": [
    {
     "name": "stdout",
     "output_type": "stream",
     "text": [
      "CREATE TABLE \"CVALUATION__DCF_Y\" (\n",
      "\"date\" TIMESTAMP,\n",
      "  \"Stock Price\" REAL,\n",
      "  \"DCF\" REAL,\n",
      "  \"symbol\" TEXT\n",
      ")\n",
      "CPU times: user 739 ms, sys: 24.3 ms, total: 764 ms\n",
      "Wall time: 9.82 s\n"
     ]
    },
    {
     "name": "stderr",
     "output_type": "stream",
     "text": [
      "/Users/verbeck/opt/anaconda3/lib/python3.7/site-packages/ipykernel_launcher.py:4: UserWarning: The spaces in these column names will not be changed. In pandas versions < 0.14, spaces were converted to underscores.\n",
      "  after removing the cwd from sys.path.\n"
     ]
    }
   ],
   "source": [
    "%%time\n",
    "url = \"https://financialmodelingprep.com/api/v3/historical-discounted-cash-flow/***TICKER***?period=quarter&apikey=\" + apikey\n",
    "tab = get_appended(url,tickers,symbol_seperate=True)\n",
    "tab.drop_duplicates(inplace=True)\n",
    "a = pd.io.sql.get_schema(tab,name)\n",
    "print(a)"
   ]
  },
  {
   "cell_type": "code",
   "execution_count": 64,
   "metadata": {},
   "outputs": [
    {
     "name": "stdout",
     "output_type": "stream",
     "text": [
      "('2020-07-31 00:00:00', 271.100006, 275.59723130521644, 'CRM')\n"
     ]
    },
    {
     "name": "stderr",
     "output_type": "stream",
     "text": [
      "/Users/verbeck/opt/anaconda3/lib/python3.7/site-packages/pandas/core/generic.py:2663: UserWarning: The spaces in these column names will not be changed. In pandas versions < 0.14, spaces were converted to underscores.\n",
      "  method=method,\n"
     ]
    }
   ],
   "source": [
    "c.execute('drop table if exists '+name)\n",
    "c.execute(\"\"\"\n",
    "CREATE TABLE \"CVALUATION__DCF_Q\" (\n",
    "  \"date\" TIMESTAMP,\n",
    "  \"Stock Price\" REAL,\n",
    "  \"DCF\" REAL,\n",
    "  \"symbol\" TEXT,\n",
    "  PRIMARY KEY(symbol,date)\n",
    ")\n",
    "\"\"\")\n",
    "tab.to_sql(name,con=conn,index=False,if_exists='append')\n",
    "c.execute('select * from '+name+ ' limit 1')\n",
    "print(c.fetchall()[0][0:10],)"
   ]
  },
  {
   "cell_type": "markdown",
   "metadata": {},
   "source": [
    "### Daily"
   ]
  },
  {
   "cell_type": "code",
   "execution_count": 67,
   "metadata": {},
   "outputs": [],
   "source": [
    "name = prefix+'DCF_D'"
   ]
  },
  {
   "cell_type": "code",
   "execution_count": 70,
   "metadata": {},
   "outputs": [
    {
     "name": "stdout",
     "output_type": "stream",
     "text": [
      "CREATE TABLE \"CVALUATION__DCF_D\" (\n",
      "\"symbol\" TEXT,\n",
      "  \"date\" TIMESTAMP,\n",
      "  \"dcf\" REAL\n",
      ")\n",
      "CPU times: user 1.02 s, sys: 129 ms, total: 1.15 s\n",
      "Wall time: 25.6 s\n"
     ]
    }
   ],
   "source": [
    "%%time\n",
    "url = \"https://financialmodelingprep.com/api/v3/historical-daily-discounted-cash-flow/***TICKER***?limit=100000000&apikey=\" + apikey\n",
    "tab = get_appended(url,tickers)\n",
    "tab.drop_duplicates(inplace=True)\n",
    "a = pd.io.sql.get_schema(tab,name)\n",
    "print(a)"
   ]
  },
  {
   "cell_type": "code",
   "execution_count": 74,
   "metadata": {},
   "outputs": [
    {
     "name": "stdout",
     "output_type": "stream",
     "text": [
      "('CRM', '2021-02-05 00:00:00', 246.22972210969115)\n"
     ]
    }
   ],
   "source": [
    "c.execute('drop table if exists '+name)\n",
    "c.execute(\"\"\"\n",
    "CREATE TABLE \"CVALUATION__DCF_D\" (\n",
    " \"symbol\" TEXT,\n",
    "  \"date\" TIMESTAMP,\n",
    "  \"dcf\" REAL,\n",
    "  PRIMARY KEY(symbol,date)\n",
    ")\"\"\")\n",
    "tab.to_sql(name,con=conn,index=False,if_exists='append')\n",
    "c.execute('select * from '+name+ ' limit 1')\n",
    "print(c.fetchall()[0][0:10],)"
   ]
  },
  {
   "cell_type": "markdown",
   "metadata": {},
   "source": [
    "## Market Capitalization"
   ]
  },
  {
   "cell_type": "markdown",
   "metadata": {},
   "source": [
    "### Current (updated daily)"
   ]
  },
  {
   "cell_type": "code",
   "execution_count": 77,
   "metadata": {},
   "outputs": [],
   "source": [
    "name = prefix+'MARKETCAP_CURR'"
   ]
  },
  {
   "cell_type": "code",
   "execution_count": 78,
   "metadata": {},
   "outputs": [
    {
     "name": "stdout",
     "output_type": "stream",
     "text": [
      "CREATE TABLE \"CVALUATION__MARKETCAP_CURR\" (\n",
      "\"symbol\" TEXT,\n",
      "  \"date\" TIMESTAMP,\n",
      "  \"marketCap\" REAL\n",
      ")\n",
      "CPU times: user 637 ms, sys: 24.1 ms, total: 661 ms\n",
      "Wall time: 9.72 s\n"
     ]
    }
   ],
   "source": [
    "%%time\n",
    "url = \"https://financialmodelingprep.com/api/v3/market-capitalization/***TICKER***?apikey=\" + apikey\n",
    "tab = get_appended(url,tickers)\n",
    "tab.drop_duplicates(inplace=True)\n",
    "a = pd.io.sql.get_schema(tab,name)\n",
    "print(a)"
   ]
  },
  {
   "cell_type": "code",
   "execution_count": 79,
   "metadata": {},
   "outputs": [
    {
     "name": "stdout",
     "output_type": "stream",
     "text": [
      "('CRM', '2021-02-05 00:00:00', 224317709061.0)\n"
     ]
    }
   ],
   "source": [
    "c.execute('drop table if exists '+name)\n",
    "c.execute(\"\"\"\n",
    "CREATE TABLE \"CVALUATION__MARKETCAP_CURR\" (\n",
    "  \"symbol\" TEXT PRIMARY KEY,\n",
    "  \"date\" TIMESTAMP,\n",
    "  \"marketCap\" REAL\n",
    "  \n",
    ")\"\"\")\n",
    "tab.to_sql(name,con=conn,index=False,if_exists='append')\n",
    "c.execute('select * from '+name+ ' limit 1')\n",
    "print(c.fetchall()[0][0:10],)"
   ]
  },
  {
   "cell_type": "markdown",
   "metadata": {},
   "source": [
    "### Current - historical daily"
   ]
  },
  {
   "cell_type": "code",
   "execution_count": 82,
   "metadata": {},
   "outputs": [],
   "source": [
    "name = prefix+'MARKETCAP_D'"
   ]
  },
  {
   "cell_type": "code",
   "execution_count": 83,
   "metadata": {},
   "outputs": [
    {
     "name": "stdout",
     "output_type": "stream",
     "text": [
      "CREATE TABLE \"CVALUATION__MARKETCAP_D\" (\n",
      "\"symbol\" TEXT,\n",
      "  \"date\" TIMESTAMP,\n",
      "  \"marketCap\" REAL\n",
      ")\n",
      "CPU times: user 1.51 s, sys: 198 ms, total: 1.71 s\n",
      "Wall time: 1min 2s\n"
     ]
    }
   ],
   "source": [
    "%%time\n",
    "url = \"https://financialmodelingprep.com/api/v3/historical-market-capitalization/***TICKER***?limit=100000000&apikey=\" + apikey\n",
    "tab = get_appended(url,tickers)\n",
    "tab.drop_duplicates(inplace=True)\n",
    "a = pd.io.sql.get_schema(tab,name)\n",
    "print(a)"
   ]
  },
  {
   "cell_type": "code",
   "execution_count": 84,
   "metadata": {},
   "outputs": [
    {
     "name": "stdout",
     "output_type": "stream",
     "text": [
      "('CRM', '2021-02-05 00:00:00', 224317709061.0)\n"
     ]
    }
   ],
   "source": [
    "c.execute('drop table if exists '+name)\n",
    "c.execute(\"\"\"\n",
    "CREATE TABLE \"CVALUATION__MARKETCAP_D\" (\n",
    "\"symbol\" TEXT,\n",
    "  \"date\" TIMESTAMP,\n",
    "  \"marketCap\" REAL\n",
    ")\"\"\")\n",
    "tab.to_sql(name,con=conn,index=False,if_exists='append')\n",
    "c.execute('select * from '+name+ ' limit 1')\n",
    "print(c.fetchall()[0][0:10],)"
   ]
  },
  {
   "cell_type": "markdown",
   "metadata": {},
   "source": [
    "## Symbols List"
   ]
  },
  {
   "cell_type": "code",
   "execution_count": 89,
   "metadata": {},
   "outputs": [],
   "source": [
    "name = 'SYMBOLS_ALL'"
   ]
  },
  {
   "cell_type": "code",
   "execution_count": 90,
   "metadata": {},
   "outputs": [
    {
     "name": "stdout",
     "output_type": "stream",
     "text": [
      "CREATE TABLE \"SYMBOLS_ALL\" (\n",
      "\"symbol\" TEXT,\n",
      "  \"name\" TEXT,\n",
      "  \"price\" REAL,\n",
      "  \"exchange\" TEXT\n",
      ")\n",
      "CPU times: user 9.54 s, sys: 870 ms, total: 10.4 s\n",
      "Wall time: 55.6 s\n"
     ]
    }
   ],
   "source": [
    "%%time\n",
    "url = \"https://financialmodelingprep.com/api/v3/stock/list?apikey=\" + apikey\n",
    "tab = get_appended(url,tickers)\n",
    "tab.drop_duplicates(inplace=True)\n",
    "a = pd.io.sql.get_schema(tab,name)\n",
    "print(a)"
   ]
  },
  {
   "cell_type": "code",
   "execution_count": 91,
   "metadata": {},
   "outputs": [
    {
     "name": "stdout",
     "output_type": "stream",
     "text": [
      "('SPY', 'SPDR S&P 500', 390.656, 'NYSE Arca')\n"
     ]
    }
   ],
   "source": [
    "c.execute('drop table if exists '+name)\n",
    "c.execute(\"\"\"\n",
    "CREATE TABLE \"SYMBOLS_ALL\" (\n",
    "\"symbol\" TEXT,\n",
    "  \"name\" TEXT,\n",
    "  \"price\" REAL,\n",
    "  \"exchange\" TEXT\n",
    ")\"\"\")\n",
    "tab.to_sql(name,con=conn,index=False,if_exists='append')\n",
    "c.execute('select * from '+name+ ' limit 1')\n",
    "print(c.fetchall()[0][0:10],)"
   ]
  },
  {
   "cell_type": "markdown",
   "metadata": {},
   "source": [
    "### !!!Skipped – \"Batch Request Historical Price\"\n",
    "### !!!Skipped – \"Batch Request (stock screener)\""
   ]
  },
  {
   "cell_type": "markdown",
   "metadata": {},
   "source": [
    "### Delisted Companies"
   ]
  },
  {
   "cell_type": "code",
   "execution_count": 93,
   "metadata": {},
   "outputs": [],
   "source": [
    "name = 'SYMBOLS_DELISTED'"
   ]
  },
  {
   "cell_type": "code",
   "execution_count": 94,
   "metadata": {},
   "outputs": [
    {
     "name": "stdout",
     "output_type": "stream",
     "text": [
      "CREATE TABLE \"SYMBOLS_DELISTED\" (\n",
      "\"symbol\" TEXT,\n",
      "  \"companyName\" TEXT,\n",
      "  \"exchange\" TEXT,\n",
      "  \"ipoDate\" TEXT,\n",
      "  \"delistedDate\" TEXT\n",
      ")\n",
      "CPU times: user 1.46 s, sys: 185 ms, total: 1.65 s\n",
      "Wall time: 23.7 s\n"
     ]
    }
   ],
   "source": [
    "%%time\n",
    "url = \"https://financialmodelingprep.com/api/v3/delisted-companies?limit=1000000000&apikey=\" + apikey\n",
    "tab = get_appended(url,tickers)\n",
    "tab.drop_duplicates(inplace=True)\n",
    "a = pd.io.sql.get_schema(tab,name)\n",
    "print(a)"
   ]
  },
  {
   "cell_type": "code",
   "execution_count": 96,
   "metadata": {},
   "outputs": [
    {
     "name": "stdout",
     "output_type": "stream",
     "text": [
      "('DXLG', 'Destination XL Group Inc', 'NASDAQ', '1992-02-25', '2021-02-08')\n"
     ]
    }
   ],
   "source": [
    "c.execute('drop table if exists '+name)\n",
    "c.execute(\"\"\"\n",
    "CREATE TABLE \"SYMBOLS_DELISTED\" (\n",
    "  \"symbol\" TEXT PRIMARY KEY,\n",
    "  \"companyName\" TEXT,\n",
    "  \"exchange\" TEXT,\n",
    "  \"ipoDate\" TEXT,\n",
    "  \"delistedDate\" TEXT\n",
    ")\"\"\")\n",
    "tab.to_sql(name,con=conn,index=False,if_exists='append')\n",
    "c.execute('select * from '+name+ ' limit 1')\n",
    "print(c.fetchall()[0][0:10],)"
   ]
  },
  {
   "cell_type": "markdown",
   "metadata": {},
   "source": [
    "## News"
   ]
  },
  {
   "cell_type": "code",
   "execution_count": 37,
   "metadata": {},
   "outputs": [],
   "source": [
    "prefix = 'ABOUT__'"
   ]
  },
  {
   "cell_type": "code",
   "execution_count": 38,
   "metadata": {},
   "outputs": [],
   "source": [
    "name = prefix + 'NEWS'"
   ]
  },
  {
   "cell_type": "code",
   "execution_count": 39,
   "metadata": {},
   "outputs": [
    {
     "name": "stdout",
     "output_type": "stream",
     "text": [
      "CREATE TABLE \"ABOUT_NEWS\" (\n",
      "\"symbol\" TEXT,\n",
      "  \"publishedDate\" TEXT,\n",
      "  \"title\" TEXT,\n",
      "  \"image\" TEXT,\n",
      "  \"site\" TEXT,\n",
      "  \"text\" TEXT,\n",
      "  \"url\" TEXT\n",
      ")\n",
      "CPU times: user 1.2 s, sys: 176 ms, total: 1.38 s\n",
      "Wall time: 34.2 s\n"
     ]
    }
   ],
   "source": [
    "%%time\n",
    "url = \"https://financialmodelingprep.com/api/v3/stock_news?tickers=***TICKER***&limit=1000000000&apikey=\" + apikey\n",
    "tab = get_appended(url,tickers)\n",
    "tab.drop_duplicates(inplace=True)\n",
    "a = pd.io.sql.get_schema(tab,name)\n",
    "print(a)"
   ]
  },
  {
   "cell_type": "code",
   "execution_count": 40,
   "metadata": {},
   "outputs": [
    {
     "name": "stdout",
     "output_type": "stream",
     "text": [
      "('CRM', '2021-02-10 12:01:21', 'Salesforce announces that employees can work remotely full-time or part-time after pandemic', 'https://cdn.snapi.dev/images/v1/l/l/salesforce-announces-that-employees-can-work-remotely-full-time-or-part-time-after-pandemic.jpg', 'Yahoo Finance', \"Yahoo Finance's Brian Sozzi, Julie Hyman, and Myles Udland discuss Salesforce's 'Work From Anywhere' plan, and what the future of work looks like.\", 'https://www.youtube.com/watch?v=prNiJd9I1xk')\n"
     ]
    }
   ],
   "source": [
    "c.execute('drop table if exists '+name)\n",
    "c.execute(\"\"\"\n",
    "CREATE TABLE \"ABOUT_NEWS\" (\n",
    "\"symbol\" TEXT,\n",
    "  \"publishedDate\" TEXT,\n",
    "  \"title\" TEXT,\n",
    "  \"image\" TEXT,\n",
    "  \"site\" TEXT,\n",
    "  \"text\" TEXT,\n",
    "  \"url\" TEXT,\n",
    "  PRIMARY KEY (symbol,publishedDate,title)\n",
    ")\"\"\")\n",
    "tab.to_sql(name,con=conn,index=False,if_exists='append')\n",
    "c.execute('select * from '+name+ ' limit 1')\n",
    "print(c.fetchall()[0][0:10],)"
   ]
  },
  {
   "cell_type": "markdown",
   "metadata": {},
   "source": [
    "### Earnings Surprises"
   ]
  },
  {
   "cell_type": "code",
   "execution_count": 60,
   "metadata": {},
   "outputs": [],
   "source": [
    "name = prefix + 'EARNINGS_SUPRISES'"
   ]
  },
  {
   "cell_type": "code",
   "execution_count": 61,
   "metadata": {},
   "outputs": [
    {
     "name": "stdout",
     "output_type": "stream",
     "text": [
      "CREATE TABLE \"ABOUT_EARNINGS_SUPRISES\" (\n",
      "\"date\" TIMESTAMP,\n",
      "  \"symbol\" TEXT,\n",
      "  \"actualEarningResult\" REAL,\n",
      "  \"estimatedEarning\" REAL\n",
      ")\n",
      "CPU times: user 633 ms, sys: 25.4 ms, total: 659 ms\n",
      "Wall time: 10.3 s\n"
     ]
    }
   ],
   "source": [
    "%%time\n",
    "url = 'https://financialmodelingprep.com/api/v3/earnings-surpises/***TICKER***?apikey='+apikey\n",
    "tab = get_appended(url,tickers)\n",
    "tab.drop_duplicates(inplace=True)\n",
    "a = pd.io.sql.get_schema(tab,name)\n",
    "print(a)"
   ]
  },
  {
   "cell_type": "code",
   "execution_count": 63,
   "metadata": {},
   "outputs": [
    {
     "name": "stdout",
     "output_type": "stream",
     "text": [
      "('2020-12-01 00:00:00', 'CRM', 1.74, 0.75)\n"
     ]
    }
   ],
   "source": [
    "c.execute('drop table if exists '+name)\n",
    "c.execute(\"\"\"\n",
    "CREATE TABLE \"ABOUT_EARNINGS_SUPRISES\" (\n",
    "  \"date\" TIMESTAMP,\n",
    "  \"symbol\" TEXT,\n",
    "  \"actualEarningResult\" REAL,\n",
    "  \"estimatedEarning\" REAL,\n",
    "  PRIMARY KEY (symbol,date)\n",
    ")\"\"\")\n",
    "tab.to_sql(name,con=conn,index=False,if_exists='append')\n",
    "c.execute('select * from '+name+ ' limit 1')\n",
    "print(c.fetchall()[0][0:10],)"
   ]
  },
  {
   "cell_type": "markdown",
   "metadata": {},
   "source": [
    "## !!!Skipped(temporarily) - SEC Filings (see notes 2/10)"
   ]
  },
  {
   "cell_type": "markdown",
   "metadata": {},
   "source": [
    "## Press Releases"
   ]
  },
  {
   "cell_type": "code",
   "execution_count": 64,
   "metadata": {},
   "outputs": [],
   "source": [
    "name = prefix + 'PRESS_RELEASES'"
   ]
  },
  {
   "cell_type": "code",
   "execution_count": 66,
   "metadata": {},
   "outputs": [
    {
     "name": "stdout",
     "output_type": "stream",
     "text": [
      "CREATE TABLE \"ABOUT_PRESS_RELEASES\" (\n",
      "\"symbol\" TEXT,\n",
      "  \"date\" TIMESTAMP,\n",
      "  \"title\" TEXT,\n",
      "  \"text\" TEXT\n",
      ")\n",
      "CPU times: user 682 ms, sys: 37.7 ms, total: 720 ms\n",
      "Wall time: 13.7 s\n"
     ]
    }
   ],
   "source": [
    "%%time\n",
    "url = 'https://financialmodelingprep.com/api/v3/press-releases/***TICKER***?limit=1000000000&apikey='+apikey\n",
    "tab = get_appended(url,tickers)\n",
    "tab.drop_duplicates(inplace=True)\n",
    "a = pd.io.sql.get_schema(tab,name)\n",
    "print(a)"
   ]
  },
  {
   "cell_type": "code",
   "execution_count": 67,
   "metadata": {},
   "outputs": [
    {
     "name": "stdout",
     "output_type": "stream",
     "text": [
      "('CRM', '2021-01-12 08:15:00', 'Salesforce Introduces Loyalty Management to Help Drive More Meaningful Customer Loyalty Experiences', 'SAN FRANCISCO, JAN. 12, 2021 /PRNEWSWIRE/ -- SALESFORCE (NYSE: CRM), THE GLOBAL LEADER IN CRM, TODAY ANNOUNCED LOYALTY MANAGEMENT, A NEW PRODUCT FOR COMPANIES ACROSS INDUSTRIES, INCLUDING RETAIL, CONSUMER GOODS, MANUFACTURING, TRAVEL AND HOSPITALITY, TO INCREASE CUSTOMER TRUST AND...')\n"
     ]
    }
   ],
   "source": [
    "c.execute('drop table if exists '+name)\n",
    "c.execute(\"\"\"\n",
    "CREATE TABLE \"ABOUT_PRESS_RELEASES\" (\n",
    "\"symbol\" TEXT,\n",
    "  \"date\" TIMESTAMP,\n",
    "  \"title\" TEXT,\n",
    "  \"text\" TEXT\n",
    ")\"\"\")\n",
    "tab.to_sql(name,con=conn,index=False,if_exists='append')\n",
    "c.execute('select * from '+name+ ' limit 1')\n",
    "print(c.fetchall()[0][0:10],)"
   ]
  }
 ],
 "metadata": {
  "kernelspec": {
   "display_name": "Python 3",
   "language": "python",
   "name": "python3"
  },
  "language_info": {
   "codemirror_mode": {
    "name": "ipython",
    "version": 3
   },
   "file_extension": ".py",
   "mimetype": "text/x-python",
   "name": "python",
   "nbconvert_exporter": "python",
   "pygments_lexer": "ipython3",
   "version": "3.7.6"
  }
 },
 "nbformat": 4,
 "nbformat_minor": 4
}
