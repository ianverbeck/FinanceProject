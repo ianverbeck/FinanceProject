{
 "cells": [
  {
   "cell_type": "code",
   "execution_count": 18,
   "metadata": {},
   "outputs": [],
   "source": [
    "import sqlite3\n",
    "\n",
    "import pandas as pd\n",
    "import numpy as np\n",
    "from urllib.request import urlopen  \n",
    "import json\n",
    "\n",
    "getkey = ! cat ../../apikey.txt\n",
    "apikey = getkey[0]\n",
    "\n",
    "from Resources.fhelp import get_appended"
   ]
  },
  {
   "cell_type": "code",
   "execution_count": 19,
   "metadata": {},
   "outputs": [
    {
     "name": "stdout",
     "output_type": "stream",
     "text": [
      "['CRM', 'WBA', 'V', 'NKE', 'UNH', 'TRV', 'VZ', 'INTC', 'WMT', 'JNJ', 'DIS', 'MCD', 'JPM', 'CAT', 'BA', 'AMGN', 'DOW', 'AAPL', 'GS', 'CSCO', 'MSFT', 'HD', 'PG', 'MRK', 'IBM', 'HON', 'KO', 'CVX', 'AXP', 'MMM']\n"
     ]
    }
   ],
   "source": [
    "#get list of tickers (just dow until everything is set up)\n",
    "dow_url = \"https://financialmodelingprep.com/api/v3/dowjones_constituent?apikey=600e501fe324b2f1cbb2aec5b390b6db\"\n",
    "dow_tick = pd.read_json(dow_url)\n",
    "tickers = list(dow_tick.symbol.values)\n",
    "print(tickers,)"
   ]
  },
  {
   "cell_type": "code",
   "execution_count": 20,
   "metadata": {},
   "outputs": [],
   "source": [
    "#tickersall = pd.read_json('https://financialmodelingprep.com/api/v3/stock/list?apikey='+apikey)\n",
    "#tickersall['exchange'].value_counts()"
   ]
  },
  {
   "cell_type": "code",
   "execution_count": 21,
   "metadata": {},
   "outputs": [],
   "source": [
    "tickers += ['SECO'] #check stock I am currently interested in"
   ]
  },
  {
   "cell_type": "code",
   "execution_count": 8,
   "metadata": {},
   "outputs": [],
   "source": [
    "#connect to dv(setup if new)\n",
    "conn = sqlite3.connect('../../Finances.db')\n",
    "c = conn.cursor()"
   ]
  },
  {
   "cell_type": "markdown",
   "metadata": {},
   "source": [
    "\n",
    "## Company valuation"
   ]
  },
  {
   "cell_type": "code",
   "execution_count": 9,
   "metadata": {},
   "outputs": [],
   "source": [
    "\n",
    "newrl = urls['GEN_SYMBOLS'] + apikey\n",
    "tickers = pd.read_json(newrl)"
   ]
  },
  {
   "cell_type": "code",
   "execution_count": 17,
   "metadata": {},
   "outputs": [
    {
     "ename": "ValueError",
     "evalue": "No ':' found when decoding object value",
     "output_type": "error",
     "traceback": [
      "\u001b[0;31m---------------------------------------------------------------------------\u001b[0m",
      "\u001b[0;31mValueError\u001b[0m                                Traceback (most recent call last)",
      "\u001b[0;32m<ipython-input-17-c0510f45992a>\u001b[0m in \u001b[0;36m<module>\u001b[0;34m\u001b[0m\n\u001b[0;32m----> 1\u001b[0;31m \u001b[0murls\u001b[0m \u001b[0;34m=\u001b[0m \u001b[0mpd\u001b[0m\u001b[0;34m.\u001b[0m\u001b[0mread_json\u001b[0m\u001b[0;34m(\u001b[0m\u001b[0;34m'Resources/urls.json'\u001b[0m\u001b[0;34m,\u001b[0m\u001b[0mtyp\u001b[0m\u001b[0;34m=\u001b[0m\u001b[0;34m'series'\u001b[0m\u001b[0;34m)\u001b[0m\u001b[0;34m\u001b[0m\u001b[0;34m\u001b[0m\u001b[0m\n\u001b[0m",
      "\u001b[0;32m~/opt/anaconda3/lib/python3.7/site-packages/pandas/util/_decorators.py\u001b[0m in \u001b[0;36mwrapper\u001b[0;34m(*args, **kwargs)\u001b[0m\n\u001b[1;32m    212\u001b[0m                 \u001b[0;32melse\u001b[0m\u001b[0;34m:\u001b[0m\u001b[0;34m\u001b[0m\u001b[0;34m\u001b[0m\u001b[0m\n\u001b[1;32m    213\u001b[0m                     \u001b[0mkwargs\u001b[0m\u001b[0;34m[\u001b[0m\u001b[0mnew_arg_name\u001b[0m\u001b[0;34m]\u001b[0m \u001b[0;34m=\u001b[0m \u001b[0mnew_arg_value\u001b[0m\u001b[0;34m\u001b[0m\u001b[0;34m\u001b[0m\u001b[0m\n\u001b[0;32m--> 214\u001b[0;31m             \u001b[0;32mreturn\u001b[0m \u001b[0mfunc\u001b[0m\u001b[0;34m(\u001b[0m\u001b[0;34m*\u001b[0m\u001b[0margs\u001b[0m\u001b[0;34m,\u001b[0m \u001b[0;34m**\u001b[0m\u001b[0mkwargs\u001b[0m\u001b[0;34m)\u001b[0m\u001b[0;34m\u001b[0m\u001b[0;34m\u001b[0m\u001b[0m\n\u001b[0m\u001b[1;32m    215\u001b[0m \u001b[0;34m\u001b[0m\u001b[0m\n\u001b[1;32m    216\u001b[0m         \u001b[0;32mreturn\u001b[0m \u001b[0mcast\u001b[0m\u001b[0;34m(\u001b[0m\u001b[0mF\u001b[0m\u001b[0;34m,\u001b[0m \u001b[0mwrapper\u001b[0m\u001b[0;34m)\u001b[0m\u001b[0;34m\u001b[0m\u001b[0;34m\u001b[0m\u001b[0m\n",
      "\u001b[0;32m~/opt/anaconda3/lib/python3.7/site-packages/pandas/io/json/_json.py\u001b[0m in \u001b[0;36mread_json\u001b[0;34m(path_or_buf, orient, typ, dtype, convert_axes, convert_dates, keep_default_dates, numpy, precise_float, date_unit, encoding, lines, chunksize, compression)\u001b[0m\n\u001b[1;32m    606\u001b[0m         \u001b[0;32mreturn\u001b[0m \u001b[0mjson_reader\u001b[0m\u001b[0;34m\u001b[0m\u001b[0;34m\u001b[0m\u001b[0m\n\u001b[1;32m    607\u001b[0m \u001b[0;34m\u001b[0m\u001b[0m\n\u001b[0;32m--> 608\u001b[0;31m     \u001b[0mresult\u001b[0m \u001b[0;34m=\u001b[0m \u001b[0mjson_reader\u001b[0m\u001b[0;34m.\u001b[0m\u001b[0mread\u001b[0m\u001b[0;34m(\u001b[0m\u001b[0;34m)\u001b[0m\u001b[0;34m\u001b[0m\u001b[0;34m\u001b[0m\u001b[0m\n\u001b[0m\u001b[1;32m    609\u001b[0m     \u001b[0;32mif\u001b[0m \u001b[0mshould_close\u001b[0m\u001b[0;34m:\u001b[0m\u001b[0;34m\u001b[0m\u001b[0;34m\u001b[0m\u001b[0m\n\u001b[1;32m    610\u001b[0m         \u001b[0mfilepath_or_buffer\u001b[0m\u001b[0;34m.\u001b[0m\u001b[0mclose\u001b[0m\u001b[0;34m(\u001b[0m\u001b[0;34m)\u001b[0m\u001b[0;34m\u001b[0m\u001b[0;34m\u001b[0m\u001b[0m\n",
      "\u001b[0;32m~/opt/anaconda3/lib/python3.7/site-packages/pandas/io/json/_json.py\u001b[0m in \u001b[0;36mread\u001b[0;34m(self)\u001b[0m\n\u001b[1;32m    729\u001b[0m             \u001b[0mobj\u001b[0m \u001b[0;34m=\u001b[0m \u001b[0mself\u001b[0m\u001b[0;34m.\u001b[0m\u001b[0m_get_object_parser\u001b[0m\u001b[0;34m(\u001b[0m\u001b[0mself\u001b[0m\u001b[0;34m.\u001b[0m\u001b[0m_combine_lines\u001b[0m\u001b[0;34m(\u001b[0m\u001b[0mdata\u001b[0m\u001b[0;34m.\u001b[0m\u001b[0msplit\u001b[0m\u001b[0;34m(\u001b[0m\u001b[0;34m\"\\n\"\u001b[0m\u001b[0;34m)\u001b[0m\u001b[0;34m)\u001b[0m\u001b[0;34m)\u001b[0m\u001b[0;34m\u001b[0m\u001b[0;34m\u001b[0m\u001b[0m\n\u001b[1;32m    730\u001b[0m         \u001b[0;32melse\u001b[0m\u001b[0;34m:\u001b[0m\u001b[0;34m\u001b[0m\u001b[0;34m\u001b[0m\u001b[0m\n\u001b[0;32m--> 731\u001b[0;31m             \u001b[0mobj\u001b[0m \u001b[0;34m=\u001b[0m \u001b[0mself\u001b[0m\u001b[0;34m.\u001b[0m\u001b[0m_get_object_parser\u001b[0m\u001b[0;34m(\u001b[0m\u001b[0mself\u001b[0m\u001b[0;34m.\u001b[0m\u001b[0mdata\u001b[0m\u001b[0;34m)\u001b[0m\u001b[0;34m\u001b[0m\u001b[0;34m\u001b[0m\u001b[0m\n\u001b[0m\u001b[1;32m    732\u001b[0m         \u001b[0mself\u001b[0m\u001b[0;34m.\u001b[0m\u001b[0mclose\u001b[0m\u001b[0;34m(\u001b[0m\u001b[0;34m)\u001b[0m\u001b[0;34m\u001b[0m\u001b[0;34m\u001b[0m\u001b[0m\n\u001b[1;32m    733\u001b[0m         \u001b[0;32mreturn\u001b[0m \u001b[0mobj\u001b[0m\u001b[0;34m\u001b[0m\u001b[0;34m\u001b[0m\u001b[0m\n",
      "\u001b[0;32m~/opt/anaconda3/lib/python3.7/site-packages/pandas/io/json/_json.py\u001b[0m in \u001b[0;36m_get_object_parser\u001b[0;34m(self, json)\u001b[0m\n\u001b[1;32m    756\u001b[0m             \u001b[0;32mif\u001b[0m \u001b[0;32mnot\u001b[0m \u001b[0misinstance\u001b[0m\u001b[0;34m(\u001b[0m\u001b[0mdtype\u001b[0m\u001b[0;34m,\u001b[0m \u001b[0mbool\u001b[0m\u001b[0;34m)\u001b[0m\u001b[0;34m:\u001b[0m\u001b[0;34m\u001b[0m\u001b[0;34m\u001b[0m\u001b[0m\n\u001b[1;32m    757\u001b[0m                 \u001b[0mkwargs\u001b[0m\u001b[0;34m[\u001b[0m\u001b[0;34m\"dtype\"\u001b[0m\u001b[0;34m]\u001b[0m \u001b[0;34m=\u001b[0m \u001b[0mdtype\u001b[0m\u001b[0;34m\u001b[0m\u001b[0;34m\u001b[0m\u001b[0m\n\u001b[0;32m--> 758\u001b[0;31m             \u001b[0mobj\u001b[0m \u001b[0;34m=\u001b[0m \u001b[0mSeriesParser\u001b[0m\u001b[0;34m(\u001b[0m\u001b[0mjson\u001b[0m\u001b[0;34m,\u001b[0m \u001b[0;34m**\u001b[0m\u001b[0mkwargs\u001b[0m\u001b[0;34m)\u001b[0m\u001b[0;34m.\u001b[0m\u001b[0mparse\u001b[0m\u001b[0;34m(\u001b[0m\u001b[0;34m)\u001b[0m\u001b[0;34m\u001b[0m\u001b[0;34m\u001b[0m\u001b[0m\n\u001b[0m\u001b[1;32m    759\u001b[0m \u001b[0;34m\u001b[0m\u001b[0m\n\u001b[1;32m    760\u001b[0m         \u001b[0;32mreturn\u001b[0m \u001b[0mobj\u001b[0m\u001b[0;34m\u001b[0m\u001b[0;34m\u001b[0m\u001b[0m\n",
      "\u001b[0;32m~/opt/anaconda3/lib/python3.7/site-packages/pandas/io/json/_json.py\u001b[0m in \u001b[0;36mparse\u001b[0;34m(self)\u001b[0m\n\u001b[1;32m    855\u001b[0m \u001b[0;34m\u001b[0m\u001b[0m\n\u001b[1;32m    856\u001b[0m         \u001b[0;32melse\u001b[0m\u001b[0;34m:\u001b[0m\u001b[0;34m\u001b[0m\u001b[0;34m\u001b[0m\u001b[0m\n\u001b[0;32m--> 857\u001b[0;31m             \u001b[0mself\u001b[0m\u001b[0;34m.\u001b[0m\u001b[0m_parse_no_numpy\u001b[0m\u001b[0;34m(\u001b[0m\u001b[0;34m)\u001b[0m\u001b[0;34m\u001b[0m\u001b[0;34m\u001b[0m\u001b[0m\n\u001b[0m\u001b[1;32m    858\u001b[0m \u001b[0;34m\u001b[0m\u001b[0m\n\u001b[1;32m    859\u001b[0m         \u001b[0;32mif\u001b[0m \u001b[0mself\u001b[0m\u001b[0;34m.\u001b[0m\u001b[0mobj\u001b[0m \u001b[0;32mis\u001b[0m \u001b[0;32mNone\u001b[0m\u001b[0;34m:\u001b[0m\u001b[0;34m\u001b[0m\u001b[0;34m\u001b[0m\u001b[0m\n",
      "\u001b[0;32m~/opt/anaconda3/lib/python3.7/site-packages/pandas/io/json/_json.py\u001b[0m in \u001b[0;36m_parse_no_numpy\u001b[0;34m(self)\u001b[0m\n\u001b[1;32m    999\u001b[0m \u001b[0;34m\u001b[0m\u001b[0m\n\u001b[1;32m   1000\u001b[0m     \u001b[0;32mdef\u001b[0m \u001b[0m_parse_no_numpy\u001b[0m\u001b[0;34m(\u001b[0m\u001b[0mself\u001b[0m\u001b[0;34m)\u001b[0m\u001b[0;34m:\u001b[0m\u001b[0;34m\u001b[0m\u001b[0;34m\u001b[0m\u001b[0m\n\u001b[0;32m-> 1001\u001b[0;31m         \u001b[0mdata\u001b[0m \u001b[0;34m=\u001b[0m \u001b[0mloads\u001b[0m\u001b[0;34m(\u001b[0m\u001b[0mself\u001b[0m\u001b[0;34m.\u001b[0m\u001b[0mjson\u001b[0m\u001b[0;34m,\u001b[0m \u001b[0mprecise_float\u001b[0m\u001b[0;34m=\u001b[0m\u001b[0mself\u001b[0m\u001b[0;34m.\u001b[0m\u001b[0mprecise_float\u001b[0m\u001b[0;34m)\u001b[0m\u001b[0;34m\u001b[0m\u001b[0;34m\u001b[0m\u001b[0m\n\u001b[0m\u001b[1;32m   1002\u001b[0m \u001b[0;34m\u001b[0m\u001b[0m\n\u001b[1;32m   1003\u001b[0m         \u001b[0;32mif\u001b[0m \u001b[0mself\u001b[0m\u001b[0;34m.\u001b[0m\u001b[0morient\u001b[0m \u001b[0;34m==\u001b[0m \u001b[0;34m\"split\"\u001b[0m\u001b[0;34m:\u001b[0m\u001b[0;34m\u001b[0m\u001b[0;34m\u001b[0m\u001b[0m\n",
      "\u001b[0;31mValueError\u001b[0m: No ':' found when decoding object value"
     ]
    }
   ],
   "source": [
    "urls = pd.read_json('Resources/urls.json',typ='series')"
   ]
  },
  {
   "cell_type": "code",
   "execution_count": 10,
   "metadata": {},
   "outputs": [
    {
     "data": {
      "text/html": [
       "<div>\n",
       "<style scoped>\n",
       "    .dataframe tbody tr th:only-of-type {\n",
       "        vertical-align: middle;\n",
       "    }\n",
       "\n",
       "    .dataframe tbody tr th {\n",
       "        vertical-align: top;\n",
       "    }\n",
       "\n",
       "    .dataframe thead th {\n",
       "        text-align: right;\n",
       "    }\n",
       "</style>\n",
       "<table border=\"1\" class=\"dataframe\">\n",
       "  <thead>\n",
       "    <tr style=\"text-align: right;\">\n",
       "      <th></th>\n",
       "      <th>symbol</th>\n",
       "      <th>name</th>\n",
       "      <th>price</th>\n",
       "      <th>exchange</th>\n",
       "    </tr>\n",
       "  </thead>\n",
       "  <tbody>\n",
       "    <tr>\n",
       "      <th>0</th>\n",
       "      <td>SPY</td>\n",
       "      <td>SPDR S&amp;P 500</td>\n",
       "      <td>392.64</td>\n",
       "      <td>NYSE Arca</td>\n",
       "    </tr>\n",
       "    <tr>\n",
       "      <th>1</th>\n",
       "      <td>CMCSA</td>\n",
       "      <td>Comcast Corp</td>\n",
       "      <td>53.23</td>\n",
       "      <td>Nasdaq Global Select</td>\n",
       "    </tr>\n",
       "    <tr>\n",
       "      <th>2</th>\n",
       "      <td>KMI</td>\n",
       "      <td>Kinder Morgan Inc</td>\n",
       "      <td>14.84</td>\n",
       "      <td>New York Stock Exchange</td>\n",
       "    </tr>\n",
       "    <tr>\n",
       "      <th>3</th>\n",
       "      <td>INTC</td>\n",
       "      <td>Intel Corp</td>\n",
       "      <td>61.81</td>\n",
       "      <td>Nasdaq Global Select</td>\n",
       "    </tr>\n",
       "    <tr>\n",
       "      <th>4</th>\n",
       "      <td>MU</td>\n",
       "      <td>Micron Technology Inc</td>\n",
       "      <td>88.01</td>\n",
       "      <td>Nasdaq Global Select</td>\n",
       "    </tr>\n",
       "    <tr>\n",
       "      <th>...</th>\n",
       "      <td>...</td>\n",
       "      <td>...</td>\n",
       "      <td>...</td>\n",
       "      <td>...</td>\n",
       "    </tr>\n",
       "    <tr>\n",
       "      <th>29850</th>\n",
       "      <td>TSIBU</td>\n",
       "      <td>Tishman Speyer Innovation Corp. II Unit</td>\n",
       "      <td>10.88</td>\n",
       "      <td>NasdaqGS</td>\n",
       "    </tr>\n",
       "    <tr>\n",
       "      <th>29851</th>\n",
       "      <td>OPCT3.SA</td>\n",
       "      <td>OceanPact Serviços Marítimos S.A.</td>\n",
       "      <td>11.15</td>\n",
       "      <td>Sao Paolo</td>\n",
       "    </tr>\n",
       "    <tr>\n",
       "      <th>29852</th>\n",
       "      <td>SHG.AX</td>\n",
       "      <td>Singular Health Group Ltd</td>\n",
       "      <td>0.38</td>\n",
       "      <td>ASX</td>\n",
       "    </tr>\n",
       "    <tr>\n",
       "      <th>29853</th>\n",
       "      <td>LGVN</td>\n",
       "      <td>Longeveron Inc. Class A Common Stock</td>\n",
       "      <td>7.41</td>\n",
       "      <td>NasdaqGS</td>\n",
       "    </tr>\n",
       "    <tr>\n",
       "      <th>29854</th>\n",
       "      <td>HUNT.CN</td>\n",
       "      <td>Gold Hunter Resources Inc.</td>\n",
       "      <td>0.38</td>\n",
       "      <td>Canadian Sec</td>\n",
       "    </tr>\n",
       "  </tbody>\n",
       "</table>\n",
       "<p>29855 rows × 4 columns</p>\n",
       "</div>"
      ],
      "text/plain": [
       "         symbol                                     name   price  \\\n",
       "0           SPY                             SPDR S&P 500  392.64   \n",
       "1         CMCSA                             Comcast Corp   53.23   \n",
       "2           KMI                        Kinder Morgan Inc   14.84   \n",
       "3          INTC                               Intel Corp   61.81   \n",
       "4            MU                    Micron Technology Inc   88.01   \n",
       "...         ...                                      ...     ...   \n",
       "29850     TSIBU  Tishman Speyer Innovation Corp. II Unit   10.88   \n",
       "29851  OPCT3.SA        OceanPact Serviços Marítimos S.A.   11.15   \n",
       "29852    SHG.AX                Singular Health Group Ltd    0.38   \n",
       "29853      LGVN     Longeveron Inc. Class A Common Stock    7.41   \n",
       "29854   HUNT.CN               Gold Hunter Resources Inc.    0.38   \n",
       "\n",
       "                      exchange  \n",
       "0                    NYSE Arca  \n",
       "1         Nasdaq Global Select  \n",
       "2      New York Stock Exchange  \n",
       "3         Nasdaq Global Select  \n",
       "4         Nasdaq Global Select  \n",
       "...                        ...  \n",
       "29850                 NasdaqGS  \n",
       "29851                Sao Paolo  \n",
       "29852                      ASX  \n",
       "29853                 NasdaqGS  \n",
       "29854             Canadian Sec  \n",
       "\n",
       "[29855 rows x 4 columns]"
      ]
     },
     "execution_count": 10,
     "metadata": {},
     "output_type": "execute_result"
    }
   ],
   "source": [
    "tickers"
   ]
  },
  {
   "cell_type": "code",
   "execution_count": 11,
   "metadata": {},
   "outputs": [
    {
     "name": "stdout",
     "output_type": "stream",
     "text": [
      "https://financialmodelingprep.com/api/v3/discounted-cash-flow/AAPL?apikey=600e501fe324b2f1cbb2aec5b390b6db\n"
     ]
    },
    {
     "data": {
      "text/html": [
       "<div>\n",
       "<style scoped>\n",
       "    .dataframe tbody tr th:only-of-type {\n",
       "        vertical-align: middle;\n",
       "    }\n",
       "\n",
       "    .dataframe tbody tr th {\n",
       "        vertical-align: top;\n",
       "    }\n",
       "\n",
       "    .dataframe thead th {\n",
       "        text-align: right;\n",
       "    }\n",
       "</style>\n",
       "<table border=\"1\" class=\"dataframe\">\n",
       "  <thead>\n",
       "    <tr style=\"text-align: right;\">\n",
       "      <th></th>\n",
       "      <th>symbol</th>\n",
       "      <th>date</th>\n",
       "      <th>dcf</th>\n",
       "      <th>Stock Price</th>\n",
       "    </tr>\n",
       "  </thead>\n",
       "  <tbody>\n",
       "    <tr>\n",
       "      <th>0</th>\n",
       "      <td>AAPL</td>\n",
       "      <td>2021-02-14</td>\n",
       "      <td>137.538846</td>\n",
       "      <td>135.37</td>\n",
       "    </tr>\n",
       "  </tbody>\n",
       "</table>\n",
       "</div>"
      ],
      "text/plain": [
       "  symbol       date         dcf  Stock Price\n",
       "0   AAPL 2021-02-14  137.538846       135.37"
      ]
     },
     "execution_count": 11,
     "metadata": {},
     "output_type": "execute_result"
    }
   ],
   "source": [
    "url = urls['CV_DCF']\n",
    "newrl = url.replace(' ','AAPL') + apikey\n",
    "print(newrl)\n",
    "pd.read_json(newrl)"
   ]
  },
  {
   "cell_type": "code",
   "execution_count": 22,
   "metadata": {},
   "outputs": [
    {
     "ename": "ValueError",
     "evalue": "invalid literal for int() with base 10: 'C'",
     "output_type": "error",
     "traceback": [
      "\u001b[0;31m---------------------------------------------------------------------------\u001b[0m",
      "\u001b[0;31mValueError\u001b[0m                                Traceback (most recent call last)",
      "\u001b[0;32m<ipython-input-22-b9932dab9079>\u001b[0m in \u001b[0;36m<module>\u001b[0;34m\u001b[0m\n\u001b[1;32m      6\u001b[0m \u001b[0;34m\u001b[0m\u001b[0m\n\u001b[1;32m      7\u001b[0m     \u001b[0murl\u001b[0m \u001b[0;34m=\u001b[0m \u001b[0murls\u001b[0m\u001b[0;34m[\u001b[0m\u001b[0mname\u001b[0m\u001b[0;34m]\u001b[0m\u001b[0;34m\u001b[0m\u001b[0;34m\u001b[0m\u001b[0m\n\u001b[0;32m----> 8\u001b[0;31m     \u001b[0;32mif\u001b[0m \u001b[0mbool\u001b[0m\u001b[0;34m(\u001b[0m\u001b[0mint\u001b[0m\u001b[0;34m(\u001b[0m\u001b[0mname\u001b[0m\u001b[0;34m[\u001b[0m\u001b[0;36m0\u001b[0m\u001b[0;34m]\u001b[0m\u001b[0;34m)\u001b[0m\u001b[0;34m)\u001b[0m\u001b[0;34m:\u001b[0m\u001b[0;34m\u001b[0m\u001b[0;34m\u001b[0m\u001b[0m\n\u001b[0m\u001b[1;32m      9\u001b[0m         \u001b[0mprint\u001b[0m\u001b[0;34m(\u001b[0m\u001b[0mname\u001b[0m\u001b[0;34m[\u001b[0m\u001b[0;36m0\u001b[0m\u001b[0;34m]\u001b[0m\u001b[0;34m)\u001b[0m\u001b[0;34m\u001b[0m\u001b[0;34m\u001b[0m\u001b[0m\n\u001b[1;32m     10\u001b[0m         \u001b[0mprint\u001b[0m\u001b[0;34m(\u001b[0m\u001b[0;34m'CHANGE'\u001b[0m\u001b[0;34m)\u001b[0m\u001b[0;34m\u001b[0m\u001b[0;34m\u001b[0m\u001b[0m\n",
      "\u001b[0;31mValueError\u001b[0m: invalid literal for int() with base 10: 'C'"
     ]
    }
   ],
   "source": [
    "for c, name in enumerate(urls.index):\n",
    "    if c > 1:\n",
    "        pass\n",
    "    if urls[name] == 'NONE':\n",
    "        continue\n",
    "    \n",
    "    url = urls[name]\n",
    "    if bool(int(name[0])):\n",
    "        print(name[0])\n",
    "        print('CHANGE')\n",
    "    newrl = url.replace(' ','AAPL') + apikey\n",
    "    #print(newrl)\n",
    "\n",
    "    a = pd.read_json(newrl)\n",
    "    #display(a)\n",
    "\n",
    "    #print(addsymbol)"
   ]
  },
  {
   "cell_type": "code",
   "execution_count": null,
   "metadata": {},
   "outputs": [],
   "source": []
  },
  {
   "cell_type": "code",
   "execution_count": 210,
   "metadata": {},
   "outputs": [],
   "source": []
  },
  {
   "cell_type": "code",
   "execution_count": 213,
   "metadata": {},
   "outputs": [],
   "source": [
    "a= pd.read_json(newrl)"
   ]
  },
  {
   "cell_type": "code",
   "execution_count": null,
   "metadata": {},
   "outputs": [],
   "source": []
  },
  {
   "cell_type": "code",
   "execution_count": 183,
   "metadata": {},
   "outputs": [],
   "source": [
    "prefix = 'CVALUATION__'"
   ]
  },
  {
   "cell_type": "markdown",
   "metadata": {},
   "source": [
    "### Profile"
   ]
  },
  {
   "cell_type": "code",
   "execution_count": 170,
   "metadata": {},
   "outputs": [],
   "source": [
    "name = prefix+'PROFILE'"
   ]
  },
  {
   "cell_type": "code",
   "execution_count": 171,
   "metadata": {},
   "outputs": [
    {
     "name": "stdout",
     "output_type": "stream",
     "text": [
      "CPU times: user 949 ms, sys: 32 ms, total: 981 ms\n",
      "Wall time: 13.4 s\n"
     ]
    }
   ],
   "source": [
    "%%time\n",
    "url = \"https://financialmodelingprep.com/api/v3/profile/***TICKER***?apikey=\" + apikey\n",
    "tab = get_appended(url,tickers)\n",
    "tab.drop_duplicates(inplace=True)\n",
    "a = pd.io.sql.get_schema(tab,name)\n",
    "#print(a)"
   ]
  },
  {
   "cell_type": "code",
   "execution_count": 175,
   "metadata": {},
   "outputs": [],
   "source": [
    "text_file = open(\"schema.sql\", \"w\")\n",
    "text_file.write(a)\n",
    "text_file.close()"
   ]
  },
  {
   "cell_type": "code",
   "execution_count": 149,
   "metadata": {},
   "outputs": [
    {
     "name": "stdout",
     "output_type": "stream",
     "text": [
      "('CRM', 240.37, 1.25764, 9466941, 220595716000, 0.0, '115.29-284.5', -0.87, 'Salesforce.Com Inc', 'USD')\n"
     ]
    }
   ],
   "source": [
    "#clean up\n",
    "c.execute('drop table if exists '+ name)\n",
    "\n",
    "#add primary key (can't do with pandas)\n",
    "c.execute(\"\"\"\n",
    "CREATE TABLE \"CVALUATION__PROFILE\" (\n",
    "\"symbol\" TEXT PRImARY KEY,\n",
    "  \"price\" REAL,\n",
    "  \"beta\" REAL,\n",
    "  \"volAvg\" INTEGER,\n",
    "  \"mktCap\" INTEGER,\n",
    "  \"lastDiv\" REAL,\n",
    "  \"range\" TEXT,\n",
    "  \"changes\" REAL,\n",
    "  \"companyName\" TEXT,\n",
    "  \"currency\" TEXT,\n",
    "  \"cik\" TEXT,\n",
    "  \"isin\" TEXT,\n",
    "  \"cusip\" TEXT,\n",
    "  \"exchange\" TEXT,\n",
    "  \"exchangeShortName\" TEXT,\n",
    "  \"industry\" TEXT,\n",
    "  \"website\" TEXT,\n",
    "  \"description\" TEXT,\n",
    "  \"ceo\" TEXT,\n",
    "  \"sector\" TEXT,\n",
    "  \"country\" TEXT,\n",
    "  \"fullTimeEmployees\" TEXT,\n",
    "  \"phone\" TEXT,\n",
    "  \"address\" TEXT,\n",
    "  \"city\" TEXT,\n",
    "  \"state\" TEXT,\n",
    "  \"zip\" TEXT,\n",
    "  \"dcfDiff\" REAL,\n",
    "  \"dcf\" REAL,\n",
    "  \"image\" TEXT,\n",
    "  \"ipoDate\" TEXT,\n",
    "  \"defaultImage\" INTEGER,\n",
    "  \"isEtf\" TEXT,\n",
    "  \"isActivelyTrading\" TEXT\n",
    ")\"\"\")\n",
    "\n",
    "#put data into table\n",
    "tab.to_sql(name,con=conn,index=False,if_exists='append')\n",
    "c.execute('select * from '+name+ ' limit 1')\n",
    "print(c.fetchall()[0][0:10],)"
   ]
  },
  {
   "cell_type": "markdown",
   "metadata": {},
   "source": [
    "### Quote"
   ]
  },
  {
   "cell_type": "code",
   "execution_count": 150,
   "metadata": {},
   "outputs": [],
   "source": [
    "name = prefix+'QUOTE'"
   ]
  },
  {
   "cell_type": "code",
   "execution_count": 151,
   "metadata": {},
   "outputs": [
    {
     "name": "stdout",
     "output_type": "stream",
     "text": [
      "CPU times: user 937 ms, sys: 35.9 ms, total: 973 ms\n",
      "Wall time: 8.88 s\n"
     ]
    }
   ],
   "source": [
    "%%time\n",
    "url = \"https://financialmodelingprep.com/api/v3/quote/***TICKER***?apikey=\" + apikey\n",
    "tab = get_appended(url,tickers)\n",
    "tab.drop_duplicates(inplace=True)\n",
    "a = pd.io.sql.get_schema(tab,name)\n",
    "#print(a)"
   ]
  },
  {
   "cell_type": "code",
   "execution_count": 12,
   "metadata": {},
   "outputs": [
    {
     "name": "stdout",
     "output_type": "stream",
     "text": [
      "('CRM', 'salesforce.com, inc.', 240.07, -0.48000000000000004, -1.17, 238.9312, 241.56, 284.5, 115.29, 220320415744.0)\n"
     ]
    }
   ],
   "source": [
    "c.execute('drop table if exists '+ name)\n",
    "\n",
    "c.execute(\"\"\"\n",
    "CREATE TABLE \"CVALUATION__QUOTE\" (\n",
    "  \"symbol\" TEXT PRIMARY KEY,\n",
    "  \"name\" TEXT,\n",
    "  \"price\" REAL,\n",
    "  \"changesPercentage\" REAL,\n",
    "  \"change\" REAL,\n",
    "  \"dayLow\" REAL,\n",
    "  \"dayHigh\" REAL,\n",
    "  \"yearHigh\" REAL,\n",
    "  \"yearLow\" REAL,\n",
    "  \"marketCap\" REAL,\n",
    "  \"priceAvg50\" REAL,\n",
    "  \"priceAvg200\" REAL,\n",
    "  \"volume\" INTEGER,\n",
    "  \"avgVolume\" INTEGER,\n",
    "  \"exchange\" TEXT,\n",
    "  \"open\" REAL,\n",
    "  \"previousClose\" REAL,\n",
    "  \"eps\" REAL,\n",
    "  \"pe\" REAL,\n",
    "  \"earningsAnnouncement\" TEXT,\n",
    "  \"sharesOutstanding\" INTEGER,\n",
    "  \"timestamp\" INTEGER\n",
    ")\"\"\")\n",
    "\n",
    "#put data into table\n",
    "tab.to_sql(name,con=conn,index=False,if_exists='append')\n",
    "c.execute('select * from '+name+ ' limit 1')\n",
    "print(c.fetchall()[0][0:10],)"
   ]
  },
  {
   "cell_type": "markdown",
   "metadata": {},
   "source": [
    "### Key Executives"
   ]
  },
  {
   "cell_type": "code",
   "execution_count": 13,
   "metadata": {},
   "outputs": [],
   "source": [
    "name = prefix+'KEY_EXECUTIVES'"
   ]
  },
  {
   "cell_type": "code",
   "execution_count": 14,
   "metadata": {},
   "outputs": [
    {
     "name": "stdout",
     "output_type": "stream",
     "text": [
      "CPU times: user 572 ms, sys: 26.3 ms, total: 599 ms\n",
      "Wall time: 15.2 s\n"
     ]
    }
   ],
   "source": [
    "%%time\n",
    "url = \"https://financialmodelingprep.com/api/v3/key-executives/***TICKER***?apikey=\" + apikey\n",
    "tab = get_appended(url,tickers)\n",
    "tab.drop_duplicates(inplace=True)\n",
    "a = pd.io.sql.get_schema(tab,name)\n",
    "#print(a)"
   ]
  },
  {
   "cell_type": "code",
   "execution_count": 15,
   "metadata": {},
   "outputs": [
    {
     "name": "stdout",
     "output_type": "stream",
     "text": [
      "('0', 'Co-Founder, Chairman & Chief Executive Officer', 'Mr. Marc R. Benioff', 5970000, 'USD', 'male', 1965, None)\n"
     ]
    }
   ],
   "source": [
    "c.execute('drop table if exists '+name)\n",
    "c.execute(\"\"\"\n",
    "CREATE TABLE \"CVALUATION__KEY_EXECUTIVES\" (\n",
    "  \"symbol\" TEXT,\n",
    "  \"title\" TEXT,\n",
    "  \"name\" TEXT PRIMARY KEY,\n",
    "  \"pay\" INTEGER,\n",
    "  \"currencyPay\" TEXT,\n",
    "  \"gender\" TEXT,\n",
    "  \"yearBorn\" INTEGER,\n",
    "  \"titleSince\" TEXT\n",
    ")\"\"\")\n",
    "tab['symbol'] = tab.index\n",
    "tab.to_sql(name,con=conn,index=False,if_exists='append')\n",
    "c.execute('select * from '+name+ ' limit 1')\n",
    "print(c.fetchall()[0][0:10],)"
   ]
  },
  {
   "cell_type": "markdown",
   "metadata": {},
   "source": [
    "### !!!Out for now: Search"
   ]
  },
  {
   "cell_type": "markdown",
   "metadata": {},
   "source": [
    "### !!!Out for now: Financial Zip"
   ]
  },
  {
   "cell_type": "markdown",
   "metadata": {},
   "source": [
    "### Financial Statements"
   ]
  },
  {
   "cell_type": "markdown",
   "metadata": {},
   "source": [
    "#### Income"
   ]
  },
  {
   "cell_type": "markdown",
   "metadata": {},
   "source": [
    "##### Quarterly"
   ]
  },
  {
   "cell_type": "code",
   "execution_count": 16,
   "metadata": {},
   "outputs": [],
   "source": [
    "name = prefix+'FINANCIAL_STATEMENTS_INCOME_Q'"
   ]
  },
  {
   "cell_type": "code",
   "execution_count": 17,
   "metadata": {},
   "outputs": [
    {
     "name": "stdout",
     "output_type": "stream",
     "text": [
      "CPU times: user 1.11 s, sys: 54.4 ms, total: 1.17 s\n",
      "Wall time: 16.9 s\n"
     ]
    }
   ],
   "source": [
    "%%time\n",
    "url = \"https://financialmodelingprep.com/api/v3/income-statement/***TICKER***?period=quarter&limit=1000000000&apikey=\" + apikey\n",
    "tab = get_appended(url,tickers)\n",
    "tab.drop_duplicates(inplace=True)\n",
    "a = pd.io.sql.get_schema(tab,name)\n",
    "#print(a)"
   ]
  },
  {
   "cell_type": "code",
   "execution_count": 18,
   "metadata": {},
   "outputs": [
    {
     "name": "stdout",
     "output_type": "stream",
     "text": [
      "('2020-10-31 00:00:00', 'CRM', 'USD', '2020-12-04', '2020-12-04 08:43:26', 'Q3', '5419000000', '1394000000', '4025000000', 0.742756966229931)\n"
     ]
    }
   ],
   "source": [
    "c.execute('drop table if exists '+name)\n",
    "c.execute(\"\"\"\n",
    "CREATE TABLE \"CVALUATION__FINANCIAL_STATEMENTS_INCOME_Q\" (\n",
    "  \"date\" TEXT,\n",
    "  \"symbol\" TEXT,\n",
    "  \"reportedCurrency\" TEXT,\n",
    "  \"fillingDate\" TEXT,\n",
    "  \"acceptedDate\" TEXT,\n",
    "  \"period\" TEXT,\n",
    "  \"revenue\" TEXT,\n",
    "  \"costOfRevenue\" TEXT,\n",
    "  \"grossProfit\" TEXT,\n",
    "  \"grossProfitRatio\" REAL,\n",
    "  \"researchAndDevelopmentExpenses\" TEXT,\n",
    "  \"generalAndAdministrativeExpenses\" TEXT,\n",
    "  \"sellingAndMarketingExpenses\" TEXT,\n",
    "  \"otherExpenses\" TEXT,\n",
    "  \"operatingExpenses\" TEXT,\n",
    "  \"costAndExpenses\" TEXT,\n",
    "  \"interestExpense\" REAL,\n",
    "  \"depreciationAndAmortization\" TEXT,\n",
    "  \"ebitda\" TEXT,\n",
    "  \"ebitdaratio\" REAL,\n",
    "  \"operatingIncome\" TEXT,\n",
    "  \"operatingIncomeRatio\" REAL,\n",
    "  \"totalOtherIncomeExpensesNet\" TEXT,\n",
    "  \"incomeBeforeTax\" TEXT,\n",
    "  \"incomeBeforeTaxRatio\" REAL,\n",
    "  \"incomeTaxExpense\" TEXT,\n",
    "  \"netIncome\" TEXT,\n",
    "  \"netIncomeRatio\" REAL,\n",
    "  \"eps\" REAL,\n",
    "  \"epsdiluted\" REAL,\n",
    "  \"weightedAverageShsOut\" TEXT,\n",
    "  \"weightedAverageShsOutDil\" TEXT,\n",
    "  \"link\" TEXT,\n",
    "  \"finalLink\" TEXT,\n",
    "  PRIMARY KEY (symbol,date)\n",
    ")\"\"\")\n",
    "tab.to_sql(name,con=conn,index=False,if_exists='append')\n",
    "c.execute('select * from '+name+ ' limit 1')\n",
    "print(c.fetchall()[0][0:10],)"
   ]
  },
  {
   "cell_type": "markdown",
   "metadata": {},
   "source": [
    "##### Yearly"
   ]
  },
  {
   "cell_type": "code",
   "execution_count": 19,
   "metadata": {},
   "outputs": [],
   "source": [
    "name = prefix+'FINANCIAL_STATEMENTS_INCOME_Y'"
   ]
  },
  {
   "cell_type": "code",
   "execution_count": 20,
   "metadata": {},
   "outputs": [
    {
     "name": "stdout",
     "output_type": "stream",
     "text": [
      "CPU times: user 1.02 s, sys: 33.8 ms, total: 1.05 s\n",
      "Wall time: 12.8 s\n"
     ]
    }
   ],
   "source": [
    "%%time\n",
    "url = \"https://financialmodelingprep.com/api/v3/income-statement/***TICKER***?limit=1000000000&apikey=\" + apikey\n",
    "tab = get_appended(url,tickers)\n",
    "tab.drop_duplicates(inplace=True)\n",
    "a = pd.io.sql.get_schema(tab,name)\n",
    "#print(a)"
   ]
  },
  {
   "cell_type": "code",
   "execution_count": 21,
   "metadata": {},
   "outputs": [
    {
     "name": "stdout",
     "output_type": "stream",
     "text": [
      "('2020-01-31 00:00:00', 'CRM', 'USD', '2020-03-05 00:00:00', '2020-03-05 16:29:57', 'FY', '17098000000', '4235000000', '12863000000', 0.752310211720669)\n"
     ]
    }
   ],
   "source": [
    "c.execute('drop table if exists '+name)\n",
    "c.execute(\"\"\"\n",
    "CREATE TABLE \"CVALUATION__FINANCIAL_STATEMENTS_INCOME_Y\" (\n",
    "\"date\" TEXT,\n",
    "  \"symbol\" TEXT,\n",
    "  \"reportedCurrency\" TEXT,\n",
    "  \"fillingDate\" TEXT,\n",
    "  \"acceptedDate\" TEXT,\n",
    "  \"period\" TEXT,\n",
    "  \"revenue\" TEXT,\n",
    "  \"costOfRevenue\" TEXT,\n",
    "  \"grossProfit\" TEXT,\n",
    "  \"grossProfitRatio\" REAL,\n",
    "  \"researchAndDevelopmentExpenses\" TEXT,\n",
    "  \"generalAndAdministrativeExpenses\" TEXT,\n",
    "  \"sellingAndMarketingExpenses\" TEXT,\n",
    "  \"otherExpenses\" TEXT,\n",
    "  \"operatingExpenses\" TEXT,\n",
    "  \"costAndExpenses\" TEXT,\n",
    "  \"interestExpense\" TEXT,\n",
    "  \"depreciationAndAmortization\" TEXT,\n",
    "  \"ebitda\" TEXT,\n",
    "  \"ebitdaratio\" REAL,\n",
    "  \"operatingIncome\" TEXT,\n",
    "  \"operatingIncomeRatio\" REAL,\n",
    "  \"totalOtherIncomeExpensesNet\" TEXT,\n",
    "  \"incomeBeforeTax\" TEXT,\n",
    "  \"incomeBeforeTaxRatio\" REAL,\n",
    "  \"incomeTaxExpense\" TEXT,\n",
    "  \"netIncome\" TEXT,\n",
    "  \"netIncomeRatio\" REAL,\n",
    "  \"eps\" REAL,\n",
    "  \"epsdiluted\" REAL,\n",
    "  \"weightedAverageShsOut\" TEXT,\n",
    "  \"weightedAverageShsOutDil\" TEXT,\n",
    "  \"link\" TEXT,\n",
    "  \"finalLink\" TEXT,\n",
    "  PRIMARY KEY (symbol,date)\n",
    ")\"\"\")\n",
    "tab.to_sql(name,con=conn,index=False,if_exists='append')\n",
    "c.execute('select * from '+name+ ' limit 1')\n",
    "print(c.fetchall()[0][0:10],)"
   ]
  },
  {
   "cell_type": "markdown",
   "metadata": {},
   "source": [
    "#### Balance Sheet"
   ]
  },
  {
   "cell_type": "markdown",
   "metadata": {},
   "source": [
    "##### Quarterly"
   ]
  },
  {
   "cell_type": "code",
   "execution_count": 22,
   "metadata": {},
   "outputs": [],
   "source": [
    "name = prefix+'FINANCIAL_STATEMENTS_BALANCE_SHEET_Q'"
   ]
  },
  {
   "cell_type": "code",
   "execution_count": 23,
   "metadata": {},
   "outputs": [
    {
     "name": "stdout",
     "output_type": "stream",
     "text": [
      "CPU times: user 1.23 s, sys: 57.2 ms, total: 1.29 s\n",
      "Wall time: 25.7 s\n"
     ]
    }
   ],
   "source": [
    "%%time\n",
    "url = \"https://financialmodelingprep.com/api/v3/balance-sheet-statement/***TICKER***?period=quarter&limit=1000000000&apikey=\" + apikey\n",
    "tab = get_appended(url,tickers)\n",
    "tab.drop_duplicates(inplace=True)\n",
    "a = pd.io.sql.get_schema(tab,name)\n",
    "#print(a)"
   ]
  },
  {
   "cell_type": "code",
   "execution_count": 24,
   "metadata": {},
   "outputs": [
    {
     "name": "stdout",
     "output_type": "stream",
     "text": [
      "('2020-10-31 00:00:00', 'CRM', 'USD', '2020-12-04', '2020-12-04 08:43:26', 'Q3', '3724000000', '5768000000', '9492000000', '3316000000')\n"
     ]
    }
   ],
   "source": [
    "c.execute('drop table if exists '+name)\n",
    "c.execute(\"\"\"\n",
    "CREATE TABLE \"CVALUATION__FINANCIAL_STATEMENTS_BALANCE_SHEET_Q\" (\n",
    "  \"date\" TEXT,\n",
    "  \"symbol\" TEXT,\n",
    "  \"reportedCurrency\" TEXT,\n",
    "  \"fillingDate\" TEXT,\n",
    "  \"acceptedDate\" TEXT,\n",
    "  \"period\" TEXT,\n",
    "  \"cashAndCashEquivalents\" TEXT,\n",
    "  \"shortTermInvestments\" TEXT,\n",
    "  \"cashAndShortTermInvestments\" TEXT,\n",
    "  \"netReceivables\" TEXT,\n",
    "  \"inventory\" REAL,\n",
    "  \"otherCurrentAssets\" REAL,\n",
    "  \"totalCurrentAssets\" TEXT,\n",
    "  \"propertyPlantEquipmentNet\" TEXT,\n",
    "  \"goodwill\" TEXT,\n",
    "  \"intangibleAssets\" TEXT,\n",
    "  \"goodwillAndIntangibleAssets\" TEXT,\n",
    "  \"longTermInvestments\" REAL,\n",
    "  \"taxAssets\" TEXT,\n",
    "  \"otherNonCurrentAssets\" REAL,\n",
    "  \"totalNonCurrentAssets\" TEXT,\n",
    "  \"otherAssets\" REAL,\n",
    "  \"totalAssets\" TEXT,\n",
    "  \"accountPayables\" TEXT,\n",
    "  \"shortTermDebt\" TEXT,\n",
    "  \"taxPayables\" REAL,\n",
    "  \"deferredRevenue\" TEXT,\n",
    "  \"otherCurrentLiabilities\" TEXT,\n",
    "  \"totalCurrentLiabilities\" TEXT,\n",
    "  \"longTermDebt\" TEXT,\n",
    "  \"deferredRevenueNonCurrent\" REAL,\n",
    "  \"deferredTaxLiabilitiesNonCurrent\" REAL,\n",
    "  \"otherNonCurrentLiabilities\" TEXT,\n",
    "  \"totalNonCurrentLiabilities\" TEXT,\n",
    "  \"otherLiabilities\" TEXT,\n",
    "  \"totalLiabilities\" TEXT,\n",
    "  \"commonStock\" REAL,\n",
    "  \"retainedEarnings\" TEXT,\n",
    "  \"accumulatedOtherComprehensiveIncomeLoss\" REAL,\n",
    "  \"othertotalStockholdersEquity\" REAL,\n",
    "  \"totalStockholdersEquity\" TEXT,\n",
    "  \"totalLiabilitiesAndStockholdersEquity\" TEXT,\n",
    "  \"totalInvestments\" REAL,\n",
    "  \"totalDebt\" TEXT,\n",
    "  \"netDebt\" TEXT,\n",
    "  \"link\" TEXT,\n",
    "  \"finalLink\" TEXT,\n",
    "  PRIMARY KEY (symbol,date)\n",
    ")\"\"\")\n",
    "tab.to_sql(name,con=conn,index=False,if_exists='append')\n",
    "c.execute('select * from '+name+ ' limit 1')\n",
    "print(c.fetchall()[0][0:10],)"
   ]
  },
  {
   "cell_type": "markdown",
   "metadata": {},
   "source": [
    "##### Yearly"
   ]
  },
  {
   "cell_type": "code",
   "execution_count": 25,
   "metadata": {},
   "outputs": [],
   "source": [
    "name = prefix+'FINANCIAL_STATEMENTS_BALANCE_SHEET_Y'"
   ]
  },
  {
   "cell_type": "code",
   "execution_count": 26,
   "metadata": {},
   "outputs": [
    {
     "name": "stdout",
     "output_type": "stream",
     "text": [
      "CPU times: user 1.15 s, sys: 36.1 ms, total: 1.19 s\n",
      "Wall time: 15 s\n"
     ]
    }
   ],
   "source": [
    "%%time\n",
    "url = \"https://financialmodelingprep.com/api/v3/balance-sheet-statement/***TICKER***?limit=1000000000&apikey=\" + apikey\n",
    "tab = get_appended(url,tickers)\n",
    "tab.drop_duplicates(inplace=True)\n",
    "a = pd.io.sql.get_schema(tab,name)\n",
    "#print(a)"
   ]
  },
  {
   "cell_type": "code",
   "execution_count": 27,
   "metadata": {},
   "outputs": [
    {
     "name": "stdout",
     "output_type": "stream",
     "text": [
      "('2020-01-31 00:00:00', 'CRM', 'USD', '2020-03-05 00:00:00', '2020-03-05 16:29:57', 'FY', '4145000000', '3802000000', '7947000000', '6174000000')\n"
     ]
    }
   ],
   "source": [
    "c.execute('drop table if exists '+name)\n",
    "c.execute(\"\"\"\n",
    "CREATE TABLE \"CVALUATION__FINANCIAL_STATEMENTS_BALANCE_SHEET_Y\" (\n",
    "  \"date\" TEXT,\n",
    "  \"symbol\" TEXT,\n",
    "  \"reportedCurrency\" TEXT,\n",
    "  \"fillingDate\" TEXT,\n",
    "  \"acceptedDate\" TEXT,\n",
    "  \"period\" TEXT,\n",
    "  \"cashAndCashEquivalents\" TEXT,\n",
    "  \"shortTermInvestments\" TEXT,\n",
    "  \"cashAndShortTermInvestments\" TEXT,\n",
    "  \"netReceivables\" TEXT,\n",
    "  \"inventory\" REAL,\n",
    "  \"otherCurrentAssets\" REAL,\n",
    "  \"totalCurrentAssets\" TEXT,\n",
    "  \"propertyPlantEquipmentNet\" TEXT,\n",
    "  \"goodwill\" TEXT,\n",
    "  \"intangibleAssets\" TEXT,\n",
    "  \"goodwillAndIntangibleAssets\" TEXT,\n",
    "  \"longTermInvestments\" REAL,\n",
    "  \"taxAssets\" TEXT,\n",
    "  \"otherNonCurrentAssets\" REAL,\n",
    "  \"totalNonCurrentAssets\" TEXT,\n",
    "  \"otherAssets\" REAL,\n",
    "  \"totalAssets\" TEXT,\n",
    "  \"accountPayables\" TEXT,\n",
    "  \"shortTermDebt\" TEXT,\n",
    "  \"taxPayables\" REAL,\n",
    "  \"deferredRevenue\" TEXT,\n",
    "  \"otherCurrentLiabilities\" TEXT,\n",
    "  \"totalCurrentLiabilities\" TEXT,\n",
    "  \"longTermDebt\" TEXT,\n",
    "  \"deferredRevenueNonCurrent\" REAL,\n",
    "  \"deferredTaxLiabilitiesNonCurrent\" REAL,\n",
    "  \"otherNonCurrentLiabilities\" TEXT,\n",
    "  \"totalNonCurrentLiabilities\" TEXT,\n",
    "  \"otherLiabilities\" TEXT,\n",
    "  \"totalLiabilities\" TEXT,\n",
    "  \"commonStock\" REAL,\n",
    "  \"retainedEarnings\" TEXT,\n",
    "  \"accumulatedOtherComprehensiveIncomeLoss\" REAL,\n",
    "  \"othertotalStockholdersEquity\" REAL,\n",
    "  \"totalStockholdersEquity\" TEXT,\n",
    "  \"totalLiabilitiesAndStockholdersEquity\" TEXT,\n",
    "  \"totalInvestments\" REAL,\n",
    "  \"totalDebt\" TEXT,\n",
    "  \"netDebt\" TEXT,\n",
    "  \"link\" TEXT,\n",
    "  \"finalLink\" TEXT,\n",
    "  PRIMARY KEY (symbol,date)\n",
    ")\"\"\")\n",
    "tab.to_sql(name,con=conn,index=False,if_exists='append')\n",
    "c.execute('select * from '+name+ ' limit 1')\n",
    "print(c.fetchall()[0][0:10],)"
   ]
  },
  {
   "cell_type": "markdown",
   "metadata": {},
   "source": [
    "#### Cash Flow Statement"
   ]
  },
  {
   "cell_type": "markdown",
   "metadata": {},
   "source": [
    "##### Quarterly"
   ]
  },
  {
   "cell_type": "code",
   "execution_count": 28,
   "metadata": {},
   "outputs": [],
   "source": [
    "name = prefix+'FINANCIAL_STATEMENTS_CASH_FLOW_Q'"
   ]
  },
  {
   "cell_type": "code",
   "execution_count": 29,
   "metadata": {},
   "outputs": [
    {
     "name": "stdout",
     "output_type": "stream",
     "text": [
      "CPU times: user 1.12 s, sys: 66.3 ms, total: 1.18 s\n",
      "Wall time: 26.6 s\n"
     ]
    }
   ],
   "source": [
    "%%time\n",
    "url = \"https://financialmodelingprep.com/api/v3/cash-flow-statement/***TICKER***?period=quarter&limit=1000000000&apikey=\" + apikey\n",
    "tab = get_appended(url,tickers)\n",
    "tab.drop_duplicates(inplace=True)\n",
    "a = pd.io.sql.get_schema(tab,name)\n",
    "#print(a)"
   ]
  },
  {
   "cell_type": "code",
   "execution_count": 30,
   "metadata": {},
   "outputs": [
    {
     "name": "stdout",
     "output_type": "stream",
     "text": [
      "('2020-10-31 00:00:00', 'CRM', 'USD', '2020-12-04', '2020-12-04 08:43:26', 'Q3', '1081000000.0', '670000000.0', 0.0, '566000000')\n"
     ]
    }
   ],
   "source": [
    "c.execute('drop table if exists '+name)\n",
    "c.execute(\"\"\"\n",
    "CREATE TABLE \"CVALUATION__FINANCIAL_STATEMENTS_CASH_FLOW_Q\" (\n",
    "  \"date\" TEXT,\n",
    "  \"symbol\" TEXT,\n",
    "  \"reportedCurrency\" TEXT,\n",
    "  \"fillingDate\" TEXT,\n",
    "  \"acceptedDate\" TEXT,\n",
    "  \"period\" TEXT,\n",
    "  \"netIncome\" TEXT,\n",
    "  \"depreciationAndAmortization\" TEXT,\n",
    "  \"deferredIncomeTax\" REAL,\n",
    "  \"stockBasedCompensation\" TEXT,\n",
    "  \"changeInWorkingCapital\" TEXT,\n",
    "  \"accountsReceivables\" TEXT,\n",
    "  \"inventory\" REAL,\n",
    "  \"accountsPayables\" TEXT,\n",
    "  \"otherWorkingCapital\" TEXT,\n",
    "  \"otherNonCashItems\" TEXT,\n",
    "  \"netCashProvidedByOperatingActivities\" TEXT,\n",
    "  \"investmentsInPropertyPlantAndEquipment\" REAL,\n",
    "  \"acquisitionsNet\" REAL,\n",
    "  \"purchasesOfInvestments\" TEXT,\n",
    "  \"salesMaturitiesOfInvestments\" TEXT,\n",
    "  \"otherInvestingActivites\" REAL,\n",
    "  \"netCashUsedForInvestingActivites\" REAL,\n",
    "  \"debtRepayment\" TEXT,\n",
    "  \"commonStockIssued\" REAL,\n",
    "  \"commonStockRepurchased\" REAL,\n",
    "  \"dividendsPaid\" REAL,\n",
    "  \"otherFinancingActivites\" REAL,\n",
    "  \"netCashUsedProvidedByFinancingActivities\" REAL,\n",
    "  \"effectOfForexChangesOnCash\" REAL,\n",
    "  \"netChangeInCash\" TEXT,\n",
    "  \"cashAtEndOfPeriod\" TEXT,\n",
    "  \"cashAtBeginningOfPeriod\" TEXT,\n",
    "  \"operatingCashFlow\" TEXT,\n",
    "  \"capitalExpenditure\" TEXT,\n",
    "  \"freeCashFlow\" TEXT,\n",
    "  \"link\" TEXT,\n",
    "  \"finalLink\" TEXT,\n",
    "  PRIMARY KEY (symbol,date)\n",
    ")\"\"\")\n",
    "tab.to_sql(name,con=conn,index=False,if_exists='append')\n",
    "c.execute('select * from '+name+ ' limit 1')\n",
    "print(c.fetchall()[0][0:10],)"
   ]
  },
  {
   "cell_type": "markdown",
   "metadata": {},
   "source": [
    "### Yearly"
   ]
  },
  {
   "cell_type": "code",
   "execution_count": 31,
   "metadata": {},
   "outputs": [],
   "source": [
    "name = prefix+'FINANCIAL_STATEMENTS_CASH_FLOW_Y'"
   ]
  },
  {
   "cell_type": "code",
   "execution_count": 32,
   "metadata": {},
   "outputs": [
    {
     "name": "stdout",
     "output_type": "stream",
     "text": [
      "CPU times: user 1.02 s, sys: 38.1 ms, total: 1.05 s\n",
      "Wall time: 14.1 s\n"
     ]
    }
   ],
   "source": [
    "%%time\n",
    "url = \"https://financialmodelingprep.com/api/v3/cash-flow-statement/***TICKER***?limit=1000000000&apikey=\" + apikey\n",
    "tab = get_appended(url,tickers)\n",
    "tab.drop_duplicates(inplace=True)\n",
    "a = pd.io.sql.get_schema(tab,name)\n",
    "#print(a)"
   ]
  },
  {
   "cell_type": "code",
   "execution_count": 33,
   "metadata": {},
   "outputs": [
    {
     "name": "stdout",
     "output_type": "stream",
     "text": [
      "('2020-01-31 00:00:00', 'CRM', 'USD', '2020-03-05 00:00:00', '2020-03-05 16:29:57', 'FY', '126000000', '2135000000', 0.0, '1785000000')\n"
     ]
    }
   ],
   "source": [
    "c.execute('drop table if exists '+name)\n",
    "c.execute(\"\"\"\n",
    "CREATE TABLE \"CVALUATION__FINANCIAL_STATEMENTS_CASH_FLOW_Y\" (\n",
    "  \"date\" TEXT,\n",
    "  \"symbol\" TEXT,\n",
    "  \"reportedCurrency\" TEXT,\n",
    "  \"fillingDate\" TEXT,\n",
    "  \"acceptedDate\" TEXT,\n",
    "  \"period\" TEXT,\n",
    "  \"netIncome\" TEXT,\n",
    "  \"depreciationAndAmortization\" TEXT,\n",
    "  \"deferredIncomeTax\" REAL,\n",
    "  \"stockBasedCompensation\" TEXT,\n",
    "  \"changeInWorkingCapital\" TEXT,\n",
    "  \"accountsReceivables\" TEXT,\n",
    "  \"inventory\" REAL,\n",
    "  \"accountsPayables\" TEXT,\n",
    "  \"otherWorkingCapital\" TEXT,\n",
    "  \"otherNonCashItems\" TEXT,\n",
    "  \"netCashProvidedByOperatingActivities\" TEXT,\n",
    "  \"investmentsInPropertyPlantAndEquipment\" REAL,\n",
    "  \"acquisitionsNet\" REAL,\n",
    "  \"purchasesOfInvestments\" TEXT,\n",
    "  \"salesMaturitiesOfInvestments\" TEXT,\n",
    "  \"otherInvestingActivites\" REAL,\n",
    "  \"netCashUsedForInvestingActivites\" REAL,\n",
    "  \"debtRepayment\" TEXT,\n",
    "  \"commonStockIssued\" REAL,\n",
    "  \"commonStockRepurchased\" REAL,\n",
    "  \"dividendsPaid\" REAL,\n",
    "  \"otherFinancingActivites\" REAL,\n",
    "  \"netCashUsedProvidedByFinancingActivities\" REAL,\n",
    "  \"effectOfForexChangesOnCash\" REAL,\n",
    "  \"netChangeInCash\" TEXT,\n",
    "  \"cashAtEndOfPeriod\" TEXT,\n",
    "  \"cashAtBeginningOfPeriod\" TEXT,\n",
    "  \"operatingCashFlow\" TEXT,\n",
    "  \"capitalExpenditure\" TEXT,\n",
    "  \"freeCashFlow\" TEXT,\n",
    "  \"link\" TEXT,\n",
    "  \"finalLink\" TEXT,\n",
    "  PRIMARY KEY (symbol,date)\n",
    ")\"\"\")\n",
    "tab.to_sql(name,con=conn,index=False,if_exists='append')\n",
    "c.execute('select * from '+name+ ' limit 1')\n",
    "print(c.fetchall()[0][0:10],)"
   ]
  },
  {
   "cell_type": "markdown",
   "metadata": {},
   "source": [
    "### !!!Out for now: Financial Statements List"
   ]
  },
  {
   "cell_type": "markdown",
   "metadata": {},
   "source": [
    "### Growth statements (Annual)"
   ]
  },
  {
   "cell_type": "markdown",
   "metadata": {},
   "source": [
    "#### Income "
   ]
  },
  {
   "cell_type": "code",
   "execution_count": 34,
   "metadata": {},
   "outputs": [],
   "source": [
    "name = prefix+'GROWTH_STATEMENTS_INCOME_Y'"
   ]
  },
  {
   "cell_type": "code",
   "execution_count": 35,
   "metadata": {},
   "outputs": [
    {
     "name": "stdout",
     "output_type": "stream",
     "text": [
      "CPU times: user 938 ms, sys: 39.6 ms, total: 977 ms\n",
      "Wall time: 14.3 s\n"
     ]
    }
   ],
   "source": [
    "%%time\n",
    "url = \"https://financialmodelingprep.com/api/v3/income-statement-growth/***TICKER***?limit=1000000000&apikey=\" + apikey\n",
    "tab = get_appended(url,tickers)\n",
    "tab.drop_duplicates(inplace=True)\n",
    "a = pd.io.sql.get_schema(tab,name)\n",
    "#print(a)"
   ]
  },
  {
   "cell_type": "code",
   "execution_count": 36,
   "metadata": {},
   "outputs": [
    {
     "name": "stdout",
     "output_type": "stream",
     "text": [
      "('2020-01-31 00:00:00', 'CRM', 'FY', 0.287306128595091, 0.22718052738336703, 0.308412165598616, 0.016394771506738, 0.46659597030752903, 0.29800027968116305, 0.307717678100263)\n"
     ]
    }
   ],
   "source": [
    "c.execute('drop table if exists '+name)\n",
    "c.execute(\"\"\"\n",
    "CREATE TABLE \"CVALUATION__GROWTH_STATEMENTS_INCOME_Y\" (\n",
    "  \"date\" TEXT,\n",
    "  \"symbol\" TEXT,\n",
    "  \"period\" TEXT,\n",
    "  \"growthRevenue\" REAL,\n",
    "  \"growthCostOfRevenue\" REAL,\n",
    "  \"growthGrossProfit\" REAL,\n",
    "  \"growthGrossProfitRatio\" REAL,\n",
    "  \"growthResearchAndDevelopmentExpenses\" REAL,\n",
    "  \"growthGeneralAndAdministrativeExpenses\" REAL,\n",
    "  \"growthSellingAndMarketingExpenses\" REAL,\n",
    "  \"growthOtherExpenses\" REAL,\n",
    "  \"growthOperatingExpenses\" REAL,\n",
    "  \"growthCostAndExpenses\" REAL,\n",
    "  \"growthInterestExpense\" REAL,\n",
    "  \"growthDepreciationAndAmortization\" REAL,\n",
    "  \"growthEBITDA\" REAL,\n",
    "  \"growthEBITDARatio\" REAL,\n",
    "  \"growthOperatingIncome\" REAL,\n",
    "  \"growthOperatingIncomeRatio\" REAL,\n",
    "  \"growthTotalOtherIncomeExpensesNet\" REAL,\n",
    "  \"growthIncomeBeforeTax\" REAL,\n",
    "  \"growthIncomeBeforeTaxRatio\" REAL,\n",
    "  \"growthIncomeTaxExpense\" REAL,\n",
    "  \"growthNetIncome\" REAL,\n",
    "  \"growthNetIncomeRatio\" REAL,\n",
    "  \"growthEPS\" REAL,\n",
    "  \"growthEPSDiluted\" REAL,\n",
    "  \"growthWeightedAverageShsOut\" REAL,\n",
    "  \"growthWeightedAverageShsOutDil\" REAL,\n",
    "  PRIMARY KEY (symbol,date)\n",
    ")\"\"\")\n",
    "\n",
    "tab.to_sql(name,con=conn,index=False,if_exists='append')\n",
    "c.execute('select * from '+name+ ' limit 1')\n",
    "print(c.fetchall()[0][0:10],)"
   ]
  },
  {
   "cell_type": "markdown",
   "metadata": {},
   "source": [
    "#### Balance Sheet"
   ]
  },
  {
   "cell_type": "code",
   "execution_count": 37,
   "metadata": {},
   "outputs": [],
   "source": [
    "name = prefix+'GROWTH_STATEMENTS_BALANCE_SHEET_Y'"
   ]
  },
  {
   "cell_type": "code",
   "execution_count": 38,
   "metadata": {},
   "outputs": [
    {
     "name": "stdout",
     "output_type": "stream",
     "text": [
      "CPU times: user 1.12 s, sys: 40.7 ms, total: 1.16 s\n",
      "Wall time: 15.1 s\n"
     ]
    }
   ],
   "source": [
    "%%time\n",
    "url = \"https://financialmodelingprep.com/api/v3/balance-sheet-statement-growth/***TICKER***?limit=1000000000&apikey=\" + apikey\n",
    "tab = get_appended(url,tickers)\n",
    "tab.drop_duplicates(inplace=True)\n",
    "a = pd.io.sql.get_schema(tab,name)\n",
    "#print(a)"
   ]
  },
  {
   "cell_type": "code",
   "execution_count": 39,
   "metadata": {},
   "outputs": [
    {
     "name": "stdout",
     "output_type": "stream",
     "text": [
      "('2020-01-31 00:00:00', 'CRM', 'FY', 0.553016110902959, 1.272564255827854, 0.8302625518194381, 0.242997198879551, 0.0, 0.45627980922098504, 0.494243190115136)\n"
     ]
    }
   ],
   "source": [
    "c.execute('drop table if exists '+name)\n",
    "c.execute(\"\"\"\n",
    "CREATE TABLE \"CVALUATION__GROWTH_STATEMENTS_BALANCE_SHEET_Y\" (\n",
    "\"date\" TEXT,\n",
    "  \"symbol\" TEXT,\n",
    "  \"period\" TEXT,\n",
    "  \"growthCashAndCashEquivalents\" REAL,\n",
    "  \"growthShortTermInvestments\" REAL,\n",
    "  \"growthCashAndShortTermInvestments\" REAL,\n",
    "  \"growthNetReceivables\" REAL,\n",
    "  \"growthInventory\" REAL,\n",
    "  \"growthOtherCurrentAssets\" REAL,\n",
    "  \"growthTotalCurrentAssets\" REAL,\n",
    "  \"growthPropertyPlantEquipmentNet\" REAL,\n",
    "  \"growthGoodwill\" REAL,\n",
    "  \"growthIntangibleAssets\" REAL,\n",
    "  \"growthGoodwillAndIntangibleAssets\" REAL,\n",
    "  \"growthLongTermInvestments\" REAL,\n",
    "  \"growthTaxAssets\" REAL,\n",
    "  \"growthOtherNonCurrentAssets\" REAL,\n",
    "  \"growthTotalNonCurrentAssets\" REAL,\n",
    "  \"growthOtherAssets\" REAL,\n",
    "  \"growthTotalAssets\" REAL,\n",
    "  \"growthAccountPayables\" REAL,\n",
    "  \"growthShortTermDebt\" REAL,\n",
    "  \"growthTaxPayables\" REAL,\n",
    "  \"growthDeferredRevenue\" REAL,\n",
    "  \"growthOtherCurrentLiabilities\" REAL,\n",
    "  \"growthTotalCurrentLiabilities\" REAL,\n",
    "  \"growthLongTermDebt\" REAL,\n",
    "  \"growthDeferredRevenueNonCurrent\" REAL,\n",
    "  \"growthDeferrredTaxLiabilitiesNonCurrent\" REAL,\n",
    "  \"growthOtherNonCurrentLiabilities\" REAL,\n",
    "  \"growthTotalNonCurrentLiabilities\" REAL,\n",
    "  \"growthOtherLiabilities\" REAL,\n",
    "  \"growthTotalLiabilities\" REAL,\n",
    "  \"growthCommonStock\" REAL,\n",
    "  \"growthRetainedEarnings\" REAL,\n",
    "  \"growthAccumulatedOtherComprehensiveIncomeLoss\" REAL,\n",
    "  \"growthOthertotalStockholdersEquity\" REAL,\n",
    "  \"growthTotalStockholdersEquity\" REAL,\n",
    "  \"growthTotalLiabilitiesAndStockholdersEquity\" REAL,\n",
    "  \"growthTotalInvestments\" REAL,\n",
    "  \"growthTotalDebt\" REAL,\n",
    "  \"growthNetDebt\" REAL,\n",
    "  PRIMARY KEY (symbol,date)\n",
    ")\"\"\")\n",
    "\n",
    "tab.to_sql(name,con=conn,index=False,if_exists='append')\n",
    "c.execute('select * from '+name+ ' limit 1')\n",
    "print(c.fetchall()[0][0:10],)"
   ]
  },
  {
   "cell_type": "markdown",
   "metadata": {},
   "source": [
    "#### Cash Flow"
   ]
  },
  {
   "cell_type": "code",
   "execution_count": 40,
   "metadata": {},
   "outputs": [],
   "source": [
    "name = prefix+'GROWTH_STATEMENTS_CASH_FLOW_Y'"
   ]
  },
  {
   "cell_type": "code",
   "execution_count": 41,
   "metadata": {},
   "outputs": [
    {
     "name": "stdout",
     "output_type": "stream",
     "text": [
      "CREATE TABLE \"CVALUATION__GROWTH_STATEMENTS_CASH_FLOW_Y\" (\n",
      "\"date\" TIMESTAMP,\n",
      "  \"symbol\" TEXT,\n",
      "  \"period\" TEXT,\n",
      "  \"growthNetIncome\" REAL,\n",
      "  \"growthDepreciationAndAmortization\" REAL,\n",
      "  \"growthDeferredIncomeTax\" REAL,\n",
      "  \"growthStockBasedCompensation\" REAL,\n",
      "  \"growthChangeInWorkingCapital\" REAL,\n",
      "  \"growthAccountsReceivables\" REAL,\n",
      "  \"growthInventory\" REAL,\n",
      "  \"growthAccountsPayables\" REAL,\n",
      "  \"growthOtherWorkingCapital\" REAL,\n",
      "  \"growthOtherNonCashItems\" REAL,\n",
      "  \"growthNetCashProvidedByOperatingActivites\" REAL,\n",
      "  \"growthInvestmentsInPropertyPlantAndEquipment\" REAL,\n",
      "  \"growthAcquisitionsNet\" REAL,\n",
      "  \"growthPurchasesOfInvestments\" REAL,\n",
      "  \"growthSalesMaturitiesOfInvestments\" REAL,\n",
      "  \"growthOtherInvestingActivites\" REAL,\n",
      "  \"growthNetCashUsedForInvestingActivites\" REAL,\n",
      "  \"growthDebtRepayment\" REAL,\n",
      "  \"growthCommonStockIssued\" REAL,\n",
      "  \"growthCommonStockRepurchased\" REAL,\n",
      "  \"growthDividendsPaid\" REAL,\n",
      "  \"growthOtherFinancingActivites\" REAL,\n",
      "  \"growthNetCashUsedProvidedByFinancingActivities\" REAL,\n",
      "  \"growthEffectOfForexChangesOnCash\" REAL,\n",
      "  \"growthNetChangeInCash\" REAL,\n",
      "  \"growthCashAtEndOfPeriod\" REAL,\n",
      "  \"growthCashAtBeginningOfPeriod\" REAL,\n",
      "  \"growthOperatingCashFlow\" REAL,\n",
      "  \"growthCapitalExpenditure\" REAL,\n",
      "  \"growthFreeCashFlow\" REAL\n",
      ")\n",
      "CPU times: user 1 s, sys: 35.5 ms, total: 1.04 s\n",
      "Wall time: 13.5 s\n"
     ]
    }
   ],
   "source": [
    "%%time\n",
    "url = \"https://financialmodelingprep.com/api/v3/cash-flow-statement-growth/***TICKER***?limit=1000000000&apikey=\" + apikey\n",
    "tab = get_appended(url,tickers)\n",
    "tab.drop_duplicates(inplace=True)\n",
    "a = pd.io.sql.get_schema(tab,name)\n",
    "print(a)"
   ]
  },
  {
   "cell_type": "code",
   "execution_count": 42,
   "metadata": {},
   "outputs": [
    {
     "name": "stdout",
     "output_type": "stream",
     "text": [
      "('2020-01-31 00:00:00', 'CRM', 'FY', -0.8864864864864861, 1.219334719334719, 0.0, -0.8409976617303191, -19.98876404494382, 0.08342361863488601, 0.0)\n"
     ]
    }
   ],
   "source": [
    "c.execute('drop table if exists '+name)\n",
    "c.execute(\"\"\"\n",
    "CREATE TABLE \"CVALUATION__GROWTH_STATEMENTS_CASH_FLOW_Y\" (\n",
    "\"date\" TEXT,\n",
    "  \"symbol\" TEXT,\n",
    "  \"period\" TEXT,\n",
    "  \"growthNetIncome\" REAL,\n",
    "  \"growthDepreciationAndAmortization\" REAL,\n",
    "  \"growthDeferredIncomeTax\" REAL,\n",
    "  \"growthStockBasedCompensation\" REAL,\n",
    "  \"growthChangeInWorkingCapital\" REAL,\n",
    "  \"growthAccountsReceivables\" REAL,\n",
    "  \"growthInventory\" REAL,\n",
    "  \"growthAccountsPayables\" REAL,\n",
    "  \"growthOtherWorkingCapital\" REAL,\n",
    "  \"growthOtherNonCashItems\" REAL,\n",
    "  \"growthNetCashProvidedByOperatingActivites\" REAL,\n",
    "  \"growthInvestmentsInPropertyPlantAndEquipment\" REAL,\n",
    "  \"growthAcquisitionsNet\" REAL,\n",
    "  \"growthPurchasesOfInvestments\" REAL,\n",
    "  \"growthSalesMaturitiesOfInvestments\" REAL,\n",
    "  \"growthOtherInvestingActivites\" REAL,\n",
    "  \"growthNetCashUsedForInvestingActivites\" REAL,\n",
    "  \"growthDebtRepayment\" REAL,\n",
    "  \"growthCommonStockIssued\" REAL,\n",
    "  \"growthCommonStockRepurchased\" REAL,\n",
    "  \"growthDividendsPaid\" REAL,\n",
    "  \"growthOtherFinancingActivites\" REAL,\n",
    "  \"growthNetCashUsedProvidedByFinancingActivities\" REAL,\n",
    "  \"growthEffectOfForexChangesOnCash\" REAL,\n",
    "  \"growthNetChangeInCash\" REAL,\n",
    "  \"growthCashAtEndOfPeriod\" REAL,\n",
    "  \"growthCashAtBeginningOfPeriod\" REAL,\n",
    "  \"growthOperatingCashFlow\" REAL,\n",
    "  \"growthCapitalExpenditure\" REAL,\n",
    "  \"growthFreeCashFlow\" REAL,\n",
    "  PRIMARY KEY (symbol,date)\n",
    ")\"\"\")\n",
    "\n",
    "tab.to_sql(name,con=conn,index=False,if_exists='append')\n",
    "c.execute('select * from '+name+ ' limit 1')\n",
    "print(c.fetchall()[0][0:10],)"
   ]
  },
  {
   "cell_type": "markdown",
   "metadata": {},
   "source": [
    "### !!!Out for now: International Filings"
   ]
  },
  {
   "cell_type": "markdown",
   "metadata": {},
   "source": [
    "### !!!Out for now: Financial Statements As Reported"
   ]
  },
  {
   "cell_type": "markdown",
   "metadata": {},
   "source": [
    "### Financial Ratios"
   ]
  },
  {
   "cell_type": "markdown",
   "metadata": {},
   "source": [
    "##### Quarterly"
   ]
  },
  {
   "cell_type": "code",
   "execution_count": 43,
   "metadata": {},
   "outputs": [],
   "source": [
    "name = prefix+'FINANCIAL_RATIOS_Q'"
   ]
  },
  {
   "cell_type": "code",
   "execution_count": 44,
   "metadata": {},
   "outputs": [
    {
     "name": "stdout",
     "output_type": "stream",
     "text": [
      "CPU times: user 1.33 s, sys: 98.3 ms, total: 1.43 s\n",
      "Wall time: 46.3 s\n"
     ]
    }
   ],
   "source": [
    "%%time\n",
    "url = \"https://financialmodelingprep.com/api/v3/ratios/***TICKER***?period=quarter&limit=1000000000&apikey=\" + apikey\n",
    "tab = get_appended(url,tickers)\n",
    "tab.drop_duplicates(inplace=True)\n",
    "a = pd.io.sql.get_schema(tab,name)\n",
    "#print(a)"
   ]
  },
  {
   "cell_type": "code",
   "execution_count": 45,
   "metadata": {},
   "outputs": [
    {
     "name": "stdout",
     "output_type": "stream",
     "text": [
      "('CRM', '2020-10-31 00:00:00', 1.221677292790583, 1.046918424064083, 0.304397580513323, 223.35117180291567, 0.0, 55.07289167743126, 226.29124820659973, -171.2183565291685)\n"
     ]
    }
   ],
   "source": [
    "c.execute('drop table if exists '+name)\n",
    "c.execute(\"\"\"\n",
    "CREATE TABLE \"CVALUATION__FINANCIAL_RATIOS_Q\" (\n",
    "\"symbol\" TEXT,\n",
    "  \"date\" TEXT,\n",
    "  \"currentRatio\" REAL,\n",
    "  \"quickRatio\" REAL,\n",
    "  \"cashRatio\" REAL,\n",
    "  \"daysOfSalesOutstanding\" REAL,\n",
    "  \"daysOfInventoryOutstanding\" REAL,\n",
    "  \"operatingCycle\" REAL,\n",
    "  \"daysOfPayablesOutstanding\" REAL,\n",
    "  \"cashConversionCycle\" REAL,\n",
    "  \"grossProfitMargin\" REAL,\n",
    "  \"operatingProfitMargin\" REAL,\n",
    "  \"pretaxProfitMargin\" REAL,\n",
    "  \"netProfitMargin\" REAL,\n",
    "  \"effectiveTaxRate\" REAL,\n",
    "  \"returnOnAssets\" REAL,\n",
    "  \"returnOnEquity\" REAL,\n",
    "  \"returnOnCapitalEmployed\" REAL,\n",
    "  \"netIncomePerEBT\" REAL,\n",
    "  \"ebtPerEbit\" REAL,\n",
    "  \"ebitPerRevenue\" REAL,\n",
    "  \"debtRatio\" REAL,\n",
    "  \"debtEquityRatio\" REAL,\n",
    "  \"longTermDebtToCapitalization\" REAL,\n",
    "  \"totalDebtToCapitalization\" REAL,\n",
    "  \"interestCoverage\" REAL,\n",
    "  \"cashFlowToDebtRatio\" REAL,\n",
    "  \"companyEquityMultiplier\" REAL,\n",
    "  \"receivablesTurnover\" REAL,\n",
    "  \"payablesTurnover\" REAL,\n",
    "  \"inventoryTurnover\" REAL,\n",
    "  \"fixedAssetTurnover\" REAL,\n",
    "  \"assetTurnover\" REAL,\n",
    "  \"operatingCashFlowPerShare\" REAL,\n",
    "  \"freeCashFlowPerShare\" REAL,\n",
    "  \"cashPerShare\" REAL,\n",
    "  \"payoutRatio\" REAL,\n",
    "  \"operatingCashFlowSalesRatio\" REAL,\n",
    "  \"freeCashFlowOperatingCashFlowRatio\" REAL,\n",
    "  \"cashFlowCoverageRatios\" REAL,\n",
    "  \"shortTermCoverageRatios\" REAL,\n",
    "  \"capitalExpenditureCoverageRatio\" REAL,\n",
    "  \"dividendPaidAndCapexCoverageRatio\" REAL,\n",
    "  \"dividendPayoutRatio\" REAL,\n",
    "  \"priceBookValueRatio\" REAL,\n",
    "  \"priceToBookRatio\" REAL,\n",
    "  \"priceToSalesRatio\" REAL,\n",
    "  \"priceEarningsRatio\" REAL,\n",
    "  \"priceToFreeCashFlowsRatio\" REAL,\n",
    "  \"priceToOperatingCashFlowsRatio\" REAL,\n",
    "  \"priceCashFlowRatio\" REAL,\n",
    "  \"priceEarningsToGrowthRatio\" REAL,\n",
    "  \"priceSalesRatio\" REAL,\n",
    "  \"dividendYield\" REAL,\n",
    "  \"enterpriseValueMultiple\" REAL,\n",
    "  \"priceFairValue\" REAL,\n",
    "  PRIMARY KEY (symbol,date)\n",
    ")\"\"\")\n",
    "\n",
    "tab.to_sql(name,con=conn,index=False,if_exists='append')\n",
    "c.execute('select * from '+name+ ' limit 1')\n",
    "print(c.fetchall()[0][0:10],)"
   ]
  },
  {
   "cell_type": "markdown",
   "metadata": {},
   "source": [
    "##### Yearly"
   ]
  },
  {
   "cell_type": "code",
   "execution_count": 46,
   "metadata": {},
   "outputs": [],
   "source": [
    "name = prefix+'FINANCIAL_RATIOS_Y'"
   ]
  },
  {
   "cell_type": "code",
   "execution_count": 47,
   "metadata": {},
   "outputs": [
    {
     "name": "stdout",
     "output_type": "stream",
     "text": [
      "CPU times: user 1.25 s, sys: 47.9 ms, total: 1.3 s\n",
      "Wall time: 25.3 s\n"
     ]
    }
   ],
   "source": [
    "%%time\n",
    "url = \"https://financialmodelingprep.com/api/v3/ratios/***TICKER***?limit=1000000000&apikey=\" + apikey\n",
    "tab = get_appended(url,tickers)\n",
    "tab.drop_duplicates(inplace=True)\n",
    "a = pd.io.sql.get_schema(tab,name)\n",
    "#print(a)"
   ]
  },
  {
   "cell_type": "code",
   "execution_count": 48,
   "metadata": {},
   "outputs": [
    {
     "name": "stdout",
     "output_type": "stream",
     "text": [
      "('CRM', '2020-01-31 00:00:00', 1.07531155271135, 0.9512293701583021, 0.27921859211855804, 131.79962568721487, 0.0, 131.79962568721487, 295.87839433293976, -164.0787686457249)\n"
     ]
    }
   ],
   "source": [
    "c.execute('drop table if exists '+name)\n",
    "c.execute(\"\"\"\n",
    "CREATE TABLE \"CVALUATION__FINANCIAL_RATIOS_Y\" (\n",
    "\"symbol\" TEXT,\n",
    "  \"date\" TEXT,\n",
    "  \"currentRatio\" REAL,\n",
    "  \"quickRatio\" REAL,\n",
    "  \"cashRatio\" REAL,\n",
    "  \"daysOfSalesOutstanding\" REAL,\n",
    "  \"daysOfInventoryOutstanding\" REAL,\n",
    "  \"operatingCycle\" REAL,\n",
    "  \"daysOfPayablesOutstanding\" REAL,\n",
    "  \"cashConversionCycle\" REAL,\n",
    "  \"grossProfitMargin\" REAL,\n",
    "  \"operatingProfitMargin\" REAL,\n",
    "  \"pretaxProfitMargin\" REAL,\n",
    "  \"netProfitMargin\" REAL,\n",
    "  \"effectiveTaxRate\" REAL,\n",
    "  \"returnOnAssets\" REAL,\n",
    "  \"returnOnEquity\" REAL,\n",
    "  \"returnOnCapitalEmployed\" REAL,\n",
    "  \"netIncomePerEBT\" REAL,\n",
    "  \"ebtPerEbit\" REAL,\n",
    "  \"ebitPerRevenue\" REAL,\n",
    "  \"debtRatio\" REAL,\n",
    "  \"debtEquityRatio\" REAL,\n",
    "  \"longTermDebtToCapitalization\" REAL,\n",
    "  \"totalDebtToCapitalization\" REAL,\n",
    "  \"interestCoverage\" REAL,\n",
    "  \"cashFlowToDebtRatio\" REAL,\n",
    "  \"companyEquityMultiplier\" REAL,\n",
    "  \"receivablesTurnover\" REAL,\n",
    "  \"payablesTurnover\" REAL,\n",
    "  \"inventoryTurnover\" REAL,\n",
    "  \"fixedAssetTurnover\" REAL,\n",
    "  \"assetTurnover\" REAL,\n",
    "  \"operatingCashFlowPerShare\" REAL,\n",
    "  \"freeCashFlowPerShare\" REAL,\n",
    "  \"cashPerShare\" REAL,\n",
    "  \"payoutRatio\" REAL,\n",
    "  \"operatingCashFlowSalesRatio\" REAL,\n",
    "  \"freeCashFlowOperatingCashFlowRatio\" REAL,\n",
    "  \"cashFlowCoverageRatios\" REAL,\n",
    "  \"shortTermCoverageRatios\" REAL,\n",
    "  \"capitalExpenditureCoverageRatio\" REAL,\n",
    "  \"dividendPaidAndCapexCoverageRatio\" REAL,\n",
    "  \"dividendPayoutRatio\" REAL,\n",
    "  \"priceBookValueRatio\" REAL,\n",
    "  \"priceToBookRatio\" REAL,\n",
    "  \"priceToSalesRatio\" REAL,\n",
    "  \"priceEarningsRatio\" REAL,\n",
    "  \"priceToFreeCashFlowsRatio\" REAL,\n",
    "  \"priceToOperatingCashFlowsRatio\" REAL,\n",
    "  \"priceCashFlowRatio\" REAL,\n",
    "  \"priceEarningsToGrowthRatio\" REAL,\n",
    "  \"priceSalesRatio\" REAL,\n",
    "  \"dividendYield\" REAL,\n",
    "  \"enterpriseValueMultiple\" REAL,\n",
    "  \"priceFairValue\" REAL,\n",
    "  PRIMARY KEY (symbol,date)\n",
    ")\"\"\")\n",
    "\n",
    "tab.to_sql(name,con=conn,index=False,if_exists='append')\n",
    "c.execute('select * from '+name+ ' limit 1')\n",
    "print(c.fetchall()[0][0:10],)"
   ]
  },
  {
   "cell_type": "markdown",
   "metadata": {},
   "source": [
    "##### TTM"
   ]
  },
  {
   "cell_type": "code",
   "execution_count": 49,
   "metadata": {},
   "outputs": [],
   "source": [
    "name = prefix+'FINANCIAL_RATIOS_TTM'"
   ]
  },
  {
   "cell_type": "code",
   "execution_count": 50,
   "metadata": {},
   "outputs": [
    {
     "name": "stdout",
     "output_type": "stream",
     "text": [
      "HTTP Error 500:  for ticker JPM , continuing.....\n",
      "CPU times: user 1.12 s, sys: 28.9 ms, total: 1.15 s\n",
      "Wall time: 14.6 s\n"
     ]
    }
   ],
   "source": [
    "%%time\n",
    "url = \"https://financialmodelingprep.com/api/v3/ratios-ttm/***TICKER***?apikey=\" + apikey\n",
    "tab = get_appended(url,tickers)\n",
    "tab['symbol'] = tab.index\n",
    "tab.drop_duplicates(inplace=True)\n",
    "a = pd.io.sql.get_schema(tab,name)\n",
    "#print(a)"
   ]
  },
  {
   "cell_type": "code",
   "execution_count": 51,
   "metadata": {},
   "outputs": [
    {
     "name": "stdout",
     "output_type": "stream",
     "text": [
      "('0', None, None, None, None, None, 1.221677292790583, 1.046918424064083, 0.304397580513323, 59.66380755200631)\n"
     ]
    }
   ],
   "source": [
    "c.execute('drop table if exists '+name)\n",
    "c.execute(\"\"\"\n",
    "CREATE TABLE \"CVALUATION__FINANCIAL_RATIOS_TTM\" (\n",
    "  \"symbol\" TEXT,\n",
    "  \"dividendYielTTM\" REAL,\n",
    "  \"dividendYielPercentageTTM\" REAL,\n",
    "  \"peRatioTTM\" REAL,\n",
    "  \"pegRatioTTM\" REAL,\n",
    "  \"payoutRatioTTM\" REAL,\n",
    "  \"currentRatioTTM\" REAL,\n",
    "  \"quickRatioTTM\" REAL,\n",
    "  \"cashRatioTTM\" REAL,\n",
    "  \"daysOfSalesOutstandingTTM\" REAL,\n",
    "  \"daysOfInventoryOutstandingTTM\" REAL,\n",
    "  \"operatingCycleTTM\" REAL,\n",
    "  \"daysOfPayablesOutstandingTTM\" REAL,\n",
    "  \"cashConversionCycleTTM\" REAL,\n",
    "  \"grossProfitMarginTTM\" REAL,\n",
    "  \"operatingProfitMarginTTM\" REAL,\n",
    "  \"pretaxProfitMarginTTM\" REAL,\n",
    "  \"netProfitMarginTTM\" REAL,\n",
    "  \"effectiveTaxRateTTM\" REAL,\n",
    "  \"returnOnAssetsTTM\" REAL,\n",
    "  \"returnOnEquityTTM\" REAL,\n",
    "  \"returnOnCapitalEmployedTTM\" REAL,\n",
    "  \"netIncomePerEBTTTM\" REAL,\n",
    "  \"ebtPerEbitTTM\" REAL,\n",
    "  \"ebitPerRevenueTTM\" REAL,\n",
    "  \"debtRatioTTM\" REAL,\n",
    "  \"debtEquityRatioTTM\" REAL,\n",
    "  \"longTermDebtToCapitalizationTTM\" REAL,\n",
    "  \"totalDebtToCapitalizationTTM\" REAL,\n",
    "  \"interestCoverageTTM\" REAL,\n",
    "  \"cashFlowToDebtRatioTTM\" REAL,\n",
    "  \"companyEquityMultiplierTTM\" REAL,\n",
    "  \"receivablesTurnoverTTM\" REAL,\n",
    "  \"payablesTurnoverTTM\" REAL,\n",
    "  \"inventoryTurnoverTTM\" REAL,\n",
    "  \"fixedAssetTurnoverTTM\" REAL,\n",
    "  \"assetTurnoverTTM\" REAL,\n",
    "  \"operatingCashFlowPerShareTTM\" REAL,\n",
    "  \"freeCashFlowPerShareTTM\" REAL,\n",
    "  \"cashPerShareTTM\" REAL,\n",
    "  \"operatingCashFlowSalesRatioTTM\" REAL,\n",
    "  \"freeCashFlowOperatingCashFlowRatioTTM\" REAL,\n",
    "  \"cashFlowCoverageRatiosTTM\" REAL,\n",
    "  \"shortTermCoverageRatiosTTM\" REAL,\n",
    "  \"capitalExpenditureCoverageRatioTTM\" REAL,\n",
    "  \"dividendPaidAndCapexCoverageRatioTTM\" REAL,\n",
    "  \"priceBookValueRatioTTM\" REAL,\n",
    "  \"priceToBookRatioTTM\" REAL,\n",
    "  \"priceToSalesRatioTTM\" REAL,\n",
    "  \"priceEarningsRatioTTM\" REAL,\n",
    "  \"priceToFreeCashFlowsRatioTTM\" REAL,\n",
    "  \"priceToOperatingCashFlowsRatioTTM\" REAL,\n",
    "  \"priceCashFlowRatioTTM\" REAL,\n",
    "  \"priceEarningsToGrowthRatioTTM\" REAL,\n",
    "  \"priceSalesRatioTTM\" REAL,\n",
    "  \"dividendYieldTTM\" REAL,\n",
    "  \"enterpriseValueMultipleTTM\" REAL,\n",
    "  \"priceFairValueTTM\" REAL\n",
    ")\"\"\")\n",
    "\n",
    "tab.to_sql(name,con=conn,index=False,if_exists='append')\n",
    "c.execute('select * from '+name+ ' limit 1')\n",
    "print(c.fetchall()[0][0:10],)"
   ]
  },
  {
   "cell_type": "markdown",
   "metadata": {},
   "source": [
    "### Enterprise Value"
   ]
  },
  {
   "cell_type": "markdown",
   "metadata": {},
   "source": [
    "##### Quarterly"
   ]
  },
  {
   "cell_type": "code",
   "execution_count": 52,
   "metadata": {},
   "outputs": [],
   "source": [
    "name = prefix+'ENTERPRISE_VALUE_Q'"
   ]
  },
  {
   "cell_type": "code",
   "execution_count": 53,
   "metadata": {},
   "outputs": [
    {
     "name": "stdout",
     "output_type": "stream",
     "text": [
      "CPU times: user 672 ms, sys: 30.9 ms, total: 703 ms\n",
      "Wall time: 25.3 s\n"
     ]
    }
   ],
   "source": [
    "%%time\n",
    "url = \"https://financialmodelingprep.com/api/v3/enterprise-values/***TICKER***?period=quarter&limit=1000000000&apikey=\" + apikey\n",
    "tab = get_appended(url,tickers)\n",
    "tab.drop_duplicates(inplace=True)\n",
    "a = pd.io.sql.get_schema(tab,name)\n",
    "#print(a)"
   ]
  },
  {
   "cell_type": "code",
   "execution_count": 54,
   "metadata": {},
   "outputs": [
    {
     "name": "stdout",
     "output_type": "stream",
     "text": [
      "('CRM', '2020-10-31 00:00:00', 232.270004, '911000000', '211597973644.0', '3724000000', '8440000000', '216313973644.0')\n"
     ]
    }
   ],
   "source": [
    "c.execute('drop table if exists '+name)\n",
    "c.execute(\"\"\"\n",
    "CREATE TABLE \"CVALUATION__ENTERPRISE_VALUE_Q\" (\n",
    "  \"symbol\" TEXT,\n",
    "  \"date\" TEXT,\n",
    "  \"stockPrice\" REAL,\n",
    "  \"numberOfShares\" TEXT,\n",
    "  \"marketCapitalization\" TEXT,\n",
    "  \"minusCashAndCashEquivalents\" TEXT,\n",
    "  \"addTotalDebt\" TEXT,\n",
    "  \"enterpriseValue\" TEXT,\n",
    "  PRIMARY KEY (symbol,date)\n",
    "  \n",
    ")\"\"\")\n",
    "\n",
    "tab.to_sql(name,con=conn,index=False,if_exists='append')\n",
    "c.execute('select * from '+name+ ' limit 1')\n",
    "print(c.fetchall()[0][0:10],)"
   ]
  },
  {
   "cell_type": "markdown",
   "metadata": {},
   "source": [
    "##### Yearly"
   ]
  },
  {
   "cell_type": "code",
   "execution_count": 55,
   "metadata": {},
   "outputs": [],
   "source": [
    "name = prefix+'ENTERPRISE_VALUE_Y'"
   ]
  },
  {
   "cell_type": "code",
   "execution_count": 56,
   "metadata": {},
   "outputs": [
    {
     "name": "stdout",
     "output_type": "stream",
     "text": [
      "CPU times: user 663 ms, sys: 26.4 ms, total: 689 ms\n",
      "Wall time: 16.6 s\n"
     ]
    }
   ],
   "source": [
    "%%time\n",
    "url = \"https://financialmodelingprep.com/api/v3/enterprise-values/***TICKER***?limit=1000000000&apikey=\" + apikey\n",
    "tab = get_appended(url,tickers)\n",
    "tab.drop_duplicates(inplace=True)\n",
    "a = pd.io.sql.get_schema(tab,name)\n",
    "#print(a)"
   ]
  },
  {
   "cell_type": "code",
   "execution_count": 57,
   "metadata": {},
   "outputs": [
    {
     "name": "stdout",
     "output_type": "stream",
     "text": [
      "('CRM', '2020-01-31 00:00:00', 170.4, '829000000', '141261600000.0', '4145000000', '6475000000', '143591600000.0')\n"
     ]
    }
   ],
   "source": [
    "c.execute('drop table if exists '+name)\n",
    "c.execute(\"\"\"\n",
    "CREATE TABLE \"CVALUATION__ENTERPRISE_VALUE_Y\" (\n",
    "  \"symbol\" TEXT,\n",
    "  \"date\" TEXT,\n",
    "  \"stockPrice\" REAL,\n",
    "  \"numberOfShares\" TEXT,\n",
    "  \"marketCapitalization\" TEXT,\n",
    "  \"minusCashAndCashEquivalents\" TEXT,\n",
    "  \"addTotalDebt\" TEXT,\n",
    "  \"enterpriseValue\" TEXT,\n",
    "  PRIMARY KEY (symbol,date)\n",
    "  \n",
    ")\"\"\")\n",
    "\n",
    "tab.to_sql(name,con=conn,index=False,if_exists='append')\n",
    "c.execute('select * from '+name+ ' limit 1')\n",
    "print(c.fetchall()[0][0:10],)"
   ]
  },
  {
   "cell_type": "markdown",
   "metadata": {},
   "source": [
    "### Key Metrics"
   ]
  },
  {
   "cell_type": "markdown",
   "metadata": {},
   "source": [
    "##### Quarterly"
   ]
  },
  {
   "cell_type": "code",
   "execution_count": 58,
   "metadata": {},
   "outputs": [],
   "source": [
    "name = prefix+'KEY_METRICS_Q'"
   ]
  },
  {
   "cell_type": "code",
   "execution_count": 59,
   "metadata": {},
   "outputs": [
    {
     "name": "stdout",
     "output_type": "stream",
     "text": [
      "CPU times: user 1.43 s, sys: 81 ms, total: 1.51 s\n",
      "Wall time: 41 s\n"
     ]
    }
   ],
   "source": [
    "%%time\n",
    "url = \"https://financialmodelingprep.com/api/v3/key-metrics/***TICKER***?period=quarter&limit=1000000000&apikey=\" + apikey\n",
    "tab = get_appended(url,tickers)\n",
    "tab.drop_duplicates(inplace=True)\n",
    "a = pd.io.sql.get_schema(tab,name)\n",
    "#print(a)"
   ]
  },
  {
   "cell_type": "code",
   "execution_count": 60,
   "metadata": {},
   "outputs": [
    {
     "name": "stdout",
     "output_type": "stream",
     "text": [
      "('CRM', '2020-10-31 00:00:00', 5.94840834248079, 1.186608122941822, 0.37211855104281005, 0.23600439077936303, 4.08781558726674, 44.24807903402854, 31.201975850713502, 44.24807903402854)\n"
     ]
    }
   ],
   "source": [
    "c.execute('drop table if exists '+name)\n",
    "c.execute(\"\"\"\n",
    "CREATE TABLE \"CVALUATION__KEY_METRICS_Q\" (\n",
    "\"symbol\" TEXT,\n",
    "  \"date\" TEXT,\n",
    "  \"revenuePerShare\" REAL,\n",
    "  \"netIncomePerShare\" REAL,\n",
    "  \"operatingCashFlowPerShare\" REAL,\n",
    "  \"freeCashFlowPerShare\" REAL,\n",
    "  \"cashPerShare\" REAL,\n",
    "  \"bookValuePerShare\" REAL,\n",
    "  \"tangibleBookValuePerShare\" REAL,\n",
    "  \"shareholdersEquityPerShare\" REAL,\n",
    "  \"interestDebtPerShare\" TEXT,\n",
    "  \"marketCap\" TEXT,\n",
    "  \"enterpriseValue\" TEXT,\n",
    "  \"peRatio\" TEXT,\n",
    "  \"priceToSalesRatio\" REAL,\n",
    "  \"pocfratio\" REAL,\n",
    "  \"pfcfRatio\" REAL,\n",
    "  \"pbRatio\" REAL,\n",
    "  \"ptbRatio\" REAL,\n",
    "  \"evToSales\" REAL,\n",
    "  \"enterpriseValueOverEBITDA\" REAL,\n",
    "  \"evToOperatingCashFlow\" REAL,\n",
    "  \"evToFreeCashFlow\" REAL,\n",
    "  \"earningsYield\" REAL,\n",
    "  \"freeCashFlowYield\" REAL,\n",
    "  \"debtToEquity\" REAL,\n",
    "  \"debtToAssets\" REAL,\n",
    "  \"netDebtToEBITDA\" TEXT,\n",
    "  \"currentRatio\" TEXT,\n",
    "  \"interestCoverage\" TEXT,\n",
    "  \"incomeQuality\" TEXT,\n",
    "  \"dividendYield\" REAL,\n",
    "  \"payoutRatio\" TEXT,\n",
    "  \"salesGeneralAndAdministrativeToRevenue\" REAL,\n",
    "  \"researchAndDdevelopementToRevenue\" REAL,\n",
    "  \"intangiblesToTotalAssets\" REAL,\n",
    "  \"capexToOperatingCashFlow\" TEXT,\n",
    "  \"capexToRevenue\" TEXT,\n",
    "  \"capexToDepreciation\" TEXT,\n",
    "  \"stockBasedCompensationToRevenue\" REAL,\n",
    "  \"grahamNumber\" REAL,\n",
    "  \"roic\" REAL,\n",
    "  \"returnOnTangibleAssets\" REAL,\n",
    "  \"grahamNetNet\" REAL,\n",
    "  \"workingCapital\" TEXT,\n",
    "  \"tangibleAssetValue\" TEXT,\n",
    "  \"netCurrentAssetValue\" TEXT,\n",
    "  \"investedCapital\" TEXT,\n",
    "  \"averageReceivables\" INTEGER,\n",
    "  \"averagePayables\" INTEGER,\n",
    "  \"averageInventory\" INTEGER,\n",
    "  \"daysSalesOutstanding\" REAL,\n",
    "  \"daysPayablesOutstanding\" TEXT,\n",
    "  \"daysOfInventoryOnHand\" TEXT,\n",
    "  \"receivablesTurnover\" REAL,\n",
    "  \"payablesTurnover\" TEXT,\n",
    "  \"inventoryTurnover\" REAL,\n",
    "  \"roe\" REAL,\n",
    "  \"capexPerShare\" TEXT,\n",
    "  PRIMARY KEY (symbol,date)\n",
    ")\"\"\")\n",
    "\n",
    "tab.to_sql(name,con=conn,index=False,if_exists='append')\n",
    "c.execute('select * from '+name+ ' limit 1')\n",
    "print(c.fetchall()[0][0:10],)"
   ]
  },
  {
   "cell_type": "markdown",
   "metadata": {},
   "source": [
    "##### Yearly"
   ]
  },
  {
   "cell_type": "code",
   "execution_count": 61,
   "metadata": {},
   "outputs": [],
   "source": [
    "name = prefix+'KEY_METRICS_Y'"
   ]
  },
  {
   "cell_type": "code",
   "execution_count": 62,
   "metadata": {},
   "outputs": [
    {
     "name": "stdout",
     "output_type": "stream",
     "text": [
      "CPU times: user 1.34 s, sys: 48.2 ms, total: 1.39 s\n",
      "Wall time: 23.8 s\n"
     ]
    }
   ],
   "source": [
    "%%time\n",
    "url = \"https://financialmodelingprep.com/api/v3/key-metrics/***TICKER***?limit=1000000000&apikey=\" + apikey\n",
    "tab = get_appended(url,tickers)\n",
    "tab.drop_duplicates(inplace=True)\n",
    "a = pd.io.sql.get_schema(tab,name)\n",
    "#print(a)"
   ]
  },
  {
   "cell_type": "code",
   "execution_count": 63,
   "metadata": {},
   "outputs": [
    {
     "name": "stdout",
     "output_type": "stream",
     "text": [
      "('CRM', '2020-01-31 00:00:00', 20.624849215922797, 0.151990349819059, 5.224366706875754, 4.448733413751507, 5.0, 40.874547647768395, 29.781664656212303, 40.874547647768395)\n"
     ]
    }
   ],
   "source": [
    "c.execute('drop table if exists '+name)\n",
    "c.execute(\"\"\"\n",
    "CREATE TABLE \"CVALUATION__KEY_METRICS_Y\" (\n",
    "\"symbol\" TEXT,\n",
    "  \"date\" TEXT,\n",
    "  \"revenuePerShare\" REAL,\n",
    "  \"netIncomePerShare\" REAL,\n",
    "  \"operatingCashFlowPerShare\" REAL,\n",
    "  \"freeCashFlowPerShare\" REAL,\n",
    "  \"cashPerShare\" REAL,\n",
    "  \"bookValuePerShare\" REAL,\n",
    "  \"tangibleBookValuePerShare\" REAL,\n",
    "  \"shareholdersEquityPerShare\" REAL,\n",
    "  \"interestDebtPerShare\" TEXT,\n",
    "  \"marketCap\" TEXT,\n",
    "  \"enterpriseValue\" TEXT,\n",
    "  \"peRatio\" TEXT,\n",
    "  \"priceToSalesRatio\" REAL,\n",
    "  \"pocfratio\" REAL,\n",
    "  \"pfcfRatio\" REAL,\n",
    "  \"pbRatio\" REAL,\n",
    "  \"ptbRatio\" REAL,\n",
    "  \"evToSales\" REAL,\n",
    "  \"enterpriseValueOverEBITDA\" REAL,\n",
    "  \"evToOperatingCashFlow\" REAL,\n",
    "  \"evToFreeCashFlow\" REAL,\n",
    "  \"earningsYield\" REAL,\n",
    "  \"freeCashFlowYield\" REAL,\n",
    "  \"debtToEquity\" REAL,\n",
    "  \"debtToAssets\" REAL,\n",
    "  \"netDebtToEBITDA\" TEXT,\n",
    "  \"currentRatio\" TEXT,\n",
    "  \"interestCoverage\" TEXT,\n",
    "  \"incomeQuality\" TEXT,\n",
    "  \"dividendYield\" REAL,\n",
    "  \"payoutRatio\" TEXT,\n",
    "  \"salesGeneralAndAdministrativeToRevenue\" REAL,\n",
    "  \"researchAndDdevelopementToRevenue\" REAL,\n",
    "  \"intangiblesToTotalAssets\" REAL,\n",
    "  \"capexToOperatingCashFlow\" TEXT,\n",
    "  \"capexToRevenue\" TEXT,\n",
    "  \"capexToDepreciation\" TEXT,\n",
    "  \"stockBasedCompensationToRevenue\" REAL,\n",
    "  \"grahamNumber\" REAL,\n",
    "  \"roic\" REAL,\n",
    "  \"returnOnTangibleAssets\" REAL,\n",
    "  \"grahamNetNet\" REAL,\n",
    "  \"workingCapital\" TEXT,\n",
    "  \"tangibleAssetValue\" TEXT,\n",
    "  \"netCurrentAssetValue\" TEXT,\n",
    "  \"investedCapital\" TEXT,\n",
    "  \"averageReceivables\" INTEGER,\n",
    "  \"averagePayables\" INTEGER,\n",
    "  \"averageInventory\" INTEGER,\n",
    "  \"daysSalesOutstanding\" REAL,\n",
    "  \"daysPayablesOutstanding\" TEXT,\n",
    "  \"daysOfInventoryOnHand\" TEXT,\n",
    "  \"receivablesTurnover\" REAL,\n",
    "  \"payablesTurnover\" TEXT,\n",
    "  \"inventoryTurnover\" REAL,\n",
    "  \"roe\" REAL,\n",
    "  \"capexPerShare\" TEXT,\n",
    "  PRIMARY KEY (symbol,date)\n",
    ")\"\"\")\n",
    "\n",
    "tab.to_sql(name,con=conn,index=False,if_exists='append')\n",
    "c.execute('select * from '+name+ ' limit 1')\n",
    "print(c.fetchall()[0][0:10],)"
   ]
  },
  {
   "cell_type": "markdown",
   "metadata": {},
   "source": [
    "### Financial Growth "
   ]
  },
  {
   "cell_type": "markdown",
   "metadata": {},
   "source": [
    "##### Quarterly"
   ]
  },
  {
   "cell_type": "code",
   "execution_count": 89,
   "metadata": {},
   "outputs": [],
   "source": [
    "name = prefix+'FINANCIAL_GROWTH_Q'"
   ]
  },
  {
   "cell_type": "code",
   "execution_count": 90,
   "metadata": {},
   "outputs": [
    {
     "name": "stdout",
     "output_type": "stream",
     "text": [
      "CPU times: user 1.4 s, sys: 89.7 ms, total: 1.49 s\n",
      "Wall time: 22.2 s\n"
     ]
    }
   ],
   "source": [
    "%%time\n",
    "url = \"https://financialmodelingprep.com/api/v3/key-metrics/***TICKER***?period=quarter&limit=1000000000&apikey=\" + apikey\n",
    "tab = get_appended(url,tickers)\n",
    "tab.drop_duplicates(inplace=True)\n",
    "a = pd.io.sql.get_schema(tab,name)\n",
    "#print(a)"
   ]
  },
  {
   "cell_type": "code",
   "execution_count": 91,
   "metadata": {},
   "outputs": [
    {
     "name": "stdout",
     "output_type": "stream",
     "text": [
      "('CRM', '2020-10-31 00:00:00', 5.94840834248079, 1.186608122941822, 0.37211855104281005, 0.23600439077936303, 4.08781558726674, 44.24807903402854, 31.201975850713502, 44.24807903402854)\n"
     ]
    }
   ],
   "source": [
    "c.execute('drop table if exists '+name)\n",
    "c.execute(\"\"\"\n",
    "CREATE TABLE \"CVALUATION__FINANCIAL_GROWTH_Q\" (\n",
    " \"symbol\" TEXT,\n",
    "  \"date\" TEXT,\n",
    "  \"revenuePerShare\" REAL,\n",
    "  \"netIncomePerShare\" REAL,\n",
    "  \"operatingCashFlowPerShare\" REAL,\n",
    "  \"freeCashFlowPerShare\" REAL,\n",
    "  \"cashPerShare\" REAL,\n",
    "  \"bookValuePerShare\" REAL,\n",
    "  \"tangibleBookValuePerShare\" REAL,\n",
    "  \"shareholdersEquityPerShare\" REAL,\n",
    "  \"interestDebtPerShare\" TEXT,\n",
    "  \"marketCap\" TEXT,\n",
    "  \"enterpriseValue\" TEXT,\n",
    "  \"peRatio\" REAL,\n",
    "  \"priceToSalesRatio\" REAL,\n",
    "  \"pocfratio\" REAL,\n",
    "  \"pfcfRatio\" REAL,\n",
    "  \"pbRatio\" REAL,\n",
    "  \"ptbRatio\" REAL,\n",
    "  \"evToSales\" REAL,\n",
    "  \"enterpriseValueOverEBITDA\" REAL,\n",
    "  \"evToOperatingCashFlow\" REAL,\n",
    "  \"evToFreeCashFlow\" REAL,\n",
    "  \"earningsYield\" REAL,\n",
    "  \"freeCashFlowYield\" REAL,\n",
    "  \"debtToEquity\" REAL,\n",
    "  \"debtToAssets\" REAL,\n",
    "  \"netDebtToEBITDA\" TEXT,\n",
    "  \"currentRatio\" REAL,\n",
    "  \"interestCoverage\" TEXT,\n",
    "  \"incomeQuality\" TEXT,\n",
    "  \"dividendYield\" REAL,\n",
    "  \"payoutRatio\" TEXT,\n",
    "  \"salesGeneralAndAdministrativeToRevenue\" REAL,\n",
    "  \"researchAndDdevelopementToRevenue\" REAL,\n",
    "  \"intangiblesToTotalAssets\" REAL,\n",
    "  \"capexToOperatingCashFlow\" TEXT,\n",
    "  \"capexToRevenue\" TEXT,\n",
    "  \"capexToDepreciation\" TEXT,\n",
    "  \"stockBasedCompensationToRevenue\" REAL,\n",
    "  \"grahamNumber\" REAL,\n",
    "  \"roic\" REAL,\n",
    "  \"returnOnTangibleAssets\" REAL,\n",
    "  \"grahamNetNet\" REAL,\n",
    "  \"workingCapital\" TEXT,\n",
    "  \"tangibleAssetValue\" TEXT,\n",
    "  \"netCurrentAssetValue\" TEXT,\n",
    "  \"investedCapital\" TEXT,\n",
    "  \"averageReceivables\" INTEGER,\n",
    "  \"averagePayables\" INTEGER,\n",
    "  \"averageInventory\" INTEGER,\n",
    "  \"daysSalesOutstanding\" REAL,\n",
    "  \"daysPayablesOutstanding\" REAL,\n",
    "  \"daysOfInventoryOnHand\" REAL,\n",
    "  \"receivablesTurnover\" TEXT,\n",
    "  \"payablesTurnover\" TEXT,\n",
    "  \"inventoryTurnover\" REAL,\n",
    "  \"roe\" REAL,\n",
    "  \"capexPerShare\" REAL,\n",
    "  PRIMARY KEY (symbol,date)\n",
    ")\"\"\")\n",
    "\n",
    "tab.to_sql(name,con=conn,index=False,if_exists='append')\n",
    "c.execute('select * from '+name+ ' limit 1')\n",
    "print(c.fetchall()[0][0:10],)"
   ]
  },
  {
   "cell_type": "markdown",
   "metadata": {},
   "source": [
    "##### Yearly"
   ]
  },
  {
   "cell_type": "code",
   "execution_count": 92,
   "metadata": {},
   "outputs": [],
   "source": [
    "name = prefix+'FINANCIAL_GROWTH_Y'"
   ]
  },
  {
   "cell_type": "code",
   "execution_count": 93,
   "metadata": {},
   "outputs": [
    {
     "name": "stdout",
     "output_type": "stream",
     "text": [
      "CPU times: user 1.31 s, sys: 50.4 ms, total: 1.37 s\n",
      "Wall time: 16.4 s\n"
     ]
    }
   ],
   "source": [
    "%%time\n",
    "url = \"https://financialmodelingprep.com/api/v3/key-metrics/***TICKER***?limit=1000000000&apikey=\" + apikey\n",
    "tab = get_appended(url,tickers)\n",
    "tab.drop_duplicates(inplace=True)\n",
    "a = pd.io.sql.get_schema(tab,name)\n",
    "#print(a)"
   ]
  },
  {
   "cell_type": "code",
   "execution_count": 94,
   "metadata": {},
   "outputs": [
    {
     "name": "stdout",
     "output_type": "stream",
     "text": [
      "('CRM', '2020-01-31 00:00:00', 20.624849215922797, 0.151990349819059, 5.224366706875754, 4.448733413751507, 5.0, 40.874547647768395, 29.781664656212303, 40.874547647768395)\n"
     ]
    }
   ],
   "source": [
    "c.execute('drop table if exists '+name)\n",
    "c.execute(\"\"\"\n",
    "CREATE TABLE \"CVALUATION__FINANCIAL_GROWTH_Y\" (\n",
    " \"symbol\" TEXT,\n",
    "  \"date\" TEXT,\n",
    "  \"revenuePerShare\" REAL,\n",
    "  \"netIncomePerShare\" REAL,\n",
    "  \"operatingCashFlowPerShare\" REAL,\n",
    "  \"freeCashFlowPerShare\" REAL,\n",
    "  \"cashPerShare\" REAL,\n",
    "  \"bookValuePerShare\" REAL,\n",
    "  \"tangibleBookValuePerShare\" REAL,\n",
    "  \"shareholdersEquityPerShare\" REAL,\n",
    "  \"interestDebtPerShare\" TEXT,\n",
    "  \"marketCap\" TEXT,\n",
    "  \"enterpriseValue\" TEXT,\n",
    "  \"peRatio\" REAL,\n",
    "  \"priceToSalesRatio\" REAL,\n",
    "  \"pocfratio\" REAL,\n",
    "  \"pfcfRatio\" REAL,\n",
    "  \"pbRatio\" REAL,\n",
    "  \"ptbRatio\" REAL,\n",
    "  \"evToSales\" REAL,\n",
    "  \"enterpriseValueOverEBITDA\" REAL,\n",
    "  \"evToOperatingCashFlow\" REAL,\n",
    "  \"evToFreeCashFlow\" REAL,\n",
    "  \"earningsYield\" REAL,\n",
    "  \"freeCashFlowYield\" REAL,\n",
    "  \"debtToEquity\" REAL,\n",
    "  \"debtToAssets\" REAL,\n",
    "  \"netDebtToEBITDA\" TEXT,\n",
    "  \"currentRatio\" REAL,\n",
    "  \"interestCoverage\" TEXT,\n",
    "  \"incomeQuality\" TEXT,\n",
    "  \"dividendYield\" REAL,\n",
    "  \"payoutRatio\" TEXT,\n",
    "  \"salesGeneralAndAdministrativeToRevenue\" REAL,\n",
    "  \"researchAndDdevelopementToRevenue\" REAL,\n",
    "  \"intangiblesToTotalAssets\" REAL,\n",
    "  \"capexToOperatingCashFlow\" TEXT,\n",
    "  \"capexToRevenue\" TEXT,\n",
    "  \"capexToDepreciation\" TEXT,\n",
    "  \"stockBasedCompensationToRevenue\" REAL,\n",
    "  \"grahamNumber\" REAL,\n",
    "  \"roic\" REAL,\n",
    "  \"returnOnTangibleAssets\" REAL,\n",
    "  \"grahamNetNet\" REAL,\n",
    "  \"workingCapital\" TEXT,\n",
    "  \"tangibleAssetValue\" TEXT,\n",
    "  \"netCurrentAssetValue\" TEXT,\n",
    "  \"investedCapital\" TEXT,\n",
    "  \"averageReceivables\" INTEGER,\n",
    "  \"averagePayables\" INTEGER,\n",
    "  \"averageInventory\" INTEGER,\n",
    "  \"daysSalesOutstanding\" REAL,\n",
    "  \"daysPayablesOutstanding\" REAL,\n",
    "  \"daysOfInventoryOnHand\" REAL,\n",
    "  \"receivablesTurnover\" TEXT,\n",
    "  \"payablesTurnover\" TEXT,\n",
    "  \"inventoryTurnover\" REAL,\n",
    "  \"roe\" REAL,\n",
    "  \"capexPerShare\" REAL,\n",
    "  PRIMARY KEY (symbol,date)\n",
    ")\"\"\")\n",
    "\n",
    "tab.to_sql(name,con=conn,index=False,if_exists='append')\n",
    "c.execute('select * from '+name+ ' limit 1')\n",
    "print(c.fetchall()[0][0:10],)"
   ]
  },
  {
   "cell_type": "markdown",
   "metadata": {},
   "source": [
    "### Rating (Historical daily) –– skipped today's rating API.. will add in later if needed"
   ]
  },
  {
   "cell_type": "code",
   "execution_count": 95,
   "metadata": {},
   "outputs": [],
   "source": [
    "name = prefix+'RATING_D'"
   ]
  },
  {
   "cell_type": "code",
   "execution_count": 96,
   "metadata": {},
   "outputs": [
    {
     "data": {
      "text/plain": [
       "'CVALUATION__RATING_D'"
      ]
     },
     "execution_count": 96,
     "metadata": {},
     "output_type": "execute_result"
    }
   ],
   "source": [
    "name"
   ]
  },
  {
   "cell_type": "code",
   "execution_count": 97,
   "metadata": {},
   "outputs": [
    {
     "name": "stdout",
     "output_type": "stream",
     "text": [
      "CREATE TABLE \"CVALUATION__RATING_D\" (\n",
      "\"symbol\" TEXT,\n",
      "  \"date\" TIMESTAMP,\n",
      "  \"rating\" TEXT,\n",
      "  \"ratingScore\" INTEGER,\n",
      "  \"ratingRecommendation\" TEXT,\n",
      "  \"ratingDetailsDCFScore\" INTEGER,\n",
      "  \"ratingDetailsDCFRecommendation\" TEXT,\n",
      "  \"ratingDetailsROEScore\" INTEGER,\n",
      "  \"ratingDetailsROERecommendation\" TEXT,\n",
      "  \"ratingDetailsROAScore\" INTEGER,\n",
      "  \"ratingDetailsROARecommendation\" TEXT,\n",
      "  \"ratingDetailsDEScore\" INTEGER,\n",
      "  \"ratingDetailsDERecommendation\" TEXT,\n",
      "  \"ratingDetailsPEScore\" INTEGER,\n",
      "  \"ratingDetailsPERecommendation\" TEXT,\n",
      "  \"ratingDetailsPBScore\" INTEGER,\n",
      "  \"ratingDetailsPBRecommendation\" TEXT\n",
      ")\n",
      "CPU times: user 4.17 s, sys: 480 ms, total: 4.65 s\n",
      "Wall time: 1min 5s\n"
     ]
    }
   ],
   "source": [
    "%%time\n",
    "url = \"https://financialmodelingprep.com/api/v3/historical-rating/***TICKER***?limit=100000000&apikey=\" + apikey\n",
    "tab = get_appended(url,tickers)\n",
    "tab.drop_duplicates(inplace=True)\n",
    "a = pd.io.sql.get_schema(tab,name)\n",
    "print(a)"
   ]
  },
  {
   "cell_type": "code",
   "execution_count": 98,
   "metadata": {},
   "outputs": [
    {
     "name": "stdout",
     "output_type": "stream",
     "text": [
      "('CRM', '2021-02-05 00:00:00', 'A+', 4, 'Buy', 5, 'Strong Buy', 3, 'Neutral', 3)\n"
     ]
    }
   ],
   "source": [
    "c.execute('drop table if exists '+name)\n",
    "c.execute(\"\"\"\n",
    "CREATE TABLE \"CVALUATION__RATING_D\" (\n",
    "\"symbol\" TEXT,\n",
    "  \"date\" TIMESTAMP,\n",
    "  \"rating\" TEXT,\n",
    "  \"ratingScore\" INTEGER,\n",
    "  \"ratingRecommendation\" TEXT,\n",
    "  \"ratingDetailsDCFScore\" INTEGER,\n",
    "  \"ratingDetailsDCFRecommendation\" TEXT,\n",
    "  \"ratingDetailsROEScore\" INTEGER,\n",
    "  \"ratingDetailsROERecommendation\" TEXT,\n",
    "  \"ratingDetailsROAScore\" INTEGER,\n",
    "  \"ratingDetailsROARecommendation\" TEXT,\n",
    "  \"ratingDetailsDEScore\" INTEGER,\n",
    "  \"ratingDetailsDERecommendation\" TEXT,\n",
    "  \"ratingDetailsPEScore\" INTEGER,\n",
    "  \"ratingDetailsPERecommendation\" TEXT,\n",
    "  \"ratingDetailsPBScore\" INTEGER,\n",
    "  \"ratingDetailsPBRecommendation\" TEXT,\n",
    "  PRIMARY KEY (symbol,date)\n",
    ")\"\"\")\n",
    "tab.to_sql(name,con=conn,index=False,if_exists='append')\n",
    "c.execute('select * from '+name+ ' limit 1')\n",
    "print(c.fetchall()[0][0:10],)"
   ]
  },
  {
   "cell_type": "markdown",
   "metadata": {},
   "source": [
    "## Historical DCF"
   ]
  },
  {
   "cell_type": "markdown",
   "metadata": {},
   "source": [
    "### Yearly"
   ]
  },
  {
   "cell_type": "code",
   "execution_count": 99,
   "metadata": {},
   "outputs": [],
   "source": [
    "name = prefix+'DCF_Y'"
   ]
  },
  {
   "cell_type": "code",
   "execution_count": 100,
   "metadata": {},
   "outputs": [
    {
     "name": "stdout",
     "output_type": "stream",
     "text": [
      "CREATE TABLE \"CVALUATION__DCF_Y\" (\n",
      "\"date\" TIMESTAMP,\n",
      "  \"Stock Price\" REAL,\n",
      "  \"DCF\" REAL,\n",
      "  \"symbol\" TEXT\n",
      ")\n",
      "CPU times: user 712 ms, sys: 29.8 ms, total: 742 ms\n",
      "Wall time: 9.81 s\n"
     ]
    },
    {
     "name": "stderr",
     "output_type": "stream",
     "text": [
      "/Users/verbeck/opt/anaconda3/lib/python3.7/site-packages/ipykernel_launcher.py:4: UserWarning: The spaces in these column names will not be changed. In pandas versions < 0.14, spaces were converted to underscores.\n",
      "  after removing the cwd from sys.path.\n"
     ]
    }
   ],
   "source": [
    "%%time\n",
    "url = \"https://financialmodelingprep.com/api/v3/historical-discounted-cash-flow/***TICKER***?apikey=\" + apikey\n",
    "tab = get_appended(url,tickers,symbol_seperate=True)\n",
    "tab.drop_duplicates(inplace=True)\n",
    "a = pd.io.sql.get_schema(tab,name)\n",
    "print(a)"
   ]
  },
  {
   "cell_type": "code",
   "execution_count": 101,
   "metadata": {},
   "outputs": [
    {
     "name": "stdout",
     "output_type": "stream",
     "text": [
      "('2020-01-31 00:00:00', 170.4, 175.4, 'CRM')\n"
     ]
    }
   ],
   "source": [
    "c.execute('drop table if exists '+name)\n",
    "c.execute(\"\"\"\n",
    "CREATE TABLE \"CVALUATION__DCF_Y\" (\n",
    "  \"date\" TIMESTAMP,\n",
    "  \"Stock Price\" REAL,\n",
    "  \"DCF\" REAL,\n",
    "  \"symbol\" TEXT,\n",
    "  PRIMARY KEY(symbol,date)\n",
    ")\n",
    "\"\"\")\n",
    "tab.to_sql(name,con=conn,index=False,if_exists='append')\n",
    "c.execute('select * from '+name+ ' limit 1')\n",
    "print(c.fetchall()[0][0:10],)"
   ]
  },
  {
   "cell_type": "markdown",
   "metadata": {},
   "source": [
    "### Quarterly"
   ]
  },
  {
   "cell_type": "code",
   "execution_count": 102,
   "metadata": {},
   "outputs": [],
   "source": [
    "name = prefix+'DCF_Q'"
   ]
  },
  {
   "cell_type": "code",
   "execution_count": 103,
   "metadata": {},
   "outputs": [
    {
     "name": "stdout",
     "output_type": "stream",
     "text": [
      "CREATE TABLE \"CVALUATION__DCF_Q\" (\n",
      "\"date\" TIMESTAMP,\n",
      "  \"Stock Price\" REAL,\n",
      "  \"DCF\" REAL,\n",
      "  \"symbol\" TEXT\n",
      ")\n",
      "CPU times: user 686 ms, sys: 30.1 ms, total: 716 ms\n",
      "Wall time: 8.89 s\n"
     ]
    },
    {
     "name": "stderr",
     "output_type": "stream",
     "text": [
      "/Users/verbeck/opt/anaconda3/lib/python3.7/site-packages/ipykernel_launcher.py:4: UserWarning: The spaces in these column names will not be changed. In pandas versions < 0.14, spaces were converted to underscores.\n",
      "  after removing the cwd from sys.path.\n"
     ]
    }
   ],
   "source": [
    "%%time\n",
    "url = \"https://financialmodelingprep.com/api/v3/historical-discounted-cash-flow/***TICKER***?period=quarter&apikey=\" + apikey\n",
    "tab = get_appended(url,tickers,symbol_seperate=True)\n",
    "tab.drop_duplicates(inplace=True)\n",
    "a = pd.io.sql.get_schema(tab,name)\n",
    "print(a)"
   ]
  },
  {
   "cell_type": "code",
   "execution_count": 104,
   "metadata": {},
   "outputs": [
    {
     "name": "stdout",
     "output_type": "stream",
     "text": [
      "('2020-07-31 00:00:00', 271.100006, 275.59723130521644, 'CRM')\n"
     ]
    }
   ],
   "source": [
    "c.execute('drop table if exists '+name)\n",
    "c.execute(\"\"\"\n",
    "CREATE TABLE \"CVALUATION__DCF_Q\" (\n",
    "  \"date\" TIMESTAMP,\n",
    "  \"Stock Price\" REAL,\n",
    "  \"DCF\" REAL,\n",
    "  \"symbol\" TEXT,\n",
    "  PRIMARY KEY(symbol,date)\n",
    ")\n",
    "\"\"\")\n",
    "tab.to_sql(name,con=conn,index=False,if_exists='append')\n",
    "c.execute('select * from '+name+ ' limit 1')\n",
    "print(c.fetchall()[0][0:10],)"
   ]
  },
  {
   "cell_type": "markdown",
   "metadata": {},
   "source": [
    "### Daily"
   ]
  },
  {
   "cell_type": "code",
   "execution_count": 105,
   "metadata": {},
   "outputs": [],
   "source": [
    "name = prefix+'DCF_D'"
   ]
  },
  {
   "cell_type": "code",
   "execution_count": 106,
   "metadata": {},
   "outputs": [
    {
     "name": "stdout",
     "output_type": "stream",
     "text": [
      "CREATE TABLE \"CVALUATION__DCF_D\" (\n",
      "\"symbol\" TEXT,\n",
      "  \"date\" TIMESTAMP,\n",
      "  \"dcf\" REAL\n",
      ")\n",
      "CPU times: user 885 ms, sys: 109 ms, total: 994 ms\n",
      "Wall time: 37.6 s\n"
     ]
    }
   ],
   "source": [
    "%%time\n",
    "url = \"https://financialmodelingprep.com/api/v3/historical-daily-discounted-cash-flow/***TICKER***?limit=100000000&apikey=\" + apikey\n",
    "tab = get_appended(url,tickers)\n",
    "tab.drop_duplicates(inplace=True)\n",
    "a = pd.io.sql.get_schema(tab,name)\n",
    "print(a)"
   ]
  },
  {
   "cell_type": "code",
   "execution_count": 107,
   "metadata": {},
   "outputs": [
    {
     "name": "stdout",
     "output_type": "stream",
     "text": [
      "('CRM', '2021-02-05 00:00:00', 246.22972210969115)\n"
     ]
    }
   ],
   "source": [
    "c.execute('drop table if exists '+name)\n",
    "c.execute(\"\"\"\n",
    "CREATE TABLE \"CVALUATION__DCF_D\" (\n",
    " \"symbol\" TEXT,\n",
    "  \"date\" TIMESTAMP,\n",
    "  \"dcf\" REAL,\n",
    "  PRIMARY KEY(symbol,date)\n",
    ")\"\"\")\n",
    "tab.to_sql(name,con=conn,index=False,if_exists='append')\n",
    "c.execute('select * from '+name+ ' limit 1')\n",
    "print(c.fetchall()[0][0:10],)"
   ]
  },
  {
   "cell_type": "markdown",
   "metadata": {},
   "source": [
    "## Market Capitalization"
   ]
  },
  {
   "cell_type": "markdown",
   "metadata": {},
   "source": [
    "### Current (updated daily)"
   ]
  },
  {
   "cell_type": "code",
   "execution_count": 108,
   "metadata": {},
   "outputs": [],
   "source": [
    "name = prefix+'MARKETCAP_CURR'"
   ]
  },
  {
   "cell_type": "code",
   "execution_count": 109,
   "metadata": {},
   "outputs": [
    {
     "name": "stdout",
     "output_type": "stream",
     "text": [
      "CREATE TABLE \"CVALUATION__MARKETCAP_CURR\" (\n",
      "\"symbol\" TEXT,\n",
      "  \"date\" TIMESTAMP,\n",
      "  \"marketCap\" REAL\n",
      ")\n",
      "CPU times: user 587 ms, sys: 30.2 ms, total: 617 ms\n",
      "Wall time: 12.1 s\n"
     ]
    }
   ],
   "source": [
    "%%time\n",
    "url = \"https://financialmodelingprep.com/api/v3/market-capitalization/***TICKER***?apikey=\" + apikey\n",
    "tab = get_appended(url,tickers)\n",
    "tab.drop_duplicates(inplace=True)\n",
    "a = pd.io.sql.get_schema(tab,name)\n",
    "print(a)"
   ]
  },
  {
   "cell_type": "code",
   "execution_count": 110,
   "metadata": {},
   "outputs": [
    {
     "name": "stdout",
     "output_type": "stream",
     "text": [
      "('CRM', '2021-02-05 00:00:00', 224317709061.0)\n"
     ]
    }
   ],
   "source": [
    "c.execute('drop table if exists '+name)\n",
    "c.execute(\"\"\"\n",
    "CREATE TABLE \"CVALUATION__MARKETCAP_CURR\" (\n",
    "  \"symbol\" TEXT PRIMARY KEY,\n",
    "  \"date\" TIMESTAMP,\n",
    "  \"marketCap\" REAL\n",
    "  \n",
    ")\"\"\")\n",
    "tab.to_sql(name,con=conn,index=False,if_exists='append')\n",
    "c.execute('select * from '+name+ ' limit 1')\n",
    "print(c.fetchall()[0][0:10],)"
   ]
  },
  {
   "cell_type": "markdown",
   "metadata": {},
   "source": [
    "### Current - historical daily"
   ]
  },
  {
   "cell_type": "code",
   "execution_count": 111,
   "metadata": {},
   "outputs": [],
   "source": [
    "name = prefix+'MARKETCAP_D'"
   ]
  },
  {
   "cell_type": "code",
   "execution_count": 112,
   "metadata": {},
   "outputs": [
    {
     "name": "stdout",
     "output_type": "stream",
     "text": [
      "CREATE TABLE \"CVALUATION__MARKETCAP_D\" (\n",
      "\"symbol\" TEXT,\n",
      "  \"date\" TIMESTAMP,\n",
      "  \"marketCap\" REAL\n",
      ")\n",
      "CPU times: user 1.39 s, sys: 213 ms, total: 1.6 s\n",
      "Wall time: 51.9 s\n"
     ]
    }
   ],
   "source": [
    "%%time\n",
    "url = \"https://financialmodelingprep.com/api/v3/historical-market-capitalization/***TICKER***?limit=100000000&apikey=\" + apikey\n",
    "tab = get_appended(url,tickers)\n",
    "tab.drop_duplicates(inplace=True)\n",
    "a = pd.io.sql.get_schema(tab,name)\n",
    "print(a)"
   ]
  },
  {
   "cell_type": "code",
   "execution_count": 113,
   "metadata": {},
   "outputs": [
    {
     "name": "stdout",
     "output_type": "stream",
     "text": [
      "('CRM', '2021-02-05 00:00:00', 224317709061.0)\n"
     ]
    }
   ],
   "source": [
    "c.execute('drop table if exists '+name)\n",
    "c.execute(\"\"\"\n",
    "CREATE TABLE \"CVALUATION__MARKETCAP_D\" (\n",
    "\"symbol\" TEXT,\n",
    "  \"date\" TIMESTAMP,\n",
    "  \"marketCap\" REAL\n",
    ")\"\"\")\n",
    "tab.to_sql(name,con=conn,index=False,if_exists='append')\n",
    "c.execute('select * from '+name+ ' limit 1')\n",
    "print(c.fetchall()[0][0:10],)"
   ]
  },
  {
   "cell_type": "markdown",
   "metadata": {},
   "source": [
    "## Symbols List"
   ]
  },
  {
   "cell_type": "code",
   "execution_count": 114,
   "metadata": {},
   "outputs": [],
   "source": [
    "name = 'SYMBOLS__ALL'"
   ]
  },
  {
   "cell_type": "code",
   "execution_count": 115,
   "metadata": {},
   "outputs": [
    {
     "name": "stdout",
     "output_type": "stream",
     "text": [
      "CREATE TABLE \"SYMBOLS_ALL\" (\n",
      "\"symbol\" TEXT,\n",
      "  \"name\" TEXT,\n",
      "  \"price\" REAL,\n",
      "  \"exchange\" TEXT\n",
      ")\n",
      "CPU times: user 8.76 s, sys: 901 ms, total: 9.66 s\n",
      "Wall time: 56.2 s\n"
     ]
    }
   ],
   "source": [
    "%%time\n",
    "url = \"https://financialmodelingprep.com/api/v3/stock/list?apikey=\" + apikey\n",
    "tab = get_appended(url,tickers)\n",
    "tab.drop_duplicates(inplace=True)\n",
    "a = pd.io.sql.get_schema(tab,name)\n",
    "print(a)"
   ]
  },
  {
   "cell_type": "code",
   "execution_count": 116,
   "metadata": {},
   "outputs": [
    {
     "name": "stdout",
     "output_type": "stream",
     "text": [
      "('SPY', 'SPDR S&P 500', 391.305, 'NYSE Arca')\n"
     ]
    }
   ],
   "source": [
    "c.execute('drop table if exists '+name)\n",
    "c.execute(\"\"\"\n",
    "CREATE TABLE \"SYMBOLS__ALL\" (\n",
    "\"symbol\" TEXT,\n",
    "  \"name\" TEXT,\n",
    "  \"price\" REAL,\n",
    "  \"exchange\" TEXT\n",
    ")\"\"\")\n",
    "tab.to_sql(name,con=conn,index=False,if_exists='append')\n",
    "c.execute('select * from '+name+ ' limit 1')\n",
    "print(c.fetchall()[0][0:10],)"
   ]
  },
  {
   "cell_type": "markdown",
   "metadata": {},
   "source": [
    "### !!!Skipped – \"Batch Request Historical Price\"\n",
    "### !!!Skipped – \"Batch Request (stock screener)\""
   ]
  },
  {
   "cell_type": "markdown",
   "metadata": {},
   "source": [
    "### Delisted Companies"
   ]
  },
  {
   "cell_type": "code",
   "execution_count": 117,
   "metadata": {},
   "outputs": [],
   "source": [
    "name = 'SYMBOLS__DELISTED'"
   ]
  },
  {
   "cell_type": "code",
   "execution_count": 118,
   "metadata": {},
   "outputs": [
    {
     "name": "stdout",
     "output_type": "stream",
     "text": [
      "CREATE TABLE \"SYMBOLS_DELISTED\" (\n",
      "\"symbol\" TEXT,\n",
      "  \"companyName\" TEXT,\n",
      "  \"exchange\" TEXT,\n",
      "  \"ipoDate\" TEXT,\n",
      "  \"delistedDate\" TEXT\n",
      ")\n",
      "CPU times: user 1.33 s, sys: 193 ms, total: 1.52 s\n",
      "Wall time: 25.6 s\n"
     ]
    }
   ],
   "source": [
    "%%time\n",
    "url = \"https://financialmodelingprep.com/api/v3/delisted-companies?limit=1000000000&apikey=\" + apikey\n",
    "tab = get_appended(url,tickers)\n",
    "tab.drop_duplicates(inplace=True)\n",
    "a = pd.io.sql.get_schema(tab,name)\n",
    "print(a)"
   ]
  },
  {
   "cell_type": "code",
   "execution_count": 119,
   "metadata": {},
   "outputs": [
    {
     "name": "stdout",
     "output_type": "stream",
     "text": [
      "('DXLG', 'Destination XL Group Inc', 'NASDAQ', '1992-02-25', '2021-02-10')\n"
     ]
    }
   ],
   "source": [
    "c.execute('drop table if exists '+name)\n",
    "c.execute(\"\"\"\n",
    "CREATE TABLE \"SYMBOLS_DELISTED\" (\n",
    "  \"symbol\" TEXT PRIMARY KEY,\n",
    "  \"companyName\" TEXT,\n",
    "  \"exchange\" TEXT,\n",
    "  \"ipoDate\" TEXT,\n",
    "  \"delistedDate\" TEXT\n",
    ")\"\"\")\n",
    "tab.to_sql(name,con=conn,index=False,if_exists='append')\n",
    "c.execute('select * from '+name+ ' limit 1')\n",
    "print(c.fetchall()[0][0:10],)"
   ]
  },
  {
   "cell_type": "markdown",
   "metadata": {},
   "source": [
    "## News"
   ]
  },
  {
   "cell_type": "code",
   "execution_count": 120,
   "metadata": {},
   "outputs": [],
   "source": [
    "prefix = 'ABOUT__'"
   ]
  },
  {
   "cell_type": "code",
   "execution_count": 121,
   "metadata": {},
   "outputs": [],
   "source": [
    "name = prefix + 'NEWS'"
   ]
  },
  {
   "cell_type": "code",
   "execution_count": 122,
   "metadata": {},
   "outputs": [
    {
     "name": "stdout",
     "output_type": "stream",
     "text": [
      "CREATE TABLE \"ABOUT__NEWS\" (\n",
      "\"symbol\" TEXT,\n",
      "  \"publishedDate\" TEXT,\n",
      "  \"title\" TEXT,\n",
      "  \"image\" TEXT,\n",
      "  \"site\" TEXT,\n",
      "  \"text\" TEXT,\n",
      "  \"url\" TEXT\n",
      ")\n",
      "CPU times: user 1.06 s, sys: 181 ms, total: 1.24 s\n",
      "Wall time: 28.1 s\n"
     ]
    }
   ],
   "source": [
    "%%time\n",
    "url = \"https://financialmodelingprep.com/api/v3/stock_news?tickers=***TICKER***&limit=1000000000&apikey=\" + apikey\n",
    "tab = get_appended(url,tickers)\n",
    "tab.drop_duplicates(inplace=True)\n",
    "a = pd.io.sql.get_schema(tab,name)\n",
    "print(a)"
   ]
  },
  {
   "cell_type": "code",
   "execution_count": 124,
   "metadata": {},
   "outputs": [
    {
     "name": "stdout",
     "output_type": "stream",
     "text": [
      "('CRM', '2021-02-10 20:46:03', 'Top Tech Stocks to Buy Amid Strong Earnings and Bullish Outlook', 'https://cdn.snapi.dev/images/v1/d/o/computer-electronic1.jpg', 'Zacks Investment Research', 'Technology impacts nearly every aspect of our lives and the economy, and with a bullish setup for 2021, investors might want to add a few tech names to their portfolios.', 'https://www.zacks.com/stock/news/1261316/top-tech-stocks-to-buy-amid-strong-earnings-and-bullish-outlook')\n"
     ]
    }
   ],
   "source": [
    "c.execute('drop table if exists '+name)\n",
    "c.execute(\"\"\"\n",
    "CREATE TABLE \"ABOUT__NEWS\" (\n",
    "\"symbol\" TEXT,\n",
    "  \"publishedDate\" TEXT,\n",
    "  \"title\" TEXT,\n",
    "  \"image\" TEXT,\n",
    "  \"site\" TEXT,\n",
    "  \"text\" TEXT,\n",
    "  \"url\" TEXT,\n",
    "  PRIMARY KEY (symbol,publishedDate,title)\n",
    ")\"\"\")\n",
    "tab.to_sql(name,con=conn,index=False,if_exists='append')\n",
    "c.execute('select * from '+name+ ' limit 1')\n",
    "print(c.fetchall()[0][0:10],)"
   ]
  },
  {
   "cell_type": "markdown",
   "metadata": {},
   "source": [
    "### Earnings Surprises"
   ]
  },
  {
   "cell_type": "code",
   "execution_count": 125,
   "metadata": {},
   "outputs": [],
   "source": [
    "name = prefix + 'EARNINGS_SUPRISES'"
   ]
  },
  {
   "cell_type": "code",
   "execution_count": 126,
   "metadata": {},
   "outputs": [
    {
     "name": "stdout",
     "output_type": "stream",
     "text": [
      "CREATE TABLE \"ABOUT__EARNINGS_SUPRISES\" (\n",
      "\"date\" TIMESTAMP,\n",
      "  \"symbol\" TEXT,\n",
      "  \"actualEarningResult\" REAL,\n",
      "  \"estimatedEarning\" REAL\n",
      ")\n",
      "CPU times: user 597 ms, sys: 25.6 ms, total: 623 ms\n",
      "Wall time: 11.9 s\n"
     ]
    }
   ],
   "source": [
    "%%time\n",
    "url = 'https://financialmodelingprep.com/api/v3/earnings-surpises/***TICKER***?apikey='+apikey\n",
    "tab = get_appended(url,tickers)\n",
    "tab.drop_duplicates(inplace=True)\n",
    "a = pd.io.sql.get_schema(tab,name)\n",
    "print(a)"
   ]
  },
  {
   "cell_type": "code",
   "execution_count": 128,
   "metadata": {},
   "outputs": [
    {
     "name": "stdout",
     "output_type": "stream",
     "text": [
      "('2020-12-01 00:00:00', 'CRM', 1.74, 0.75)\n"
     ]
    }
   ],
   "source": [
    "c.execute('drop table if exists '+name)\n",
    "c.execute(\"\"\"\n",
    "CREATE TABLE \"ABOUT__EARNINGS_SUPRISES\" (\n",
    "  \"date\" TIMESTAMP,\n",
    "  \"symbol\" TEXT,\n",
    "  \"actualEarningResult\" REAL,\n",
    "  \"estimatedEarning\" REAL,\n",
    "  PRIMARY KEY (symbol,date)\n",
    ")\"\"\")\n",
    "tab.to_sql(name,con=conn,index=False,if_exists='append')\n",
    "c.execute('select * from '+name+ ' limit 1')\n",
    "print(c.fetchall()[0][0:10],)"
   ]
  },
  {
   "cell_type": "markdown",
   "metadata": {},
   "source": [
    "## !!!Skipped(temporarily) - SEC Filings (see notes 2/10)"
   ]
  },
  {
   "cell_type": "markdown",
   "metadata": {},
   "source": [
    "## Press Releases"
   ]
  },
  {
   "cell_type": "code",
   "execution_count": 129,
   "metadata": {},
   "outputs": [],
   "source": [
    "name = prefix + 'PRESS_RELEASES'"
   ]
  },
  {
   "cell_type": "code",
   "execution_count": 130,
   "metadata": {},
   "outputs": [
    {
     "name": "stdout",
     "output_type": "stream",
     "text": [
      "CREATE TABLE \"ABOUT__PRESS_RELEASES\" (\n",
      "\"symbol\" TEXT,\n",
      "  \"date\" TIMESTAMP,\n",
      "  \"title\" TEXT,\n",
      "  \"text\" TEXT\n",
      ")\n",
      "CPU times: user 613 ms, sys: 41.3 ms, total: 654 ms\n",
      "Wall time: 12.5 s\n"
     ]
    }
   ],
   "source": [
    "%%time\n",
    "url = 'https://financialmodelingprep.com/api/v3/press-releases/***TICKER***?limit=1000000000&apikey='+apikey\n",
    "tab = get_appended(url,tickers)\n",
    "tab.drop_duplicates(inplace=True)\n",
    "a = pd.io.sql.get_schema(tab,name)\n",
    "print(a)"
   ]
  },
  {
   "cell_type": "code",
   "execution_count": 132,
   "metadata": {},
   "outputs": [
    {
     "name": "stdout",
     "output_type": "stream",
     "text": [
      "('CRM', '2021-01-12 08:15:00', 'Salesforce Introduces Loyalty Management to Help Drive More Meaningful Customer Loyalty Experiences', 'SAN FRANCISCO, JAN. 12, 2021 /PRNEWSWIRE/ -- SALESFORCE (NYSE: CRM), THE GLOBAL LEADER IN CRM, TODAY ANNOUNCED LOYALTY MANAGEMENT, A NEW PRODUCT FOR COMPANIES ACROSS INDUSTRIES, INCLUDING RETAIL, CONSUMER GOODS, MANUFACTURING, TRAVEL AND HOSPITALITY, TO INCREASE CUSTOMER TRUST AND...')\n"
     ]
    }
   ],
   "source": [
    "c.execute('drop table if exists '+name)\n",
    "c.execute(\"\"\"\n",
    "CREATE TABLE \"ABOUT__PRESS_RELEASES\" (\n",
    "\"symbol\" TEXT,\n",
    "  \"date\" TIMESTAMP,\n",
    "  \"title\" TEXT,\n",
    "  \"text\" TEXT\n",
    ")\"\"\")\n",
    "tab.to_sql(name,con=conn,index=False,if_exists='append')\n",
    "c.execute('select * from '+name+ ' limit 1')\n",
    "print(c.fetchall()[0][0:10],)"
   ]
  },
  {
   "cell_type": "code",
   "execution_count": 176,
   "metadata": {},
   "outputs": [],
   "source": [
    "text_file = open(\"schema.sql\", \"w\")\n",
    "text_file.write(a)\n",
    "text_file.close()"
   ]
  },
  {
   "cell_type": "code",
   "execution_count": 177,
   "metadata": {},
   "outputs": [
    {
     "data": {
      "text/plain": [
       "'CREATE TABLE \"CVALUATION__PROFILE\" (\\n\"symbol\" TEXT,\\n  \"price\" REAL,\\n  \"beta\" REAL,\\n  \"volAvg\" INTEGER,\\n  \"mktCap\" INTEGER,\\n  \"lastDiv\" REAL,\\n  \"range\" TEXT,\\n  \"changes\" REAL,\\n  \"companyName\" TEXT,\\n  \"currency\" TEXT,\\n  \"cik\" INTEGER,\\n  \"isin\" TEXT,\\n  \"cusip\" TEXT,\\n  \"exchange\" TEXT,\\n  \"exchangeShortName\" TEXT,\\n  \"industry\" TEXT,\\n  \"website\" TEXT,\\n  \"description\" TEXT,\\n  \"ceo\" TEXT,\\n  \"sector\" TEXT,\\n  \"country\" TEXT,\\n  \"fullTimeEmployees\" INTEGER,\\n  \"phone\" INTEGER,\\n  \"address\" TEXT,\\n  \"city\" TEXT,\\n  \"state\" TEXT,\\n  \"zip\" TEXT,\\n  \"dcfDiff\" REAL,\\n  \"dcf\" REAL,\\n  \"image\" TEXT,\\n  \"ipoDate\" TEXT,\\n  \"defaultImage\" INTEGER,\\n  \"isEtf\" INTEGER,\\n  \"isActivelyTrading\" INTEGER\\n)'"
      ]
     },
     "execution_count": 177,
     "metadata": {},
     "output_type": "execute_result"
    }
   ],
   "source": []
  },
  {
   "cell_type": "code",
   "execution_count": 186,
   "metadata": {},
   "outputs": [],
   "source": [
    "pd.Series({'A':'B','B':'C'}).to_json('json.json')"
   ]
  },
  {
   "cell_type": "code",
   "execution_count": null,
   "metadata": {},
   "outputs": [],
   "source": []
  }
 ],
 "metadata": {
  "kernelspec": {
   "display_name": "Python 3",
   "language": "python",
   "name": "python3"
  },
  "language_info": {
   "codemirror_mode": {
    "name": "ipython",
    "version": 3
   },
   "file_extension": ".py",
   "mimetype": "text/x-python",
   "name": "python",
   "nbconvert_exporter": "python",
   "pygments_lexer": "ipython3",
   "version": "3.7.6"
  }
 },
 "nbformat": 4,
 "nbformat_minor": 4
}
