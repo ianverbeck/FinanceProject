{
 "cells": [
  {
   "cell_type": "code",
   "execution_count": 1,
   "id": "continent-bangladesh",
   "metadata": {},
   "outputs": [],
   "source": [
    "from threading import Thread\n",
    "import concurrent.futures\n",
    "import time\n",
    "\n",
    "import sqlite3\n",
    "\n",
    "import pandas as pd\n",
    "import numpy as np\n",
    "from urllib.request import urlopen  \n",
    "import json\n",
    "import requests\n",
    "\n",
    "getkey = ! cat ../../apikey.txt\n",
    "apikey = getkey[0]\n",
    "\n",
    "from fhelp import get_appended,processDatesIT\n",
    "from FMPGet import FMPGet\n",
    "from getFunctions import ReqInfo"
   ]
  },
  {
   "cell_type": "code",
   "execution_count": null,
   "id": "actual-muscle",
   "metadata": {},
   "outputs": [],
   "source": []
  },
  {
   "cell_type": "code",
   "execution_count": 2,
   "id": "moved-tongue",
   "metadata": {},
   "outputs": [],
   "source": [
    "a = FMPGet(apikey,tickerset='sp500')"
   ]
  },
  {
   "cell_type": "code",
   "execution_count": 3,
   "id": "apparent-infrastructure",
   "metadata": {},
   "outputs": [
    {
     "name": "stdout",
     "output_type": "stream",
     "text": [
      "Collecting General Data................\n",
      "G1_MI_MAJORINDEXES SUCCESS\n",
      "G1_CAL_EARNINGSCALENDAR_UPC SUCCESS\n",
      "G1_MI_SP500LIST SUCCESS\n",
      "G1_MI_SP500HIST SUCCESS\n",
      "G1_CV_ETFS SUCCESS\n",
      "G1_MI_NASDAQLIST SUCCESS\n",
      "G1_MI_DOWJLIST SUCCESS\n",
      "G1_MI_DOWJHISTLIST SUCCESS\n",
      "G1_INST_CIKLIST SUCCESS\n",
      "G1_CV_DELISTED SUCCESS\n",
      "G1_MI_NASDAQHISTLIST SUCCESS\n",
      "G1_COM_SYMBOLS SUCCESS\n",
      "G1_COM_PRICES SUCCESS\n",
      "G1_ETF_SYMBOLS SUCCESS\n",
      "G1_ETF_PRICES SUCCESS\n",
      "G1_MF_SYMBOLS SUCCESS\n",
      "G1_CV_SYMBOLS SUCCESS\n",
      "G1_CV_TRADABLE SUCCESS\n",
      "G1_MF_PRICES SUCCESS\n",
      "Retrieving dow-specific tickerset(funds,ciks,indexes,etc)\n",
      "Retrieving stocks and indices\n",
      "Retrieving etfs and commods\n",
      "CV_PROFILE SUCCESS\n",
      "Retrieving funds, inst, and ciks\n",
      "INST_MUTFUNDHOLDERS SUCCESS\n",
      "INST_HOLDERS SUCCESS\n",
      "Retrieving ticker-dependent data\n",
      "CV_PROFILE SUCCESS\n",
      "CV_QUOTE SUCCESS\n",
      "CV_EXECUTIVES SUCCESS\n",
      "CV_FS_INCOME_YR SUCCESS\n",
      "CV_FS_INCOME_QTR SUCCESS\n",
      "CV_FS_BALANCESHEET_YR SUCCESS\n",
      "CV_FS_BALANCESHEET_QTR SUCCESS\n",
      "CV_FS_CASHFLOW_YR SUCCESS\n",
      "CV_FS_CASHFLOW_QTR SUCCESS\n",
      "CV_FS_INCOMEGROWTH_YR SUCCESS\n",
      "CV_FS_BALANCEGROWTH_YR SUCCESS\n",
      "CV_FS_CASHGROWTH_YR SUCCESS\n",
      "CV_RATIOS_TTM SUCCESS\n",
      "CV_RATIOS_YR SUCCESS\n",
      "CV_RATIOS_QTR SUCCESS\n",
      "CV_ENTERPRISEVALUE_YR SUCCESS\n",
      "CV_ENTERPRISEVALUE_QTR SUCCESS\n",
      "CV_METRICS_TTM SUCCESS\n",
      "CV_METRICS_YR SUCCESS\n",
      "CV_METRICS_QTR SUCCESS\n",
      "CV_GROWTH_YR SUCCESS\n",
      "Int64Index([125], dtype='int64')\n",
      "CV_GROWTH_QTR SUCCESS\n",
      "CV_RATING SUCCESS\n",
      "CV_RATING_DAY SUCCESS\n",
      "CV_DCF SUCCESS\n"
     ]
    },
    {
     "name": "stderr",
     "output_type": "stream",
     "text": [
      "/Users/verbeck/opt/anaconda3/lib/python3.7/site-packages/pandas/core/generic.py:2788: UserWarning: The spaces in these column names will not be changed. In pandas versions < 0.14, spaces were converted to underscores.\n",
      "  method=method,\n"
     ]
    },
    {
     "name": "stdout",
     "output_type": "stream",
     "text": [
      "CV_DCF_YR SUCCESS\n"
     ]
    },
    {
     "name": "stderr",
     "output_type": "stream",
     "text": [
      "/Users/verbeck/opt/anaconda3/lib/python3.7/site-packages/pandas/core/generic.py:2788: UserWarning: The spaces in these column names will not be changed. In pandas versions < 0.14, spaces were converted to underscores.\n",
      "  method=method,\n"
     ]
    },
    {
     "name": "stdout",
     "output_type": "stream",
     "text": [
      "CV_DCF_QTR SUCCESS\n"
     ]
    },
    {
     "name": "stderr",
     "output_type": "stream",
     "text": [
      "/Users/verbeck/opt/anaconda3/lib/python3.7/site-packages/pandas/core/generic.py:2788: UserWarning: The spaces in these column names will not be changed. In pandas versions < 0.14, spaces were converted to underscores.\n",
      "  method=method,\n"
     ]
    },
    {
     "name": "stdout",
     "output_type": "stream",
     "text": [
      "CV_DCF_DAY SUCCESS\n",
      "CV_MARKETCAP SUCCESS\n",
      "CV_MARKETCAP_DAY SUCCESS\n",
      "CV_NEWS SUCCESS\n",
      "CV_PRESSRELEASES SUCCESS\n",
      "INS_STOCKTRADING SUCCESS\n",
      "CAL_EARNINGSCALENDAR_HIST SUCCESS\n",
      "INST_HOLDERS SUCCESS\n",
      "INST_MUTFUNDHOLDERS SUCCESS\n",
      "INST_ETFHOLDERS SUCCESS\n",
      "INST_ETFSECTORWEIGHTS SUCCESS\n",
      "INST_ETFCOUNTRYWEIGHTS SUCCESS\n",
      "INST_13F SUCCESS\n",
      "TS_PRICE_DAY SUCCESS\n",
      "TS_DIVIDENDS_HIST SUCCESS\n",
      "TS_SPLITS_HIST SUCCESS\n",
      "MI_INDEXPRICEHIST_DAY SUCCESS\n",
      "COM_PRICES_DAY SUCCESS\n",
      "MF_PRICES_DAY SUCCESS\n",
      "CPU times: user 2min 51s, sys: 5.75 s, total: 2min 56s\n",
      "Wall time: 7min 12s\n"
     ]
    }
   ],
   "source": [
    "%%time \n",
    "a.run(verbose=True)"
   ]
  },
  {
   "cell_type": "code",
   "execution_count": 10,
   "id": "lined-mattress",
   "metadata": {},
   "outputs": [],
   "source": [
    "urls = pd.read_json('Resources/urls.json',typ='series')"
   ]
  },
  {
   "cell_type": "code",
   "execution_count": null,
   "id": "mature-conducting",
   "metadata": {},
   "outputs": [],
   "source": []
  },
  {
   "cell_type": "code",
   "execution_count": 11,
   "id": "awful-dodge",
   "metadata": {},
   "outputs": [],
   "source": [
    "independents = urls[[name for name in urls.index if name[0] == 'G']]\n",
    "dependents = urls[[name for name in urls.index if name[0] != 'G' and name[0] != 'U']]\n",
    "unused = urls[[name for name in urls.index if name[0] == 'U']]"
   ]
  },
  {
   "cell_type": "code",
   "execution_count": 12,
   "id": "qualified-stroke",
   "metadata": {},
   "outputs": [
    {
     "data": {
      "text/plain": [
       "P1b1000_CV_PROFILE              https://financialmodelingprep.com/api/v3/profi...\n",
       "H1b1000_CV_QUOTE                https://financialmodelingprep.com/api/v3/quote...\n",
       "S1_CV_EXECUTIVES                https://financialmodelingprep.com/api/v3/key-e...\n",
       "S1_CV_FS_INCOME_YR              https://financialmodelingprep.com/api/v3/incom...\n",
       "S1_CV_FS_INCOME_QTR             https://financialmodelingprep.com/api/v3/incom...\n",
       "S1_CV_FS_BALANCESHEET_YR        https://financialmodelingprep.com/api/v3/balan...\n",
       "S1_CV_FS_BALANCESHEET_QTR       https://financialmodelingprep.com/api/v3/balan...\n",
       "S1_CV_FS_CASHFLOW_YR            https://financialmodelingprep.com/api/v3/cash-...\n",
       "S1_CV_FS_CASHFLOW_QTR           https://financialmodelingprep.com/api/v3/cash-...\n",
       "S1_CV_FS_INCOMEGROWTH_YR        https://financialmodelingprep.com/api/v3/incom...\n",
       "S1_CV_FS_BALANCEGROWTH_YR       https://financialmodelingprep.com/api/v3/balan...\n",
       "S1_CV_FS_CASHGROWTH_YR          https://financialmodelingprep.com/api/v3/cash-...\n",
       "S1_CV_RATIOS_TTM                https://financialmodelingprep.com/api/v3/ratio...\n",
       "S1_CV_RATIOS_YR                 https://financialmodelingprep.com/api/v3/ratio...\n",
       "S1_CV_RATIOS_QTR                https://financialmodelingprep.com/api/v3/ratio...\n",
       "S1_CV_ENTERPRISEVALUE_YR        https://financialmodelingprep.com/api/v3/enter...\n",
       "S1_CV_ENTERPRISEVALUE_QTR       https://financialmodelingprep.com/api/v3/enter...\n",
       "S1_CV_METRICS_TTM               https://financialmodelingprep.com/api/v3/key-m...\n",
       "S1_CV_METRICS_YR                https://financialmodelingprep.com/api/v3/key-m...\n",
       "S1_CV_METRICS_QTR               https://financialmodelingprep.com/api/v3/key-m...\n",
       "S1_CV_GROWTH_YR                 https://financialmodelingprep.com/api/v3/finan...\n",
       "S1_CV_GROWTH_QTR                https://financialmodelingprep.com/api/v3/finan...\n",
       "S1_CV_RATING                    https://financialmodelingprep.com/api/v3/ratin...\n",
       "S1_CV_RATING_DAY                https://financialmodelingprep.com/api/v3/histo...\n",
       "S1_CV_DCF                       https://financialmodelingprep.com/api/v3/disco...\n",
       "S2_CV_DCF_YR                    https://financialmodelingprep.com/api/v3/histo...\n",
       "S2_CV_DCF_QTR                   https://financialmodelingprep.com/api/v3/histo...\n",
       "S1_CV_DCF_DAY                   https://financialmodelingprep.com/api/v3/histo...\n",
       "S1_CV_MARKETCAP                 https://financialmodelingprep.com/api/v3/marke...\n",
       "S1_CV_MARKETCAP_DAY             https://financialmodelingprep.com/api/v3/marke...\n",
       "T1b1000_CV_NEWS                 https://financialmodelingprep.com/api/v3/stock...\n",
       "T1_CV_PRESSRELEASES             https://financialmodelingprep.com/api/v3/press...\n",
       "S1_INS_STOCKTRADING             https://financialmodelingprep.com/api/v4/insid...\n",
       "S1_CAL_EARNINGSCALENDAR_HIST    https://financialmodelingprep.com/api/v3/histo...\n",
       "T1_INST_HOLDERS                 https://financialmodelingprep.com/api/v3/insti...\n",
       "T1_INST_MUTFUNDHOLDERS          https://financialmodelingprep.com/api/v3/mutua...\n",
       "E1_INST_ETFHOLDERS              https://financialmodelingprep.com/api/v3/etf-h...\n",
       "E1_INST_ETFSECTORWEIGHTS        https://financialmodelingprep.com/api/v3/etf-s...\n",
       "E1_INST_ETFCOUNTRYWEIGHTS       https://financialmodelingprep.com/api/v3/etf-c...\n",
       "F1_INST_13F                     https://financialmodelingprep.com/api/v3/form-...\n",
       "T3b3_TS_PRICE_DAY               https://financialmodelingprep.com/api/v3/histo...\n",
       "T3b3_TS_DIVIDENDS_HIST          https://financialmodelingprep.com/api/v3/histo...\n",
       "T3b3_TS_SPLITS_HIST             https://financialmodelingprep.com/api/v3/histo...\n",
       "I3b3_MI_INDEXPRICEHIST_DAY      https://financialmodelingprep.com/api/v3/histo...\n",
       "C3b3_COM_PRICES_DAY             https://financialmodelingprep.com/api/v3/histo...\n",
       "M3b3_MF_PRICES_DAY              https://financialmodelingprep.com/api/v3/histo...\n",
       "dtype: object"
      ]
     },
     "execution_count": 12,
     "metadata": {},
     "output_type": "execute_result"
    }
   ],
   "source": [
    "pd.set_option('max_rows',None)\n",
    "dependents"
   ]
  },
  {
   "cell_type": "code",
   "execution_count": null,
   "id": "owned-teacher",
   "metadata": {},
   "outputs": [],
   "source": [
    "! rm ../../FinancesTEST.db"
   ]
  },
  {
   "cell_type": "code",
   "execution_count": null,
   "id": "thorough-encyclopedia",
   "metadata": {},
   "outputs": [],
   "source": [
    "urls = pd.read_json('Resources/urls.json',typ='series')"
   ]
  },
  {
   "cell_type": "code",
   "execution_count": null,
   "id": "crude-japan",
   "metadata": {},
   "outputs": [],
   "source": [
    "#conn = sqlite3.connect('../../Finances.db')\n",
    "conn = sqlite3.connect('FinancesTEST.db')\n",
    "c = conn.cursor()"
   ]
  },
  {
   "cell_type": "code",
   "execution_count": null,
   "id": "early-sellers",
   "metadata": {},
   "outputs": [],
   "source": [
    "def load_url(pair,apikey):\n",
    "    name = pair[0]\n",
    "    url = pair[1]\n",
    "    tab = get_appended(url,apikey,name)\n",
    "    return tab"
   ]
  },
  {
   "cell_type": "code",
   "execution_count": null,
   "id": "important-fantasy",
   "metadata": {},
   "outputs": [],
   "source": [
    "%%time\n",
    "rate_limit = 10\n",
    "offset = 1/rate_limit\n",
    "max_workers = rate_limit -1\n",
    "with concurrent.futures.ThreadPoolExecutor(max_workers=max_workers) as executor:\n",
    "    # Start the load operations and mark each future with its URL\n",
    "    future_to_url = {executor.submit(load_url,pair,apikey): pair for pair in independents.iteritems()}\n",
    "    for future in concurrent.futures.as_completed(future_to_url):\n",
    "        time.sleep(offset)\n",
    "        pair = future_to_url[future]\n",
    "        try:\n",
    "            tab = future.result()\n",
    "        except Exception as exc:\n",
    "            print(pair,'FAILED',exc)\n",
    "            \n",
    "        else:\n",
    "            c.execute('drop table if exists '+ pair[0])\n",
    "            tab.to_sql(pair[0],con=conn,index=False,if_exists='append')\n",
    "            print(pair, 'SUCCESS')"
   ]
  },
  {
   "cell_type": "code",
   "execution_count": 8,
   "id": "historical-scene",
   "metadata": {},
   "outputs": [
    {
     "ename": "SyntaxError",
     "evalue": "invalid syntax (<ipython-input-8-4b37ef281455>, line 1)",
     "output_type": "error",
     "traceback": [
      "\u001b[0;36m  File \u001b[0;32m\"<ipython-input-8-4b37ef281455>\"\u001b[0;36m, line \u001b[0;32m1\u001b[0m\n\u001b[0;31m    |\u001b[0m\n\u001b[0m    ^\u001b[0m\n\u001b[0;31mSyntaxError\u001b[0m\u001b[0;31m:\u001b[0m invalid syntax\n"
     ]
    }
   ],
   "source": [
    "|"
   ]
  },
  {
   "cell_type": "code",
   "execution_count": null,
   "id": "prostate-halifax",
   "metadata": {},
   "outputs": [],
   "source": []
  },
  {
   "cell_type": "code",
   "execution_count": 14,
   "id": "whole-entrepreneur",
   "metadata": {},
   "outputs": [],
   "source": [
    "#setup database\n",
    "###FULL lists for full set processing\n",
    "stocks = list(pd.io.sql.read_sql('select symbol from G1_CV_SYMBOLS;',con=conn).symbol)\n",
    "etfs  = list(pd.io.sql.read_sql('select symbol from G1_ETF_SYMBOLS;',con=conn).symbol)\n",
    "etfs2  = list(pd.io.sql.read_sql('select symbol from G1_CV_ETFS;',con=conn).symbol)\n",
    "indexes = list(pd.io.sql.read_sql('select symbol from G1_MI_MAJORINDEXES;',con=conn).symbol)\n",
    "ciks = ['000'+str(c) for c in list(pd.io.sql.read_sql('select cik from G1_INST_CIKLIST',con=conn).cik)]\n",
    "funds = list(pd.io.sql.read_sql('select symbol from G1_MF_SYMBOLS;',con=conn).symbol)\n",
    "commods = list(pd.io.sql.read_sql('select symbol from G1_COM_SYMBOLS;',con=conn).symbol)\n",
    "##Light cleanup, nothing perfect –– could set this up using sql. \n",
    "\n",
    "#merge etf lists\n",
    "etfs_c = list(set(etfs).union(set(etfs2)))\n",
    "#leave stocks only \n",
    "stocks_c = list(set(stocks) - set(etfs_c + indexes + ciks + funds + commods))"
   ]
  },
  {
   "cell_type": "code",
   "execution_count": 15,
   "id": "progressive-speech",
   "metadata": {},
   "outputs": [],
   "source": [
    "#setup subset of tickers\n",
    "dow_tickers = list(pd.io.sql.read_sql('select symbol from G1_MI_DOWJLIST;',con=conn).symbol)\n",
    "nasdaq_tickers = list(pd.io.sql.read_sql('select symbol from G1_MI_NASDAQLIST;',con=conn).symbol)\n",
    "sp500_tickers = list(pd.io.sql.read_sql('select symbol from G1_MI_SP500LIST;',con=conn).symbol)"
   ]
  },
  {
   "cell_type": "code",
   "execution_count": 13,
   "id": "million-eagle",
   "metadata": {},
   "outputs": [],
   "source": [
    "#define subset to work with\n",
    "stocksub = dow_tickers\n",
    "#stocksub = sp500_tickers\n",
    "indexsub = ['^IXIC','^GSPC','^DJI']\n",
    "#indexsub = ['^IXIC','^GSPC','^DJI','^VIX','^RUA','^FTSE','^NDX','^N225','GDAXI']"
   ]
  },
  {
   "cell_type": "code",
   "execution_count": 14,
   "id": "round-serial",
   "metadata": {},
   "outputs": [],
   "source": [
    "#get top US etfs proportionate to stock list\n",
    "num_etfs = int(np.ceil(len(stocksub)/10))\n",
    "profile = get_appended(dependents['P1b1000_CV_PROFILE'],apikey,'P1b1000_CV_PROFILE',tickers = etfs_c)\n",
    "etfsub = list(profile[profile.country == 'US'].sort_values(by='volAvg',ascending=False).symbol[:num_etfs+1])\n",
    "tickersub = stocksub + etfsub"
   ]
  },
  {
   "cell_type": "code",
   "execution_count": 15,
   "id": "fifteen-dealer",
   "metadata": {},
   "outputs": [],
   "source": [
    "#get mutual fund data\n",
    "fundtable = get_appended(dependents['T1_INST_MUTFUNDHOLDERS'],apikey,'T1_INST_MUTFUNDHOLDERS',tickers=tickersub,verbose=False)\n",
    "fundsub = list(fundtable.holder.value_counts().index)"
   ]
  },
  {
   "cell_type": "code",
   "execution_count": 16,
   "id": "trying-bailey",
   "metadata": {},
   "outputs": [],
   "source": [
    "mfs = pd.io.sql.read_sql('select * from G1_MF_SYMBOLS;',con=conn)\n",
    "fundsub = list(np.random.choice(list(mfs[mfs.name.isin(fundsub)].symbol),int(np.ceil(len(stocksub)/3))))"
   ]
  },
  {
   "cell_type": "code",
   "execution_count": 17,
   "id": "fixed-marijuana",
   "metadata": {},
   "outputs": [],
   "source": [
    "#establish subset of commods\n",
    "#commodsub = commods[:3]\n",
    "commodsub = commods"
   ]
  },
  {
   "cell_type": "code",
   "execution_count": 18,
   "id": "failing-elder",
   "metadata": {},
   "outputs": [],
   "source": [
    "#get ciks of institutional holders for ciksub\n",
    "instable = get_appended(dependents['T1_INST_HOLDERS'],apikey,'T1_INST_HOLDERS',tickers=tickersub)\n",
    "instsub = list(instable.holder.value_counts().index)\n",
    "instsub = list(np.random.choice(instsub,500)) #account for many missing inst-cik mappings"
   ]
  },
  {
   "cell_type": "code",
   "execution_count": 19,
   "id": "comprehensive-astronomy",
   "metadata": {},
   "outputs": [],
   "source": [
    "#retrieve ciks\n",
    "ciklist = pd.io.sql.read_sql('select * from G1_INST_CIKLIST',con=conn)\n",
    "ciksub = list(ciklist[ciklist.name.apply(lambda x: x.lower()).isin([i.lower() for i in instsub])].cik)\n",
    "ciksub = ['000'+str(c) for c in (ciksub)]\n",
    "ciksub = [c for c in ciksub if len(c)==10]"
   ]
  },
  {
   "cell_type": "code",
   "execution_count": 20,
   "id": "fancy-characteristic",
   "metadata": {},
   "outputs": [],
   "source": [
    "#dictionary – nothing commodity, crypto, etc. specific\n",
    "d = {'H':stocksub + etfsub + commodsub + fundsub,\n",
    "     'P':stocksub + etfsub + fundsub,\n",
    "     'T':stocksub + etfsub,\n",
    "     'S':stocksub,\n",
    "     'E':etfsub,\n",
    "     'C':commodsub,\n",
    "     'F':ciksub,\n",
    "     'I':indexsub,\n",
    "     'M':fundsub}"
   ]
  },
  {
   "cell_type": "raw",
   "id": "affiliated-differential",
   "metadata": {},
   "source": [
    "%%time\n",
    "schemas = open(\"schema.sql\", \"a+\")\n",
    "for name, url in dependents.iteritems():\n",
    "    \n",
    "    tablename = '_'.join(name.split('_')[1:])\n",
    "    print(tablename)\n",
    "    \n",
    "    if name[0] == 'U':\n",
    "            continue \n",
    "    elif name[0]=='G': #if ticker info not needed\n",
    "        continue\n",
    "    else:\n",
    "        tab = get_appended(url,apikey,name,tickers=d.get(name[0]),verbose=True)\n",
    "    \n",
    "    if len(tab) == 0: \n",
    "        print(tablename,' FAILED')\n",
    "        #log error\n",
    "        continue\n",
    "    \n",
    "    #load sql\n",
    "    a = pd.io.sql.get_schema(tab,tablename)\n",
    "    c.execute('drop table if exists '+ tablename)\n",
    "    c.execute(a)\n",
    "    tosql = a +';\\n\\n'\n",
    "    schemas.write(tosql)\n",
    "    tab.to_sql(tablename,con=conn,index=False,if_exists='append')"
   ]
  },
  {
   "cell_type": "code",
   "execution_count": null,
   "id": "built-mustang",
   "metadata": {},
   "outputs": [],
   "source": []
  },
  {
   "cell_type": "code",
   "execution_count": 33,
   "id": "enabling-invention",
   "metadata": {},
   "outputs": [],
   "source": [
    "tempdf = pd.DataFrame()\n",
    "apikey = apikey\n",
    "name = \"S2_CV_DCF_YR\"\n",
    "url = \"https://financialmodelingprep.com/api/v3/historical-discounted-cash-flow/ ?limit=50&apikey=\"\n",
    "tickers = dow_tickers\n",
    "batch = False\n",
    "reqInfo = ReqInfo(10,1,5)\n",
    "verbose = True\n",
    "MAX_WORKERS = 5\n",
    "OFFSET = 1\n",
    "addsymbol = False"
   ]
  },
  {
   "cell_type": "code",
   "execution_count": null,
   "id": "mighty-actress",
   "metadata": {},
   "outputs": [],
   "source": []
  },
  {
   "cell_type": "code",
   "execution_count": 34,
   "id": "satisfied-organ",
   "metadata": {},
   "outputs": [],
   "source": [
    "def getRequestJ2(apikey,url,ticker,offset,verbose=False):\n",
    "    '''Return partial dataframe for ticker'''\n",
    "    \n",
    "    time.sleep(offset)\n",
    "    df = None\n",
    "    #create valid URL\n",
    "    final_url = url.replace(' ',ticker) + apikey\n",
    "    try:\n",
    "        jsonx = pd.read_json(final_url)\n",
    "        symbname = jsonx.columns[0]\n",
    "    \n",
    "        df = pd.DataFrame(jsonx.iloc[0,1])\n",
    "        df[symbname] = jsonx.loc[0,symbname]\n",
    "    except Exception as e :\n",
    "        print(e, '...ticker {} failed'.format(ticker))\n",
    "        \n",
    "    return df"
   ]
  },
  {
   "cell_type": "code",
   "execution_count": null,
   "id": "supported-corrections",
   "metadata": {},
   "outputs": [],
   "source": []
  },
  {
   "cell_type": "code",
   "execution_count": 35,
   "id": "designing-wyoming",
   "metadata": {},
   "outputs": [
    {
     "name": "stdout",
     "output_type": "stream",
     "text": [
      "CRM SUCCESS\n",
      "V SUCCESS\n",
      "NKE SUCCESS\n",
      "WBA SUCCESS\n",
      "WMT SUCCESS\n",
      "VZ SUCCESS\n",
      "INTC SUCCESS\n",
      "UNH SUCCESS\n",
      "TRV SUCCESS\n",
      "JNJ SUCCESS\n",
      "MCD SUCCESS\n",
      "DIS SUCCESS\n",
      "JPM SUCCESS\n",
      "AMGN SUCCESS\n",
      "BA SUCCESS\n",
      "DOW SUCCESS\n",
      "AAPL SUCCESS\n",
      "CAT SUCCESS\n",
      "CSCO SUCCESS\n",
      "GS SUCCESS\n",
      "MSFT SUCCESS\n",
      "HD SUCCESS\n",
      "PG SUCCESS\n",
      "MRK SUCCESS\n",
      "IBM SUCCESS\n",
      "KO SUCCESS\n",
      "HON SUCCESS\n",
      "CVX SUCCESS\n",
      "AXP SUCCESS\n",
      "MMM SUCCESS\n",
      "CPU times: user 527 ms, sys: 33 ms, total: 560 ms\n",
      "Wall time: 5.33 s\n"
     ]
    }
   ],
   "source": [
    "%%time\n",
    "with concurrent.futures.ThreadPoolExecutor(max_workers=9) as executor:\n",
    "    \n",
    "    #create future for each batch\n",
    "    future_to_tickers = {executor.submit(getRequestJ2,apikey,url,ticker,OFFSET,verbose=True): ticker for ticker in tickers}\n",
    "    \n",
    "    for future in concurrent.futures.as_completed(future_to_tickers,timeout=None):\n",
    "        \n",
    "        ticker = future_to_tickers[future]\n",
    "        try:\n",
    "            tab = future.result()\n",
    "        except Exception as e:\n",
    "            print(ticker,'FAILED',e)\n",
    "            \n",
    "        else:\n",
    "            if addsymbol:\n",
    "                tempdf['symbol'] = ticker\n",
    "            tempdf = tempdf.append(tab)\n",
    "            print(ticker, 'SUCCESS')"
   ]
  },
  {
   "cell_type": "code",
   "execution_count": 39,
   "id": "outer-blogger",
   "metadata": {},
   "outputs": [
    {
     "data": {
      "text/plain": [
       "30"
      ]
     },
     "execution_count": 39,
     "metadata": {},
     "output_type": "execute_result"
    }
   ],
   "source": [
    "len(tempdf.symbol.value_counts())"
   ]
  },
  {
   "cell_type": "code",
   "execution_count": null,
   "id": "fifth-regular",
   "metadata": {},
   "outputs": [],
   "source": []
  }
 ],
 "metadata": {
  "kernelspec": {
   "display_name": "Python 3",
   "language": "python",
   "name": "python3"
  },
  "language_info": {
   "codemirror_mode": {
    "name": "ipython",
    "version": 3
   },
   "file_extension": ".py",
   "mimetype": "text/x-python",
   "name": "python",
   "nbconvert_exporter": "python",
   "pygments_lexer": "ipython3",
   "version": "3.7.6"
  }
 },
 "nbformat": 4,
 "nbformat_minor": 5
}
