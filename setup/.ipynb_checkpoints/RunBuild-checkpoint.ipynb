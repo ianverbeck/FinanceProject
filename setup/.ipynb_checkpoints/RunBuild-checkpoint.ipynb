{
 "cells": [
  {
   "cell_type": "code",
   "execution_count": 1,
   "id": "valued-kruger",
   "metadata": {},
   "outputs": [],
   "source": [
    "getkey = ! cat ../../apikey.txt\n",
    "apikey = getkey[0]\n",
    "\n",
    "from FMPGet import FMPGet"
   ]
  },
  {
   "cell_type": "code",
   "execution_count": 2,
   "id": "sealed-internet",
   "metadata": {},
   "outputs": [],
   "source": [
    "a = FMPGet(apikey,db_name = 'random', tickerlist = ['AAPL','GSL','F','DAC','SECO','GOOGL','GOOG','BNED','SSY','ATAX','UBFO','RVSB'])"
   ]
  },
  {
   "cell_type": "code",
   "execution_count": 3,
   "id": "chronic-beauty",
   "metadata": {},
   "outputs": [
    {
     "name": "stdout",
     "output_type": "stream",
     "text": [
      "Collecting General Data................\n",
      "G1_MI_MAJORINDEXES SUCCESS\n",
      "G1_CAL_EARNINGSCALENDAR_UPC SUCCESS\n",
      "G1_MI_SP500LIST SUCCESS\n",
      "G1_MI_SP500HIST SUCCESS\n",
      "G1_CV_ETFS SUCCESS\n",
      "G1_CV_DELISTED SUCCESS\n",
      "G1_INST_CIKLIST SUCCESS\n",
      "G1_MI_DOWJLIST SUCCESS\n",
      "G1_MI_DOWJHISTLIST SUCCESS\n",
      "G1_MI_NASDAQHISTLIST SUCCESS\n",
      "G1_MI_NASDAQLIST SUCCESS\n",
      "G1_COM_SYMBOLS SUCCESS\n",
      "G1_CV_SYMBOLS SUCCESS\n",
      "G1_CV_TRADABLE SUCCESS\n",
      "G1_COM_PRICES SUCCESS\n",
      "G1_ETF_SYMBOLS SUCCESS\n",
      "G1_ETF_PRICES SUCCESS\n",
      "G1_MF_SYMBOLS SUCCESS\n",
      "G1_MF_PRICES SUCCESS\n",
      "Retrieving dow-specific tickerset(funds,ciks,indexes,etc)\n",
      "Retrieving stocks and indices\n",
      "Retrieving etfs and commods\n",
      "CV_PROFILE SUCCESS\n",
      "Retrieving funds, inst, and ciks\n",
      "INST_MUTFUNDHOLDERS SUCCESS\n",
      "INST_HOLDERS SUCCESS\n",
      "Retrieving ticker-dependent data\n",
      "CV_PROFILE SUCCESS\n",
      "CV_QUOTE SUCCESS\n",
      "CV_EXECUTIVES SUCCESS\n",
      "CV_FS_INCOME_YR SUCCESS\n",
      "CV_FS_INCOME_QTR SUCCESS\n",
      "CV_FS_BALANCESHEET_YR SUCCESS\n",
      "CV_FS_BALANCESHEET_QTR SUCCESS\n",
      "CV_FS_CASHFLOW_YR SUCCESS\n",
      "CV_FS_CASHFLOW_QTR SUCCESS\n",
      "CV_FS_INCOMEGROWTH_YR SUCCESS\n",
      "CV_FS_BALANCEGROWTH_YR SUCCESS\n",
      "CV_FS_CASHGROWTH_YR SUCCESS\n",
      "CV_RATIOS_TTM SUCCESS\n",
      "CV_RATIOS_YR SUCCESS\n",
      "CV_RATIOS_QTR SUCCESS\n",
      "CV_ENTERPRISEVALUE_YR SUCCESS\n",
      "CV_ENTERPRISEVALUE_QTR SUCCESS\n",
      "CV_METRICS_TTM SUCCESS\n",
      "CV_METRICS_YR SUCCESS\n",
      "CV_METRICS_QTR SUCCESS\n",
      "CV_GROWTH_YR SUCCESS\n",
      "CV_GROWTH_QTR SUCCESS\n",
      "CV_RATING SUCCESS\n",
      "CV_RATING_DAY SUCCESS\n",
      "CV_DCF SUCCESS\n"
     ]
    },
    {
     "name": "stderr",
     "output_type": "stream",
     "text": [
      "/Users/verbeck/opt/anaconda3/lib/python3.7/site-packages/pandas/core/generic.py:2788: UserWarning: The spaces in these column names will not be changed. In pandas versions < 0.14, spaces were converted to underscores.\n",
      "  method=method,\n"
     ]
    },
    {
     "name": "stdout",
     "output_type": "stream",
     "text": [
      "CV_DCF_YR SUCCESS\n"
     ]
    },
    {
     "name": "stderr",
     "output_type": "stream",
     "text": [
      "/Users/verbeck/opt/anaconda3/lib/python3.7/site-packages/pandas/core/generic.py:2788: UserWarning: The spaces in these column names will not be changed. In pandas versions < 0.14, spaces were converted to underscores.\n",
      "  method=method,\n"
     ]
    },
    {
     "name": "stdout",
     "output_type": "stream",
     "text": [
      "CV_DCF_QTR SUCCESS\n"
     ]
    },
    {
     "name": "stderr",
     "output_type": "stream",
     "text": [
      "/Users/verbeck/opt/anaconda3/lib/python3.7/site-packages/pandas/core/generic.py:2788: UserWarning: The spaces in these column names will not be changed. In pandas versions < 0.14, spaces were converted to underscores.\n",
      "  method=method,\n"
     ]
    },
    {
     "name": "stdout",
     "output_type": "stream",
     "text": [
      "CV_DCF_DAY SUCCESS\n",
      "CV_MARKETCAP SUCCESS\n",
      "CV_MARKETCAP_DAY SUCCESS\n",
      "CV_NEWS SUCCESS\n",
      "CV_PRESSRELEASES SUCCESS\n",
      "INS_STOCKTRADING SUCCESS\n",
      "CAL_EARNINGSCALENDAR_HIST SUCCESS\n",
      "INST_HOLDERS SUCCESS\n",
      "INST_MUTFUNDHOLDERS SUCCESS\n",
      "INST_ETFHOLDERS SUCCESS\n",
      "INST_ETFSECTORWEIGHTS SUCCESS\n",
      "INST_ETFCOUNTRYWEIGHTS SUCCESS\n",
      "INST_13F SUCCESS\n",
      "TS_PRICE_DAY SUCCESS\n",
      "TS_DIVIDENDS_HIST SUCCESS\n",
      "TS_SPLITS_HIST SUCCESS\n",
      "MI_INDEXPRICEHIST_DAY SUCCESS\n",
      "COM_PRICES_DAY SUCCESS\n",
      "MF_PRICES_DAY SUCCESS\n",
      "CPU times: user 47.5 s, sys: 1.87 s, total: 49.4 s\n",
      "Wall time: 3min 1s\n"
     ]
    }
   ],
   "source": [
    "%%time \n",
    "a.run(verbose=True)"
   ]
  },
  {
   "cell_type": "code",
   "execution_count": null,
   "id": "accompanied-letter",
   "metadata": {},
   "outputs": [],
   "source": []
  },
  {
   "cell_type": "code",
   "execution_count": null,
   "id": "provincial-nevada",
   "metadata": {},
   "outputs": [],
   "source": []
  }
 ],
 "metadata": {
  "kernelspec": {
   "display_name": "Python 3",
   "language": "python",
   "name": "python3"
  },
  "language_info": {
   "codemirror_mode": {
    "name": "ipython",
    "version": 3
   },
   "file_extension": ".py",
   "mimetype": "text/x-python",
   "name": "python",
   "nbconvert_exporter": "python",
   "pygments_lexer": "ipython3",
   "version": "3.7.6"
  }
 },
 "nbformat": 4,
 "nbformat_minor": 5
}
