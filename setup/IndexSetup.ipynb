{
 "cells": [
  {
   "cell_type": "code",
   "execution_count": 4,
   "id": "hybrid-chain",
   "metadata": {},
   "outputs": [],
   "source": [
    "import sqlite3\n",
    "\n",
    "import pandas as pd\n",
    "import numpy as np\n",
    "from urllib.request import urlopen  \n",
    "import json\n",
    "\n",
    "getkey = ! cat ../../apikey.txt\n",
    "apikey = getkey[0]\n",
    "\n",
    "from fhelp import get_appended,process_datesIT"
   ]
  },
  {
   "cell_type": "code",
   "execution_count": 5,
   "id": "loaded-stock",
   "metadata": {},
   "outputs": [],
   "source": [
    "urls = pd.read_json('Resources/urls.json',typ='series')"
   ]
  },
  {
   "cell_type": "code",
   "execution_count": 6,
   "id": "practical-figure",
   "metadata": {},
   "outputs": [],
   "source": [
    "independents = urls[[name for name in urls.index if name[0] == 'G']]\n",
    "dependents = urls[[name for name in urls.index if name[0] != 'G' and name[0] != 'U']]\n",
    "unused = urls[[name for name in urls.index if name[0] == 'U']]"
   ]
  },
  {
   "cell_type": "code",
   "execution_count": 7,
   "id": "retained-lodging",
   "metadata": {},
   "outputs": [
    {
     "name": "stdout",
     "output_type": "stream",
     "text": []
    },
    {
     "name": "stdout",
     "output_type": "stream",
     "text": []
    },
    {
     "name": "stdout",
     "output_type": "stream",
     "text": []
    },
    {
     "name": "stdout",
     "output_type": "stream",
     "text": []
    }
   ],
   "source": [
    "! rm ../../Finances.db\n",
    "! rm schema.sql"
   ]
  },
  {
   "cell_type": "code",
   "execution_count": 8,
   "id": "sweet-sessions",
   "metadata": {},
   "outputs": [],
   "source": [
    "urls = pd.read_json('Resources/urls.json',typ='series')"
   ]
  },
  {
   "cell_type": "code",
   "execution_count": 9,
   "id": "parliamentary-blues",
   "metadata": {},
   "outputs": [],
   "source": [
    "conn = sqlite3.connect('../../Finances.db')\n",
    "c = conn.cursor()\n",
    "schemas = open(\"schema.sql\", \"a+\")"
   ]
  },
  {
   "cell_type": "code",
   "execution_count": 10,
   "id": "boolean-hydrogen",
   "metadata": {},
   "outputs": [
    {
     "name": "stdout",
     "output_type": "stream",
     "text": [
      "G1_CV_SYMBOLS https://financialmodelingprep.com/api/v3/stock/list?apikey=\n",
      "G1_CV_ETFS https://financialmodelingprep.com/api/v3/etf/list?apikey=\n",
      "G1_CV_TRADABLE https://financialmodelingprep.com/api/v3/available-traded/list?apikey=\n",
      "G1_CV_DELISTED https://financialmodelingprep.com/api/v3/delisted-companies?limit=1000000000&apikey=\n",
      "G1_CAL_EARNINGSCALENDAR_UPC https://financialmodelingprep.com/api/v3/earning_calendar?apikey=\n",
      "G1_INST_CIKLIST https://financialmodelingprep.com/api/v3/cik_list?apikey=\n",
      "G1_MI_MAJORINDEXES https://financialmodelingprep.com/api/v3/quotes/index?apikey=\n",
      "G1_MI_SP500LIST https://financialmodelingprep.com/api/v3/sp500_constituent?apikey=\n",
      "G1_MI_SP500HIST https://financialmodelingprep.com/api/v3/historical/sp500_constituent?apikey=\n",
      "G1_MI_NASDAQLIST https://financialmodelingprep.com/api/v3/nasdaq_constituent?apikey=\n",
      "G1_MI_NASDAQHISTLIST https://financialmodelingprep.com/api/v3/historical/nasdaq_constituent?apikey=\n",
      "G1_MI_DOWJLIST https://financialmodelingprep.com/api/v3/dowjones_constituent?apikey=\n",
      "G1_MI_DOWJHISTLIST https://financialmodelingprep.com/api/v3/historical/dowjones_constituent?apikey=\n",
      "G1_COM_SYMBOLS https://financialmodelingprep.com/api/v3/symbol/available-commodities?apikey=\n",
      "G1_COM_PRICES https://financialmodelingprep.com/api/v3/quotes/commodity?apikey=\n",
      "G1_ETF_SYMBOLS https://financialmodelingprep.com/api/v3/symbol/available-etfs?apikey=\n",
      "G1_ETF_PRICES https://financialmodelingprep.com/api/v3/quotes/etf?apikey=\n",
      "G1_MF_SYMBOLS https://financialmodelingprep.com/api/v3/symbol/available-mutual-funds?apikey=\n",
      "G1_MF_PRICES https://financialmodelingprep.com/api/v3/quotes/mutual_fund?apikey=\n",
      "CPU times: user 1.01 s, sys: 115 ms, total: 1.12 s\n",
      "Wall time: 17 s\n"
     ]
    }
   ],
   "source": [
    "%%time\n",
    "for name, url in independents.iteritems():\n",
    "    print(name,url)\n",
    "    tab = get_appended(url,apikey,name)\n",
    "    a = pd.io.sql.get_schema(tab,name)\n",
    "    c.execute('drop table if exists '+ name)\n",
    "    c.execute(a)\n",
    "    tosql = a +';\\n\\n'\n",
    "    schemas.write(tosql)\n",
    "    tab.to_sql(name,con=conn,index=False,if_exists='append')"
   ]
  },
  {
   "cell_type": "code",
   "execution_count": 11,
   "id": "intense-classification",
   "metadata": {},
   "outputs": [],
   "source": [
    "#setup database\n",
    "###FULL lists for full set processing\n",
    "stocks = list(pd.io.sql.read_sql('select symbol from G1_CV_SYMBOLS;',con=conn).symbol)\n",
    "etfs  = list(pd.io.sql.read_sql('select symbol from G1_ETF_SYMBOLS;',con=conn).symbol)\n",
    "etfs2  = list(pd.io.sql.read_sql('select symbol from G1_CV_ETFS;',con=conn).symbol)\n",
    "indexes = list(pd.io.sql.read_sql('select symbol from G1_MI_MAJORINDEXES;',con=conn).symbol)\n",
    "ciks = ['000'+str(c) for c in list(pd.io.sql.read_sql('select cik from G1_INST_CIKLIST',con=conn).cik)]\n",
    "funds = list(pd.io.sql.read_sql('select symbol from G1_MF_SYMBOLS;',con=conn).symbol)\n",
    "commods = list(pd.io.sql.read_sql('select symbol from G1_COM_SYMBOLS;',con=conn).symbol)\n",
    "##Light cleanup, nothing perfect –– could set this up using sql. \n",
    "\n",
    "#merge etf lists\n",
    "etfs_c = list(set(etfs).union(set(etfs2)))\n",
    "#leave stocks only \n",
    "stocks_c = list(set(stocks) - set(etfs_c + indexes + ciks + funds + commods))"
   ]
  },
  {
   "cell_type": "code",
   "execution_count": 12,
   "id": "significant-listing",
   "metadata": {},
   "outputs": [],
   "source": [
    "#setup subset of tickers\n",
    "dow_tickers = list(pd.io.sql.read_sql('select symbol from G1_MI_DOWJLIST;',con=conn).symbol)\n",
    "nasdaq_tickers = list(pd.io.sql.read_sql('select symbol from G1_MI_NASDAQLIST;',con=conn).symbol)\n",
    "sp500_tickers = list(pd.io.sql.read_sql('select symbol from G1_MI_SP500LIST;',con=conn).symbol)"
   ]
  },
  {
   "cell_type": "code",
   "execution_count": 13,
   "id": "accessory-diversity",
   "metadata": {},
   "outputs": [],
   "source": [
    "#define subset to work with\n",
    "stocksub = dow_tickers\n",
    "indexsub = ['^IXIC','^GSPC','^DJI']"
   ]
  },
  {
   "cell_type": "code",
   "execution_count": 14,
   "id": "flexible-medicare",
   "metadata": {},
   "outputs": [],
   "source": [
    "#get top US etfs proportionate to stock list\n",
    "num_etfs = int(np.ceil(len(stocksub)/10))\n",
    "profile = get_appended(dependents['P1b1000_CV_PROFILE'],apikey,'P1b1000_CV_PROFILE',tickers = etfs_c)\n",
    "etfsub = list(profile[profile.country == 'US'].sort_values(by='volAvg',ascending=False).symbol[:num_etfs+1])\n",
    "tickersub = stocksub + etfsub"
   ]
  },
  {
   "cell_type": "code",
   "execution_count": 15,
   "id": "female-respect",
   "metadata": {},
   "outputs": [],
   "source": [
    "#get mutual fund data\n",
    "fundtable = get_appended(dependents['T1_INST_MUTFUNDHOLDERS'],apikey,'T1_INST_MUTFUNDHOLDERS',tickers=tickersub)\n",
    "fundsub = list(fundtable.holder.value_counts().index)"
   ]
  },
  {
   "cell_type": "code",
   "execution_count": 16,
   "id": "tutorial-shooting",
   "metadata": {},
   "outputs": [],
   "source": [
    "mfs = pd.io.sql.read_sql('select * from G1_MF_SYMBOLS;',con=conn)\n",
    "fundsub = list(np.random.choice(list(mfs[mfs.name.isin(fundsub)].symbol),int(np.ceil(len(stocksub)/3))))"
   ]
  },
  {
   "cell_type": "code",
   "execution_count": 17,
   "id": "entertaining-rotation",
   "metadata": {},
   "outputs": [],
   "source": [
    "#establish subset of commods\n",
    "commodsub = commods[:3]"
   ]
  },
  {
   "cell_type": "code",
   "execution_count": 18,
   "id": "handmade-westminster",
   "metadata": {},
   "outputs": [],
   "source": [
    "#get ciks of institutional holders for ciksub\n",
    "instable = get_appended(dependents['T1_INST_HOLDERS'],apikey,'T1_INST_HOLDERS',tickers=tickersub)\n",
    "instsub = list(instable.holder.value_counts().index)\n",
    "instsub = list(np.random.choice(instsub,50)) #account for many missing inst-cik mappings"
   ]
  },
  {
   "cell_type": "code",
   "execution_count": 42,
   "id": "transparent-wildlife",
   "metadata": {},
   "outputs": [],
   "source": [
    "#retrieve ciks\n",
    "ciklist = pd.io.sql.read_sql('select * from G1_INST_CIKLIST',con=conn)\n",
    "ciksub = list(ciklist[ciklist.name.apply(lambda x: x.lower()).isin([i.lower() for i in instsub])].cik)\n",
    "ciksub = ['000'+str(c) for c in (ciksub)]"
   ]
  },
  {
   "cell_type": "code",
   "execution_count": 43,
   "id": "appreciated-updating",
   "metadata": {},
   "outputs": [],
   "source": [
    "#dictionary – nothing commodity, crypto, etc. specific\n",
    "d = {'H':stocksub + etfsub + commods + fundsub,\n",
    "     'P':stocksub + etfsub + fundsub,\n",
    "     'T':stocksub + etfsub,\n",
    "     'S':stocksub,\n",
    "     'E':etfsub,\n",
    "     'C':commodsub,\n",
    "     'F':ciksub,\n",
    "     'I':indexsub,\n",
    "     'M':fundsub}"
   ]
  },
  {
   "cell_type": "code",
   "execution_count": 44,
   "id": "affiliated-marketplace",
   "metadata": {},
   "outputs": [],
   "source": [
    "dependentsub = dependents.iloc[38:40]"
   ]
  },
  {
   "cell_type": "code",
   "execution_count": 45,
   "id": "miniature-smile",
   "metadata": {},
   "outputs": [
    {
     "name": "stdout",
     "output_type": "stream",
     "text": [
      "E1_INST_ETFCOUNTRYWEIGHTS\n"
     ]
    },
    {
     "ename": "KeyboardInterrupt",
     "evalue": "",
     "output_type": "error",
     "traceback": [
      "\u001b[0;31m---------------------------------------------------------------------------\u001b[0m\n\u001b[0;31mKeyboardInterrupt\u001b[0m                         Traceback (most recent call last)",
      "File \u001b[0;34m/Users/verbeck/opt/anaconda3/envs/jupyterlab-debugger/lib/python3.9/site-packages/IPython/core/interactiveshell.py\u001b[0m, in \u001b[0;32mrun_code\u001b[0m:\nLine \u001b[0;34m3437\u001b[0m:  exec(code_obj, \u001b[36mself\u001b[39;49;00m.user_global_ns, \u001b[36mself\u001b[39;49;00m.user_ns)\n",
      "In  \u001b[0;34m[45]\u001b[0m:\nLine \u001b[0;34m10\u001b[0m:    tab = get_appended(url,apikey,name,tickers=d.get(name[\u001b[34m0\u001b[39;49;00m]))\n",
      "File \u001b[0;34m/Users/verbeck/Desktop/Finance/Technology/Project/setup/fhelp.py\u001b[0m, in \u001b[0;32mget_appended\u001b[0m:\nLine \u001b[0;34m68\u001b[0m:    df = pd.read_json(final_url)\n",
      "File \u001b[0;34m/Users/verbeck/opt/anaconda3/envs/jupyterlab-debugger/lib/python3.9/site-packages/pandas/util/_decorators.py\u001b[0m, in \u001b[0;32mwrapper\u001b[0m:\nLine \u001b[0;34m199\u001b[0m:   \u001b[34mreturn\u001b[39;49;00m func(*args, **kwargs)\n",
      "File \u001b[0;34m/Users/verbeck/opt/anaconda3/envs/jupyterlab-debugger/lib/python3.9/site-packages/pandas/util/_decorators.py\u001b[0m, in \u001b[0;32mwrapper\u001b[0m:\nLine \u001b[0;34m299\u001b[0m:   \u001b[34mreturn\u001b[39;49;00m func(*args, **kwargs)\n",
      "File \u001b[0;34m/Users/verbeck/opt/anaconda3/envs/jupyterlab-debugger/lib/python3.9/site-packages/pandas/io/json/_json.py\u001b[0m, in \u001b[0;32mread_json\u001b[0m:\nLine \u001b[0;34m540\u001b[0m:   json_reader = JsonReader(\n",
      "File \u001b[0;34m/Users/verbeck/opt/anaconda3/envs/jupyterlab-debugger/lib/python3.9/site-packages/pandas/io/json/_json.py\u001b[0m, in \u001b[0;32m__init__\u001b[0m:\nLine \u001b[0;34m622\u001b[0m:   data = \u001b[36mself\u001b[39;49;00m._get_data_from_filepath(filepath_or_buffer)\n",
      "File \u001b[0;34m/Users/verbeck/opt/anaconda3/envs/jupyterlab-debugger/lib/python3.9/site-packages/pandas/io/json/_json.py\u001b[0m, in \u001b[0;32m_get_data_from_filepath\u001b[0m:\nLine \u001b[0;34m659\u001b[0m:   \u001b[36mself\u001b[39;49;00m.handles = get_handle(\n",
      "File \u001b[0;34m/Users/verbeck/opt/anaconda3/envs/jupyterlab-debugger/lib/python3.9/site-packages/pandas/io/common.py\u001b[0m, in \u001b[0;32mget_handle\u001b[0m:\nLine \u001b[0;34m558\u001b[0m:   ioargs = _get_filepath_or_buffer(\n",
      "File \u001b[0;34m/Users/verbeck/opt/anaconda3/envs/jupyterlab-debugger/lib/python3.9/site-packages/pandas/io/common.py\u001b[0m, in \u001b[0;32m_get_filepath_or_buffer\u001b[0m:\nLine \u001b[0;34m289\u001b[0m:   req = urlopen(filepath_or_buffer)\n",
      "File \u001b[0;34m/Users/verbeck/opt/anaconda3/envs/jupyterlab-debugger/lib/python3.9/site-packages/pandas/io/common.py\u001b[0m, in \u001b[0;32murlopen\u001b[0m:\nLine \u001b[0;34m195\u001b[0m:   \u001b[34mreturn\u001b[39;49;00m urllib.request.urlopen(*args, **kwargs)\n",
      "File \u001b[0;34m/Users/verbeck/opt/anaconda3/envs/jupyterlab-debugger/lib/python3.9/urllib/request.py\u001b[0m, in \u001b[0;32murlopen\u001b[0m:\nLine \u001b[0;34m214\u001b[0m:   \u001b[34mreturn\u001b[39;49;00m opener.open(url, data, timeout)\n",
      "File \u001b[0;34m/Users/verbeck/opt/anaconda3/envs/jupyterlab-debugger/lib/python3.9/urllib/request.py\u001b[0m, in \u001b[0;32mopen\u001b[0m:\nLine \u001b[0;34m517\u001b[0m:   response = \u001b[36mself\u001b[39;49;00m._open(req, data)\n",
      "File \u001b[0;34m/Users/verbeck/opt/anaconda3/envs/jupyterlab-debugger/lib/python3.9/urllib/request.py\u001b[0m, in \u001b[0;32m_open\u001b[0m:\nLine \u001b[0;34m534\u001b[0m:   result = \u001b[36mself\u001b[39;49;00m._call_chain(\u001b[36mself\u001b[39;49;00m.handle_open, protocol, protocol +\n",
      "File \u001b[0;34m/Users/verbeck/opt/anaconda3/envs/jupyterlab-debugger/lib/python3.9/urllib/request.py\u001b[0m, in \u001b[0;32m_call_chain\u001b[0m:\nLine \u001b[0;34m494\u001b[0m:   result = func(*args)\n",
      "File \u001b[0;34m/Users/verbeck/opt/anaconda3/envs/jupyterlab-debugger/lib/python3.9/urllib/request.py\u001b[0m, in \u001b[0;32mhttps_open\u001b[0m:\nLine \u001b[0;34m1389\u001b[0m:  \u001b[34mreturn\u001b[39;49;00m \u001b[36mself\u001b[39;49;00m.do_open(http.client.HTTPSConnection, req,\n",
      "File \u001b[0;34m/Users/verbeck/opt/anaconda3/envs/jupyterlab-debugger/lib/python3.9/urllib/request.py\u001b[0m, in \u001b[0;32mdo_open\u001b[0m:\nLine \u001b[0;34m1350\u001b[0m:  r = h.getresponse()\n",
      "File \u001b[0;34m/Users/verbeck/opt/anaconda3/envs/jupyterlab-debugger/lib/python3.9/http/client.py\u001b[0m, in \u001b[0;32mgetresponse\u001b[0m:\nLine \u001b[0;34m1347\u001b[0m:  response.begin()\n",
      "File \u001b[0;34m/Users/verbeck/opt/anaconda3/envs/jupyterlab-debugger/lib/python3.9/http/client.py\u001b[0m, in \u001b[0;32mbegin\u001b[0m:\nLine \u001b[0;34m307\u001b[0m:   version, status, reason = \u001b[36mself\u001b[39;49;00m._read_status()\n",
      "File \u001b[0;34m/Users/verbeck/opt/anaconda3/envs/jupyterlab-debugger/lib/python3.9/http/client.py\u001b[0m, in \u001b[0;32m_read_status\u001b[0m:\nLine \u001b[0;34m268\u001b[0m:   line = \u001b[36mstr\u001b[39;49;00m(\u001b[36mself\u001b[39;49;00m.fp.readline(_MAXLINE + \u001b[34m1\u001b[39;49;00m), \u001b[33m\"\u001b[39;49;00m\u001b[33miso-8859-1\u001b[39;49;00m\u001b[33m\"\u001b[39;49;00m)\n",
      "File \u001b[0;34m/Users/verbeck/opt/anaconda3/envs/jupyterlab-debugger/lib/python3.9/socket.py\u001b[0m, in \u001b[0;32mreadinto\u001b[0m:\nLine \u001b[0;34m704\u001b[0m:   \u001b[34mreturn\u001b[39;49;00m \u001b[36mself\u001b[39;49;00m._sock.recv_into(b)\n",
      "File \u001b[0;34m/Users/verbeck/opt/anaconda3/envs/jupyterlab-debugger/lib/python3.9/ssl.py\u001b[0m, in \u001b[0;32mrecv_into\u001b[0m:\nLine \u001b[0;34m1241\u001b[0m:  \u001b[34mreturn\u001b[39;49;00m \u001b[36mself\u001b[39;49;00m.read(nbytes, buffer)\n",
      "File \u001b[0;34m/Users/verbeck/opt/anaconda3/envs/jupyterlab-debugger/lib/python3.9/ssl.py\u001b[0m, in \u001b[0;32mread\u001b[0m:\nLine \u001b[0;34m1099\u001b[0m:  \u001b[34mreturn\u001b[39;49;00m \u001b[36mself\u001b[39;49;00m._sslobj.read(\u001b[36mlen\u001b[39;49;00m, buffer)\n",
      "\u001b[0;31mKeyboardInterrupt\u001b[0m: \n\u001b[0;31m---------------------------------------------------------------------------\u001b[0m"
     ]
    }
   ],
   "source": [
    "#%%time\n",
    "schemas = open(\"schema.sql\", \"a+\")\n",
    "for name, url in dependentsub.iteritems():\n",
    "    print(name)\n",
    "    if name[0] == 'U':\n",
    "            continue \n",
    "    elif name[0]=='G': #if ticker info not needed\n",
    "        tab = get_appended(url,apikey,name)\n",
    "    else:\n",
    "        tab = get_appended(url,apikey,name,tickers=d.get(name[0]))\n",
    "    if len(tab) == 0: \n",
    "        print(name,' FAILED')\n",
    "        #log error\n",
    "        continue\n",
    "    #load sql\n",
    "    tablename = '_'.join(name.split('_')[1:])\n",
    "    a = pd.io.sql.get_schema(tab,tablename)\n",
    "    c.execute('drop table if exists '+ tablename)\n",
    "    c.execute(a)\n",
    "    tosql = a +';\\n\\n'\n",
    "    schemas.write(tosql)\n",
    "    tab.to_sql(tablename,con=conn,index=False,if_exists='append')"
   ]
  },
  {
   "cell_type": "code",
   "execution_count": 46,
   "id": "incredible-burning",
   "metadata": {},
   "outputs": [
    {
     "name": "stdout",
     "output_type": "stream",
     "text": [
      "HTTP Error 504: Gateway Time-out  for ticker 1454308, continuing.....\n"
     ]
    }
   ],
   "source": []
  },
  {
   "cell_type": "code",
   "execution_count": null,
   "id": "hazardous-fundamental",
   "metadata": {},
   "outputs": [],
   "source": []
  },
  {
   "cell_type": "code",
   "execution_count": null,
   "id": "level-graph",
   "metadata": {},
   "outputs": [],
   "source": []
  },
  {
   "cell_type": "code",
   "execution_count": null,
   "id": "qualified-impression",
   "metadata": {},
   "outputs": [],
   "source": []
  }
 ],
 "metadata": {
  "kernelspec": {
   "display_name": "Python 3.9 (XPython)",
   "language": "python",
   "name": "xpython"
  },
  "language_info": {
   "file_extension": ".py",
   "mimetype": "text/x-python",
   "name": "python",
   "version": "3.9.1"
  }
 },
 "nbformat": 4,
 "nbformat_minor": 5
}
