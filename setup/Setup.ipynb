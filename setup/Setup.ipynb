{
 "cells": [
  {
   "cell_type": "code",
   "execution_count": 2,
   "metadata": {},
   "outputs": [],
   "source": [
    "import sqlite3\n",
    "\n",
    "import pandas as pd\n",
    "import numpy as np\n",
    "from urllib.request import urlopen  \n",
    "import json\n",
    "\n",
    "getkey = ! cat ../../apikey.txt\n",
    "apikey = getkey[0]\n",
    "\n",
    "from fhelp import get_appended,process_datesIT"
   ]
  },
  {
   "cell_type": "code",
   "execution_count": null,
   "metadata": {},
   "outputs": [],
   "source": []
  },
  {
   "cell_type": "code",
   "execution_count": 3,
   "metadata": {},
   "outputs": [
    {
     "name": "stdout",
     "output_type": "stream",
     "text": [
      "['CRM', 'WBA', 'V', 'NKE', 'UNH', 'TRV', 'VZ', 'INTC', 'WMT', 'JNJ', 'DIS', 'MCD', 'JPM', 'CAT', 'BA', 'AMGN', 'DOW', 'AAPL', 'GS', 'CSCO', 'MSFT', 'HD', 'PG', 'MRK', 'IBM', 'HON', 'KO', 'CVX', 'AXP', 'MMM']\n"
     ]
    }
   ],
   "source": [
    "#get list of tickers (just dow until everything is set up)\n",
    "dow_url = \"https://financialmodelingprep.com/api/v3/dowjones_constituent?apikey=600e501fe324b2f1cbb2aec5b390b6db\"\n",
    "dow_tick = pd.read_json(dow_url)\n",
    "tickers = list(dow_tick.symbol.values)\n",
    "print(tickers,)\n",
    "tickers += ['SECO']"
   ]
  },
  {
   "cell_type": "code",
   "execution_count": 3,
   "metadata": {},
   "outputs": [],
   "source": [
    "indexes = None\n",
    "etfs = None"
   ]
  },
  {
   "cell_type": "code",
   "execution_count": 4,
   "metadata": {},
   "outputs": [],
   "source": [
    "! rm ../../Finances.db\n",
    "! rm schema.sql"
   ]
  },
  {
   "cell_type": "code",
   "execution_count": 5,
   "metadata": {},
   "outputs": [],
   "source": [
    "urls = pd.read_json('Resources/urls.json',typ='series')"
   ]
  },
  {
   "cell_type": "code",
   "execution_count": 6,
   "metadata": {},
   "outputs": [],
   "source": [
    "conn = sqlite3.connect('../../Finances.db')\n",
    "c = conn.cursor()"
   ]
  },
  {
   "cell_type": "code",
   "execution_count": 7,
   "metadata": {},
   "outputs": [],
   "source": [
    "l = []"
   ]
  },
  {
   "cell_type": "code",
   "execution_count": 8,
   "metadata": {},
   "outputs": [],
   "source": [
    "tickers = ['AAPL']"
   ]
  },
  {
   "cell_type": "code",
   "execution_count": 11,
   "metadata": {},
   "outputs": [
    {
     "name": "stdout",
     "output_type": "stream",
     "text": [
      "S2_CV_DCF_YR\n"
     ]
    },
    {
     "ename": "TypeError",
     "evalue": "get_appended() got multiple values for argument 'tickers'",
     "output_type": "error",
     "traceback": [
      "\u001b[0;31m---------------------------------------------------------------------------\u001b[0m",
      "\u001b[0;31mTypeError\u001b[0m                                 Traceback (most recent call last)",
      "\u001b[0;32m<timed exec>\u001b[0m in \u001b[0;36m<module>\u001b[0;34m\u001b[0m\n",
      "\u001b[0;31mTypeError\u001b[0m: get_appended() got multiple values for argument 'tickers'"
     ]
    }
   ],
   "source": [
    "%%time\n",
    "schemas = open(\"schema.sql\", \"a+\")\n",
    "for name, url in zip(urls.index[28:],urls.values[28:]):\n",
    "    print(name)\n",
    "    if url =='NONE':\n",
    "            continue\n",
    "    if type(url) != dict:\n",
    "        #extract\n",
    "        if name[0]=='G': #if ticker info not needed\n",
    "            tab = get_appended(url,apikey,name,verbose=True)\n",
    "        elif name[0] == 'S' or name[0] == 'T':\n",
    "            tab = get_appended(url,apikey,name,tickers=tickers,verbose=True)\n",
    "        #transform\n",
    "        tab.reset_index(inplace=True,drop=True)\n",
    "        tab.drop_duplicates(inplace=True)\n",
    "        #load\n",
    "        l.append(tab)\n",
    "        a = pd.io.sql.get_schema(tab,name)\n",
    "        c.execute('drop table if exists '+ name)\n",
    "        c.execute(a)\n",
    "        tosql = a +';\\n\\n'\n",
    "        schemas.write(tosql)\n",
    "        tab.to_sql(name,con=conn,index=False,if_exists='append')\n",
    "    else: \n",
    "        for i, u in enumerate(url.values()):\n",
    "            print(u)\n",
    "            if i == 1: \n",
    "                #extract\n",
    "                tab = get_appended(u,apikey,tickers,verbose=True)\n",
    "                #transform\n",
    "                tab.drop_duplicates(inplace=True)\n",
    "                #load\n",
    "                a = pd.io.sql.get_schema(tab,name)\n",
    "                c.execute('drop table if exists '+ name)\n",
    "                c.execute(a)\n",
    "                tosql = a +';\\n\\n'\n",
    "                schemas.write(tosql)\n",
    "                tab.to_sql(name,con=conn,index=False,if_exists='append')\n",
    "                print(c.execute('select * from '+name+' limit 1;').fetchall())\n",
    "            else:\n",
    "                tab= get_appended(u,apikey,tickers,verbose=True)\n",
    "                tab.drop_duplicates(inplace=True)\n",
    "                tab.to_sql(name,con=conn,index=False,if_exists='append')"
   ]
  },
  {
   "cell_type": "code",
   "execution_count": 10,
   "metadata": {},
   "outputs": [
    {
     "name": "stdout",
     "output_type": "stream",
     "text": [
      "Downloading for ticker AAPL....\n"
     ]
    },
    {
     "ename": "AttributeError",
     "evalue": "'dict' object has no attribute 'replace'",
     "output_type": "error",
     "traceback": [
      "\u001b[0;31m---------------------------------------------------------------------------\u001b[0m",
      "\u001b[0;31mAttributeError\u001b[0m                            Traceback (most recent call last)",
      "\u001b[0;32m<ipython-input-10-cc3e5027f650>\u001b[0m in \u001b[0;36m<module>\u001b[0;34m\u001b[0m\n\u001b[0;32m----> 1\u001b[0;31m \u001b[0ma\u001b[0m \u001b[0;34m=\u001b[0m \u001b[0mget_appended\u001b[0m\u001b[0;34m(\u001b[0m\u001b[0murl\u001b[0m\u001b[0;34m,\u001b[0m\u001b[0mapikey\u001b[0m\u001b[0;34m,\u001b[0m\u001b[0mtickers\u001b[0m\u001b[0;34m=\u001b[0m\u001b[0;34m[\u001b[0m\u001b[0;34m'AAPL'\u001b[0m\u001b[0;34m]\u001b[0m\u001b[0;34m,\u001b[0m\u001b[0mjson\u001b[0m\u001b[0;34m=\u001b[0m\u001b[0;36m3\u001b[0m\u001b[0;34m,\u001b[0m\u001b[0mverbose\u001b[0m\u001b[0;34m=\u001b[0m\u001b[0;32mTrue\u001b[0m\u001b[0;34m)\u001b[0m\u001b[0;34m\u001b[0m\u001b[0;34m\u001b[0m\u001b[0m\n\u001b[0m",
      "\u001b[0;32m~/Desktop/Finance/Technology/Project/setup/fhelp.py\u001b[0m in \u001b[0;36mget_appended\u001b[0;34m(url, apikey, tickers, json, symbol_seperate, verbose)\u001b[0m\n\u001b[1;32m     20\u001b[0m \u001b[0;34m\u001b[0m\u001b[0m\n\u001b[1;32m     21\u001b[0m             \u001b[0;31m#create valid URL\u001b[0m\u001b[0;34m\u001b[0m\u001b[0;34m\u001b[0m\u001b[0;34m\u001b[0m\u001b[0m\n\u001b[0;32m---> 22\u001b[0;31m             \u001b[0mfinal_url\u001b[0m \u001b[0;34m=\u001b[0m \u001b[0murl_temp\u001b[0m\u001b[0;34m.\u001b[0m\u001b[0mreplace\u001b[0m\u001b[0;34m(\u001b[0m\u001b[0;34m' '\u001b[0m\u001b[0;34m,\u001b[0m\u001b[0mticker\u001b[0m\u001b[0;34m)\u001b[0m \u001b[0;34m+\u001b[0m \u001b[0mapikey\u001b[0m\u001b[0;34m\u001b[0m\u001b[0;34m\u001b[0m\u001b[0m\n\u001b[0m\u001b[1;32m     23\u001b[0m             \u001b[0;32mtry\u001b[0m\u001b[0;34m:\u001b[0m\u001b[0;34m\u001b[0m\u001b[0;34m\u001b[0m\u001b[0m\n\u001b[1;32m     24\u001b[0m \u001b[0;34m\u001b[0m\u001b[0m\n",
      "\u001b[0;31mAttributeError\u001b[0m: 'dict' object has no attribute 'replace'"
     ]
    }
   ],
   "source": [
    "a = get_appended(url,apikey,tickers=['AAPL'],json=3,verbose=True)"
   ]
  },
  {
   "cell_type": "code",
   "execution_count": null,
   "metadata": {},
   "outputs": [],
   "source": [
    "a1 = a.copy()"
   ]
  },
  {
   "cell_type": "code",
   "execution_count": null,
   "metadata": {},
   "outputs": [],
   "source": [
    "a2 = a1.iloc[:,1].apply(lambda x: pd.Series(x))"
   ]
  },
  {
   "cell_type": "code",
   "execution_count": 24,
   "metadata": {},
   "outputs": [
    {
     "data": {
      "text/html": [
       "<div>\n",
       "<style scoped>\n",
       "    .dataframe tbody tr th:only-of-type {\n",
       "        vertical-align: middle;\n",
       "    }\n",
       "\n",
       "    .dataframe tbody tr th {\n",
       "        vertical-align: top;\n",
       "    }\n",
       "\n",
       "    .dataframe thead th {\n",
       "        text-align: right;\n",
       "    }\n",
       "</style>\n",
       "<table border=\"1\" class=\"dataframe\">\n",
       "  <thead>\n",
       "    <tr style=\"text-align: right;\">\n",
       "      <th></th>\n",
       "      <th>symbol</th>\n",
       "      <th>historical</th>\n",
       "    </tr>\n",
       "  </thead>\n",
       "  <tbody>\n",
       "    <tr>\n",
       "      <th>0</th>\n",
       "      <td>AAPL</td>\n",
       "      <td>{'date': '2021-02-25', 'open': 124.68, 'high':...</td>\n",
       "    </tr>\n",
       "    <tr>\n",
       "      <th>1</th>\n",
       "      <td>AAPL</td>\n",
       "      <td>{'date': '2021-02-24', 'open': 124.940002, 'hi...</td>\n",
       "    </tr>\n",
       "    <tr>\n",
       "      <th>2</th>\n",
       "      <td>AAPL</td>\n",
       "      <td>{'date': '2021-02-23', 'open': 123.760002, 'hi...</td>\n",
       "    </tr>\n",
       "    <tr>\n",
       "      <th>3</th>\n",
       "      <td>AAPL</td>\n",
       "      <td>{'date': '2021-02-22', 'open': 128.009995, 'hi...</td>\n",
       "    </tr>\n",
       "    <tr>\n",
       "      <th>4</th>\n",
       "      <td>AAPL</td>\n",
       "      <td>{'date': '2021-02-19', 'open': 130.240005, 'hi...</td>\n",
       "    </tr>\n",
       "    <tr>\n",
       "      <th>...</th>\n",
       "      <td>...</td>\n",
       "      <td>...</td>\n",
       "    </tr>\n",
       "    <tr>\n",
       "      <th>10131</th>\n",
       "      <td>AAPL</td>\n",
       "      <td>{'date': '1980-12-18', 'open': 0.118862, 'high...</td>\n",
       "    </tr>\n",
       "    <tr>\n",
       "      <th>10132</th>\n",
       "      <td>AAPL</td>\n",
       "      <td>{'date': '1980-12-17', 'open': 0.1155129999999...</td>\n",
       "    </tr>\n",
       "    <tr>\n",
       "      <th>10133</th>\n",
       "      <td>AAPL</td>\n",
       "      <td>{'date': '1980-12-16', 'open': 0.1132809999999...</td>\n",
       "    </tr>\n",
       "    <tr>\n",
       "      <th>10134</th>\n",
       "      <td>AAPL</td>\n",
       "      <td>{'date': '1980-12-15', 'open': 0.1222100000000...</td>\n",
       "    </tr>\n",
       "    <tr>\n",
       "      <th>10135</th>\n",
       "      <td>AAPL</td>\n",
       "      <td>{'date': '1980-12-12', 'open': 0.128348, 'high...</td>\n",
       "    </tr>\n",
       "  </tbody>\n",
       "</table>\n",
       "<p>10136 rows × 2 columns</p>\n",
       "</div>"
      ],
      "text/plain": [
       "      symbol                                         historical\n",
       "0       AAPL  {'date': '2021-02-25', 'open': 124.68, 'high':...\n",
       "1       AAPL  {'date': '2021-02-24', 'open': 124.940002, 'hi...\n",
       "2       AAPL  {'date': '2021-02-23', 'open': 123.760002, 'hi...\n",
       "3       AAPL  {'date': '2021-02-22', 'open': 128.009995, 'hi...\n",
       "4       AAPL  {'date': '2021-02-19', 'open': 130.240005, 'hi...\n",
       "...      ...                                                ...\n",
       "10131   AAPL  {'date': '1980-12-18', 'open': 0.118862, 'high...\n",
       "10132   AAPL  {'date': '1980-12-17', 'open': 0.1155129999999...\n",
       "10133   AAPL  {'date': '1980-12-16', 'open': 0.1132809999999...\n",
       "10134   AAPL  {'date': '1980-12-15', 'open': 0.1222100000000...\n",
       "10135   AAPL  {'date': '1980-12-12', 'open': 0.128348, 'high...\n",
       "\n",
       "[10136 rows x 2 columns]"
      ]
     },
     "execution_count": 24,
     "metadata": {},
     "output_type": "execute_result"
    }
   ],
   "source": [
    "a1"
   ]
  },
  {
   "cell_type": "code",
   "execution_count": null,
   "metadata": {},
   "outputs": [],
   "source": []
  },
  {
   "cell_type": "code",
   "execution_count": null,
   "metadata": {},
   "outputs": [],
   "source": []
  },
  {
   "cell_type": "code",
   "execution_count": null,
   "metadata": {},
   "outputs": [],
   "source": []
  },
  {
   "cell_type": "code",
   "execution_count": null,
   "metadata": {},
   "outputs": [],
   "source": []
  }
 ],
 "metadata": {
  "kernelspec": {
   "display_name": "Python 3",
   "language": "python",
   "name": "python3"
  },
  "language_info": {
   "codemirror_mode": {
    "name": "ipython",
    "version": 3
   },
   "file_extension": ".py",
   "mimetype": "text/x-python",
   "name": "python",
   "nbconvert_exporter": "python",
   "pygments_lexer": "ipython3",
   "version": "3.7.6"
  }
 },
 "nbformat": 4,
 "nbformat_minor": 4
}
