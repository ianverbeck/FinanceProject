{
 "cells": [
  {
   "cell_type": "markdown",
   "metadata": {},
   "source": [
    "# Setup with Financial modeling prep for python file"
   ]
  },
  {
   "cell_type": "code",
   "execution_count": 5,
   "metadata": {},
   "outputs": [
    {
     "data": {
      "text/plain": [
       "'/Users/verbeck/Desktop/Finance/Technology/Setup/Project'"
      ]
     },
     "execution_count": 5,
     "metadata": {},
     "output_type": "execute_result"
    }
   ],
   "source": [
    "pwd"
   ]
  },
  {
   "cell_type": "code",
   "execution_count": 6,
   "metadata": {},
   "outputs": [
    {
     "data": {
      "text/plain": [
       "'cat: ../apikey.txt: No such file or directory'"
      ]
     },
     "execution_count": 6,
     "metadata": {},
     "output_type": "execute_result"
    }
   ],
   "source": [
    "#url dependencies\n",
    "from urllib.request import urlopen  \n",
    "import json\n",
    "\n",
    "#structures\n",
    "import pandas as pd\n",
    "import numpy as np\n",
    "\n",
    "#API key - stored outside of file\n",
    "getkey = ! cat ../apikey.txt\n",
    "apikey = getkey[0]\n",
    "apikey"
   ]
  },
  {
   "cell_type": "code",
   "execution_count": 7,
   "metadata": {},
   "outputs": [
    {
     "data": {
      "text/plain": [
       "'/Users/verbeck/Desktop/Finance/Technology/Setup/Project'"
      ]
     },
     "execution_count": 7,
     "metadata": {},
     "output_type": "execute_result"
    }
   ],
   "source": [
    "pwd"
   ]
  },
  {
   "cell_type": "code",
   "execution_count": 8,
   "metadata": {},
   "outputs": [],
   "source": [
    "def get_json(url):\n",
    "    response = urlopen(url)\n",
    "    data = response.read().decode(\"utf-8\")\n",
    "    return json.loads(data)"
   ]
  },
  {
   "cell_type": "code",
   "execution_count": 9,
   "metadata": {},
   "outputs": [],
   "source": [
    "#get dow ratio data\n",
    "dow_url = \"https://financialmodelingprep.com/api/v3/dowjones_constituent?apikey=600e501fe324b2f1cbb2aec5b390b6db\"\n",
    "dow_ticks = get_json(dow_url)\n",
    "dow_tickers = [tick['symbol'] for tick in dow_ticks]"
   ]
  },
  {
   "cell_type": "code",
   "execution_count": 10,
   "metadata": {},
   "outputs": [
    {
     "ename": "InvalidURL",
     "evalue": "URL can't contain control characters. '/api/v3/ratios/CRM?period=quarter&limit=1000&apikey=cat: ../apikey.txt: No such file or directory' (found at least ' ')",
     "output_type": "error",
     "traceback": [
      "\u001b[0;31m---------------------------------------------------------------------------\u001b[0m",
      "\u001b[0;31mInvalidURL\u001b[0m                                Traceback (most recent call last)",
      "\u001b[0;32m<timed exec>\u001b[0m in \u001b[0;36m<module>\u001b[0;34m\u001b[0m\n",
      "\u001b[0;32m<ipython-input-8-539231e7f17f>\u001b[0m in \u001b[0;36mget_json\u001b[0;34m(url)\u001b[0m\n\u001b[1;32m      1\u001b[0m \u001b[0;32mdef\u001b[0m \u001b[0mget_json\u001b[0m\u001b[0;34m(\u001b[0m\u001b[0murl\u001b[0m\u001b[0;34m)\u001b[0m\u001b[0;34m:\u001b[0m\u001b[0;34m\u001b[0m\u001b[0;34m\u001b[0m\u001b[0m\n\u001b[0;32m----> 2\u001b[0;31m     \u001b[0mresponse\u001b[0m \u001b[0;34m=\u001b[0m \u001b[0murlopen\u001b[0m\u001b[0;34m(\u001b[0m\u001b[0murl\u001b[0m\u001b[0;34m)\u001b[0m\u001b[0;34m\u001b[0m\u001b[0;34m\u001b[0m\u001b[0m\n\u001b[0m\u001b[1;32m      3\u001b[0m     \u001b[0mdata\u001b[0m \u001b[0;34m=\u001b[0m \u001b[0mresponse\u001b[0m\u001b[0;34m.\u001b[0m\u001b[0mread\u001b[0m\u001b[0;34m(\u001b[0m\u001b[0;34m)\u001b[0m\u001b[0;34m.\u001b[0m\u001b[0mdecode\u001b[0m\u001b[0;34m(\u001b[0m\u001b[0;34m\"utf-8\"\u001b[0m\u001b[0;34m)\u001b[0m\u001b[0;34m\u001b[0m\u001b[0;34m\u001b[0m\u001b[0m\n\u001b[1;32m      4\u001b[0m     \u001b[0;32mreturn\u001b[0m \u001b[0mjson\u001b[0m\u001b[0;34m.\u001b[0m\u001b[0mloads\u001b[0m\u001b[0;34m(\u001b[0m\u001b[0mdata\u001b[0m\u001b[0;34m)\u001b[0m\u001b[0;34m\u001b[0m\u001b[0;34m\u001b[0m\u001b[0m\n",
      "\u001b[0;32m~/opt/anaconda3/lib/python3.7/urllib/request.py\u001b[0m in \u001b[0;36murlopen\u001b[0;34m(url, data, timeout, cafile, capath, cadefault, context)\u001b[0m\n\u001b[1;32m    220\u001b[0m     \u001b[0;32melse\u001b[0m\u001b[0;34m:\u001b[0m\u001b[0;34m\u001b[0m\u001b[0;34m\u001b[0m\u001b[0m\n\u001b[1;32m    221\u001b[0m         \u001b[0mopener\u001b[0m \u001b[0;34m=\u001b[0m \u001b[0m_opener\u001b[0m\u001b[0;34m\u001b[0m\u001b[0;34m\u001b[0m\u001b[0m\n\u001b[0;32m--> 222\u001b[0;31m     \u001b[0;32mreturn\u001b[0m \u001b[0mopener\u001b[0m\u001b[0;34m.\u001b[0m\u001b[0mopen\u001b[0m\u001b[0;34m(\u001b[0m\u001b[0murl\u001b[0m\u001b[0;34m,\u001b[0m \u001b[0mdata\u001b[0m\u001b[0;34m,\u001b[0m \u001b[0mtimeout\u001b[0m\u001b[0;34m)\u001b[0m\u001b[0;34m\u001b[0m\u001b[0;34m\u001b[0m\u001b[0m\n\u001b[0m\u001b[1;32m    223\u001b[0m \u001b[0;34m\u001b[0m\u001b[0m\n\u001b[1;32m    224\u001b[0m \u001b[0;32mdef\u001b[0m \u001b[0minstall_opener\u001b[0m\u001b[0;34m(\u001b[0m\u001b[0mopener\u001b[0m\u001b[0;34m)\u001b[0m\u001b[0;34m:\u001b[0m\u001b[0;34m\u001b[0m\u001b[0;34m\u001b[0m\u001b[0m\n",
      "\u001b[0;32m~/opt/anaconda3/lib/python3.7/urllib/request.py\u001b[0m in \u001b[0;36mopen\u001b[0;34m(self, fullurl, data, timeout)\u001b[0m\n\u001b[1;32m    523\u001b[0m             \u001b[0mreq\u001b[0m \u001b[0;34m=\u001b[0m \u001b[0mmeth\u001b[0m\u001b[0;34m(\u001b[0m\u001b[0mreq\u001b[0m\u001b[0;34m)\u001b[0m\u001b[0;34m\u001b[0m\u001b[0;34m\u001b[0m\u001b[0m\n\u001b[1;32m    524\u001b[0m \u001b[0;34m\u001b[0m\u001b[0m\n\u001b[0;32m--> 525\u001b[0;31m         \u001b[0mresponse\u001b[0m \u001b[0;34m=\u001b[0m \u001b[0mself\u001b[0m\u001b[0;34m.\u001b[0m\u001b[0m_open\u001b[0m\u001b[0;34m(\u001b[0m\u001b[0mreq\u001b[0m\u001b[0;34m,\u001b[0m \u001b[0mdata\u001b[0m\u001b[0;34m)\u001b[0m\u001b[0;34m\u001b[0m\u001b[0;34m\u001b[0m\u001b[0m\n\u001b[0m\u001b[1;32m    526\u001b[0m \u001b[0;34m\u001b[0m\u001b[0m\n\u001b[1;32m    527\u001b[0m         \u001b[0;31m# post-process response\u001b[0m\u001b[0;34m\u001b[0m\u001b[0;34m\u001b[0m\u001b[0;34m\u001b[0m\u001b[0m\n",
      "\u001b[0;32m~/opt/anaconda3/lib/python3.7/urllib/request.py\u001b[0m in \u001b[0;36m_open\u001b[0;34m(self, req, data)\u001b[0m\n\u001b[1;32m    541\u001b[0m         \u001b[0mprotocol\u001b[0m \u001b[0;34m=\u001b[0m \u001b[0mreq\u001b[0m\u001b[0;34m.\u001b[0m\u001b[0mtype\u001b[0m\u001b[0;34m\u001b[0m\u001b[0;34m\u001b[0m\u001b[0m\n\u001b[1;32m    542\u001b[0m         result = self._call_chain(self.handle_open, protocol, protocol +\n\u001b[0;32m--> 543\u001b[0;31m                                   '_open', req)\n\u001b[0m\u001b[1;32m    544\u001b[0m         \u001b[0;32mif\u001b[0m \u001b[0mresult\u001b[0m\u001b[0;34m:\u001b[0m\u001b[0;34m\u001b[0m\u001b[0;34m\u001b[0m\u001b[0m\n\u001b[1;32m    545\u001b[0m             \u001b[0;32mreturn\u001b[0m \u001b[0mresult\u001b[0m\u001b[0;34m\u001b[0m\u001b[0;34m\u001b[0m\u001b[0m\n",
      "\u001b[0;32m~/opt/anaconda3/lib/python3.7/urllib/request.py\u001b[0m in \u001b[0;36m_call_chain\u001b[0;34m(self, chain, kind, meth_name, *args)\u001b[0m\n\u001b[1;32m    501\u001b[0m         \u001b[0;32mfor\u001b[0m \u001b[0mhandler\u001b[0m \u001b[0;32min\u001b[0m \u001b[0mhandlers\u001b[0m\u001b[0;34m:\u001b[0m\u001b[0;34m\u001b[0m\u001b[0;34m\u001b[0m\u001b[0m\n\u001b[1;32m    502\u001b[0m             \u001b[0mfunc\u001b[0m \u001b[0;34m=\u001b[0m \u001b[0mgetattr\u001b[0m\u001b[0;34m(\u001b[0m\u001b[0mhandler\u001b[0m\u001b[0;34m,\u001b[0m \u001b[0mmeth_name\u001b[0m\u001b[0;34m)\u001b[0m\u001b[0;34m\u001b[0m\u001b[0;34m\u001b[0m\u001b[0m\n\u001b[0;32m--> 503\u001b[0;31m             \u001b[0mresult\u001b[0m \u001b[0;34m=\u001b[0m \u001b[0mfunc\u001b[0m\u001b[0;34m(\u001b[0m\u001b[0;34m*\u001b[0m\u001b[0margs\u001b[0m\u001b[0;34m)\u001b[0m\u001b[0;34m\u001b[0m\u001b[0;34m\u001b[0m\u001b[0m\n\u001b[0m\u001b[1;32m    504\u001b[0m             \u001b[0;32mif\u001b[0m \u001b[0mresult\u001b[0m \u001b[0;32mis\u001b[0m \u001b[0;32mnot\u001b[0m \u001b[0;32mNone\u001b[0m\u001b[0;34m:\u001b[0m\u001b[0;34m\u001b[0m\u001b[0;34m\u001b[0m\u001b[0m\n\u001b[1;32m    505\u001b[0m                 \u001b[0;32mreturn\u001b[0m \u001b[0mresult\u001b[0m\u001b[0;34m\u001b[0m\u001b[0;34m\u001b[0m\u001b[0m\n",
      "\u001b[0;32m~/opt/anaconda3/lib/python3.7/urllib/request.py\u001b[0m in \u001b[0;36mhttps_open\u001b[0;34m(self, req)\u001b[0m\n\u001b[1;32m   1360\u001b[0m         \u001b[0;32mdef\u001b[0m \u001b[0mhttps_open\u001b[0m\u001b[0;34m(\u001b[0m\u001b[0mself\u001b[0m\u001b[0;34m,\u001b[0m \u001b[0mreq\u001b[0m\u001b[0;34m)\u001b[0m\u001b[0;34m:\u001b[0m\u001b[0;34m\u001b[0m\u001b[0;34m\u001b[0m\u001b[0m\n\u001b[1;32m   1361\u001b[0m             return self.do_open(http.client.HTTPSConnection, req,\n\u001b[0;32m-> 1362\u001b[0;31m                 context=self._context, check_hostname=self._check_hostname)\n\u001b[0m\u001b[1;32m   1363\u001b[0m \u001b[0;34m\u001b[0m\u001b[0m\n\u001b[1;32m   1364\u001b[0m         \u001b[0mhttps_request\u001b[0m \u001b[0;34m=\u001b[0m \u001b[0mAbstractHTTPHandler\u001b[0m\u001b[0;34m.\u001b[0m\u001b[0mdo_request_\u001b[0m\u001b[0;34m\u001b[0m\u001b[0;34m\u001b[0m\u001b[0m\n",
      "\u001b[0;32m~/opt/anaconda3/lib/python3.7/urllib/request.py\u001b[0m in \u001b[0;36mdo_open\u001b[0;34m(self, http_class, req, **http_conn_args)\u001b[0m\n\u001b[1;32m   1317\u001b[0m             \u001b[0;32mtry\u001b[0m\u001b[0;34m:\u001b[0m\u001b[0;34m\u001b[0m\u001b[0;34m\u001b[0m\u001b[0m\n\u001b[1;32m   1318\u001b[0m                 h.request(req.get_method(), req.selector, req.data, headers,\n\u001b[0;32m-> 1319\u001b[0;31m                           encode_chunked=req.has_header('Transfer-encoding'))\n\u001b[0m\u001b[1;32m   1320\u001b[0m             \u001b[0;32mexcept\u001b[0m \u001b[0mOSError\u001b[0m \u001b[0;32mas\u001b[0m \u001b[0merr\u001b[0m\u001b[0;34m:\u001b[0m \u001b[0;31m# timeout error\u001b[0m\u001b[0;34m\u001b[0m\u001b[0;34m\u001b[0m\u001b[0m\n\u001b[1;32m   1321\u001b[0m                 \u001b[0;32mraise\u001b[0m \u001b[0mURLError\u001b[0m\u001b[0;34m(\u001b[0m\u001b[0merr\u001b[0m\u001b[0;34m)\u001b[0m\u001b[0;34m\u001b[0m\u001b[0;34m\u001b[0m\u001b[0m\n",
      "\u001b[0;32m~/opt/anaconda3/lib/python3.7/http/client.py\u001b[0m in \u001b[0;36mrequest\u001b[0;34m(self, method, url, body, headers, encode_chunked)\u001b[0m\n\u001b[1;32m   1250\u001b[0m                 encode_chunked=False):\n\u001b[1;32m   1251\u001b[0m         \u001b[0;34m\"\"\"Send a complete request to the server.\"\"\"\u001b[0m\u001b[0;34m\u001b[0m\u001b[0;34m\u001b[0m\u001b[0m\n\u001b[0;32m-> 1252\u001b[0;31m         \u001b[0mself\u001b[0m\u001b[0;34m.\u001b[0m\u001b[0m_send_request\u001b[0m\u001b[0;34m(\u001b[0m\u001b[0mmethod\u001b[0m\u001b[0;34m,\u001b[0m \u001b[0murl\u001b[0m\u001b[0;34m,\u001b[0m \u001b[0mbody\u001b[0m\u001b[0;34m,\u001b[0m \u001b[0mheaders\u001b[0m\u001b[0;34m,\u001b[0m \u001b[0mencode_chunked\u001b[0m\u001b[0;34m)\u001b[0m\u001b[0;34m\u001b[0m\u001b[0;34m\u001b[0m\u001b[0m\n\u001b[0m\u001b[1;32m   1253\u001b[0m \u001b[0;34m\u001b[0m\u001b[0m\n\u001b[1;32m   1254\u001b[0m     \u001b[0;32mdef\u001b[0m \u001b[0m_send_request\u001b[0m\u001b[0;34m(\u001b[0m\u001b[0mself\u001b[0m\u001b[0;34m,\u001b[0m \u001b[0mmethod\u001b[0m\u001b[0;34m,\u001b[0m \u001b[0murl\u001b[0m\u001b[0;34m,\u001b[0m \u001b[0mbody\u001b[0m\u001b[0;34m,\u001b[0m \u001b[0mheaders\u001b[0m\u001b[0;34m,\u001b[0m \u001b[0mencode_chunked\u001b[0m\u001b[0;34m)\u001b[0m\u001b[0;34m:\u001b[0m\u001b[0;34m\u001b[0m\u001b[0;34m\u001b[0m\u001b[0m\n",
      "\u001b[0;32m~/opt/anaconda3/lib/python3.7/http/client.py\u001b[0m in \u001b[0;36m_send_request\u001b[0;34m(self, method, url, body, headers, encode_chunked)\u001b[0m\n\u001b[1;32m   1261\u001b[0m             \u001b[0mskips\u001b[0m\u001b[0;34m[\u001b[0m\u001b[0;34m'skip_accept_encoding'\u001b[0m\u001b[0;34m]\u001b[0m \u001b[0;34m=\u001b[0m \u001b[0;36m1\u001b[0m\u001b[0;34m\u001b[0m\u001b[0;34m\u001b[0m\u001b[0m\n\u001b[1;32m   1262\u001b[0m \u001b[0;34m\u001b[0m\u001b[0m\n\u001b[0;32m-> 1263\u001b[0;31m         \u001b[0mself\u001b[0m\u001b[0;34m.\u001b[0m\u001b[0mputrequest\u001b[0m\u001b[0;34m(\u001b[0m\u001b[0mmethod\u001b[0m\u001b[0;34m,\u001b[0m \u001b[0murl\u001b[0m\u001b[0;34m,\u001b[0m \u001b[0;34m**\u001b[0m\u001b[0mskips\u001b[0m\u001b[0;34m)\u001b[0m\u001b[0;34m\u001b[0m\u001b[0;34m\u001b[0m\u001b[0m\n\u001b[0m\u001b[1;32m   1264\u001b[0m \u001b[0;34m\u001b[0m\u001b[0m\n\u001b[1;32m   1265\u001b[0m         \u001b[0;31m# chunked encoding will happen if HTTP/1.1 is used and either\u001b[0m\u001b[0;34m\u001b[0m\u001b[0;34m\u001b[0m\u001b[0;34m\u001b[0m\u001b[0m\n",
      "\u001b[0;32m~/opt/anaconda3/lib/python3.7/http/client.py\u001b[0m in \u001b[0;36mputrequest\u001b[0;34m(self, method, url, skip_host, skip_accept_encoding)\u001b[0m\n\u001b[1;32m   1112\u001b[0m \u001b[0;34m\u001b[0m\u001b[0m\n\u001b[1;32m   1113\u001b[0m         \u001b[0murl\u001b[0m \u001b[0;34m=\u001b[0m \u001b[0murl\u001b[0m \u001b[0;32mor\u001b[0m \u001b[0;34m'/'\u001b[0m\u001b[0;34m\u001b[0m\u001b[0;34m\u001b[0m\u001b[0m\n\u001b[0;32m-> 1114\u001b[0;31m         \u001b[0mself\u001b[0m\u001b[0;34m.\u001b[0m\u001b[0m_validate_path\u001b[0m\u001b[0;34m(\u001b[0m\u001b[0murl\u001b[0m\u001b[0;34m)\u001b[0m\u001b[0;34m\u001b[0m\u001b[0;34m\u001b[0m\u001b[0m\n\u001b[0m\u001b[1;32m   1115\u001b[0m \u001b[0;34m\u001b[0m\u001b[0m\n\u001b[1;32m   1116\u001b[0m         \u001b[0mrequest\u001b[0m \u001b[0;34m=\u001b[0m \u001b[0;34m'%s %s %s'\u001b[0m \u001b[0;34m%\u001b[0m \u001b[0;34m(\u001b[0m\u001b[0mmethod\u001b[0m\u001b[0;34m,\u001b[0m \u001b[0murl\u001b[0m\u001b[0;34m,\u001b[0m \u001b[0mself\u001b[0m\u001b[0;34m.\u001b[0m\u001b[0m_http_vsn_str\u001b[0m\u001b[0;34m)\u001b[0m\u001b[0;34m\u001b[0m\u001b[0;34m\u001b[0m\u001b[0m\n",
      "\u001b[0;32m~/opt/anaconda3/lib/python3.7/http/client.py\u001b[0m in \u001b[0;36m_validate_path\u001b[0;34m(self, url)\u001b[0m\n\u001b[1;32m   1203\u001b[0m         \u001b[0mmatch\u001b[0m \u001b[0;34m=\u001b[0m \u001b[0m_contains_disallowed_url_pchar_re\u001b[0m\u001b[0;34m.\u001b[0m\u001b[0msearch\u001b[0m\u001b[0;34m(\u001b[0m\u001b[0murl\u001b[0m\u001b[0;34m)\u001b[0m\u001b[0;34m\u001b[0m\u001b[0;34m\u001b[0m\u001b[0m\n\u001b[1;32m   1204\u001b[0m         \u001b[0;32mif\u001b[0m \u001b[0mmatch\u001b[0m\u001b[0;34m:\u001b[0m\u001b[0;34m\u001b[0m\u001b[0;34m\u001b[0m\u001b[0m\n\u001b[0;32m-> 1205\u001b[0;31m             raise InvalidURL(f\"URL can't contain control characters. {url!r} \"\n\u001b[0m\u001b[1;32m   1206\u001b[0m                              f\"(found at least {match.group()!r})\")\n\u001b[1;32m   1207\u001b[0m \u001b[0;34m\u001b[0m\u001b[0m\n",
      "\u001b[0;31mInvalidURL\u001b[0m: URL can't contain control characters. '/api/v3/ratios/CRM?period=quarter&limit=1000&apikey=cat: ../apikey.txt: No such file or directory' (found at least ' ')"
     ]
    }
   ],
   "source": [
    "%%time\n",
    "period = \"quarter\"\n",
    "limit = \"1000\"\n",
    "period_limit = \"period=\" + period + \"&limit=\" + limit\n",
    "\n",
    "\n",
    "###Hyperthread???\n",
    "tick_ratios_1000 = pd.DataFrame()\n",
    "for ticker in dow_tickers: \n",
    "    url = \"https://financialmodelingprep.com/api/v3/\" +\"ratios/\" + ticker +\"?\"+period_limit + \"&apikey=\" + apikey\n",
    "    ratios = get_json(url)\n",
    "    \n",
    "    for ratio in ratios:\n",
    "    \n",
    "        #setup df\n",
    "        if len(tick_ratios_1000.columns) == 0:\n",
    "            tick_ratios_1000 = pd.DataFrame(columns = ratio.keys())\n",
    "        \n",
    "        #append date tuple\n",
    "        app = pd.Series(data=[v for v in ratio.values()],index=ratio.keys(),name=ticker)\n",
    "        tick_ratios_1000 = tick_ratios_1000.append(app)"
   ]
  },
  {
   "cell_type": "code",
   "execution_count": 8,
   "metadata": {},
   "outputs": [],
   "source": [
    "tick_ratios_1000.to_csv('dow_ratios_qt.csv')"
   ]
  },
  {
   "cell_type": "code",
   "execution_count": null,
   "metadata": {},
   "outputs": [],
   "source": []
  },
  {
   "cell_type": "code",
   "execution_count": 10,
   "metadata": {},
   "outputs": [
    {
     "name": "stdout",
     "output_type": "stream",
     "text": [
      "CPU times: user 14.6 s, sys: 60.3 ms, total: 14.6 s\n",
      "Wall time: 34.5 s\n"
     ]
    }
   ],
   "source": [
    "%%time\n",
    "\n",
    "section = \"enterprise-values/\"\n",
    "period = \"quarter\"\n",
    "limit = \"1000\"\n",
    "period_limit = \"period=\" + period + \"&limit=\" + limit\n",
    "\n",
    "\n",
    "###Hyperthread???\n",
    "tick_values = pd.DataFrame()\n",
    "for ticker in dow_tickers: \n",
    "    url = \"https://financialmodelingprep.com/api/v3/\" + section + ticker +\"?\"+period_limit + \"&apikey=\" + apikey\n",
    "    ratios = get_json(url)\n",
    "    \n",
    "    for ratio in ratios:\n",
    "    \n",
    "        #setup df\n",
    "        if len(tick_values.columns) == 0:\n",
    "            tick_values = pd.DataFrame(columns = ratio.keys())\n",
    "        \n",
    "        #append date tuple\n",
    "        app = pd.Series(data=[v for v in ratio.values()],index=ratio.keys(),name=ticker)\n",
    "        tick_values = tick_values.append(app)"
   ]
  },
  {
   "cell_type": "code",
   "execution_count": 8,
   "metadata": {},
   "outputs": [
    {
     "data": {
      "text/plain": [
       "16"
      ]
     },
     "execution_count": 8,
     "metadata": {},
     "output_type": "execute_result"
    }
   ],
   "source": [
    "import multiprocessing\n",
    "\n",
    "multiprocessing.cpu_count()"
   ]
  },
  {
   "cell_type": "code",
   "execution_count": 9,
   "metadata": {},
   "outputs": [
    {
     "name": "stdout",
     "output_type": "stream",
     "text": [
      "total 51888\n",
      "-rw-r--r--  1 verbeck  staff    21M Feb  6 00:19 100knews.csv\n",
      "drwxr-xr-x  6 verbeck  staff   192B Feb  5 14:41 \u001b[34mSetup\u001b[m\u001b[m\n",
      "-rw-r--r--  1 verbeck  staff   7.0K Feb  7 00:11 SetupForFinanceData.ipynb\n",
      "-rw-r--r--  1 verbeck  staff    32B Feb  5 14:42 apikey.txt\n",
      "-rw-r--r--  1 verbeck  staff   3.2M Feb  7 00:12 dow_ratios_qt.csv\n",
      "-rw-r--r--  1 verbeck  staff   305K Feb  7 00:13 dow_values.csv\n"
     ]
    }
   ],
   "source": [
    "tick_values.to_csv('dow_values.csv')\n",
    "! ls -lh"
   ]
  },
  {
   "cell_type": "code",
   "execution_count": 10,
   "metadata": {},
   "outputs": [
    {
     "name": "stdout",
     "output_type": "stream",
     "text": [
      "CPU times: user 6min 2s, sys: 5.37 s, total: 6min 7s\n",
      "Wall time: 6min 39s\n"
     ]
    }
   ],
   "source": [
    "%%time\n",
    "\n",
    "section = \"stock_news\"\n",
    "period = \"quarter\"\n",
    "limit = \"100000\"\n",
    "period_limit = \"period=\" + period + \"&limit=\" + limit\n",
    "period_limit = \"limit=\" + limit\n",
    "\n",
    "\n",
    "###Hyperthread???\n",
    "tick_news_100k = pd.DataFrame()\n",
    "\n",
    "for ticker in dow_tickers: \n",
    "    url = \"https://financialmodelingprep.com/api/v3/\" + section + \"?tickers=\" + ticker +\"&\"+period_limit + \"&apikey=\" + apikey\n",
    "    ratios = get_json(url)\n",
    "    for ratio in ratios:\n",
    "        #setup df\n",
    "        if len(tick_news_100k.columns) == 0:\n",
    "            tick_news_100k = pd.DataFrame(columns = ratio.keys())\n",
    "        \n",
    "        #append date tuple\n",
    "        app = pd.Series(data=[v for v in ratio.values()],index=ratio.keys(),name=ticker)\n",
    "        tick_news_100k = tick_news_100k.append(app)"
   ]
  },
  {
   "cell_type": "code",
   "execution_count": 11,
   "metadata": {},
   "outputs": [
    {
     "name": "stdout",
     "output_type": "stream",
     "text": [
      "total 51928\n",
      "-rw-r--r--  1 verbeck  staff    21M Feb  7 00:20 100knews.csv\n",
      "drwxr-xr-x  6 verbeck  staff   192B Feb  5 14:41 \u001b[34mSetup\u001b[m\u001b[m\n",
      "-rw-r--r--  1 verbeck  staff    25K Feb  7 00:13 SetupForFinanceData.ipynb\n",
      "-rw-r--r--  1 verbeck  staff    32B Feb  5 14:42 apikey.txt\n",
      "-rw-r--r--  1 verbeck  staff   3.2M Feb  7 00:12 dow_ratios_qt.csv\n",
      "-rw-r--r--  1 verbeck  staff   305K Feb  7 00:13 dow_values.csv\n"
     ]
    }
   ],
   "source": [
    "tick_news_100k.to_csv('100knews.csv')\n",
    "!ls -lh"
   ]
  },
  {
   "cell_type": "code",
   "execution_count": 12,
   "metadata": {},
   "outputs": [
    {
     "ename": "KeyError",
     "evalue": "'historical'",
     "output_type": "error",
     "traceback": [
      "\u001b[0;31m---------------------------------------------------------------------------\u001b[0m",
      "\u001b[0;31mKeyError\u001b[0m                                  Traceback (most recent call last)",
      "\u001b[0;32m<timed exec>\u001b[0m in \u001b[0;36m<module>\u001b[0;34m\u001b[0m\n",
      "\u001b[0;31mKeyError\u001b[0m: 'historical'"
     ]
    }
   ],
   "source": [
    "%%time\n",
    "\n",
    "section = \"historical-price-full/\"\n",
    "period = \"quarter\"\n",
    "limit = \"100000\"\n",
    "period_limit = \"period=\" + period + \"&limit=\" + limit\n",
    "period_limit = \"limit=\" + limit\n",
    "period_limit = \"\"\n",
    "\n",
    "\n",
    "###Hyperthread???\n",
    "tick_price_hist = pd.DataFrame()\n",
    "for ticker in dow_tickers: \n",
    "    url = \"https://financialmodelingprep.com/api/v3/\" + section + ticker +\"?from=2010-01-01&to=2015-01-01&apikey=\"+ apikey\n",
    "    ratios = get_json(url)\n",
    "    ratios = ratios['historical']\n",
    "    for ratio in ratios:\n",
    "        #setup df\n",
    "        if len(tick_price_hist.columns) == 0:\n",
    "            tick_price_hist = pd.DataFrame(columns = ratio.keys())\n",
    "        \n",
    "        #append date tuple\n",
    "        app = pd.Series(data=[v for v in ratio.values()],index=ratio.keys(),name=ticker)\n",
    "        tick_price_hist = tick_price_hist.append(app)"
   ]
  },
  {
   "cell_type": "code",
   "execution_count": 13,
   "metadata": {},
   "outputs": [],
   "source": [
    "tick_price_hist.to_csv('dow_values.csv')"
   ]
  },
  {
   "cell_type": "code",
   "execution_count": null,
   "metadata": {},
   "outputs": [],
   "source": [
    "url = \"https://financialmodelingprep.com/api/v3/\" + section + ticker +\"?from=2010-01-01&to=2015-01-01&apikey=\"+ apikey\n",
    "ratios = get_json(url)"
   ]
  },
  {
   "cell_type": "code",
   "execution_count": null,
   "metadata": {},
   "outputs": [],
   "source": [
    "### Note– time series libraries much"
   ]
  },
  {
   "cell_type": "code",
   "execution_count": 87,
   "metadata": {},
   "outputs": [],
   "source": [
    "for i, col in enumerate(tick_values.columns[2:]):\n",
    "    tick_values.loc[:,col] = tick_values.loc[:,col].astype(np.float64)"
   ]
  },
  {
   "cell_type": "code",
   "execution_count": 90,
   "metadata": {},
   "outputs": [],
   "source": [
    "pd.set_option('display.float_format', lambda x: '%.2f' % x)"
   ]
  },
  {
   "cell_type": "code",
   "execution_count": 92,
   "metadata": {},
   "outputs": [
    {
     "data": {
      "text/html": [
       "<div>\n",
       "<style scoped>\n",
       "    .dataframe tbody tr th:only-of-type {\n",
       "        vertical-align: middle;\n",
       "    }\n",
       "\n",
       "    .dataframe tbody tr th {\n",
       "        vertical-align: top;\n",
       "    }\n",
       "\n",
       "    .dataframe thead th {\n",
       "        text-align: right;\n",
       "    }\n",
       "</style>\n",
       "<table border=\"1\" class=\"dataframe\">\n",
       "  <thead>\n",
       "    <tr style=\"text-align: right;\">\n",
       "      <th></th>\n",
       "      <th>stockPrice</th>\n",
       "      <th>numberOfShares</th>\n",
       "      <th>marketCapitalization</th>\n",
       "      <th>minusCashAndCashEquivalents</th>\n",
       "      <th>addTotalDebt</th>\n",
       "      <th>enterpriseValue</th>\n",
       "    </tr>\n",
       "  </thead>\n",
       "  <tbody>\n",
       "    <tr>\n",
       "      <th>CRM</th>\n",
       "      <td>232.27</td>\n",
       "      <td>911000000.00</td>\n",
       "      <td>211597973644.00</td>\n",
       "      <td>3724000000.00</td>\n",
       "      <td>8440000000.00</td>\n",
       "      <td>216313973644.00</td>\n",
       "    </tr>\n",
       "    <tr>\n",
       "      <th>CRM</th>\n",
       "      <td>194.85</td>\n",
       "      <td>904000000.00</td>\n",
       "      <td>176144400000.00</td>\n",
       "      <td>4052000000.00</td>\n",
       "      <td>7904000000.00</td>\n",
       "      <td>179996400000.00</td>\n",
       "    </tr>\n",
       "    <tr>\n",
       "      <th>CRM</th>\n",
       "      <td>161.95</td>\n",
       "      <td>896000000.00</td>\n",
       "      <td>145107200000.00</td>\n",
       "      <td>5772000000.00</td>\n",
       "      <td>6703000000.00</td>\n",
       "      <td>146038200000.00</td>\n",
       "    </tr>\n",
       "    <tr>\n",
       "      <th>CRM</th>\n",
       "      <td>182.31</td>\n",
       "      <td>896000000.00</td>\n",
       "      <td>163349760000.00</td>\n",
       "      <td>4145000000.00</td>\n",
       "      <td>6475000000.00</td>\n",
       "      <td>165679760000.00</td>\n",
       "    </tr>\n",
       "    <tr>\n",
       "      <th>CRM</th>\n",
       "      <td>156.49</td>\n",
       "      <td>879000000.00</td>\n",
       "      <td>137554710000.00</td>\n",
       "      <td>3868000000.00</td>\n",
       "      <td>5485000000.00</td>\n",
       "      <td>139171710000.00</td>\n",
       "    </tr>\n",
       "    <tr>\n",
       "      <th>...</th>\n",
       "      <td>...</td>\n",
       "      <td>...</td>\n",
       "      <td>...</td>\n",
       "      <td>...</td>\n",
       "      <td>...</td>\n",
       "      <td>...</td>\n",
       "    </tr>\n",
       "    <tr>\n",
       "      <th>MMM</th>\n",
       "      <td>5.32</td>\n",
       "      <td>878800000.00</td>\n",
       "      <td>4671525040.00</td>\n",
       "      <td>294000000.00</td>\n",
       "      <td>760000000.00</td>\n",
       "      <td>5137525040.00</td>\n",
       "    </tr>\n",
       "    <tr>\n",
       "      <th>MMM</th>\n",
       "      <td>4.75</td>\n",
       "      <td>884800000.00</td>\n",
       "      <td>4201915200.00</td>\n",
       "      <td>311000000.00</td>\n",
       "      <td>795000000.00</td>\n",
       "      <td>4685915200.00</td>\n",
       "    </tr>\n",
       "    <tr>\n",
       "      <th>MMM</th>\n",
       "      <td>4.99</td>\n",
       "      <td>888400000.00</td>\n",
       "      <td>4434182080.00</td>\n",
       "      <td>590000000.00</td>\n",
       "      <td>900000000.00</td>\n",
       "      <td>4744182080.00</td>\n",
       "    </tr>\n",
       "    <tr>\n",
       "      <th>MMM</th>\n",
       "      <td>4.52</td>\n",
       "      <td>890400000.00</td>\n",
       "      <td>4027012080.00</td>\n",
       "      <td>277000000.00</td>\n",
       "      <td>805000000.00</td>\n",
       "      <td>4555012080.00</td>\n",
       "    </tr>\n",
       "    <tr>\n",
       "      <th>MMM</th>\n",
       "      <td>4.31</td>\n",
       "      <td>895200000.00</td>\n",
       "      <td>3860818560.00</td>\n",
       "      <td>413000000.00</td>\n",
       "      <td>885000000.00</td>\n",
       "      <td>4332818560.00</td>\n",
       "    </tr>\n",
       "  </tbody>\n",
       "</table>\n",
       "<p>3568 rows × 6 columns</p>\n",
       "</div>"
      ],
      "text/plain": [
       "     stockPrice  numberOfShares  marketCapitalization  \\\n",
       "CRM      232.27    911000000.00       211597973644.00   \n",
       "CRM      194.85    904000000.00       176144400000.00   \n",
       "CRM      161.95    896000000.00       145107200000.00   \n",
       "CRM      182.31    896000000.00       163349760000.00   \n",
       "CRM      156.49    879000000.00       137554710000.00   \n",
       "..          ...             ...                   ...   \n",
       "MMM        5.32    878800000.00         4671525040.00   \n",
       "MMM        4.75    884800000.00         4201915200.00   \n",
       "MMM        4.99    888400000.00         4434182080.00   \n",
       "MMM        4.52    890400000.00         4027012080.00   \n",
       "MMM        4.31    895200000.00         3860818560.00   \n",
       "\n",
       "     minusCashAndCashEquivalents  addTotalDebt  enterpriseValue  \n",
       "CRM                3724000000.00 8440000000.00  216313973644.00  \n",
       "CRM                4052000000.00 7904000000.00  179996400000.00  \n",
       "CRM                5772000000.00 6703000000.00  146038200000.00  \n",
       "CRM                4145000000.00 6475000000.00  165679760000.00  \n",
       "CRM                3868000000.00 5485000000.00  139171710000.00  \n",
       "..                           ...           ...              ...  \n",
       "MMM                 294000000.00  760000000.00    5137525040.00  \n",
       "MMM                 311000000.00  795000000.00    4685915200.00  \n",
       "MMM                 590000000.00  900000000.00    4744182080.00  \n",
       "MMM                 277000000.00  805000000.00    4555012080.00  \n",
       "MMM                 413000000.00  885000000.00    4332818560.00  \n",
       "\n",
       "[3568 rows x 6 columns]"
      ]
     },
     "execution_count": 92,
     "metadata": {},
     "output_type": "execute_result"
    }
   ],
   "source": [
    "tick_values.iloc[:,2:].astype(np.float64)"
   ]
  },
  {
   "cell_type": "code",
   "execution_count": 93,
   "metadata": {},
   "outputs": [
    {
     "data": {
      "text/html": [
       "<div>\n",
       "<style scoped>\n",
       "    .dataframe tbody tr th:only-of-type {\n",
       "        vertical-align: middle;\n",
       "    }\n",
       "\n",
       "    .dataframe tbody tr th {\n",
       "        vertical-align: top;\n",
       "    }\n",
       "\n",
       "    .dataframe thead th {\n",
       "        text-align: right;\n",
       "    }\n",
       "</style>\n",
       "<table border=\"1\" class=\"dataframe\">\n",
       "  <thead>\n",
       "    <tr style=\"text-align: right;\">\n",
       "      <th></th>\n",
       "      <th>stockPrice</th>\n",
       "      <th>numberOfShares</th>\n",
       "      <th>marketCapitalization</th>\n",
       "      <th>minusCashAndCashEquivalents</th>\n",
       "      <th>addTotalDebt</th>\n",
       "      <th>enterpriseValue</th>\n",
       "    </tr>\n",
       "  </thead>\n",
       "  <tbody>\n",
       "    <tr>\n",
       "      <th>count</th>\n",
       "      <td>3568.00</td>\n",
       "      <td>3568.00</td>\n",
       "      <td>3568.00</td>\n",
       "      <td>3568.00</td>\n",
       "      <td>3568.00</td>\n",
       "      <td>3568.00</td>\n",
       "    </tr>\n",
       "    <tr>\n",
       "      <th>mean</th>\n",
       "      <td>51.74</td>\n",
       "      <td>2942017441.47</td>\n",
       "      <td>101615291020.19</td>\n",
       "      <td>9751718048.21</td>\n",
       "      <td>27158129632.29</td>\n",
       "      <td>119021702604.27</td>\n",
       "    </tr>\n",
       "    <tr>\n",
       "      <th>std</th>\n",
       "      <td>50.53</td>\n",
       "      <td>3889306952.65</td>\n",
       "      <td>134200229004.10</td>\n",
       "      <td>38518653129.06</td>\n",
       "      <td>72019679881.26</td>\n",
       "      <td>151458433339.30</td>\n",
       "    </tr>\n",
       "    <tr>\n",
       "      <th>min</th>\n",
       "      <td>0.01</td>\n",
       "      <td>0.00</td>\n",
       "      <td>0.00</td>\n",
       "      <td>0.00</td>\n",
       "      <td>0.00</td>\n",
       "      <td>-3909000000.00</td>\n",
       "    </tr>\n",
       "    <tr>\n",
       "      <th>25%</th>\n",
       "      <td>17.68</td>\n",
       "      <td>870036764.50</td>\n",
       "      <td>23903935781.81</td>\n",
       "      <td>756750000.00</td>\n",
       "      <td>1636250000.00</td>\n",
       "      <td>27791595400.00</td>\n",
       "    </tr>\n",
       "    <tr>\n",
       "      <th>50%</th>\n",
       "      <td>37.50</td>\n",
       "      <td>1777200000.00</td>\n",
       "      <td>64188738240.40</td>\n",
       "      <td>2950500000.00</td>\n",
       "      <td>9473250000.00</td>\n",
       "      <td>77537143991.30</td>\n",
       "    </tr>\n",
       "    <tr>\n",
       "      <th>75%</th>\n",
       "      <td>68.31</td>\n",
       "      <td>3041125058.75</td>\n",
       "      <td>141747173625.00</td>\n",
       "      <td>7161250000.00</td>\n",
       "      <td>21769000000.00</td>\n",
       "      <td>165849275407.75</td>\n",
       "    </tr>\n",
       "    <tr>\n",
       "      <th>max</th>\n",
       "      <td>391.54</td>\n",
       "      <td>26309612000.00</td>\n",
       "      <td>2331606385295.24</td>\n",
       "      <td>529204000000.00</td>\n",
       "      <td>802886000000.00</td>\n",
       "      <td>2399877385295.24</td>\n",
       "    </tr>\n",
       "  </tbody>\n",
       "</table>\n",
       "</div>"
      ],
      "text/plain": [
       "       stockPrice  numberOfShares  marketCapitalization  \\\n",
       "count     3568.00         3568.00               3568.00   \n",
       "mean        51.74   2942017441.47       101615291020.19   \n",
       "std         50.53   3889306952.65       134200229004.10   \n",
       "min          0.01            0.00                  0.00   \n",
       "25%         17.68    870036764.50        23903935781.81   \n",
       "50%         37.50   1777200000.00        64188738240.40   \n",
       "75%         68.31   3041125058.75       141747173625.00   \n",
       "max        391.54  26309612000.00      2331606385295.24   \n",
       "\n",
       "       minusCashAndCashEquivalents    addTotalDebt  enterpriseValue  \n",
       "count                      3568.00         3568.00          3568.00  \n",
       "mean                 9751718048.21  27158129632.29  119021702604.27  \n",
       "std                 38518653129.06  72019679881.26  151458433339.30  \n",
       "min                           0.00            0.00   -3909000000.00  \n",
       "25%                   756750000.00   1636250000.00   27791595400.00  \n",
       "50%                  2950500000.00   9473250000.00   77537143991.30  \n",
       "75%                  7161250000.00  21769000000.00  165849275407.75  \n",
       "max                529204000000.00 802886000000.00 2399877385295.24  "
      ]
     },
     "execution_count": 93,
     "metadata": {},
     "output_type": "execute_result"
    }
   ],
   "source": [
    "tick_values.describe()"
   ]
  },
  {
   "cell_type": "code",
   "execution_count": null,
   "metadata": {},
   "outputs": [],
   "source": []
  },
  {
   "cell_type": "code",
   "execution_count": 3,
   "metadata": {},
   "outputs": [
    {
     "ename": "NameError",
     "evalue": "name 'tick_values' is not defined",
     "output_type": "error",
     "traceback": [
      "\u001b[0;31m---------------------------------------------------------------------------\u001b[0m",
      "\u001b[0;31mNameError\u001b[0m                                 Traceback (most recent call last)",
      "\u001b[0;32m<ipython-input-3-f72a1abe4fd2>\u001b[0m in \u001b[0;36m<module>\u001b[0;34m\u001b[0m\n\u001b[1;32m      2\u001b[0m \u001b[0mpd\u001b[0m\u001b[0;34m.\u001b[0m\u001b[0mset_option\u001b[0m\u001b[0;34m(\u001b[0m\u001b[0;34m'max_rows'\u001b[0m\u001b[0;34m,\u001b[0m\u001b[0;32mNone\u001b[0m\u001b[0;34m)\u001b[0m\u001b[0;34m\u001b[0m\u001b[0;34m\u001b[0m\u001b[0m\n\u001b[1;32m      3\u001b[0m \u001b[0mpd\u001b[0m\u001b[0;34m.\u001b[0m\u001b[0mset_option\u001b[0m\u001b[0;34m(\u001b[0m\u001b[0;34m'max_columns'\u001b[0m\u001b[0;34m,\u001b[0m\u001b[0;32mNone\u001b[0m\u001b[0;34m)\u001b[0m\u001b[0;34m\u001b[0m\u001b[0;34m\u001b[0m\u001b[0m\n\u001b[0;32m----> 4\u001b[0;31m \u001b[0mtick_values\u001b[0m\u001b[0;34m.\u001b[0m\u001b[0mgroupby\u001b[0m\u001b[0;34m(\u001b[0m\u001b[0;34m'symbol'\u001b[0m\u001b[0;34m)\u001b[0m\u001b[0;34m.\u001b[0m\u001b[0mdescribe\u001b[0m\u001b[0;34m(\u001b[0m\u001b[0;34m)\u001b[0m\u001b[0;34m.\u001b[0m\u001b[0mstack\u001b[0m\u001b[0;34m(\u001b[0m\u001b[0;34m)\u001b[0m\u001b[0;34m.\u001b[0m\u001b[0mto_csv\u001b[0m\u001b[0;34m(\u001b[0m\u001b[0;34m'wak.csv'\u001b[0m\u001b[0;34m)\u001b[0m\u001b[0;34m\u001b[0m\u001b[0;34m\u001b[0m\u001b[0m\n\u001b[0m",
      "\u001b[0;31mNameError\u001b[0m: name 'tick_values' is not defined"
     ]
    }
   ],
   "source": [
    "###VERY HELPFUL\n",
    "pd.set_option('max_rows',None)\n",
    "pd.set_option('max_columns',None)\n",
    "tick_values.groupby('symbol').describe().stack().to_csv('wak.csv')"
   ]
  },
  {
   "cell_type": "code",
   "execution_count": 105,
   "metadata": {},
   "outputs": [
    {
     "data": {
      "text/plain": [
       "<pandas.core.groupby.generic.DataFrameGroupBy object at 0x7fbb68a117d0>"
      ]
     },
     "execution_count": 105,
     "metadata": {},
     "output_type": "execute_result"
    }
   ],
   "source": []
  },
  {
   "cell_type": "code",
   "execution_count": 118,
   "metadata": {},
   "outputs": [
    {
     "name": "stdout",
     "output_type": "stream",
     "text": [
      "/Users/verbeck/Desktop/Finance/Technology\n"
     ]
    }
   ],
   "source": [
    "!pwd"
   ]
  },
  {
   "cell_type": "markdown",
   "metadata": {},
   "source": [
    "[Linked to csv file](\\wak.csv)"
   ]
  },
  {
   "cell_type": "markdown",
   "metadata": {},
   "source": [
    "[link](../DepaulBaseClasses.pdf)"
   ]
  },
  {
   "cell_type": "code",
   "execution_count": null,
   "metadata": {},
   "outputs": [],
   "source": []
  },
  {
   "cell_type": "code",
   "execution_count": null,
   "metadata": {},
   "outputs": [],
   "source": []
  }
 ],
 "metadata": {
  "kernelspec": {
   "display_name": "Python 3",
   "language": "python",
   "name": "python3"
  },
  "language_info": {
   "codemirror_mode": {
    "name": "ipython",
    "version": 3
   },
   "file_extension": ".py",
   "mimetype": "text/x-python",
   "name": "python",
   "nbconvert_exporter": "python",
   "pygments_lexer": "ipython3",
   "version": "3.7.6"
  }
 },
 "nbformat": 4,
 "nbformat_minor": 4
}
